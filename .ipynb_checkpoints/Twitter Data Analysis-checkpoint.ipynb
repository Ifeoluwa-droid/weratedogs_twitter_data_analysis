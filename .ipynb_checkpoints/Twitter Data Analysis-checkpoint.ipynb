{
 "cells": [
  {
   "cell_type": "markdown",
   "id": "b8dfe9fa",
   "metadata": {},
   "source": [
    "# Project: Wrangling and Analyze Data"
   ]
  },
  {
   "cell_type": "markdown",
   "id": "0bdbe634",
   "metadata": {},
   "source": [
    "## Data Gathering"
   ]
  },
  {
   "cell_type": "markdown",
   "id": "39c149f2",
   "metadata": {},
   "source": [
    "In the cell below, gather all three pieces of data for this project and load them in the notebook. Note: the methods required to gather each data are different.\n",
    "\n",
    "Directly download the WeRateDogs Twitter archive data (twitter_archive_enhanced.csv)"
   ]
  },
  {
   "cell_type": "code",
   "execution_count": 141,
   "id": "460f563d",
   "metadata": {},
   "outputs": [],
   "source": [
    "# importing the required libraries\n",
    "\n",
    "import numpy as np\n",
    "import pandas as pd\n",
    "import matplotlib.pyplot as plt\n",
    "import seaborn as sns\n",
    "import requests\n",
    "import os # for path\n",
    "import json # for json data"
   ]
  },
  {
   "cell_type": "code",
   "execution_count": 284,
   "id": "333adb29",
   "metadata": {},
   "outputs": [],
   "source": [
    "# reading the downloaded data into the df dataframe\n",
    "\n",
    "df = pd.read_csv('data_files/twitter-archive-enhanced.csv')"
   ]
  },
  {
   "cell_type": "code",
   "execution_count": 285,
   "id": "08c4ae4d",
   "metadata": {},
   "outputs": [
    {
     "data": {
      "text/html": [
       "<div>\n",
       "<style scoped>\n",
       "    .dataframe tbody tr th:only-of-type {\n",
       "        vertical-align: middle;\n",
       "    }\n",
       "\n",
       "    .dataframe tbody tr th {\n",
       "        vertical-align: top;\n",
       "    }\n",
       "\n",
       "    .dataframe thead th {\n",
       "        text-align: right;\n",
       "    }\n",
       "</style>\n",
       "<table border=\"1\" class=\"dataframe\">\n",
       "  <thead>\n",
       "    <tr style=\"text-align: right;\">\n",
       "      <th></th>\n",
       "      <th>tweet_id</th>\n",
       "      <th>in_reply_to_status_id</th>\n",
       "      <th>in_reply_to_user_id</th>\n",
       "      <th>timestamp</th>\n",
       "      <th>source</th>\n",
       "      <th>text</th>\n",
       "      <th>retweeted_status_id</th>\n",
       "      <th>retweeted_status_user_id</th>\n",
       "      <th>retweeted_status_timestamp</th>\n",
       "      <th>expanded_urls</th>\n",
       "      <th>rating_numerator</th>\n",
       "      <th>rating_denominator</th>\n",
       "      <th>name</th>\n",
       "      <th>doggo</th>\n",
       "      <th>floofer</th>\n",
       "      <th>pupper</th>\n",
       "      <th>puppo</th>\n",
       "    </tr>\n",
       "  </thead>\n",
       "  <tbody>\n",
       "    <tr>\n",
       "      <th>0</th>\n",
       "      <td>892420643555336193</td>\n",
       "      <td>NaN</td>\n",
       "      <td>NaN</td>\n",
       "      <td>2017-08-01 16:23:56 +0000</td>\n",
       "      <td>&lt;a href=\"http://twitter.com/download/iphone\" r...</td>\n",
       "      <td>This is Phineas. He's a mystical boy. Only eve...</td>\n",
       "      <td>NaN</td>\n",
       "      <td>NaN</td>\n",
       "      <td>NaN</td>\n",
       "      <td>https://twitter.com/dog_rates/status/892420643...</td>\n",
       "      <td>13</td>\n",
       "      <td>10</td>\n",
       "      <td>Phineas</td>\n",
       "      <td>None</td>\n",
       "      <td>None</td>\n",
       "      <td>None</td>\n",
       "      <td>None</td>\n",
       "    </tr>\n",
       "    <tr>\n",
       "      <th>1</th>\n",
       "      <td>892177421306343426</td>\n",
       "      <td>NaN</td>\n",
       "      <td>NaN</td>\n",
       "      <td>2017-08-01 00:17:27 +0000</td>\n",
       "      <td>&lt;a href=\"http://twitter.com/download/iphone\" r...</td>\n",
       "      <td>This is Tilly. She's just checking pup on you....</td>\n",
       "      <td>NaN</td>\n",
       "      <td>NaN</td>\n",
       "      <td>NaN</td>\n",
       "      <td>https://twitter.com/dog_rates/status/892177421...</td>\n",
       "      <td>13</td>\n",
       "      <td>10</td>\n",
       "      <td>Tilly</td>\n",
       "      <td>None</td>\n",
       "      <td>None</td>\n",
       "      <td>None</td>\n",
       "      <td>None</td>\n",
       "    </tr>\n",
       "    <tr>\n",
       "      <th>2</th>\n",
       "      <td>891815181378084864</td>\n",
       "      <td>NaN</td>\n",
       "      <td>NaN</td>\n",
       "      <td>2017-07-31 00:18:03 +0000</td>\n",
       "      <td>&lt;a href=\"http://twitter.com/download/iphone\" r...</td>\n",
       "      <td>This is Archie. He is a rare Norwegian Pouncin...</td>\n",
       "      <td>NaN</td>\n",
       "      <td>NaN</td>\n",
       "      <td>NaN</td>\n",
       "      <td>https://twitter.com/dog_rates/status/891815181...</td>\n",
       "      <td>12</td>\n",
       "      <td>10</td>\n",
       "      <td>Archie</td>\n",
       "      <td>None</td>\n",
       "      <td>None</td>\n",
       "      <td>None</td>\n",
       "      <td>None</td>\n",
       "    </tr>\n",
       "    <tr>\n",
       "      <th>3</th>\n",
       "      <td>891689557279858688</td>\n",
       "      <td>NaN</td>\n",
       "      <td>NaN</td>\n",
       "      <td>2017-07-30 15:58:51 +0000</td>\n",
       "      <td>&lt;a href=\"http://twitter.com/download/iphone\" r...</td>\n",
       "      <td>This is Darla. She commenced a snooze mid meal...</td>\n",
       "      <td>NaN</td>\n",
       "      <td>NaN</td>\n",
       "      <td>NaN</td>\n",
       "      <td>https://twitter.com/dog_rates/status/891689557...</td>\n",
       "      <td>13</td>\n",
       "      <td>10</td>\n",
       "      <td>Darla</td>\n",
       "      <td>None</td>\n",
       "      <td>None</td>\n",
       "      <td>None</td>\n",
       "      <td>None</td>\n",
       "    </tr>\n",
       "    <tr>\n",
       "      <th>4</th>\n",
       "      <td>891327558926688256</td>\n",
       "      <td>NaN</td>\n",
       "      <td>NaN</td>\n",
       "      <td>2017-07-29 16:00:24 +0000</td>\n",
       "      <td>&lt;a href=\"http://twitter.com/download/iphone\" r...</td>\n",
       "      <td>This is Franklin. He would like you to stop ca...</td>\n",
       "      <td>NaN</td>\n",
       "      <td>NaN</td>\n",
       "      <td>NaN</td>\n",
       "      <td>https://twitter.com/dog_rates/status/891327558...</td>\n",
       "      <td>12</td>\n",
       "      <td>10</td>\n",
       "      <td>Franklin</td>\n",
       "      <td>None</td>\n",
       "      <td>None</td>\n",
       "      <td>None</td>\n",
       "      <td>None</td>\n",
       "    </tr>\n",
       "  </tbody>\n",
       "</table>\n",
       "</div>"
      ],
      "text/plain": [
       "             tweet_id  in_reply_to_status_id  in_reply_to_user_id  \\\n",
       "0  892420643555336193                    NaN                  NaN   \n",
       "1  892177421306343426                    NaN                  NaN   \n",
       "2  891815181378084864                    NaN                  NaN   \n",
       "3  891689557279858688                    NaN                  NaN   \n",
       "4  891327558926688256                    NaN                  NaN   \n",
       "\n",
       "                   timestamp  \\\n",
       "0  2017-08-01 16:23:56 +0000   \n",
       "1  2017-08-01 00:17:27 +0000   \n",
       "2  2017-07-31 00:18:03 +0000   \n",
       "3  2017-07-30 15:58:51 +0000   \n",
       "4  2017-07-29 16:00:24 +0000   \n",
       "\n",
       "                                              source  \\\n",
       "0  <a href=\"http://twitter.com/download/iphone\" r...   \n",
       "1  <a href=\"http://twitter.com/download/iphone\" r...   \n",
       "2  <a href=\"http://twitter.com/download/iphone\" r...   \n",
       "3  <a href=\"http://twitter.com/download/iphone\" r...   \n",
       "4  <a href=\"http://twitter.com/download/iphone\" r...   \n",
       "\n",
       "                                                text  retweeted_status_id  \\\n",
       "0  This is Phineas. He's a mystical boy. Only eve...                  NaN   \n",
       "1  This is Tilly. She's just checking pup on you....                  NaN   \n",
       "2  This is Archie. He is a rare Norwegian Pouncin...                  NaN   \n",
       "3  This is Darla. She commenced a snooze mid meal...                  NaN   \n",
       "4  This is Franklin. He would like you to stop ca...                  NaN   \n",
       "\n",
       "   retweeted_status_user_id retweeted_status_timestamp  \\\n",
       "0                       NaN                        NaN   \n",
       "1                       NaN                        NaN   \n",
       "2                       NaN                        NaN   \n",
       "3                       NaN                        NaN   \n",
       "4                       NaN                        NaN   \n",
       "\n",
       "                                       expanded_urls  rating_numerator  \\\n",
       "0  https://twitter.com/dog_rates/status/892420643...                13   \n",
       "1  https://twitter.com/dog_rates/status/892177421...                13   \n",
       "2  https://twitter.com/dog_rates/status/891815181...                12   \n",
       "3  https://twitter.com/dog_rates/status/891689557...                13   \n",
       "4  https://twitter.com/dog_rates/status/891327558...                12   \n",
       "\n",
       "   rating_denominator      name doggo floofer pupper puppo  \n",
       "0                  10   Phineas  None    None   None  None  \n",
       "1                  10     Tilly  None    None   None  None  \n",
       "2                  10    Archie  None    None   None  None  \n",
       "3                  10     Darla  None    None   None  None  \n",
       "4                  10  Franklin  None    None   None  None  "
      ]
     },
     "execution_count": 285,
     "metadata": {},
     "output_type": "execute_result"
    }
   ],
   "source": [
    "df.head()"
   ]
  },
  {
   "cell_type": "code",
   "execution_count": 12,
   "id": "a4c556a5",
   "metadata": {},
   "outputs": [
    {
     "data": {
      "text/plain": [
       "(2356, 17)"
      ]
     },
     "execution_count": 12,
     "metadata": {},
     "output_type": "execute_result"
    }
   ],
   "source": [
    "df.shape"
   ]
  },
  {
   "cell_type": "markdown",
   "id": "cbf59c29",
   "metadata": {},
   "source": [
    "Use the Requests library to download the tweet image prediction (image_predictions.tsv)"
   ]
  },
  {
   "cell_type": "code",
   "execution_count": 13,
   "id": "f74bf701",
   "metadata": {},
   "outputs": [],
   "source": [
    "# getting the file from the internet\n",
    "\n",
    "file_end_url = 'https://d17h27t6h515a5.cloudfront.net/topher/2017/August/599fd2ad_image-predictions/image-predictions.tsv'\n",
    "file_response = requests.get(file_end_url)"
   ]
  },
  {
   "cell_type": "code",
   "execution_count": 14,
   "id": "4a8abf36",
   "metadata": {},
   "outputs": [],
   "source": [
    "data_folder_name = 'data_files'\n",
    "\n",
    "with open(os.path.join(data_folder_name, file_end_url.split('/')[-1]), 'wb') as image_text_file:\n",
    "    image_text_file.write(file_response.content)"
   ]
  },
  {
   "cell_type": "code",
   "execution_count": 15,
   "id": "8f877b8a",
   "metadata": {},
   "outputs": [],
   "source": [
    "image_pred_df = pd.read_csv('data_files/image-predictions.tsv', sep='\\t')"
   ]
  },
  {
   "cell_type": "code",
   "execution_count": 16,
   "id": "786ad046",
   "metadata": {},
   "outputs": [
    {
     "data": {
      "text/html": [
       "<div>\n",
       "<style scoped>\n",
       "    .dataframe tbody tr th:only-of-type {\n",
       "        vertical-align: middle;\n",
       "    }\n",
       "\n",
       "    .dataframe tbody tr th {\n",
       "        vertical-align: top;\n",
       "    }\n",
       "\n",
       "    .dataframe thead th {\n",
       "        text-align: right;\n",
       "    }\n",
       "</style>\n",
       "<table border=\"1\" class=\"dataframe\">\n",
       "  <thead>\n",
       "    <tr style=\"text-align: right;\">\n",
       "      <th></th>\n",
       "      <th>tweet_id</th>\n",
       "      <th>jpg_url</th>\n",
       "      <th>img_num</th>\n",
       "      <th>p1</th>\n",
       "      <th>p1_conf</th>\n",
       "      <th>p1_dog</th>\n",
       "      <th>p2</th>\n",
       "      <th>p2_conf</th>\n",
       "      <th>p2_dog</th>\n",
       "      <th>p3</th>\n",
       "      <th>p3_conf</th>\n",
       "      <th>p3_dog</th>\n",
       "    </tr>\n",
       "  </thead>\n",
       "  <tbody>\n",
       "    <tr>\n",
       "      <th>0</th>\n",
       "      <td>666020888022790149</td>\n",
       "      <td>https://pbs.twimg.com/media/CT4udn0WwAA0aMy.jpg</td>\n",
       "      <td>1</td>\n",
       "      <td>Welsh_springer_spaniel</td>\n",
       "      <td>0.465074</td>\n",
       "      <td>True</td>\n",
       "      <td>collie</td>\n",
       "      <td>0.156665</td>\n",
       "      <td>True</td>\n",
       "      <td>Shetland_sheepdog</td>\n",
       "      <td>0.061428</td>\n",
       "      <td>True</td>\n",
       "    </tr>\n",
       "    <tr>\n",
       "      <th>1</th>\n",
       "      <td>666029285002620928</td>\n",
       "      <td>https://pbs.twimg.com/media/CT42GRgUYAA5iDo.jpg</td>\n",
       "      <td>1</td>\n",
       "      <td>redbone</td>\n",
       "      <td>0.506826</td>\n",
       "      <td>True</td>\n",
       "      <td>miniature_pinscher</td>\n",
       "      <td>0.074192</td>\n",
       "      <td>True</td>\n",
       "      <td>Rhodesian_ridgeback</td>\n",
       "      <td>0.072010</td>\n",
       "      <td>True</td>\n",
       "    </tr>\n",
       "    <tr>\n",
       "      <th>2</th>\n",
       "      <td>666033412701032449</td>\n",
       "      <td>https://pbs.twimg.com/media/CT4521TWwAEvMyu.jpg</td>\n",
       "      <td>1</td>\n",
       "      <td>German_shepherd</td>\n",
       "      <td>0.596461</td>\n",
       "      <td>True</td>\n",
       "      <td>malinois</td>\n",
       "      <td>0.138584</td>\n",
       "      <td>True</td>\n",
       "      <td>bloodhound</td>\n",
       "      <td>0.116197</td>\n",
       "      <td>True</td>\n",
       "    </tr>\n",
       "    <tr>\n",
       "      <th>3</th>\n",
       "      <td>666044226329800704</td>\n",
       "      <td>https://pbs.twimg.com/media/CT5Dr8HUEAA-lEu.jpg</td>\n",
       "      <td>1</td>\n",
       "      <td>Rhodesian_ridgeback</td>\n",
       "      <td>0.408143</td>\n",
       "      <td>True</td>\n",
       "      <td>redbone</td>\n",
       "      <td>0.360687</td>\n",
       "      <td>True</td>\n",
       "      <td>miniature_pinscher</td>\n",
       "      <td>0.222752</td>\n",
       "      <td>True</td>\n",
       "    </tr>\n",
       "    <tr>\n",
       "      <th>4</th>\n",
       "      <td>666049248165822465</td>\n",
       "      <td>https://pbs.twimg.com/media/CT5IQmsXIAAKY4A.jpg</td>\n",
       "      <td>1</td>\n",
       "      <td>miniature_pinscher</td>\n",
       "      <td>0.560311</td>\n",
       "      <td>True</td>\n",
       "      <td>Rottweiler</td>\n",
       "      <td>0.243682</td>\n",
       "      <td>True</td>\n",
       "      <td>Doberman</td>\n",
       "      <td>0.154629</td>\n",
       "      <td>True</td>\n",
       "    </tr>\n",
       "    <tr>\n",
       "      <th>...</th>\n",
       "      <td>...</td>\n",
       "      <td>...</td>\n",
       "      <td>...</td>\n",
       "      <td>...</td>\n",
       "      <td>...</td>\n",
       "      <td>...</td>\n",
       "      <td>...</td>\n",
       "      <td>...</td>\n",
       "      <td>...</td>\n",
       "      <td>...</td>\n",
       "      <td>...</td>\n",
       "      <td>...</td>\n",
       "    </tr>\n",
       "    <tr>\n",
       "      <th>2070</th>\n",
       "      <td>891327558926688256</td>\n",
       "      <td>https://pbs.twimg.com/media/DF6hr6BUMAAzZgT.jpg</td>\n",
       "      <td>2</td>\n",
       "      <td>basset</td>\n",
       "      <td>0.555712</td>\n",
       "      <td>True</td>\n",
       "      <td>English_springer</td>\n",
       "      <td>0.225770</td>\n",
       "      <td>True</td>\n",
       "      <td>German_short-haired_pointer</td>\n",
       "      <td>0.175219</td>\n",
       "      <td>True</td>\n",
       "    </tr>\n",
       "    <tr>\n",
       "      <th>2071</th>\n",
       "      <td>891689557279858688</td>\n",
       "      <td>https://pbs.twimg.com/media/DF_q7IAWsAEuuN8.jpg</td>\n",
       "      <td>1</td>\n",
       "      <td>paper_towel</td>\n",
       "      <td>0.170278</td>\n",
       "      <td>False</td>\n",
       "      <td>Labrador_retriever</td>\n",
       "      <td>0.168086</td>\n",
       "      <td>True</td>\n",
       "      <td>spatula</td>\n",
       "      <td>0.040836</td>\n",
       "      <td>False</td>\n",
       "    </tr>\n",
       "    <tr>\n",
       "      <th>2072</th>\n",
       "      <td>891815181378084864</td>\n",
       "      <td>https://pbs.twimg.com/media/DGBdLU1WsAANxJ9.jpg</td>\n",
       "      <td>1</td>\n",
       "      <td>Chihuahua</td>\n",
       "      <td>0.716012</td>\n",
       "      <td>True</td>\n",
       "      <td>malamute</td>\n",
       "      <td>0.078253</td>\n",
       "      <td>True</td>\n",
       "      <td>kelpie</td>\n",
       "      <td>0.031379</td>\n",
       "      <td>True</td>\n",
       "    </tr>\n",
       "    <tr>\n",
       "      <th>2073</th>\n",
       "      <td>892177421306343426</td>\n",
       "      <td>https://pbs.twimg.com/media/DGGmoV4XsAAUL6n.jpg</td>\n",
       "      <td>1</td>\n",
       "      <td>Chihuahua</td>\n",
       "      <td>0.323581</td>\n",
       "      <td>True</td>\n",
       "      <td>Pekinese</td>\n",
       "      <td>0.090647</td>\n",
       "      <td>True</td>\n",
       "      <td>papillon</td>\n",
       "      <td>0.068957</td>\n",
       "      <td>True</td>\n",
       "    </tr>\n",
       "    <tr>\n",
       "      <th>2074</th>\n",
       "      <td>892420643555336193</td>\n",
       "      <td>https://pbs.twimg.com/media/DGKD1-bXoAAIAUK.jpg</td>\n",
       "      <td>1</td>\n",
       "      <td>orange</td>\n",
       "      <td>0.097049</td>\n",
       "      <td>False</td>\n",
       "      <td>bagel</td>\n",
       "      <td>0.085851</td>\n",
       "      <td>False</td>\n",
       "      <td>banana</td>\n",
       "      <td>0.076110</td>\n",
       "      <td>False</td>\n",
       "    </tr>\n",
       "  </tbody>\n",
       "</table>\n",
       "<p>2075 rows × 12 columns</p>\n",
       "</div>"
      ],
      "text/plain": [
       "                tweet_id                                          jpg_url  \\\n",
       "0     666020888022790149  https://pbs.twimg.com/media/CT4udn0WwAA0aMy.jpg   \n",
       "1     666029285002620928  https://pbs.twimg.com/media/CT42GRgUYAA5iDo.jpg   \n",
       "2     666033412701032449  https://pbs.twimg.com/media/CT4521TWwAEvMyu.jpg   \n",
       "3     666044226329800704  https://pbs.twimg.com/media/CT5Dr8HUEAA-lEu.jpg   \n",
       "4     666049248165822465  https://pbs.twimg.com/media/CT5IQmsXIAAKY4A.jpg   \n",
       "...                  ...                                              ...   \n",
       "2070  891327558926688256  https://pbs.twimg.com/media/DF6hr6BUMAAzZgT.jpg   \n",
       "2071  891689557279858688  https://pbs.twimg.com/media/DF_q7IAWsAEuuN8.jpg   \n",
       "2072  891815181378084864  https://pbs.twimg.com/media/DGBdLU1WsAANxJ9.jpg   \n",
       "2073  892177421306343426  https://pbs.twimg.com/media/DGGmoV4XsAAUL6n.jpg   \n",
       "2074  892420643555336193  https://pbs.twimg.com/media/DGKD1-bXoAAIAUK.jpg   \n",
       "\n",
       "      img_num                      p1   p1_conf  p1_dog                  p2  \\\n",
       "0           1  Welsh_springer_spaniel  0.465074    True              collie   \n",
       "1           1                 redbone  0.506826    True  miniature_pinscher   \n",
       "2           1         German_shepherd  0.596461    True            malinois   \n",
       "3           1     Rhodesian_ridgeback  0.408143    True             redbone   \n",
       "4           1      miniature_pinscher  0.560311    True          Rottweiler   \n",
       "...       ...                     ...       ...     ...                 ...   \n",
       "2070        2                  basset  0.555712    True    English_springer   \n",
       "2071        1             paper_towel  0.170278   False  Labrador_retriever   \n",
       "2072        1               Chihuahua  0.716012    True            malamute   \n",
       "2073        1               Chihuahua  0.323581    True            Pekinese   \n",
       "2074        1                  orange  0.097049   False               bagel   \n",
       "\n",
       "       p2_conf  p2_dog                           p3   p3_conf  p3_dog  \n",
       "0     0.156665    True            Shetland_sheepdog  0.061428    True  \n",
       "1     0.074192    True          Rhodesian_ridgeback  0.072010    True  \n",
       "2     0.138584    True                   bloodhound  0.116197    True  \n",
       "3     0.360687    True           miniature_pinscher  0.222752    True  \n",
       "4     0.243682    True                     Doberman  0.154629    True  \n",
       "...        ...     ...                          ...       ...     ...  \n",
       "2070  0.225770    True  German_short-haired_pointer  0.175219    True  \n",
       "2071  0.168086    True                      spatula  0.040836   False  \n",
       "2072  0.078253    True                       kelpie  0.031379    True  \n",
       "2073  0.090647    True                     papillon  0.068957    True  \n",
       "2074  0.085851   False                       banana  0.076110   False  \n",
       "\n",
       "[2075 rows x 12 columns]"
      ]
     },
     "execution_count": 16,
     "metadata": {},
     "output_type": "execute_result"
    }
   ],
   "source": [
    "image_pred_df"
   ]
  },
  {
   "cell_type": "markdown",
   "id": "a3abf006",
   "metadata": {},
   "source": [
    "Use the Tweepy library to query additional data via the Twitter API (tweet_json.txt)"
   ]
  },
  {
   "cell_type": "code",
   "execution_count": 17,
   "id": "9e56c9a9",
   "metadata": {},
   "outputs": [],
   "source": [
    "# import tweepy\n",
    "# from tweepy import OAuthHandler\n",
    "# import json\n",
    "# from timeit import default_timer as timer\n",
    "\n",
    "# # Query Twitter API for each tweet in the Twitter archive and save JSON in a text file\n",
    "# # These are hidden to comply with Twitter's API terms and conditions\n",
    "# consumer_key = 'HIDDEN'\n",
    "# consumer_secret = 'HIDDEN'\n",
    "# access_token = 'HIDDEN'\n",
    "# access_secret = 'HIDDEN'\n",
    "\n",
    "# auth = OAuthHandler(consumer_key, consumer_secret)\n",
    "# auth.set_access_token(access_token, access_secret)\n",
    "\n",
    "# api = tweepy.API(auth, wait_on_rate_limit=True)\n",
    "\n",
    "# # NOTE TO STUDENT WITH MOBILE VERIFICATION ISSUES:\n",
    "# # df_1 is a DataFrame with the twitter_archive_enhanced.csv file. You may have to\n",
    "# # change line 17 to match the name of your DataFrame with twitter_archive_enhanced.csv\n",
    "# # NOTE TO REVIEWER: this student had mobile verification issues so the following\n",
    "# # Twitter API code was sent to this student from a Udacity instructor\n",
    "# # Tweet IDs for which to gather additional data via Twitter's API\n",
    "# tweet_ids = df_1.tweet_id.values\n",
    "# len(tweet_ids)\n",
    "\n",
    "# # Query Twitter's API for JSON data for each tweet ID in the Twitter archive\n",
    "# count = 0\n",
    "# fails_dict = {}\n",
    "# start = timer()\n",
    "# # Save each tweet's returned JSON as a new line in a .txt file\n",
    "# with open(os.path.join(data_folder_name, 'tweet_json.txt', 'w')) as outfile:\n",
    "#     # This loop will likely take 20-30 minutes to run because of Twitter's rate limit\n",
    "#     for tweet_id in tweet_ids:\n",
    "#         count += 1\n",
    "#         print(str(count) + \": \" + str(tweet_id))\n",
    "#         try:\n",
    "#             tweet = api.get_status(tweet_id, tweet_mode='extended')\n",
    "#             print(\"Success\")\n",
    "#             json.dump(tweet._json, outfile)\n",
    "#             outfile.write('\\n')\n",
    "#         except tweepy.TweepError as e:\n",
    "#             print(\"Fail\")\n",
    "#             fails_dict[tweet_id] = e\n",
    "#             pass\n",
    "# end = timer()\n",
    "# print(end - start)\n",
    "# print(fails_dict)"
   ]
  },
  {
   "cell_type": "code",
   "execution_count": 18,
   "id": "5123c701",
   "metadata": {},
   "outputs": [],
   "source": [
    "# I haven't been given access to the twitter api yet\n",
    "\n",
    "json_file_end_url = 'https://video.udacity-data.com/topher/2018/November/5be5fb7d_tweet-json/tweet-json.txt'\n",
    "json_file_response = requests.get(json_file_end_url)"
   ]
  },
  {
   "cell_type": "code",
   "execution_count": 19,
   "id": "340c19ee",
   "metadata": {},
   "outputs": [],
   "source": [
    "data_folder_name = 'data_files'\n",
    "\n",
    "with open(os.path.join(data_folder_name, json_file_end_url.split('/')[-1]), 'wb') as json_file:\n",
    "    json_file.write(json_file_response.content) "
   ]
  },
  {
   "cell_type": "code",
   "execution_count": 20,
   "id": "d41a6042",
   "metadata": {},
   "outputs": [],
   "source": [
    "# initializing a dataframe list of values needed\n",
    "df_list= []"
   ]
  },
  {
   "cell_type": "code",
   "execution_count": 21,
   "id": "be5b52ab",
   "metadata": {},
   "outputs": [],
   "source": [
    "# Reading json data from a text file\n",
    "\n",
    "with open('data_files/tweet-json.txt', 'r') as json_file:\n",
    "    json_data_list = json_file.readlines()\n",
    "    tweets_count = len(json_data_list)\n",
    "    for json_string in json_data_list:\n",
    "        json_data = json.loads(json_string)\n",
    "        df_list.append({\n",
    "            'tweet_id': json_data['id'],\n",
    "            'retweet_count': json_data['retweet_count'],\n",
    "            'favorite_count': json_data['favorite_count'],\n",
    "            'tweet_text': json_data['full_text'],\n",
    "            'truncated': json_data['truncated'],\n",
    "            'retweeted': json_data['retweeted']\n",
    "        })"
   ]
  },
  {
   "cell_type": "code",
   "execution_count": 22,
   "id": "e505adf3",
   "metadata": {},
   "outputs": [
    {
     "data": {
      "text/plain": [
       "2354"
      ]
     },
     "execution_count": 22,
     "metadata": {},
     "output_type": "execute_result"
    }
   ],
   "source": [
    "tweets_count"
   ]
  },
  {
   "cell_type": "code",
   "execution_count": 23,
   "id": "2024d928",
   "metadata": {},
   "outputs": [
    {
     "data": {
      "text/plain": [
       "2354"
      ]
     },
     "execution_count": 23,
     "metadata": {},
     "output_type": "execute_result"
    }
   ],
   "source": [
    "len(df_list)"
   ]
  },
  {
   "cell_type": "code",
   "execution_count": 24,
   "id": "3fea6400",
   "metadata": {},
   "outputs": [],
   "source": [
    "tweet_df = pd.DataFrame(df_list)"
   ]
  },
  {
   "cell_type": "code",
   "execution_count": 25,
   "id": "b0a05ac9",
   "metadata": {},
   "outputs": [
    {
     "data": {
      "text/html": [
       "<div>\n",
       "<style scoped>\n",
       "    .dataframe tbody tr th:only-of-type {\n",
       "        vertical-align: middle;\n",
       "    }\n",
       "\n",
       "    .dataframe tbody tr th {\n",
       "        vertical-align: top;\n",
       "    }\n",
       "\n",
       "    .dataframe thead th {\n",
       "        text-align: right;\n",
       "    }\n",
       "</style>\n",
       "<table border=\"1\" class=\"dataframe\">\n",
       "  <thead>\n",
       "    <tr style=\"text-align: right;\">\n",
       "      <th></th>\n",
       "      <th>tweet_id</th>\n",
       "      <th>retweet_count</th>\n",
       "      <th>favorite_count</th>\n",
       "      <th>tweet_text</th>\n",
       "      <th>truncated</th>\n",
       "      <th>retweeted</th>\n",
       "    </tr>\n",
       "  </thead>\n",
       "  <tbody>\n",
       "    <tr>\n",
       "      <th>0</th>\n",
       "      <td>892420643555336193</td>\n",
       "      <td>8853</td>\n",
       "      <td>39467</td>\n",
       "      <td>This is Phineas. He's a mystical boy. Only eve...</td>\n",
       "      <td>False</td>\n",
       "      <td>False</td>\n",
       "    </tr>\n",
       "    <tr>\n",
       "      <th>1</th>\n",
       "      <td>892177421306343426</td>\n",
       "      <td>6514</td>\n",
       "      <td>33819</td>\n",
       "      <td>This is Tilly. She's just checking pup on you....</td>\n",
       "      <td>False</td>\n",
       "      <td>False</td>\n",
       "    </tr>\n",
       "    <tr>\n",
       "      <th>2</th>\n",
       "      <td>891815181378084864</td>\n",
       "      <td>4328</td>\n",
       "      <td>25461</td>\n",
       "      <td>This is Archie. He is a rare Norwegian Pouncin...</td>\n",
       "      <td>False</td>\n",
       "      <td>False</td>\n",
       "    </tr>\n",
       "    <tr>\n",
       "      <th>3</th>\n",
       "      <td>891689557279858688</td>\n",
       "      <td>8964</td>\n",
       "      <td>42908</td>\n",
       "      <td>This is Darla. She commenced a snooze mid meal...</td>\n",
       "      <td>False</td>\n",
       "      <td>False</td>\n",
       "    </tr>\n",
       "    <tr>\n",
       "      <th>4</th>\n",
       "      <td>891327558926688256</td>\n",
       "      <td>9774</td>\n",
       "      <td>41048</td>\n",
       "      <td>This is Franklin. He would like you to stop ca...</td>\n",
       "      <td>False</td>\n",
       "      <td>False</td>\n",
       "    </tr>\n",
       "  </tbody>\n",
       "</table>\n",
       "</div>"
      ],
      "text/plain": [
       "             tweet_id  retweet_count  favorite_count  \\\n",
       "0  892420643555336193           8853           39467   \n",
       "1  892177421306343426           6514           33819   \n",
       "2  891815181378084864           4328           25461   \n",
       "3  891689557279858688           8964           42908   \n",
       "4  891327558926688256           9774           41048   \n",
       "\n",
       "                                          tweet_text  truncated  retweeted  \n",
       "0  This is Phineas. He's a mystical boy. Only eve...      False      False  \n",
       "1  This is Tilly. She's just checking pup on you....      False      False  \n",
       "2  This is Archie. He is a rare Norwegian Pouncin...      False      False  \n",
       "3  This is Darla. She commenced a snooze mid meal...      False      False  \n",
       "4  This is Franklin. He would like you to stop ca...      False      False  "
      ]
     },
     "execution_count": 25,
     "metadata": {},
     "output_type": "execute_result"
    }
   ],
   "source": [
    "tweet_df.head()"
   ]
  },
  {
   "cell_type": "code",
   "execution_count": 26,
   "id": "18aadea7",
   "metadata": {},
   "outputs": [
    {
     "data": {
      "text/html": [
       "<div>\n",
       "<style scoped>\n",
       "    .dataframe tbody tr th:only-of-type {\n",
       "        vertical-align: middle;\n",
       "    }\n",
       "\n",
       "    .dataframe tbody tr th {\n",
       "        vertical-align: top;\n",
       "    }\n",
       "\n",
       "    .dataframe thead th {\n",
       "        text-align: right;\n",
       "    }\n",
       "</style>\n",
       "<table border=\"1\" class=\"dataframe\">\n",
       "  <thead>\n",
       "    <tr style=\"text-align: right;\">\n",
       "      <th></th>\n",
       "      <th>tweet_id</th>\n",
       "      <th>retweet_count</th>\n",
       "      <th>favorite_count</th>\n",
       "      <th>tweet_text</th>\n",
       "      <th>truncated</th>\n",
       "      <th>retweeted</th>\n",
       "    </tr>\n",
       "  </thead>\n",
       "  <tbody>\n",
       "    <tr>\n",
       "      <th>613</th>\n",
       "      <td>796759840936919040</td>\n",
       "      <td>3562</td>\n",
       "      <td>13256</td>\n",
       "      <td>Say hello to Romeo. He was just told that it's...</td>\n",
       "      <td>False</td>\n",
       "      <td>False</td>\n",
       "    </tr>\n",
       "    <tr>\n",
       "      <th>1896</th>\n",
       "      <td>674690135443775488</td>\n",
       "      <td>510</td>\n",
       "      <td>1237</td>\n",
       "      <td>Meet Patrick. He's an exotic pup. Jumps great ...</td>\n",
       "      <td>False</td>\n",
       "      <td>False</td>\n",
       "    </tr>\n",
       "    <tr>\n",
       "      <th>204</th>\n",
       "      <td>852912242202992640</td>\n",
       "      <td>2037</td>\n",
       "      <td>9658</td>\n",
       "      <td>Meet Benny. He likes being adorable and making...</td>\n",
       "      <td>False</td>\n",
       "      <td>False</td>\n",
       "    </tr>\n",
       "    <tr>\n",
       "      <th>452</th>\n",
       "      <td>818588835076603904</td>\n",
       "      <td>7126</td>\n",
       "      <td>0</td>\n",
       "      <td>RT @dog_rates: This is Chelsea. She forgot how...</td>\n",
       "      <td>False</td>\n",
       "      <td>False</td>\n",
       "    </tr>\n",
       "    <tr>\n",
       "      <th>2071</th>\n",
       "      <td>670995969505435648</td>\n",
       "      <td>317</td>\n",
       "      <td>1175</td>\n",
       "      <td>Yea I can't handle this job anymore your dogs ...</td>\n",
       "      <td>False</td>\n",
       "      <td>False</td>\n",
       "    </tr>\n",
       "    <tr>\n",
       "      <th>1712</th>\n",
       "      <td>680440374763077632</td>\n",
       "      <td>564</td>\n",
       "      <td>1583</td>\n",
       "      <td>Merry Christmas. My gift to you is this tiny u...</td>\n",
       "      <td>False</td>\n",
       "      <td>False</td>\n",
       "    </tr>\n",
       "    <tr>\n",
       "      <th>855</th>\n",
       "      <td>763956972077010945</td>\n",
       "      <td>61</td>\n",
       "      <td>812</td>\n",
       "      <td>@TheEllenShow I'm not sure if you know this bu...</td>\n",
       "      <td>False</td>\n",
       "      <td>False</td>\n",
       "    </tr>\n",
       "    <tr>\n",
       "      <th>1760</th>\n",
       "      <td>678643457146150913</td>\n",
       "      <td>489</td>\n",
       "      <td>2250</td>\n",
       "      <td>Meet Grizz. He just arrived. Couldn't wait unt...</td>\n",
       "      <td>False</td>\n",
       "      <td>False</td>\n",
       "    </tr>\n",
       "    <tr>\n",
       "      <th>2295</th>\n",
       "      <td>667073648344346624</td>\n",
       "      <td>134</td>\n",
       "      <td>425</td>\n",
       "      <td>Here is Dave. He is actually just a skinny leg...</td>\n",
       "      <td>False</td>\n",
       "      <td>False</td>\n",
       "    </tr>\n",
       "    <tr>\n",
       "      <th>466</th>\n",
       "      <td>817120970343411712</td>\n",
       "      <td>3011</td>\n",
       "      <td>13367</td>\n",
       "      <td>Name a more iconic quartet... I'll wait. 13/10...</td>\n",
       "      <td>False</td>\n",
       "      <td>False</td>\n",
       "    </tr>\n",
       "    <tr>\n",
       "      <th>1905</th>\n",
       "      <td>674447403907457024</td>\n",
       "      <td>393</td>\n",
       "      <td>1137</td>\n",
       "      <td>This pupper just wants a belly rub. This puppe...</td>\n",
       "      <td>False</td>\n",
       "      <td>False</td>\n",
       "    </tr>\n",
       "    <tr>\n",
       "      <th>1667</th>\n",
       "      <td>682429480204398592</td>\n",
       "      <td>1320</td>\n",
       "      <td>3769</td>\n",
       "      <td>I know we joke around on here, but this is get...</td>\n",
       "      <td>False</td>\n",
       "      <td>False</td>\n",
       "    </tr>\n",
       "    <tr>\n",
       "      <th>823</th>\n",
       "      <td>769695466921623552</td>\n",
       "      <td>1926</td>\n",
       "      <td>7101</td>\n",
       "      <td>This is Titan. He's trying to make friends. Of...</td>\n",
       "      <td>False</td>\n",
       "      <td>False</td>\n",
       "    </tr>\n",
       "    <tr>\n",
       "      <th>2013</th>\n",
       "      <td>672205392827572224</td>\n",
       "      <td>1270</td>\n",
       "      <td>2414</td>\n",
       "      <td>This is Opal. He's a Royal John Coctostan. Rea...</td>\n",
       "      <td>False</td>\n",
       "      <td>False</td>\n",
       "    </tr>\n",
       "    <tr>\n",
       "      <th>1613</th>\n",
       "      <td>685268753634967552</td>\n",
       "      <td>1371</td>\n",
       "      <td>3419</td>\n",
       "      <td>This is Hubertson. He's a Carmel Haberdashery....</td>\n",
       "      <td>False</td>\n",
       "      <td>False</td>\n",
       "    </tr>\n",
       "    <tr>\n",
       "      <th>2281</th>\n",
       "      <td>667200525029539841</td>\n",
       "      <td>282</td>\n",
       "      <td>658</td>\n",
       "      <td>This is Joshwa. He is a fuckboy supreme. He cl...</td>\n",
       "      <td>False</td>\n",
       "      <td>False</td>\n",
       "    </tr>\n",
       "    <tr>\n",
       "      <th>1122</th>\n",
       "      <td>730211855403241472</td>\n",
       "      <td>1182</td>\n",
       "      <td>4180</td>\n",
       "      <td>This is Ziva. She doesn't know how her collar ...</td>\n",
       "      <td>False</td>\n",
       "      <td>False</td>\n",
       "    </tr>\n",
       "    <tr>\n",
       "      <th>354</th>\n",
       "      <td>830956169170665475</td>\n",
       "      <td>1735</td>\n",
       "      <td>8735</td>\n",
       "      <td>Say hello to Reggie. He hates puns. 12/10 ligh...</td>\n",
       "      <td>False</td>\n",
       "      <td>False</td>\n",
       "    </tr>\n",
       "    <tr>\n",
       "      <th>1411</th>\n",
       "      <td>698907974262222848</td>\n",
       "      <td>699</td>\n",
       "      <td>2787</td>\n",
       "      <td>This dog is never sure if he's doing the right...</td>\n",
       "      <td>False</td>\n",
       "      <td>False</td>\n",
       "    </tr>\n",
       "    <tr>\n",
       "      <th>114</th>\n",
       "      <td>870374049280663552</td>\n",
       "      <td>27680</td>\n",
       "      <td>85011</td>\n",
       "      <td>This is Zoey. She really likes the planet. Wou...</td>\n",
       "      <td>False</td>\n",
       "      <td>False</td>\n",
       "    </tr>\n",
       "  </tbody>\n",
       "</table>\n",
       "</div>"
      ],
      "text/plain": [
       "                tweet_id  retweet_count  favorite_count  \\\n",
       "613   796759840936919040           3562           13256   \n",
       "1896  674690135443775488            510            1237   \n",
       "204   852912242202992640           2037            9658   \n",
       "452   818588835076603904           7126               0   \n",
       "2071  670995969505435648            317            1175   \n",
       "1712  680440374763077632            564            1583   \n",
       "855   763956972077010945             61             812   \n",
       "1760  678643457146150913            489            2250   \n",
       "2295  667073648344346624            134             425   \n",
       "466   817120970343411712           3011           13367   \n",
       "1905  674447403907457024            393            1137   \n",
       "1667  682429480204398592           1320            3769   \n",
       "823   769695466921623552           1926            7101   \n",
       "2013  672205392827572224           1270            2414   \n",
       "1613  685268753634967552           1371            3419   \n",
       "2281  667200525029539841            282             658   \n",
       "1122  730211855403241472           1182            4180   \n",
       "354   830956169170665475           1735            8735   \n",
       "1411  698907974262222848            699            2787   \n",
       "114   870374049280663552          27680           85011   \n",
       "\n",
       "                                             tweet_text  truncated  retweeted  \n",
       "613   Say hello to Romeo. He was just told that it's...      False      False  \n",
       "1896  Meet Patrick. He's an exotic pup. Jumps great ...      False      False  \n",
       "204   Meet Benny. He likes being adorable and making...      False      False  \n",
       "452   RT @dog_rates: This is Chelsea. She forgot how...      False      False  \n",
       "2071  Yea I can't handle this job anymore your dogs ...      False      False  \n",
       "1712  Merry Christmas. My gift to you is this tiny u...      False      False  \n",
       "855   @TheEllenShow I'm not sure if you know this bu...      False      False  \n",
       "1760  Meet Grizz. He just arrived. Couldn't wait unt...      False      False  \n",
       "2295  Here is Dave. He is actually just a skinny leg...      False      False  \n",
       "466   Name a more iconic quartet... I'll wait. 13/10...      False      False  \n",
       "1905  This pupper just wants a belly rub. This puppe...      False      False  \n",
       "1667  I know we joke around on here, but this is get...      False      False  \n",
       "823   This is Titan. He's trying to make friends. Of...      False      False  \n",
       "2013  This is Opal. He's a Royal John Coctostan. Rea...      False      False  \n",
       "1613  This is Hubertson. He's a Carmel Haberdashery....      False      False  \n",
       "2281  This is Joshwa. He is a fuckboy supreme. He cl...      False      False  \n",
       "1122  This is Ziva. She doesn't know how her collar ...      False      False  \n",
       "354   Say hello to Reggie. He hates puns. 12/10 ligh...      False      False  \n",
       "1411  This dog is never sure if he's doing the right...      False      False  \n",
       "114   This is Zoey. She really likes the planet. Wou...      False      False  "
      ]
     },
     "execution_count": 26,
     "metadata": {},
     "output_type": "execute_result"
    }
   ],
   "source": [
    "tweet_df.sample(20)"
   ]
  },
  {
   "cell_type": "markdown",
   "id": "6fe17cfa",
   "metadata": {},
   "source": [
    "## Assessing Data"
   ]
  },
  {
   "cell_type": "markdown",
   "id": "19f644ec",
   "metadata": {},
   "source": [
    "In this section, detect and document at least eight (8) quality issues and two (2) tidiness issue. You must use both visual assessment programmatic assessement to assess the data."
   ]
  },
  {
   "cell_type": "markdown",
   "id": "196e4157",
   "metadata": {},
   "source": [
    "Note: pay attention to the following key points when you access the data."
   ]
  },
  {
   "cell_type": "markdown",
   "id": "887a9525",
   "metadata": {},
   "source": [
    "- You only want original ratings (no retweets) that have images. Though there are 5000+ tweets in the dataset, not all are dog ratings and some are retweets.\n",
    "- Assessing and cleaning the entire dataset completely would require a lot of time, and is not necessary to practice and demonstrate your skills in data wrangling. Therefore, the requirements of this project are only to assess and clean at least 8 quality issues and at least 2 tidiness issues in this dataset.\n",
    "- The fact that the rating numerators are greater than the denominators does not need to be cleaned. This unique rating system is a big part of the popularity of WeRateDogs.\n",
    "- You do not need to gather the tweets beyond August 1st, 2017. You can, but note that you won't be able to gather the image predictions for these tweets since you don't have access to the algorithm used."
   ]
  },
  {
   "cell_type": "code",
   "execution_count": 27,
   "id": "476cd49f",
   "metadata": {},
   "outputs": [
    {
     "data": {
      "text/plain": [
       "12      558\n",
       "11      464\n",
       "10      461\n",
       "13      351\n",
       "9       158\n",
       "8       102\n",
       "7        55\n",
       "14       54\n",
       "5        37\n",
       "6        32\n",
       "3        19\n",
       "4        17\n",
       "2         9\n",
       "1         9\n",
       "75        2\n",
       "15        2\n",
       "420       2\n",
       "0         2\n",
       "80        1\n",
       "144       1\n",
       "17        1\n",
       "26        1\n",
       "20        1\n",
       "121       1\n",
       "143       1\n",
       "44        1\n",
       "60        1\n",
       "45        1\n",
       "50        1\n",
       "99        1\n",
       "204       1\n",
       "1776      1\n",
       "165       1\n",
       "666       1\n",
       "27        1\n",
       "182       1\n",
       "24        1\n",
       "960       1\n",
       "84        1\n",
       "88        1\n",
       "Name: rating_numerator, dtype: int64"
      ]
     },
     "execution_count": 27,
     "metadata": {},
     "output_type": "execute_result"
    }
   ],
   "source": [
    "df['rating_numerator'].value_counts()"
   ]
  },
  {
   "cell_type": "code",
   "execution_count": 28,
   "id": "9e369f3f",
   "metadata": {},
   "outputs": [
    {
     "data": {
      "text/plain": [
       "10     2333\n",
       "11        3\n",
       "50        3\n",
       "20        2\n",
       "80        2\n",
       "70        1\n",
       "7         1\n",
       "15        1\n",
       "150       1\n",
       "170       1\n",
       "0         1\n",
       "90        1\n",
       "40        1\n",
       "130       1\n",
       "110       1\n",
       "16        1\n",
       "120       1\n",
       "2         1\n",
       "Name: rating_denominator, dtype: int64"
      ]
     },
     "execution_count": 28,
     "metadata": {},
     "output_type": "execute_result"
    }
   ],
   "source": [
    "df['rating_denominator'].value_counts()"
   ]
  },
  {
   "cell_type": "markdown",
   "id": "048db0aa",
   "metadata": {},
   "source": [
    "- Some numerator values are greater than 15 and some denominator values are greater than 10"
   ]
  },
  {
   "cell_type": "code",
   "execution_count": 29,
   "id": "0906e9ec",
   "metadata": {},
   "outputs": [
    {
     "name": "stdout",
     "output_type": "stream",
     "text": [
      "<class 'pandas.core.frame.DataFrame'>\n",
      "RangeIndex: 2356 entries, 0 to 2355\n",
      "Data columns (total 17 columns):\n",
      " #   Column                      Non-Null Count  Dtype  \n",
      "---  ------                      --------------  -----  \n",
      " 0   tweet_id                    2356 non-null   int64  \n",
      " 1   in_reply_to_status_id       78 non-null     float64\n",
      " 2   in_reply_to_user_id         78 non-null     float64\n",
      " 3   timestamp                   2356 non-null   object \n",
      " 4   source                      2356 non-null   object \n",
      " 5   text                        2356 non-null   object \n",
      " 6   retweeted_status_id         181 non-null    float64\n",
      " 7   retweeted_status_user_id    181 non-null    float64\n",
      " 8   retweeted_status_timestamp  181 non-null    object \n",
      " 9   expanded_urls               2297 non-null   object \n",
      " 10  rating_numerator            2356 non-null   int64  \n",
      " 11  rating_denominator          2356 non-null   int64  \n",
      " 12  name                        2356 non-null   object \n",
      " 13  doggo                       2356 non-null   object \n",
      " 14  floofer                     2356 non-null   object \n",
      " 15  pupper                      2356 non-null   object \n",
      " 16  puppo                       2356 non-null   object \n",
      "dtypes: float64(4), int64(3), object(10)\n",
      "memory usage: 313.0+ KB\n"
     ]
    }
   ],
   "source": [
    "df.info()"
   ]
  },
  {
   "cell_type": "code",
   "execution_count": 30,
   "id": "2f2c8449",
   "metadata": {},
   "outputs": [
    {
     "data": {
      "text/html": [
       "<div>\n",
       "<style scoped>\n",
       "    .dataframe tbody tr th:only-of-type {\n",
       "        vertical-align: middle;\n",
       "    }\n",
       "\n",
       "    .dataframe tbody tr th {\n",
       "        vertical-align: top;\n",
       "    }\n",
       "\n",
       "    .dataframe thead th {\n",
       "        text-align: right;\n",
       "    }\n",
       "</style>\n",
       "<table border=\"1\" class=\"dataframe\">\n",
       "  <thead>\n",
       "    <tr style=\"text-align: right;\">\n",
       "      <th></th>\n",
       "      <th>tweet_id</th>\n",
       "      <th>in_reply_to_status_id</th>\n",
       "      <th>in_reply_to_user_id</th>\n",
       "      <th>timestamp</th>\n",
       "      <th>source</th>\n",
       "      <th>text</th>\n",
       "      <th>retweeted_status_id</th>\n",
       "      <th>retweeted_status_user_id</th>\n",
       "      <th>retweeted_status_timestamp</th>\n",
       "      <th>expanded_urls</th>\n",
       "      <th>rating_numerator</th>\n",
       "      <th>rating_denominator</th>\n",
       "      <th>name</th>\n",
       "      <th>doggo</th>\n",
       "      <th>floofer</th>\n",
       "      <th>pupper</th>\n",
       "      <th>puppo</th>\n",
       "    </tr>\n",
       "  </thead>\n",
       "  <tbody>\n",
       "    <tr>\n",
       "      <th>0</th>\n",
       "      <td>892420643555336193</td>\n",
       "      <td>NaN</td>\n",
       "      <td>NaN</td>\n",
       "      <td>2017-08-01 16:23:56 +0000</td>\n",
       "      <td>&lt;a href=\"http://twitter.com/download/iphone\" r...</td>\n",
       "      <td>This is Phineas. He's a mystical boy. Only eve...</td>\n",
       "      <td>NaN</td>\n",
       "      <td>NaN</td>\n",
       "      <td>NaN</td>\n",
       "      <td>https://twitter.com/dog_rates/status/892420643...</td>\n",
       "      <td>13</td>\n",
       "      <td>10</td>\n",
       "      <td>Phineas</td>\n",
       "      <td>None</td>\n",
       "      <td>None</td>\n",
       "      <td>None</td>\n",
       "      <td>None</td>\n",
       "    </tr>\n",
       "    <tr>\n",
       "      <th>1</th>\n",
       "      <td>892177421306343426</td>\n",
       "      <td>NaN</td>\n",
       "      <td>NaN</td>\n",
       "      <td>2017-08-01 00:17:27 +0000</td>\n",
       "      <td>&lt;a href=\"http://twitter.com/download/iphone\" r...</td>\n",
       "      <td>This is Tilly. She's just checking pup on you....</td>\n",
       "      <td>NaN</td>\n",
       "      <td>NaN</td>\n",
       "      <td>NaN</td>\n",
       "      <td>https://twitter.com/dog_rates/status/892177421...</td>\n",
       "      <td>13</td>\n",
       "      <td>10</td>\n",
       "      <td>Tilly</td>\n",
       "      <td>None</td>\n",
       "      <td>None</td>\n",
       "      <td>None</td>\n",
       "      <td>None</td>\n",
       "    </tr>\n",
       "    <tr>\n",
       "      <th>2</th>\n",
       "      <td>891815181378084864</td>\n",
       "      <td>NaN</td>\n",
       "      <td>NaN</td>\n",
       "      <td>2017-07-31 00:18:03 +0000</td>\n",
       "      <td>&lt;a href=\"http://twitter.com/download/iphone\" r...</td>\n",
       "      <td>This is Archie. He is a rare Norwegian Pouncin...</td>\n",
       "      <td>NaN</td>\n",
       "      <td>NaN</td>\n",
       "      <td>NaN</td>\n",
       "      <td>https://twitter.com/dog_rates/status/891815181...</td>\n",
       "      <td>12</td>\n",
       "      <td>10</td>\n",
       "      <td>Archie</td>\n",
       "      <td>None</td>\n",
       "      <td>None</td>\n",
       "      <td>None</td>\n",
       "      <td>None</td>\n",
       "    </tr>\n",
       "    <tr>\n",
       "      <th>3</th>\n",
       "      <td>891689557279858688</td>\n",
       "      <td>NaN</td>\n",
       "      <td>NaN</td>\n",
       "      <td>2017-07-30 15:58:51 +0000</td>\n",
       "      <td>&lt;a href=\"http://twitter.com/download/iphone\" r...</td>\n",
       "      <td>This is Darla. She commenced a snooze mid meal...</td>\n",
       "      <td>NaN</td>\n",
       "      <td>NaN</td>\n",
       "      <td>NaN</td>\n",
       "      <td>https://twitter.com/dog_rates/status/891689557...</td>\n",
       "      <td>13</td>\n",
       "      <td>10</td>\n",
       "      <td>Darla</td>\n",
       "      <td>None</td>\n",
       "      <td>None</td>\n",
       "      <td>None</td>\n",
       "      <td>None</td>\n",
       "    </tr>\n",
       "    <tr>\n",
       "      <th>4</th>\n",
       "      <td>891327558926688256</td>\n",
       "      <td>NaN</td>\n",
       "      <td>NaN</td>\n",
       "      <td>2017-07-29 16:00:24 +0000</td>\n",
       "      <td>&lt;a href=\"http://twitter.com/download/iphone\" r...</td>\n",
       "      <td>This is Franklin. He would like you to stop ca...</td>\n",
       "      <td>NaN</td>\n",
       "      <td>NaN</td>\n",
       "      <td>NaN</td>\n",
       "      <td>https://twitter.com/dog_rates/status/891327558...</td>\n",
       "      <td>12</td>\n",
       "      <td>10</td>\n",
       "      <td>Franklin</td>\n",
       "      <td>None</td>\n",
       "      <td>None</td>\n",
       "      <td>None</td>\n",
       "      <td>None</td>\n",
       "    </tr>\n",
       "  </tbody>\n",
       "</table>\n",
       "</div>"
      ],
      "text/plain": [
       "             tweet_id  in_reply_to_status_id  in_reply_to_user_id  \\\n",
       "0  892420643555336193                    NaN                  NaN   \n",
       "1  892177421306343426                    NaN                  NaN   \n",
       "2  891815181378084864                    NaN                  NaN   \n",
       "3  891689557279858688                    NaN                  NaN   \n",
       "4  891327558926688256                    NaN                  NaN   \n",
       "\n",
       "                   timestamp  \\\n",
       "0  2017-08-01 16:23:56 +0000   \n",
       "1  2017-08-01 00:17:27 +0000   \n",
       "2  2017-07-31 00:18:03 +0000   \n",
       "3  2017-07-30 15:58:51 +0000   \n",
       "4  2017-07-29 16:00:24 +0000   \n",
       "\n",
       "                                              source  \\\n",
       "0  <a href=\"http://twitter.com/download/iphone\" r...   \n",
       "1  <a href=\"http://twitter.com/download/iphone\" r...   \n",
       "2  <a href=\"http://twitter.com/download/iphone\" r...   \n",
       "3  <a href=\"http://twitter.com/download/iphone\" r...   \n",
       "4  <a href=\"http://twitter.com/download/iphone\" r...   \n",
       "\n",
       "                                                text  retweeted_status_id  \\\n",
       "0  This is Phineas. He's a mystical boy. Only eve...                  NaN   \n",
       "1  This is Tilly. She's just checking pup on you....                  NaN   \n",
       "2  This is Archie. He is a rare Norwegian Pouncin...                  NaN   \n",
       "3  This is Darla. She commenced a snooze mid meal...                  NaN   \n",
       "4  This is Franklin. He would like you to stop ca...                  NaN   \n",
       "\n",
       "   retweeted_status_user_id retweeted_status_timestamp  \\\n",
       "0                       NaN                        NaN   \n",
       "1                       NaN                        NaN   \n",
       "2                       NaN                        NaN   \n",
       "3                       NaN                        NaN   \n",
       "4                       NaN                        NaN   \n",
       "\n",
       "                                       expanded_urls  rating_numerator  \\\n",
       "0  https://twitter.com/dog_rates/status/892420643...                13   \n",
       "1  https://twitter.com/dog_rates/status/892177421...                13   \n",
       "2  https://twitter.com/dog_rates/status/891815181...                12   \n",
       "3  https://twitter.com/dog_rates/status/891689557...                13   \n",
       "4  https://twitter.com/dog_rates/status/891327558...                12   \n",
       "\n",
       "   rating_denominator      name doggo floofer pupper puppo  \n",
       "0                  10   Phineas  None    None   None  None  \n",
       "1                  10     Tilly  None    None   None  None  \n",
       "2                  10    Archie  None    None   None  None  \n",
       "3                  10     Darla  None    None   None  None  \n",
       "4                  10  Franklin  None    None   None  None  "
      ]
     },
     "execution_count": 30,
     "metadata": {},
     "output_type": "execute_result"
    }
   ],
   "source": [
    "df.head()"
   ]
  },
  {
   "cell_type": "code",
   "execution_count": 31,
   "id": "fe417016",
   "metadata": {},
   "outputs": [
    {
     "data": {
      "text/plain": [
       "tweet_id                         0\n",
       "in_reply_to_status_id         2278\n",
       "in_reply_to_user_id           2278\n",
       "timestamp                        0\n",
       "source                           0\n",
       "text                             0\n",
       "retweeted_status_id           2175\n",
       "retweeted_status_user_id      2175\n",
       "retweeted_status_timestamp    2175\n",
       "expanded_urls                   59\n",
       "rating_numerator                 0\n",
       "rating_denominator               0\n",
       "name                             0\n",
       "doggo                            0\n",
       "floofer                          0\n",
       "pupper                           0\n",
       "puppo                            0\n",
       "dtype: int64"
      ]
     },
     "execution_count": 31,
     "metadata": {},
     "output_type": "execute_result"
    }
   ],
   "source": [
    "df.isnull().sum()"
   ]
  },
  {
   "cell_type": "code",
   "execution_count": 32,
   "id": "3cb06161",
   "metadata": {},
   "outputs": [
    {
     "data": {
      "text/plain": [
       "None          745\n",
       "a              55\n",
       "Charlie        12\n",
       "Cooper         11\n",
       "Lucy           11\n",
       "             ... \n",
       "Dex             1\n",
       "Ace             1\n",
       "Tayzie          1\n",
       "Grizzie         1\n",
       "Christoper      1\n",
       "Name: name, Length: 957, dtype: int64"
      ]
     },
     "execution_count": 32,
     "metadata": {},
     "output_type": "execute_result"
    }
   ],
   "source": [
    "df['name'].value_counts()"
   ]
  },
  {
   "cell_type": "code",
   "execution_count": 82,
   "id": "055408e9",
   "metadata": {},
   "outputs": [
    {
     "name": "stdout",
     "output_type": "stream",
     "text": [
      "['None', 'a', 'Charlie', 'Cooper', 'Lucy', 'Oliver', 'Tucker', 'Penny', 'Lola', 'Winston', 'Bo', 'Sadie', 'the', 'Daisy', 'Buddy', 'Toby', 'an', 'Bailey', 'Leo', 'Oscar', 'Stanley', 'Rusty', 'Bella', 'Dave', 'Jack', 'Koda', 'Scout', 'Jax', 'Milo', 'Louis', 'Phil', 'Sammy', 'Gus', 'Chester', 'Alfie', 'Sunny', 'Bentley', 'very', 'Oakley', 'Finn', 'George', 'Larry', 'Clarence', 'Loki', 'Walter', 'Reggie', 'Hank', 'Scooter', 'Duke', 'quite', 'Reginald', 'Maggie', 'Luna', 'Maddie', 'Dexter', 'Jerry', 'Carl', 'Ruby', 'Riley', 'Clark', 'Chip', 'Brody', 'just', 'Sophie', 'Sampson', 'Boomer', 'Winnie', 'Gary', 'Archie', 'Jeffrey', 'Gerald', 'one', 'Cassie', 'Maximus', 'Moose', 'Bear', 'Bruce', 'Beau', 'Derek', 'Shadow', 'Rory', 'Waffles', 'Earl', 'Nala', 'Louie', 'Colby', 'Otis', 'Doug', 'Rosie', 'Wyatt', 'Lily', 'Coco', 'Kyle', 'Olive', 'Peaches', 'Vincent', 'Reese', 'Jimothy', 'Frankie', 'Ted', 'Arnie', 'Klevin', 'Max', 'Zoey', 'Ellie', 'Zeke', 'Wilson', 'Calvin', 'Sebastian', 'Wallace', 'Lorenzo', 'Malcolm', 'Mia', 'Samson', 'Paisley', 'Steven', 'Gizmo', 'Benji', 'Philbert', 'Django', 'Sansa', 'Tyr', 'Moe', 'Misty', 'Herm', 'Cali', 'Kenneth', 'Chelsea', 'Happy', 'Ollie', 'Leela', 'Sam', 'Hunter', 'Seamus', 'Tyrone', 'Atlas', 'Rocky', 'Oshie', 'Olivia', 'Davey', 'Timison', 'Paull', 'Titan', 'Levi', 'Layla', 'Stubert', 'Rizzy', 'Baloo', 'Betty', 'Herschel', 'Butter', 'Mister', 'Lenny', 'Doc', 'Juno', 'Anakin', 'Bernie', 'Marley', 'Phineas', 'Nollie', 'Meyer', 'Blitz', 'Raymond', 'Crystal', 'Phred', 'Terry', 'Axel', 'Charles', 'Herald', 'getting', 'Theodore', 'Maxaroni', 'Kilo', 'Brad', 'actually', 'Sugar', 'Percy', 'Opal', 'Shaggy', 'Wally', 'Oliviér', 'mad', 'Kreggory', 'Remington', 'Bisquick', 'Chuckles', 'Thumas', 'Curtis', 'Calbert', 'Chet', 'Bubbles', 'Coops', 'Ozzy', 'Smokey', 'Flávio', 'CeCe', 'Pippa', 'Panda', 'Bob', 'Sarge', 'Abby', 'Keurig', 'Baxter', 'Atticus', 'Dakota', 'Gromit', 'Roosevelt', 'Fizz', 'Penelope', 'Finley', 'Solomon', 'Hurley', 'Bell', 'Dash', 'Linda', 'Chipson', 'Harper', 'Kenny', 'Sandy', 'Lincoln', 'Frank', 'Jackson', 'Kirby', 'Lou', 'Jeph', 'Piper', 'Hammond', 'Fred', 'Carly', 'Keith', 'Rubio', 'Watson', 'Chompsky', 'Rufus', 'Jiminy', 'Griffin', 'Rocco', 'Albert', 'Patrick', 'Kreg', 'Eve', 'Luca', 'Lennon', 'Cupcake', 'Emmy', 'Ken', 'Pipsy', 'Nelly', 'Odie', 'Ava', 'Ash', 'Terrance', 'not', 'Romeo', 'Stephan', 'Jesse', 'Elliot', 'Logan', 'Moreton', 'Klein', 'Kyro', 'Fiona', 'Yogi', 'Indie', 'Benedict', 'Lilly', 'Churlie', 'Hobbes', 'Trooper', 'Belle', 'Quinn', 'Neptune', 'Albus', 'Alice', 'Aspen', 'Jamesy', 'Bungalo', 'Harold', 'Astrid', 'Gidget', 'Cody', 'Dawn', 'Sierra', 'Cash', 'Pickles', 'Kevin', 'Eli', 'Gabe', 'Balto', 'Pablo', 'Franklin', 'Jimison', 'Hercules', 'Canela', 'Mattie', 'Dotsy', 'Marvin', 'Lizzie', 'Kallie', 'Ember', 'Frönq', 'Blakely', 'Jockson', 'Ambrose', 'Jomathan', 'Marq', 'Kramer', 'Maks', 'Derby', 'Pubert', 'Spark', 'Ferg', 'Ricky', 'Carll', 'Ron', 'Torque', 'Lucky', 'Terrenth', 'Trip', 'Gordon', 'Jareld', 'Bode', 'DayZ', 'Jo', 'Hamrick', 'Gòrdón', 'Barry', 'Horace', 'Timofy', 'Kulet', 'Perry', 'Bobby', 'Winifred', 'Obi', 'Kevon', 'Tino', 'Sweets', 'Bruiser', 'Lupe', 'Tiger', 'Lugan', 'Kathmandu', 'Banditt', 'Banjo', 'Katie', 'Oreo', 'Mona', 'Adele', 'Fynn', 'Zara', 'Crimson', 'Birf', 'Josep', 'Zeek', 'Lorelei', 'Gerbald', 'Marty', 'Brooks', 'Petrick', 'Hubertson', 'Hanz', 'Kara', 'Skittles', 'Chesterson', 'Biden', 'Naphaniel', 'Ole', 'Pherb', 'Blipson', 'Genevieve', 'Reptar', 'Trevith', 'Joshwa', 'Millie', 'Kial', 'Berb', 'Bradlay', 'Colin', 'Brian', 'Yoda', 'Coopson', 'Carter', 'Dook', 'Grady', 'Jessiga', 'Eazy', 'Murphy', 'Kaia', 'Fillup', 'Miley', 'Daniel', 'Philippe', 'Charl', 'Reagan', 'Yukon', 'Crouton', 'Hall', 'Fwed', 'Cuddles', 'Claude', 'Filup', 'Kobe', 'Durg', 'Vinscent', 'Hazel', 'Lolo', 'Eriq', 'Erik', 'Rudy', 'Rambo', 'Cleopatricia', 'Oddie', 'Socks', 'Maxwell', 'Ralphson', 'Keet', 'Geoff', 'Covach', 'Lucia', 'Cedrick', 'Stu', 'Bilbo', 'Fiji', 'Rilo', 'Freddery', 'Bodie', 'Dunkin', 'Tedrick', 'Tupawc', 'Clybe', 'Amber', 'Edgar', 'Teddy', 'Kingsley', 'Brockly', 'Richie', 'Brandy', 'Molly', 'Bobb', 'Patch', 'Lulu', 'Finnegus', 'Henry', 'Bobbay', 'Mitch', 'Creg', 'Antony', 'Trigger', 'Kaiya', 'Acro', 'Mason', 'Arnold', 'Andy', 'Aiden', 'Sage', 'Obie', 'Amy', 'Jett', 'Dot', 'Shnuggles', 'life', 'Chesney', 'Traviss', 'Jonah', 'Damon', 'Herb', 'Willy', 'Mollie', 'Edd', 'Laela', 'Bloo', 'Pluto', 'Ester', 'Danny', 'Tedders', 'Jeffrie', 'Superpup', 'Rufio', 'Gin', 'Jeb', 'Rodman', 'Kendall', 'Holly', 'Jeffri', 'Norman', 'Scott', 'Dylan', 'Taz', 'Darby', 'Jackie', 'light', 'Jazz', 'Franq', 'Pippin', 'Rolf', 'Batdog', 'Snickers', 'Ridley', 'Cal', 'Bradley', 'Bubba', 'Mojo', 'Caryl', 'Leonidas', 'Steve', 'space', 'Mac', 'Fletcher', 'Anthony', 'Kenzie', 'Sparky', 'Tanner', 'Pumpkin', 'Julius', 'Schnozz', 'Gustaf', 'Pip', 'Scruffers', 'Cheryl', 'Alejandro', 'JD', 'Ed', 'Mark', 'Zuzu', 'Buddah', 'Darrel', 'Kirk', 'Cheesy', 'Moofasa', 'Jaspers', 'Hector', 'Goliath', 'Clarq', 'Kawhi', 'Ralf', 'by', 'Peanut', 'Sully', 'Emmie', 'Tessa', 'Willie', 'Dug', 'Rinna', 'Mike', 'William', 'Samsom', 'Harrison', 'Griswold', 'Ozzie', 'Amélie', 'Taco', 'Joey', 'Ruffles', 'Lambeau', 'Todo', 'Tess', 'Ulysses', 'Toffee', 'Apollo', 'Tuco', 'Jaycob', 'Glacier', 'Chuck', 'Jeremy', 'Champ', 'Chaz', 'Saydee', 'Dwight', 'Billl', 'Humphrey', 'Tommy', 'Juckson', 'Liam', 'Randall', 'Chuq', 'Tyrus', 'Karl', 'Godzilla', 'Fabio', 'Vinnie', 'Sandra', 'Bert', 'Striker', 'Donny', 'Butters', 'Pepper', 'Nigel', 'Tassy', 'Ben', 'Evy', 'Ralph', 'officially', 'Rascal', 'Ronduh', 'Kollin', 'Skye', 'Shawwn', 'Kloey', 'Andru', 'Tug', 'Tango', 'Julio', 'Grizz', 'Jerome', 'Crumpet', 'Jessifer', 'Raphael', 'Izzy', 'Asher', 'Huxley', 'Clarkus', 'Autumn', 'Sundance', 'Flash', 'Howie', 'Jazzy', 'Anna', 'Wafer', 'Tom', 'Florence', 'Dido', 'Duchess', 'Eugene', 'Strudel', 'Tebow', 'Chloe', 'Timber', 'Binky', 'Dudley', 'Comet', 'Harlso', 'Crawford', 'Smiley', 'Sailer', 'Emanuel', 'Kuyu', 'Dutch', 'Pete', 'Mutt', 'Doobert', 'Beebop', 'Alexander', 'Brutus', 'Sweet', 'Kona', 'Boots', 'Ralphie', 'Cupid', 'Pawnd', 'Pilot', 'Ike', 'Mo', 'Akumi', 'Alf', 'Chubbs', 'Dobby', 'Sobe', 'Longfellow', 'Iroh', 'Pancake', 'Snicku', 'Mack', 'Nimbus', 'Laika', 'Maude', 'Sky', 'Newt', 'Nida', 'Robin', 'Monster', 'BeBe', 'Remus', 'Mabel', 'Mosby', 'Chef', 'Mauve', 'Bones', 'Ronnie', 'Eleanor', 'Baron', 'Bauer', 'Swagger', 'Brandi', 'Mary', 'Halo', 'Augie', 'Craig', 'Pavlov', 'Ito', 'incredibly', 'Major', 'Shooter', 'Diogi', 'Sonny', 'Severus', 'Miguel', 'Eevee', 'Brownie', 'Napolean', 'Goose', 'Nugget', 'Jed', 'Monkey', 'Harry', 'Kody', 'Lassie', 'Rover', 'Rumble', 'Ginger', 'Clifford', 'Dewey', 'Shikha', 'Lili', 'Meatball', 'Zooey', 'Jersey', 'Burt', 'Venti', 'Dante', 'Orion', 'Roscoe', 'Darla', 'Bruno', 'Stuart', 'Jim', 'Ralphus', 'such', 'Maya', 'Mingus', 'Jimbo', 'Aja', 'Maisey', 'Noah', 'Grizzwald', 'Alfy', 'Koko', 'Rey', 'Duddles', 'Snoopy', 'Jordy', 'Milky', 'Thor', 'Mookie', 'Jarvis', 'Mimosa', 'Brady', 'Margo', 'Tycho', 'Monty', 'Sojourner', 'Arlo', 'Meera', 'Callie', 'Tobi', 'Sunshine', 'Lipton', 'Gabby', 'Bronte', 'Poppy', 'Rhino', 'Willow', 'Vixen', 'Barney', 'Tuck', 'Furzey', 'Cermet', 'Marlee', 'Arya', 'Einstein', 'Rumpole', 'Benny', 'Jarod', 'Wiggles', 'General', 'Sailor', 'Iggy', 'Snoop', 'Noosh', 'Odin', 'Georgie', 'Rontu', 'Cannon', 'Ralphy', 'Stella', 'Jiminus', 'Lillie', 'Coleman', 'Enchilada', 'all', 'Rueben', 'Cilantro', 'Karll', 'Sprout', 'Bloop', 'Ashleigh', 'Puff', 'Luther', 'Ivar', 'Jangle', 'Schnitzel', 'Berkeley', 'Ralphé', 'Charleson', 'Clyde', 'Flurpson', 'Pupcasso', 'Kayla', 'Kellogg', 'Aqua', 'Chase', 'Rorie', 'Simba', 'Bayley', 'Storkson', 'Remy', 'Chadrick', 'Buckley', 'Stefan', 'Livvie', 'Hermione', 'Ralpher', 'Aldrick', 'this', 'unacceptable', 'Rooney', 'Ziva', 'Harnold', 'Sid', 'Carper', 'Vince', 'Sora', 'Beemo', 'Gunner', 'infuriating', 'Lacy', 'Tater', 'Olaf', 'Cecil', 'Karma', 'Bowie', 'Billy', 'Walker', 'Rodney', 'Malikai', 'Bobble', 'River', 'Jebberson', 'Farfle', 'Staniel', 'Kane', 'Opie', 'Lance', 'Alexanderson', 'Suki', 'Barclay', 'Skittle', 'Ebby', 'Link', 'Jennifur', 'Bluebert', 'Stephanus', 'old', 'Zeus', 'Bertson', 'Nico', 'Michelangelope', 'Siba', 'Travis', 'Kanu', 'Edmund', 'Beya', 'Tonks', 'Rupert', 'Grey', 'Willem', 'Dixie', 'Al', 'Carbon', 'DonDon', 'Chevy', 'Tito', 'Brudge', 'Heinrich', 'Shadoe', 'Angel', 'Brat', 'Tove', 'my', 'Aubie', 'Kota', 'Glenn', 'Shakespeare', 'Sprinkles', 'Stark', 'Godi', 'Dale', 'Rizzo', 'Pinot', 'Dallas', 'Hero', 'Stormy', 'Mairi', 'Loomis', 'Deacon', 'Blue', 'Timmy', 'Combo', 'Jay', 'Mya', 'Strider', 'Wesley', 'Huck', 'O', 'Shelby', 'Sephie', 'Bonaparte', 'Tilly', 'Spanky', 'Jameson', 'Blu', 'Dietrich', 'Divine', 'Tripp', 'his', 'Cora', 'Bookstore', 'Wishes', 'Linus', 'Shiloh', 'Gustav', 'Arlen', 'Lenox', 'Harvey', 'Blanket', 'Geno', 'Lilah', 'Stewie', 'Zoe', 'Gilbert', 'Rose', 'Theo', 'Fido', 'Emma', 'Spencer', 'Lilli', 'Boston', 'Brandonald', 'Corey', 'Leonard', 'Beckham', 'Devón', 'Gert', 'Dex', 'Ace', 'Tayzie', 'Grizzie', 'Christoper']\n"
     ]
    }
   ],
   "source": [
    "unique_names = list(df['name'].value_counts().keys())\n",
    "print(unique_names)"
   ]
  },
  {
   "cell_type": "code",
   "execution_count": 85,
   "id": "eae176e6",
   "metadata": {},
   "outputs": [
    {
     "name": "stdout",
     "output_type": "stream",
     "text": [
      "['a', 'the', 'an', 'very', 'quite', 'just', 'one', 'getting', 'actually', 'mad', 'not', 'life', 'light', 'space', 'by', 'officially', 'incredibly', 'such', 'all', 'this', 'unacceptable', 'infuriating', 'old', 'my', 'his']\n"
     ]
    }
   ],
   "source": [
    "none_names = [name for name in unique_names if name.islower()]\n",
    "print(none_names)"
   ]
  },
  {
   "cell_type": "code",
   "execution_count": 33,
   "id": "f0c036a6",
   "metadata": {},
   "outputs": [
    {
     "name": "stdout",
     "output_type": "stream",
     "text": [
      "<class 'pandas.core.frame.DataFrame'>\n",
      "RangeIndex: 2075 entries, 0 to 2074\n",
      "Data columns (total 12 columns):\n",
      " #   Column    Non-Null Count  Dtype  \n",
      "---  ------    --------------  -----  \n",
      " 0   tweet_id  2075 non-null   int64  \n",
      " 1   jpg_url   2075 non-null   object \n",
      " 2   img_num   2075 non-null   int64  \n",
      " 3   p1        2075 non-null   object \n",
      " 4   p1_conf   2075 non-null   float64\n",
      " 5   p1_dog    2075 non-null   bool   \n",
      " 6   p2        2075 non-null   object \n",
      " 7   p2_conf   2075 non-null   float64\n",
      " 8   p2_dog    2075 non-null   bool   \n",
      " 9   p3        2075 non-null   object \n",
      " 10  p3_conf   2075 non-null   float64\n",
      " 11  p3_dog    2075 non-null   bool   \n",
      "dtypes: bool(3), float64(3), int64(2), object(4)\n",
      "memory usage: 152.1+ KB\n"
     ]
    }
   ],
   "source": [
    "image_pred_df.info()"
   ]
  },
  {
   "cell_type": "code",
   "execution_count": 34,
   "id": "752e7142",
   "metadata": {},
   "outputs": [
    {
     "data": {
      "text/html": [
       "<div>\n",
       "<style scoped>\n",
       "    .dataframe tbody tr th:only-of-type {\n",
       "        vertical-align: middle;\n",
       "    }\n",
       "\n",
       "    .dataframe tbody tr th {\n",
       "        vertical-align: top;\n",
       "    }\n",
       "\n",
       "    .dataframe thead th {\n",
       "        text-align: right;\n",
       "    }\n",
       "</style>\n",
       "<table border=\"1\" class=\"dataframe\">\n",
       "  <thead>\n",
       "    <tr style=\"text-align: right;\">\n",
       "      <th></th>\n",
       "      <th>tweet_id</th>\n",
       "      <th>jpg_url</th>\n",
       "      <th>img_num</th>\n",
       "      <th>p1</th>\n",
       "      <th>p1_conf</th>\n",
       "      <th>p1_dog</th>\n",
       "      <th>p2</th>\n",
       "      <th>p2_conf</th>\n",
       "      <th>p2_dog</th>\n",
       "      <th>p3</th>\n",
       "      <th>p3_conf</th>\n",
       "      <th>p3_dog</th>\n",
       "    </tr>\n",
       "  </thead>\n",
       "  <tbody>\n",
       "    <tr>\n",
       "      <th>0</th>\n",
       "      <td>666020888022790149</td>\n",
       "      <td>https://pbs.twimg.com/media/CT4udn0WwAA0aMy.jpg</td>\n",
       "      <td>1</td>\n",
       "      <td>Welsh_springer_spaniel</td>\n",
       "      <td>0.465074</td>\n",
       "      <td>True</td>\n",
       "      <td>collie</td>\n",
       "      <td>0.156665</td>\n",
       "      <td>True</td>\n",
       "      <td>Shetland_sheepdog</td>\n",
       "      <td>0.061428</td>\n",
       "      <td>True</td>\n",
       "    </tr>\n",
       "    <tr>\n",
       "      <th>1</th>\n",
       "      <td>666029285002620928</td>\n",
       "      <td>https://pbs.twimg.com/media/CT42GRgUYAA5iDo.jpg</td>\n",
       "      <td>1</td>\n",
       "      <td>redbone</td>\n",
       "      <td>0.506826</td>\n",
       "      <td>True</td>\n",
       "      <td>miniature_pinscher</td>\n",
       "      <td>0.074192</td>\n",
       "      <td>True</td>\n",
       "      <td>Rhodesian_ridgeback</td>\n",
       "      <td>0.072010</td>\n",
       "      <td>True</td>\n",
       "    </tr>\n",
       "    <tr>\n",
       "      <th>2</th>\n",
       "      <td>666033412701032449</td>\n",
       "      <td>https://pbs.twimg.com/media/CT4521TWwAEvMyu.jpg</td>\n",
       "      <td>1</td>\n",
       "      <td>German_shepherd</td>\n",
       "      <td>0.596461</td>\n",
       "      <td>True</td>\n",
       "      <td>malinois</td>\n",
       "      <td>0.138584</td>\n",
       "      <td>True</td>\n",
       "      <td>bloodhound</td>\n",
       "      <td>0.116197</td>\n",
       "      <td>True</td>\n",
       "    </tr>\n",
       "    <tr>\n",
       "      <th>3</th>\n",
       "      <td>666044226329800704</td>\n",
       "      <td>https://pbs.twimg.com/media/CT5Dr8HUEAA-lEu.jpg</td>\n",
       "      <td>1</td>\n",
       "      <td>Rhodesian_ridgeback</td>\n",
       "      <td>0.408143</td>\n",
       "      <td>True</td>\n",
       "      <td>redbone</td>\n",
       "      <td>0.360687</td>\n",
       "      <td>True</td>\n",
       "      <td>miniature_pinscher</td>\n",
       "      <td>0.222752</td>\n",
       "      <td>True</td>\n",
       "    </tr>\n",
       "    <tr>\n",
       "      <th>4</th>\n",
       "      <td>666049248165822465</td>\n",
       "      <td>https://pbs.twimg.com/media/CT5IQmsXIAAKY4A.jpg</td>\n",
       "      <td>1</td>\n",
       "      <td>miniature_pinscher</td>\n",
       "      <td>0.560311</td>\n",
       "      <td>True</td>\n",
       "      <td>Rottweiler</td>\n",
       "      <td>0.243682</td>\n",
       "      <td>True</td>\n",
       "      <td>Doberman</td>\n",
       "      <td>0.154629</td>\n",
       "      <td>True</td>\n",
       "    </tr>\n",
       "  </tbody>\n",
       "</table>\n",
       "</div>"
      ],
      "text/plain": [
       "             tweet_id                                          jpg_url  \\\n",
       "0  666020888022790149  https://pbs.twimg.com/media/CT4udn0WwAA0aMy.jpg   \n",
       "1  666029285002620928  https://pbs.twimg.com/media/CT42GRgUYAA5iDo.jpg   \n",
       "2  666033412701032449  https://pbs.twimg.com/media/CT4521TWwAEvMyu.jpg   \n",
       "3  666044226329800704  https://pbs.twimg.com/media/CT5Dr8HUEAA-lEu.jpg   \n",
       "4  666049248165822465  https://pbs.twimg.com/media/CT5IQmsXIAAKY4A.jpg   \n",
       "\n",
       "   img_num                      p1   p1_conf  p1_dog                  p2  \\\n",
       "0        1  Welsh_springer_spaniel  0.465074    True              collie   \n",
       "1        1                 redbone  0.506826    True  miniature_pinscher   \n",
       "2        1         German_shepherd  0.596461    True            malinois   \n",
       "3        1     Rhodesian_ridgeback  0.408143    True             redbone   \n",
       "4        1      miniature_pinscher  0.560311    True          Rottweiler   \n",
       "\n",
       "    p2_conf  p2_dog                   p3   p3_conf  p3_dog  \n",
       "0  0.156665    True    Shetland_sheepdog  0.061428    True  \n",
       "1  0.074192    True  Rhodesian_ridgeback  0.072010    True  \n",
       "2  0.138584    True           bloodhound  0.116197    True  \n",
       "3  0.360687    True   miniature_pinscher  0.222752    True  \n",
       "4  0.243682    True             Doberman  0.154629    True  "
      ]
     },
     "execution_count": 34,
     "metadata": {},
     "output_type": "execute_result"
    }
   ],
   "source": [
    "image_pred_df.head()"
   ]
  },
  {
   "cell_type": "code",
   "execution_count": 35,
   "id": "1c97c09e",
   "metadata": {},
   "outputs": [
    {
     "data": {
      "text/plain": [
       "golden_retriever      150\n",
       "Labrador_retriever    100\n",
       "Pembroke               89\n",
       "Chihuahua              83\n",
       "pug                    57\n",
       "                     ... \n",
       "pillow                  1\n",
       "carousel                1\n",
       "bald_eagle              1\n",
       "lorikeet                1\n",
       "orange                  1\n",
       "Name: p1, Length: 378, dtype: int64"
      ]
     },
     "execution_count": 35,
     "metadata": {},
     "output_type": "execute_result"
    }
   ],
   "source": [
    "image_pred_df['p1'].value_counts()"
   ]
  },
  {
   "cell_type": "code",
   "execution_count": 36,
   "id": "f5e1855f",
   "metadata": {},
   "outputs": [
    {
     "data": {
      "text/plain": [
       "Labrador_retriever    104\n",
       "golden_retriever       92\n",
       "Cardigan               73\n",
       "Chihuahua              44\n",
       "Pomeranian             42\n",
       "                     ... \n",
       "medicine_chest          1\n",
       "quail                   1\n",
       "horse_cart              1\n",
       "waffle_iron             1\n",
       "bagel                   1\n",
       "Name: p2, Length: 405, dtype: int64"
      ]
     },
     "execution_count": 36,
     "metadata": {},
     "output_type": "execute_result"
    }
   ],
   "source": [
    "image_pred_df['p2'].value_counts()"
   ]
  },
  {
   "cell_type": "code",
   "execution_count": 37,
   "id": "e56fada1",
   "metadata": {},
   "outputs": [
    {
     "data": {
      "text/plain": [
       "Labrador_retriever    79\n",
       "Chihuahua             58\n",
       "golden_retriever      48\n",
       "Eskimo_dog            38\n",
       "kelpie                35\n",
       "                      ..\n",
       "ox                     1\n",
       "assault_rifle          1\n",
       "axolotl                1\n",
       "pot                    1\n",
       "banana                 1\n",
       "Name: p3, Length: 408, dtype: int64"
      ]
     },
     "execution_count": 37,
     "metadata": {},
     "output_type": "execute_result"
    }
   ],
   "source": [
    "image_pred_df['p3'].value_counts()"
   ]
  },
  {
   "cell_type": "code",
   "execution_count": 38,
   "id": "6cbd5986",
   "metadata": {},
   "outputs": [
    {
     "name": "stdout",
     "output_type": "stream",
     "text": [
      "<class 'pandas.core.frame.DataFrame'>\n",
      "RangeIndex: 2354 entries, 0 to 2353\n",
      "Data columns (total 6 columns):\n",
      " #   Column          Non-Null Count  Dtype \n",
      "---  ------          --------------  ----- \n",
      " 0   tweet_id        2354 non-null   int64 \n",
      " 1   retweet_count   2354 non-null   int64 \n",
      " 2   favorite_count  2354 non-null   int64 \n",
      " 3   tweet_text      2354 non-null   object\n",
      " 4   truncated       2354 non-null   bool  \n",
      " 5   retweeted       2354 non-null   bool  \n",
      "dtypes: bool(2), int64(3), object(1)\n",
      "memory usage: 78.3+ KB\n"
     ]
    }
   ],
   "source": [
    "tweet_df.info()"
   ]
  },
  {
   "cell_type": "code",
   "execution_count": 39,
   "id": "3531fc88",
   "metadata": {},
   "outputs": [
    {
     "data": {
      "text/plain": [
       "0"
      ]
     },
     "execution_count": 39,
     "metadata": {},
     "output_type": "execute_result"
    }
   ],
   "source": [
    "df.duplicated().sum()"
   ]
  },
  {
   "cell_type": "code",
   "execution_count": 40,
   "id": "12519a82",
   "metadata": {},
   "outputs": [
    {
     "data": {
      "text/plain": [
       "0"
      ]
     },
     "execution_count": 40,
     "metadata": {},
     "output_type": "execute_result"
    }
   ],
   "source": [
    "image_pred_df.duplicated().sum()"
   ]
  },
  {
   "cell_type": "markdown",
   "id": "1d46693d",
   "metadata": {},
   "source": [
    "## Quality issues"
   ]
  },
  {
   "cell_type": "markdown",
   "id": "90007631",
   "metadata": {},
   "source": [
    "1. The `timestamp` column has an incorrect datatype format of `object`. It must be converted to `datetime` format "
   ]
  },
  {
   "cell_type": "markdown",
   "id": "e2504d9f",
   "metadata": {},
   "source": [
    "2. Missing values in the following columns<br>\n",
    "a. `in_reply_to_status_id`<br>\n",
    "b. `in_reply_to_user_id`<br>\n",
    "c. `retweeted_status_id`<br>\n",
    "d. `retweeted_status_user_id`<br>\n",
    "e. `retweeted_status_timestamp`<br>\n",
    "f. `expanded_urls`<br>"
   ]
  },
  {
   "cell_type": "markdown",
   "id": "ce26a933",
   "metadata": {},
   "source": [
    "3. Some inaccurate names exist in the `name` column like 'a', 'the', 'an' etc. This names exist in the `none_names` list"
   ]
  },
  {
   "cell_type": "markdown",
   "id": "9237020b",
   "metadata": {},
   "source": [
    "4. The prediction columns in `image_pred_df` underscores within them."
   ]
  },
  {
   "cell_type": "markdown",
   "id": "02907ca3",
   "metadata": {},
   "source": [
    "5. The values in the prediction columns of `image_pred_df` are inconsistent with letter casing"
   ]
  },
  {
   "cell_type": "markdown",
   "id": "e72373f5",
   "metadata": {},
   "source": [
    "- ***Other columns have missing values but they also contain missing values so I plan on dropping them***"
   ]
  },
  {
   "cell_type": "markdown",
   "id": "025f228b",
   "metadata": {},
   "source": [
    "## Tidiness issues"
   ]
  },
  {
   "cell_type": "markdown",
   "id": "57e87bd4",
   "metadata": {},
   "source": [
    "1. The dog stage of the dog is spread across 4 different columns in the df table\n",
    "2. The data is split across three different tables which are not of the same length"
   ]
  },
  {
   "cell_type": "markdown",
   "id": "19f0d9aa",
   "metadata": {},
   "source": [
    "## Cleaning Data"
   ]
  },
  {
   "cell_type": "markdown",
   "id": "6744c05c",
   "metadata": {},
   "source": [
    "In this section, clean all of the issues you documented while assessing."
   ]
  },
  {
   "cell_type": "markdown",
   "id": "531d3cac",
   "metadata": {},
   "source": [
    "Note: Make a copy of the original data before cleaning. Cleaning includes merging individual pieces of data according to the rules of tidy data. The result should be a high-quality and tidy master pandas DataFrame (or DataFrames, if appropriate)."
   ]
  },
  {
   "cell_type": "code",
   "execution_count": 41,
   "id": "46541dca",
   "metadata": {},
   "outputs": [],
   "source": [
    "# Make copies of original pieces of data\n",
    "\n",
    "df_copy = df.copy()\n",
    "image_pred_df_copy = image_pred_df.copy()\n",
    "tweet_df_copy = tweet_df.copy()"
   ]
  },
  {
   "cell_type": "markdown",
   "id": "ae9eb506",
   "metadata": {},
   "source": [
    "### Missing Data Issues (Under Quality Issues)"
   ]
  },
  {
   "cell_type": "markdown",
   "id": "0c61fcbe",
   "metadata": {},
   "source": [
    "#### Define"
   ]
  },
  {
   "cell_type": "markdown",
   "id": "65ca780d",
   "metadata": {},
   "source": [
    "- Drop all columns with missing values in the df dataframe since they won't be used in analysis"
   ]
  },
  {
   "cell_type": "markdown",
   "id": "b0db136b",
   "metadata": {},
   "source": [
    "#### Code"
   ]
  },
  {
   "cell_type": "code",
   "execution_count": 42,
   "id": "1c8bb073",
   "metadata": {},
   "outputs": [],
   "source": [
    "drop_columns = ['in_reply_to_status_id', 'in_reply_to_user_id', 'retweeted_status_id', 'retweeted_status_user_id', 'retweeted_status_timestamp', 'expanded_urls']"
   ]
  },
  {
   "cell_type": "code",
   "execution_count": 43,
   "id": "bf704429",
   "metadata": {},
   "outputs": [],
   "source": [
    "df_copy.drop(drop_columns, axis=1, inplace=True)"
   ]
  },
  {
   "cell_type": "markdown",
   "id": "19f426fc",
   "metadata": {},
   "source": [
    "#### Test"
   ]
  },
  {
   "cell_type": "code",
   "execution_count": 44,
   "id": "9a1a275b",
   "metadata": {},
   "outputs": [
    {
     "data": {
      "text/plain": [
       "0"
      ]
     },
     "execution_count": 44,
     "metadata": {},
     "output_type": "execute_result"
    }
   ],
   "source": [
    "# There shouldn't be any null value in the df dataframe\n",
    "\n",
    "df_copy.isnull().sum().sum()"
   ]
  },
  {
   "cell_type": "markdown",
   "id": "7c422581",
   "metadata": {},
   "source": [
    "#### The data is split across three different tables which are not of the same length"
   ]
  },
  {
   "cell_type": "markdown",
   "id": "34c50cb3",
   "metadata": {},
   "source": [
    "#### Define"
   ]
  },
  {
   "cell_type": "markdown",
   "id": "3ad0e202",
   "metadata": {},
   "source": [
    "- Merge the three datasets into one"
   ]
  },
  {
   "cell_type": "markdown",
   "id": "f28db22b",
   "metadata": {},
   "source": [
    "#### Code"
   ]
  },
  {
   "cell_type": "code",
   "execution_count": 45,
   "id": "c18aac36",
   "metadata": {},
   "outputs": [],
   "source": [
    "# Merging the three data frames into one\n",
    "\n",
    "merged_df = df_copy.merge(image_pred_df, how='left', on='tweet_id').merge(tweet_df, how='left', on='tweet_id')"
   ]
  },
  {
   "cell_type": "markdown",
   "id": "386e7968",
   "metadata": {},
   "source": [
    "#### Test"
   ]
  },
  {
   "cell_type": "code",
   "execution_count": 201,
   "id": "8167fec8",
   "metadata": {},
   "outputs": [
    {
     "data": {
      "text/plain": [
       "[]"
      ]
     },
     "execution_count": 201,
     "metadata": {},
     "output_type": "execute_result"
    }
   ],
   "source": [
    "# the code below should return an empty list\n",
    "\n",
    "[col for col in merged_df if col not in list(df_copy.columns) + list(image_pred_df.columns) + list(tweet_df.columns)]"
   ]
  },
  {
   "cell_type": "code",
   "execution_count": 46,
   "id": "1dcdfd85",
   "metadata": {},
   "outputs": [
    {
     "data": {
      "text/plain": [
       "tweet_id                0\n",
       "timestamp               0\n",
       "source                  0\n",
       "text                    0\n",
       "rating_numerator        0\n",
       "rating_denominator      0\n",
       "name                    0\n",
       "doggo                   0\n",
       "floofer                 0\n",
       "pupper                  0\n",
       "puppo                   0\n",
       "jpg_url               281\n",
       "img_num               281\n",
       "p1                    281\n",
       "p1_conf               281\n",
       "p1_dog                281\n",
       "p2                    281\n",
       "p2_conf               281\n",
       "p2_dog                281\n",
       "p3                    281\n",
       "p3_conf               281\n",
       "p3_dog                281\n",
       "retweet_count           2\n",
       "favorite_count          2\n",
       "tweet_text              2\n",
       "truncated               2\n",
       "retweeted               2\n",
       "dtype: int64"
      ]
     },
     "execution_count": 46,
     "metadata": {},
     "output_type": "execute_result"
    }
   ],
   "source": [
    "merged_df.isnull().sum()"
   ]
  },
  {
   "cell_type": "code",
   "execution_count": 47,
   "id": "688ea50a",
   "metadata": {},
   "outputs": [
    {
     "data": {
      "text/plain": [
       "(Index(['tweet_id', 'in_reply_to_status_id', 'in_reply_to_user_id', 'timestamp',\n",
       "        'source', 'text', 'retweeted_status_id', 'retweeted_status_user_id',\n",
       "        'retweeted_status_timestamp', 'expanded_urls', 'rating_numerator',\n",
       "        'rating_denominator', 'name', 'doggo', 'floofer', 'pupper', 'puppo'],\n",
       "       dtype='object'),\n",
       " Index(['tweet_id', 'jpg_url', 'img_num', 'p1', 'p1_conf', 'p1_dog', 'p2',\n",
       "        'p2_conf', 'p2_dog', 'p3', 'p3_conf', 'p3_dog'],\n",
       "       dtype='object'),\n",
       " Index(['tweet_id', 'retweet_count', 'favorite_count', 'tweet_text',\n",
       "        'truncated', 'retweeted'],\n",
       "       dtype='object'))"
      ]
     },
     "execution_count": 47,
     "metadata": {},
     "output_type": "execute_result"
    }
   ],
   "source": [
    "df.columns, image_pred_df.columns, tweet_df.columns"
   ]
  },
  {
   "cell_type": "code",
   "execution_count": 48,
   "id": "a91458d6",
   "metadata": {},
   "outputs": [
    {
     "data": {
      "text/plain": [
       "(2075, 12)"
      ]
     },
     "execution_count": 48,
     "metadata": {},
     "output_type": "execute_result"
    }
   ],
   "source": [
    "image_pred_df.shape"
   ]
  },
  {
   "cell_type": "markdown",
   "id": "40e0b3d6",
   "metadata": {},
   "source": [
    "We'll notice from the result above that there are still some missing values (**quality issues**) for some columns. "
   ]
  },
  {
   "cell_type": "markdown",
   "id": "a6a76866",
   "metadata": {},
   "source": [
    "### Quality Issues"
   ]
  },
  {
   "cell_type": "markdown",
   "id": "75603e09",
   "metadata": {},
   "source": [
    "6. Missing data in some columns after merging the original three dataframes"
   ]
  },
  {
   "cell_type": "markdown",
   "id": "5231e8a5",
   "metadata": {},
   "source": [
    "These null values due to two reasons\n",
    "\n",
    "- Not all tweet_id values present in the tweet_id column of the df dataframe are found in the tweet_id columns of the other two dataframes\n",
    "- Some tweets probably didn't contain images hence the null jpg_url entries"
   ]
  },
  {
   "cell_type": "markdown",
   "id": "83f97f13",
   "metadata": {},
   "source": [
    "Hence for those instances which are just detected I shall replace the null values in the `string` columns  with `No Image`\n",
    "and the null values in the `numerical` columns with `0` to avoid errors with the datatype and the `boolean` columns with `False`"
   ]
  },
  {
   "cell_type": "markdown",
   "id": "17aea4cb",
   "metadata": {},
   "source": [
    "We'll also notice that the `text` column is duplicated as `tweet_text` (**tidiness issue**), hence we'll remove the `tweet_text` column  "
   ]
  },
  {
   "cell_type": "markdown",
   "id": "b2543083",
   "metadata": {},
   "source": [
    "#### Missing data in some columns after merging the original three dataframes"
   ]
  },
  {
   "cell_type": "markdown",
   "id": "d9f3269f",
   "metadata": {},
   "source": [
    "#### Define"
   ]
  },
  {
   "cell_type": "markdown",
   "id": "4639ec3d",
   "metadata": {},
   "source": [
    "- Replace missing values in `string` columns with `No Image`\n",
    "- Replace missing values in `numerical` columns with `0`\n",
    "- Replace missing values in `boolean` columns with False"
   ]
  },
  {
   "cell_type": "markdown",
   "id": "6cb9335b",
   "metadata": {},
   "source": [
    "#### Code"
   ]
  },
  {
   "cell_type": "code",
   "execution_count": 49,
   "id": "fa13a358",
   "metadata": {},
   "outputs": [],
   "source": [
    "str_columns = ['jpg_url', 'p1', 'p2', 'p3']\n",
    "num_columns = ['img_num', 'p1_conf', 'p2_conf', 'p3_conf', 'retweet_count', 'favorite_count']\n",
    "bool_columns = ['p1_dog', 'p2_dog', 'p3_dog', 'truncated', 'retweeted']"
   ]
  },
  {
   "cell_type": "code",
   "execution_count": 50,
   "id": "30a998cb",
   "metadata": {},
   "outputs": [],
   "source": [
    "merged_df[str_columns] = merged_df[str_columns].fillna('No Image')\n",
    "merged_df[num_columns] = merged_df[num_columns].fillna(0)\n",
    "merged_df[bool_columns] = merged_df[bool_columns].fillna(False)"
   ]
  },
  {
   "cell_type": "markdown",
   "id": "dba24840",
   "metadata": {},
   "source": [
    "#### Test"
   ]
  },
  {
   "cell_type": "code",
   "execution_count": 52,
   "id": "aa0fc4d9",
   "metadata": {},
   "outputs": [
    {
     "data": {
      "text/plain": [
       "tweet_id              0\n",
       "timestamp             0\n",
       "source                0\n",
       "text                  0\n",
       "rating_numerator      0\n",
       "rating_denominator    0\n",
       "name                  0\n",
       "doggo                 0\n",
       "floofer               0\n",
       "pupper                0\n",
       "puppo                 0\n",
       "jpg_url               0\n",
       "img_num               0\n",
       "p1                    0\n",
       "p1_conf               0\n",
       "p1_dog                0\n",
       "p2                    0\n",
       "p2_conf               0\n",
       "p2_dog                0\n",
       "p3                    0\n",
       "p3_conf               0\n",
       "p3_dog                0\n",
       "retweet_count         0\n",
       "favorite_count        0\n",
       "tweet_text            2\n",
       "truncated             0\n",
       "retweeted             0\n",
       "dtype: int64"
      ]
     },
     "execution_count": 52,
     "metadata": {},
     "output_type": "execute_result"
    }
   ],
   "source": [
    "# There shouldn't be any missing value in the dataframe except for the tweet_text column\n",
    "\n",
    "merged_df.isnull().sum()"
   ]
  },
  {
   "cell_type": "markdown",
   "id": "9b00cc8d",
   "metadata": {},
   "source": [
    "### Tidiness Issues"
   ]
  },
  {
   "cell_type": "markdown",
   "id": "78868524",
   "metadata": {},
   "source": [
    "3. The text column is duplicated as `tweet_text`"
   ]
  },
  {
   "cell_type": "markdown",
   "id": "3c3878b7",
   "metadata": {},
   "source": [
    "#### The text column is duplicated as `tweet_text`"
   ]
  },
  {
   "cell_type": "markdown",
   "id": "e769ce7f",
   "metadata": {},
   "source": [
    "#### Define"
   ]
  },
  {
   "cell_type": "markdown",
   "id": "f33ca451",
   "metadata": {},
   "source": [
    "Drop the `tweet_text` column"
   ]
  },
  {
   "cell_type": "markdown",
   "id": "a85bdec6",
   "metadata": {},
   "source": [
    "#### Code"
   ]
  },
  {
   "cell_type": "code",
   "execution_count": 53,
   "id": "4f6f62e7",
   "metadata": {},
   "outputs": [],
   "source": [
    "merged_df.drop('tweet_text', axis=1, inplace=True)"
   ]
  },
  {
   "cell_type": "markdown",
   "id": "4237310f",
   "metadata": {},
   "source": [
    "#### Test"
   ]
  },
  {
   "cell_type": "code",
   "execution_count": 199,
   "id": "5faa351a",
   "metadata": {},
   "outputs": [
    {
     "data": {
      "text/plain": [
       "False"
      ]
     },
     "execution_count": 199,
     "metadata": {},
     "output_type": "execute_result"
    }
   ],
   "source": [
    "# tweet_text shouldn't be in merged_df columns anymore\n",
    "\n",
    "'tweet_text' in merged_df.columns"
   ]
  },
  {
   "cell_type": "markdown",
   "id": "2f6e215d",
   "metadata": {},
   "source": [
    "#### Dog stages are spread across different columns"
   ]
  },
  {
   "cell_type": "markdown",
   "id": "c010b2b0",
   "metadata": {},
   "source": [
    "#### Define "
   ]
  },
  {
   "cell_type": "markdown",
   "id": "c67eaa1e",
   "metadata": {},
   "source": [
    "- Combine the columns `doggo`, `floofer`, `pupper` and `puppo` into one column named `dog stages` using the `pd.melt()` function"
   ]
  },
  {
   "cell_type": "markdown",
   "id": "66d38861",
   "metadata": {},
   "source": [
    "#### Code"
   ]
  },
  {
   "cell_type": "code",
   "execution_count": 54,
   "id": "9c3c26c7",
   "metadata": {},
   "outputs": [],
   "source": [
    "dog_stages = ['doggo', 'floofer', 'pupper', 'puppo']"
   ]
  },
  {
   "cell_type": "code",
   "execution_count": 55,
   "id": "aa73b411",
   "metadata": {},
   "outputs": [],
   "source": [
    "id_vars = list(set(merged_df.columns).difference(dog_stages))"
   ]
  },
  {
   "cell_type": "code",
   "execution_count": 56,
   "id": "0919c6f6",
   "metadata": {},
   "outputs": [],
   "source": [
    "tidy_merged_df = pd.melt(merged_df, id_vars=id_vars, var_name='dog_stages', value_name='value')"
   ]
  },
  {
   "cell_type": "code",
   "execution_count": 57,
   "id": "0817688d",
   "metadata": {},
   "outputs": [
    {
     "data": {
      "text/html": [
       "<div>\n",
       "<style scoped>\n",
       "    .dataframe tbody tr th:only-of-type {\n",
       "        vertical-align: middle;\n",
       "    }\n",
       "\n",
       "    .dataframe tbody tr th {\n",
       "        vertical-align: top;\n",
       "    }\n",
       "\n",
       "    .dataframe thead th {\n",
       "        text-align: right;\n",
       "    }\n",
       "</style>\n",
       "<table border=\"1\" class=\"dataframe\">\n",
       "  <thead>\n",
       "    <tr style=\"text-align: right;\">\n",
       "      <th></th>\n",
       "      <th>favorite_count</th>\n",
       "      <th>p1_dog</th>\n",
       "      <th>rating_numerator</th>\n",
       "      <th>p2_dog</th>\n",
       "      <th>p2</th>\n",
       "      <th>truncated</th>\n",
       "      <th>p3_dog</th>\n",
       "      <th>retweet_count</th>\n",
       "      <th>img_num</th>\n",
       "      <th>retweeted</th>\n",
       "      <th>...</th>\n",
       "      <th>text</th>\n",
       "      <th>rating_denominator</th>\n",
       "      <th>p2_conf</th>\n",
       "      <th>p3</th>\n",
       "      <th>source</th>\n",
       "      <th>jpg_url</th>\n",
       "      <th>tweet_id</th>\n",
       "      <th>timestamp</th>\n",
       "      <th>dog_stages</th>\n",
       "      <th>value</th>\n",
       "    </tr>\n",
       "  </thead>\n",
       "  <tbody>\n",
       "    <tr>\n",
       "      <th>0</th>\n",
       "      <td>39467.0</td>\n",
       "      <td>False</td>\n",
       "      <td>13</td>\n",
       "      <td>False</td>\n",
       "      <td>bagel</td>\n",
       "      <td>False</td>\n",
       "      <td>False</td>\n",
       "      <td>8853.0</td>\n",
       "      <td>1.0</td>\n",
       "      <td>False</td>\n",
       "      <td>...</td>\n",
       "      <td>This is Phineas. He's a mystical boy. Only eve...</td>\n",
       "      <td>10</td>\n",
       "      <td>0.085851</td>\n",
       "      <td>banana</td>\n",
       "      <td>&lt;a href=\"http://twitter.com/download/iphone\" r...</td>\n",
       "      <td>https://pbs.twimg.com/media/DGKD1-bXoAAIAUK.jpg</td>\n",
       "      <td>892420643555336193</td>\n",
       "      <td>2017-08-01 16:23:56 +0000</td>\n",
       "      <td>doggo</td>\n",
       "      <td>None</td>\n",
       "    </tr>\n",
       "    <tr>\n",
       "      <th>1</th>\n",
       "      <td>33819.0</td>\n",
       "      <td>True</td>\n",
       "      <td>13</td>\n",
       "      <td>True</td>\n",
       "      <td>Pekinese</td>\n",
       "      <td>False</td>\n",
       "      <td>True</td>\n",
       "      <td>6514.0</td>\n",
       "      <td>1.0</td>\n",
       "      <td>False</td>\n",
       "      <td>...</td>\n",
       "      <td>This is Tilly. She's just checking pup on you....</td>\n",
       "      <td>10</td>\n",
       "      <td>0.090647</td>\n",
       "      <td>papillon</td>\n",
       "      <td>&lt;a href=\"http://twitter.com/download/iphone\" r...</td>\n",
       "      <td>https://pbs.twimg.com/media/DGGmoV4XsAAUL6n.jpg</td>\n",
       "      <td>892177421306343426</td>\n",
       "      <td>2017-08-01 00:17:27 +0000</td>\n",
       "      <td>doggo</td>\n",
       "      <td>None</td>\n",
       "    </tr>\n",
       "    <tr>\n",
       "      <th>2</th>\n",
       "      <td>25461.0</td>\n",
       "      <td>True</td>\n",
       "      <td>12</td>\n",
       "      <td>True</td>\n",
       "      <td>malamute</td>\n",
       "      <td>False</td>\n",
       "      <td>True</td>\n",
       "      <td>4328.0</td>\n",
       "      <td>1.0</td>\n",
       "      <td>False</td>\n",
       "      <td>...</td>\n",
       "      <td>This is Archie. He is a rare Norwegian Pouncin...</td>\n",
       "      <td>10</td>\n",
       "      <td>0.078253</td>\n",
       "      <td>kelpie</td>\n",
       "      <td>&lt;a href=\"http://twitter.com/download/iphone\" r...</td>\n",
       "      <td>https://pbs.twimg.com/media/DGBdLU1WsAANxJ9.jpg</td>\n",
       "      <td>891815181378084864</td>\n",
       "      <td>2017-07-31 00:18:03 +0000</td>\n",
       "      <td>doggo</td>\n",
       "      <td>None</td>\n",
       "    </tr>\n",
       "    <tr>\n",
       "      <th>3</th>\n",
       "      <td>42908.0</td>\n",
       "      <td>False</td>\n",
       "      <td>13</td>\n",
       "      <td>True</td>\n",
       "      <td>Labrador_retriever</td>\n",
       "      <td>False</td>\n",
       "      <td>False</td>\n",
       "      <td>8964.0</td>\n",
       "      <td>1.0</td>\n",
       "      <td>False</td>\n",
       "      <td>...</td>\n",
       "      <td>This is Darla. She commenced a snooze mid meal...</td>\n",
       "      <td>10</td>\n",
       "      <td>0.168086</td>\n",
       "      <td>spatula</td>\n",
       "      <td>&lt;a href=\"http://twitter.com/download/iphone\" r...</td>\n",
       "      <td>https://pbs.twimg.com/media/DF_q7IAWsAEuuN8.jpg</td>\n",
       "      <td>891689557279858688</td>\n",
       "      <td>2017-07-30 15:58:51 +0000</td>\n",
       "      <td>doggo</td>\n",
       "      <td>None</td>\n",
       "    </tr>\n",
       "    <tr>\n",
       "      <th>4</th>\n",
       "      <td>41048.0</td>\n",
       "      <td>True</td>\n",
       "      <td>12</td>\n",
       "      <td>True</td>\n",
       "      <td>English_springer</td>\n",
       "      <td>False</td>\n",
       "      <td>True</td>\n",
       "      <td>9774.0</td>\n",
       "      <td>2.0</td>\n",
       "      <td>False</td>\n",
       "      <td>...</td>\n",
       "      <td>This is Franklin. He would like you to stop ca...</td>\n",
       "      <td>10</td>\n",
       "      <td>0.225770</td>\n",
       "      <td>German_short-haired_pointer</td>\n",
       "      <td>&lt;a href=\"http://twitter.com/download/iphone\" r...</td>\n",
       "      <td>https://pbs.twimg.com/media/DF6hr6BUMAAzZgT.jpg</td>\n",
       "      <td>891327558926688256</td>\n",
       "      <td>2017-07-29 16:00:24 +0000</td>\n",
       "      <td>doggo</td>\n",
       "      <td>None</td>\n",
       "    </tr>\n",
       "  </tbody>\n",
       "</table>\n",
       "<p>5 rows × 24 columns</p>\n",
       "</div>"
      ],
      "text/plain": [
       "   favorite_count  p1_dog  rating_numerator  p2_dog                  p2  \\\n",
       "0         39467.0   False                13   False               bagel   \n",
       "1         33819.0    True                13    True            Pekinese   \n",
       "2         25461.0    True                12    True            malamute   \n",
       "3         42908.0   False                13    True  Labrador_retriever   \n",
       "4         41048.0    True                12    True    English_springer   \n",
       "\n",
       "   truncated  p3_dog  retweet_count  img_num  retweeted  ...  \\\n",
       "0      False   False         8853.0      1.0      False  ...   \n",
       "1      False    True         6514.0      1.0      False  ...   \n",
       "2      False    True         4328.0      1.0      False  ...   \n",
       "3      False   False         8964.0      1.0      False  ...   \n",
       "4      False    True         9774.0      2.0      False  ...   \n",
       "\n",
       "                                                text rating_denominator  \\\n",
       "0  This is Phineas. He's a mystical boy. Only eve...                 10   \n",
       "1  This is Tilly. She's just checking pup on you....                 10   \n",
       "2  This is Archie. He is a rare Norwegian Pouncin...                 10   \n",
       "3  This is Darla. She commenced a snooze mid meal...                 10   \n",
       "4  This is Franklin. He would like you to stop ca...                 10   \n",
       "\n",
       "    p2_conf                           p3  \\\n",
       "0  0.085851                       banana   \n",
       "1  0.090647                     papillon   \n",
       "2  0.078253                       kelpie   \n",
       "3  0.168086                      spatula   \n",
       "4  0.225770  German_short-haired_pointer   \n",
       "\n",
       "                                              source  \\\n",
       "0  <a href=\"http://twitter.com/download/iphone\" r...   \n",
       "1  <a href=\"http://twitter.com/download/iphone\" r...   \n",
       "2  <a href=\"http://twitter.com/download/iphone\" r...   \n",
       "3  <a href=\"http://twitter.com/download/iphone\" r...   \n",
       "4  <a href=\"http://twitter.com/download/iphone\" r...   \n",
       "\n",
       "                                           jpg_url            tweet_id  \\\n",
       "0  https://pbs.twimg.com/media/DGKD1-bXoAAIAUK.jpg  892420643555336193   \n",
       "1  https://pbs.twimg.com/media/DGGmoV4XsAAUL6n.jpg  892177421306343426   \n",
       "2  https://pbs.twimg.com/media/DGBdLU1WsAANxJ9.jpg  891815181378084864   \n",
       "3  https://pbs.twimg.com/media/DF_q7IAWsAEuuN8.jpg  891689557279858688   \n",
       "4  https://pbs.twimg.com/media/DF6hr6BUMAAzZgT.jpg  891327558926688256   \n",
       "\n",
       "                   timestamp dog_stages value  \n",
       "0  2017-08-01 16:23:56 +0000      doggo  None  \n",
       "1  2017-08-01 00:17:27 +0000      doggo  None  \n",
       "2  2017-07-31 00:18:03 +0000      doggo  None  \n",
       "3  2017-07-30 15:58:51 +0000      doggo  None  \n",
       "4  2017-07-29 16:00:24 +0000      doggo  None  \n",
       "\n",
       "[5 rows x 24 columns]"
      ]
     },
     "execution_count": 57,
     "metadata": {},
     "output_type": "execute_result"
    }
   ],
   "source": [
    "tidy_merged_df.head()"
   ]
  },
  {
   "cell_type": "code",
   "execution_count": 58,
   "id": "958c3f2b",
   "metadata": {},
   "outputs": [],
   "source": [
    "tidy_merged_df['value'] = tidy_merged_df['value'].replace('None', 'ZZ')"
   ]
  },
  {
   "cell_type": "code",
   "execution_count": 59,
   "id": "15efdd63",
   "metadata": {},
   "outputs": [
    {
     "data": {
      "text/html": [
       "<div>\n",
       "<style scoped>\n",
       "    .dataframe tbody tr th:only-of-type {\n",
       "        vertical-align: middle;\n",
       "    }\n",
       "\n",
       "    .dataframe tbody tr th {\n",
       "        vertical-align: top;\n",
       "    }\n",
       "\n",
       "    .dataframe thead th {\n",
       "        text-align: right;\n",
       "    }\n",
       "</style>\n",
       "<table border=\"1\" class=\"dataframe\">\n",
       "  <thead>\n",
       "    <tr style=\"text-align: right;\">\n",
       "      <th></th>\n",
       "      <th>favorite_count</th>\n",
       "      <th>p1_dog</th>\n",
       "      <th>rating_numerator</th>\n",
       "      <th>p2_dog</th>\n",
       "      <th>p2</th>\n",
       "      <th>truncated</th>\n",
       "      <th>p3_dog</th>\n",
       "      <th>retweet_count</th>\n",
       "      <th>img_num</th>\n",
       "      <th>retweeted</th>\n",
       "      <th>...</th>\n",
       "      <th>text</th>\n",
       "      <th>rating_denominator</th>\n",
       "      <th>p2_conf</th>\n",
       "      <th>p3</th>\n",
       "      <th>source</th>\n",
       "      <th>jpg_url</th>\n",
       "      <th>tweet_id</th>\n",
       "      <th>timestamp</th>\n",
       "      <th>dog_stages</th>\n",
       "      <th>value</th>\n",
       "    </tr>\n",
       "  </thead>\n",
       "  <tbody>\n",
       "    <tr>\n",
       "      <th>9</th>\n",
       "      <td>32467.0</td>\n",
       "      <td>True</td>\n",
       "      <td>14</td>\n",
       "      <td>True</td>\n",
       "      <td>Cardigan</td>\n",
       "      <td>False</td>\n",
       "      <td>True</td>\n",
       "      <td>7711.0</td>\n",
       "      <td>1.0</td>\n",
       "      <td>False</td>\n",
       "      <td>...</td>\n",
       "      <td>This is Cassie. She is a college pup. Studying...</td>\n",
       "      <td>10</td>\n",
       "      <td>0.451038</td>\n",
       "      <td>Chihuahua</td>\n",
       "      <td>&lt;a href=\"http://twitter.com/download/iphone\" r...</td>\n",
       "      <td>https://pbs.twimg.com/media/DFrEyVuW0AAO3t9.jpg</td>\n",
       "      <td>890240255349198849</td>\n",
       "      <td>2017-07-26 15:59:51 +0000</td>\n",
       "      <td>doggo</td>\n",
       "      <td>doggo</td>\n",
       "    </tr>\n",
       "    <tr>\n",
       "      <th>43</th>\n",
       "      <td>20771.0</td>\n",
       "      <td>True</td>\n",
       "      <td>12</td>\n",
       "      <td>True</td>\n",
       "      <td>malinois</td>\n",
       "      <td>False</td>\n",
       "      <td>True</td>\n",
       "      <td>3128.0</td>\n",
       "      <td>1.0</td>\n",
       "      <td>False</td>\n",
       "      <td>...</td>\n",
       "      <td>Meet Yogi. He doesn't have any important dog m...</td>\n",
       "      <td>10</td>\n",
       "      <td>0.199396</td>\n",
       "      <td>Norwegian_elkhound</td>\n",
       "      <td>&lt;a href=\"http://twitter.com/download/iphone\" r...</td>\n",
       "      <td>https://pbs.twimg.com/media/DEUtQbzW0AUTv_o.jpg</td>\n",
       "      <td>884162670584377345</td>\n",
       "      <td>2017-07-09 21:29:42 +0000</td>\n",
       "      <td>doggo</td>\n",
       "      <td>doggo</td>\n",
       "    </tr>\n",
       "    <tr>\n",
       "      <th>99</th>\n",
       "      <td>28031.0</td>\n",
       "      <td>True</td>\n",
       "      <td>12</td>\n",
       "      <td>True</td>\n",
       "      <td>Chesapeake_Bay_retriever</td>\n",
       "      <td>False</td>\n",
       "      <td>True</td>\n",
       "      <td>5669.0</td>\n",
       "      <td>2.0</td>\n",
       "      <td>False</td>\n",
       "      <td>...</td>\n",
       "      <td>Here's a very large dog. He has a date later. ...</td>\n",
       "      <td>10</td>\n",
       "      <td>0.174145</td>\n",
       "      <td>German_short-haired_pointer</td>\n",
       "      <td>&lt;a href=\"http://twitter.com/download/iphone\" r...</td>\n",
       "      <td>https://pbs.twimg.com/media/DB1m871XUAAw5vZ.jpg</td>\n",
       "      <td>872967104147763200</td>\n",
       "      <td>2017-06-09 00:02:31 +0000</td>\n",
       "      <td>doggo</td>\n",
       "      <td>doggo</td>\n",
       "    </tr>\n",
       "    <tr>\n",
       "      <th>108</th>\n",
       "      <td>20730.0</td>\n",
       "      <td>True</td>\n",
       "      <td>12</td>\n",
       "      <td>True</td>\n",
       "      <td>briard</td>\n",
       "      <td>False</td>\n",
       "      <td>False</td>\n",
       "      <td>3628.0</td>\n",
       "      <td>2.0</td>\n",
       "      <td>False</td>\n",
       "      <td>...</td>\n",
       "      <td>This is Napolean. He's a Raggedy East Nicaragu...</td>\n",
       "      <td>10</td>\n",
       "      <td>0.020041</td>\n",
       "      <td>swab</td>\n",
       "      <td>&lt;a href=\"http://twitter.com/download/iphone\" r...</td>\n",
       "      <td>https://pbs.twimg.com/media/DBg_HT9WAAEeIMM.jpg</td>\n",
       "      <td>871515927908634625</td>\n",
       "      <td>2017-06-04 23:56:03 +0000</td>\n",
       "      <td>doggo</td>\n",
       "      <td>doggo</td>\n",
       "    </tr>\n",
       "    <tr>\n",
       "      <th>110</th>\n",
       "      <td>21461.0</td>\n",
       "      <td>False</td>\n",
       "      <td>14</td>\n",
       "      <td>False</td>\n",
       "      <td>No Image</td>\n",
       "      <td>False</td>\n",
       "      <td>False</td>\n",
       "      <td>5764.0</td>\n",
       "      <td>0.0</td>\n",
       "      <td>False</td>\n",
       "      <td>...</td>\n",
       "      <td>Never doubt a doggo 14/10 https://t.co/AbBLh2FZCH</td>\n",
       "      <td>10</td>\n",
       "      <td>0.000000</td>\n",
       "      <td>No Image</td>\n",
       "      <td>&lt;a href=\"http://twitter.com/download/iphone\" r...</td>\n",
       "      <td>No Image</td>\n",
       "      <td>871102520638267392</td>\n",
       "      <td>2017-06-03 20:33:19 +0000</td>\n",
       "      <td>doggo</td>\n",
       "      <td>doggo</td>\n",
       "    </tr>\n",
       "    <tr>\n",
       "      <th>...</th>\n",
       "      <td>...</td>\n",
       "      <td>...</td>\n",
       "      <td>...</td>\n",
       "      <td>...</td>\n",
       "      <td>...</td>\n",
       "      <td>...</td>\n",
       "      <td>...</td>\n",
       "      <td>...</td>\n",
       "      <td>...</td>\n",
       "      <td>...</td>\n",
       "      <td>...</td>\n",
       "      <td>...</td>\n",
       "      <td>...</td>\n",
       "      <td>...</td>\n",
       "      <td>...</td>\n",
       "      <td>...</td>\n",
       "      <td>...</td>\n",
       "      <td>...</td>\n",
       "      <td>...</td>\n",
       "      <td>...</td>\n",
       "      <td>...</td>\n",
       "    </tr>\n",
       "    <tr>\n",
       "      <th>8015</th>\n",
       "      <td>8157.0</td>\n",
       "      <td>False</td>\n",
       "      <td>11</td>\n",
       "      <td>True</td>\n",
       "      <td>Labrador_retriever</td>\n",
       "      <td>False</td>\n",
       "      <td>True</td>\n",
       "      <td>3917.0</td>\n",
       "      <td>3.0</td>\n",
       "      <td>False</td>\n",
       "      <td>...</td>\n",
       "      <td>Hopefully this puppo on a swing will help get ...</td>\n",
       "      <td>10</td>\n",
       "      <td>0.000010</td>\n",
       "      <td>Eskimo_dog</td>\n",
       "      <td>&lt;a href=\"http://twitter.com/download/iphone\" r...</td>\n",
       "      <td>https://pbs.twimg.com/media/CnF8qVDWYAAh0g1.jpg</td>\n",
       "      <td>752519690950500352</td>\n",
       "      <td>2016-07-11 15:07:30 +0000</td>\n",
       "      <td>puppo</td>\n",
       "      <td>puppo</td>\n",
       "    </tr>\n",
       "    <tr>\n",
       "      <th>8029</th>\n",
       "      <td>5610.0</td>\n",
       "      <td>True</td>\n",
       "      <td>10</td>\n",
       "      <td>True</td>\n",
       "      <td>Chesapeake_Bay_retriever</td>\n",
       "      <td>False</td>\n",
       "      <td>True</td>\n",
       "      <td>1480.0</td>\n",
       "      <td>1.0</td>\n",
       "      <td>False</td>\n",
       "      <td>...</td>\n",
       "      <td>This is Cooper. He's just so damn happy. 10/10...</td>\n",
       "      <td>10</td>\n",
       "      <td>0.038254</td>\n",
       "      <td>golden_retriever</td>\n",
       "      <td>&lt;a href=\"http://twitter.com/download/iphone\" r...</td>\n",
       "      <td>https://pbs.twimg.com/media/CmyPXNOW8AEtaJ-.jpg</td>\n",
       "      <td>751132876104687617</td>\n",
       "      <td>2016-07-07 19:16:47 +0000</td>\n",
       "      <td>puppo</td>\n",
       "      <td>puppo</td>\n",
       "    </tr>\n",
       "    <tr>\n",
       "      <th>8103</th>\n",
       "      <td>3277.0</td>\n",
       "      <td>True</td>\n",
       "      <td>9</td>\n",
       "      <td>True</td>\n",
       "      <td>Shih-Tzu</td>\n",
       "      <td>False</td>\n",
       "      <td>True</td>\n",
       "      <td>716.0</td>\n",
       "      <td>1.0</td>\n",
       "      <td>False</td>\n",
       "      <td>...</td>\n",
       "      <td>This is Abby. She got her face stuck in a glas...</td>\n",
       "      <td>10</td>\n",
       "      <td>0.146336</td>\n",
       "      <td>Tibetan_terrier</td>\n",
       "      <td>&lt;a href=\"http://twitter.com/download/iphone\" r...</td>\n",
       "      <td>https://pbs.twimg.com/media/ClbBg4WWEAMjwJu.jpg</td>\n",
       "      <td>744995568523612160</td>\n",
       "      <td>2016-06-20 20:49:19 +0000</td>\n",
       "      <td>puppo</td>\n",
       "      <td>puppo</td>\n",
       "    </tr>\n",
       "    <tr>\n",
       "      <th>8116</th>\n",
       "      <td>4624.0</td>\n",
       "      <td>True</td>\n",
       "      <td>10</td>\n",
       "      <td>True</td>\n",
       "      <td>Siberian_husky</td>\n",
       "      <td>False</td>\n",
       "      <td>True</td>\n",
       "      <td>1366.0</td>\n",
       "      <td>1.0</td>\n",
       "      <td>False</td>\n",
       "      <td>...</td>\n",
       "      <td>This is Kilo. He cannot reach the snackum. Nif...</td>\n",
       "      <td>10</td>\n",
       "      <td>0.368137</td>\n",
       "      <td>Eskimo_dog</td>\n",
       "      <td>&lt;a href=\"http://twitter.com/download/iphone\" r...</td>\n",
       "      <td>https://pbs.twimg.com/media/ClCQzFUUYAA5vAu.jpg</td>\n",
       "      <td>743253157753532416</td>\n",
       "      <td>2016-06-16 01:25:36 +0000</td>\n",
       "      <td>puppo</td>\n",
       "      <td>puppo</td>\n",
       "    </tr>\n",
       "    <tr>\n",
       "      <th>8151</th>\n",
       "      <td>5575.0</td>\n",
       "      <td>True</td>\n",
       "      <td>11</td>\n",
       "      <td>False</td>\n",
       "      <td>gibbon</td>\n",
       "      <td>False</td>\n",
       "      <td>True</td>\n",
       "      <td>1759.0</td>\n",
       "      <td>1.0</td>\n",
       "      <td>False</td>\n",
       "      <td>...</td>\n",
       "      <td>This is Bayley. She fell asleep trying to esca...</td>\n",
       "      <td>10</td>\n",
       "      <td>0.028942</td>\n",
       "      <td>Pembroke</td>\n",
       "      <td>&lt;a href=\"http://twitter.com/download/iphone\" r...</td>\n",
       "      <td>https://pbs.twimg.com/media/Cj_P7rSUgAAYQbz.jpg</td>\n",
       "      <td>738537504001953792</td>\n",
       "      <td>2016-06-03 01:07:16 +0000</td>\n",
       "      <td>puppo</td>\n",
       "      <td>puppo</td>\n",
       "    </tr>\n",
       "  </tbody>\n",
       "</table>\n",
       "<p>394 rows × 24 columns</p>\n",
       "</div>"
      ],
      "text/plain": [
       "      favorite_count  p1_dog  rating_numerator  p2_dog  \\\n",
       "9            32467.0    True                14    True   \n",
       "43           20771.0    True                12    True   \n",
       "99           28031.0    True                12    True   \n",
       "108          20730.0    True                12    True   \n",
       "110          21461.0   False                14   False   \n",
       "...              ...     ...               ...     ...   \n",
       "8015          8157.0   False                11    True   \n",
       "8029          5610.0    True                10    True   \n",
       "8103          3277.0    True                 9    True   \n",
       "8116          4624.0    True                10    True   \n",
       "8151          5575.0    True                11   False   \n",
       "\n",
       "                            p2  truncated  p3_dog  retweet_count  img_num  \\\n",
       "9                     Cardigan      False    True         7711.0      1.0   \n",
       "43                    malinois      False    True         3128.0      1.0   \n",
       "99    Chesapeake_Bay_retriever      False    True         5669.0      2.0   \n",
       "108                     briard      False   False         3628.0      2.0   \n",
       "110                   No Image      False   False         5764.0      0.0   \n",
       "...                        ...        ...     ...            ...      ...   \n",
       "8015        Labrador_retriever      False    True         3917.0      3.0   \n",
       "8029  Chesapeake_Bay_retriever      False    True         1480.0      1.0   \n",
       "8103                  Shih-Tzu      False    True          716.0      1.0   \n",
       "8116            Siberian_husky      False    True         1366.0      1.0   \n",
       "8151                    gibbon      False    True         1759.0      1.0   \n",
       "\n",
       "      retweeted  ...                                               text  \\\n",
       "9         False  ...  This is Cassie. She is a college pup. Studying...   \n",
       "43        False  ...  Meet Yogi. He doesn't have any important dog m...   \n",
       "99        False  ...  Here's a very large dog. He has a date later. ...   \n",
       "108       False  ...  This is Napolean. He's a Raggedy East Nicaragu...   \n",
       "110       False  ...  Never doubt a doggo 14/10 https://t.co/AbBLh2FZCH   \n",
       "...         ...  ...                                                ...   \n",
       "8015      False  ...  Hopefully this puppo on a swing will help get ...   \n",
       "8029      False  ...  This is Cooper. He's just so damn happy. 10/10...   \n",
       "8103      False  ...  This is Abby. She got her face stuck in a glas...   \n",
       "8116      False  ...  This is Kilo. He cannot reach the snackum. Nif...   \n",
       "8151      False  ...  This is Bayley. She fell asleep trying to esca...   \n",
       "\n",
       "     rating_denominator   p2_conf                           p3  \\\n",
       "9                    10  0.451038                    Chihuahua   \n",
       "43                   10  0.199396           Norwegian_elkhound   \n",
       "99                   10  0.174145  German_short-haired_pointer   \n",
       "108                  10  0.020041                         swab   \n",
       "110                  10  0.000000                     No Image   \n",
       "...                 ...       ...                          ...   \n",
       "8015                 10  0.000010                   Eskimo_dog   \n",
       "8029                 10  0.038254             golden_retriever   \n",
       "8103                 10  0.146336              Tibetan_terrier   \n",
       "8116                 10  0.368137                   Eskimo_dog   \n",
       "8151                 10  0.028942                     Pembroke   \n",
       "\n",
       "                                                 source  \\\n",
       "9     <a href=\"http://twitter.com/download/iphone\" r...   \n",
       "43    <a href=\"http://twitter.com/download/iphone\" r...   \n",
       "99    <a href=\"http://twitter.com/download/iphone\" r...   \n",
       "108   <a href=\"http://twitter.com/download/iphone\" r...   \n",
       "110   <a href=\"http://twitter.com/download/iphone\" r...   \n",
       "...                                                 ...   \n",
       "8015  <a href=\"http://twitter.com/download/iphone\" r...   \n",
       "8029  <a href=\"http://twitter.com/download/iphone\" r...   \n",
       "8103  <a href=\"http://twitter.com/download/iphone\" r...   \n",
       "8116  <a href=\"http://twitter.com/download/iphone\" r...   \n",
       "8151  <a href=\"http://twitter.com/download/iphone\" r...   \n",
       "\n",
       "                                              jpg_url            tweet_id  \\\n",
       "9     https://pbs.twimg.com/media/DFrEyVuW0AAO3t9.jpg  890240255349198849   \n",
       "43    https://pbs.twimg.com/media/DEUtQbzW0AUTv_o.jpg  884162670584377345   \n",
       "99    https://pbs.twimg.com/media/DB1m871XUAAw5vZ.jpg  872967104147763200   \n",
       "108   https://pbs.twimg.com/media/DBg_HT9WAAEeIMM.jpg  871515927908634625   \n",
       "110                                          No Image  871102520638267392   \n",
       "...                                               ...                 ...   \n",
       "8015  https://pbs.twimg.com/media/CnF8qVDWYAAh0g1.jpg  752519690950500352   \n",
       "8029  https://pbs.twimg.com/media/CmyPXNOW8AEtaJ-.jpg  751132876104687617   \n",
       "8103  https://pbs.twimg.com/media/ClbBg4WWEAMjwJu.jpg  744995568523612160   \n",
       "8116  https://pbs.twimg.com/media/ClCQzFUUYAA5vAu.jpg  743253157753532416   \n",
       "8151  https://pbs.twimg.com/media/Cj_P7rSUgAAYQbz.jpg  738537504001953792   \n",
       "\n",
       "                      timestamp dog_stages  value  \n",
       "9     2017-07-26 15:59:51 +0000      doggo  doggo  \n",
       "43    2017-07-09 21:29:42 +0000      doggo  doggo  \n",
       "99    2017-06-09 00:02:31 +0000      doggo  doggo  \n",
       "108   2017-06-04 23:56:03 +0000      doggo  doggo  \n",
       "110   2017-06-03 20:33:19 +0000      doggo  doggo  \n",
       "...                         ...        ...    ...  \n",
       "8015  2016-07-11 15:07:30 +0000      puppo  puppo  \n",
       "8029  2016-07-07 19:16:47 +0000      puppo  puppo  \n",
       "8103  2016-06-20 20:49:19 +0000      puppo  puppo  \n",
       "8116  2016-06-16 01:25:36 +0000      puppo  puppo  \n",
       "8151  2016-06-03 01:07:16 +0000      puppo  puppo  \n",
       "\n",
       "[394 rows x 24 columns]"
      ]
     },
     "execution_count": 59,
     "metadata": {},
     "output_type": "execute_result"
    }
   ],
   "source": [
    "tidy_merged_df[tidy_merged_df['value']!='ZZ']"
   ]
  },
  {
   "cell_type": "code",
   "execution_count": 60,
   "id": "b9060c20",
   "metadata": {},
   "outputs": [],
   "source": [
    "sorted_tidy_merged_df = tidy_merged_df.sort_values(by=['tweet_id', 'value'])"
   ]
  },
  {
   "cell_type": "code",
   "execution_count": 61,
   "id": "fccd238e",
   "metadata": {},
   "outputs": [],
   "source": [
    "sorted_tidy_merged_df.drop_duplicates(subset='tweet_id', keep='last', inplace=True)"
   ]
  },
  {
   "cell_type": "code",
   "execution_count": 62,
   "id": "7f4a8986",
   "metadata": {},
   "outputs": [
    {
     "data": {
      "text/html": [
       "<div>\n",
       "<style scoped>\n",
       "    .dataframe tbody tr th:only-of-type {\n",
       "        vertical-align: middle;\n",
       "    }\n",
       "\n",
       "    .dataframe tbody tr th {\n",
       "        vertical-align: top;\n",
       "    }\n",
       "\n",
       "    .dataframe thead th {\n",
       "        text-align: right;\n",
       "    }\n",
       "</style>\n",
       "<table border=\"1\" class=\"dataframe\">\n",
       "  <thead>\n",
       "    <tr style=\"text-align: right;\">\n",
       "      <th></th>\n",
       "      <th>favorite_count</th>\n",
       "      <th>p1_dog</th>\n",
       "      <th>rating_numerator</th>\n",
       "      <th>p2_dog</th>\n",
       "      <th>p2</th>\n",
       "      <th>truncated</th>\n",
       "      <th>p3_dog</th>\n",
       "      <th>retweet_count</th>\n",
       "      <th>img_num</th>\n",
       "      <th>retweeted</th>\n",
       "      <th>...</th>\n",
       "      <th>text</th>\n",
       "      <th>rating_denominator</th>\n",
       "      <th>p2_conf</th>\n",
       "      <th>p3</th>\n",
       "      <th>source</th>\n",
       "      <th>jpg_url</th>\n",
       "      <th>tweet_id</th>\n",
       "      <th>timestamp</th>\n",
       "      <th>dog_stages</th>\n",
       "      <th>value</th>\n",
       "    </tr>\n",
       "  </thead>\n",
       "  <tbody>\n",
       "    <tr>\n",
       "      <th>9</th>\n",
       "      <td>32467.0</td>\n",
       "      <td>True</td>\n",
       "      <td>14</td>\n",
       "      <td>True</td>\n",
       "      <td>Cardigan</td>\n",
       "      <td>False</td>\n",
       "      <td>True</td>\n",
       "      <td>7711.0</td>\n",
       "      <td>1.0</td>\n",
       "      <td>False</td>\n",
       "      <td>...</td>\n",
       "      <td>This is Cassie. She is a college pup. Studying...</td>\n",
       "      <td>10</td>\n",
       "      <td>0.451038</td>\n",
       "      <td>Chihuahua</td>\n",
       "      <td>&lt;a href=\"http://twitter.com/download/iphone\" r...</td>\n",
       "      <td>https://pbs.twimg.com/media/DFrEyVuW0AAO3t9.jpg</td>\n",
       "      <td>890240255349198849</td>\n",
       "      <td>2017-07-26 15:59:51 +0000</td>\n",
       "      <td>doggo</td>\n",
       "      <td>doggo</td>\n",
       "    </tr>\n",
       "  </tbody>\n",
       "</table>\n",
       "<p>1 rows × 24 columns</p>\n",
       "</div>"
      ],
      "text/plain": [
       "   favorite_count  p1_dog  rating_numerator  p2_dog        p2  truncated  \\\n",
       "9         32467.0    True                14    True  Cardigan      False   \n",
       "\n",
       "   p3_dog  retweet_count  img_num  retweeted  ...  \\\n",
       "9    True         7711.0      1.0      False  ...   \n",
       "\n",
       "                                                text rating_denominator  \\\n",
       "9  This is Cassie. She is a college pup. Studying...                 10   \n",
       "\n",
       "    p2_conf         p3                                             source  \\\n",
       "9  0.451038  Chihuahua  <a href=\"http://twitter.com/download/iphone\" r...   \n",
       "\n",
       "                                           jpg_url            tweet_id  \\\n",
       "9  https://pbs.twimg.com/media/DFrEyVuW0AAO3t9.jpg  890240255349198849   \n",
       "\n",
       "                   timestamp dog_stages  value  \n",
       "9  2017-07-26 15:59:51 +0000      doggo  doggo  \n",
       "\n",
       "[1 rows x 24 columns]"
      ]
     },
     "execution_count": 62,
     "metadata": {},
     "output_type": "execute_result"
    }
   ],
   "source": [
    "# Testing we should only have one row per tweet_id now\n",
    "\n",
    "sorted_tidy_merged_df[sorted_tidy_merged_df['tweet_id']==890240255349198849]"
   ]
  },
  {
   "cell_type": "code",
   "execution_count": 63,
   "id": "9bad8794",
   "metadata": {},
   "outputs": [],
   "source": [
    "# There is no need for the 'dog_stages' column anyore\n",
    "\n",
    "sorted_tidy_merged_df.drop('dog_stages', axis=1, inplace=True)\n",
    "sorted_tidy_merged_df.rename(columns={'value':'dog_stages'}, inplace=True)\n",
    "sorted_tidy_merged_df['dog_stages'] = sorted_tidy_merged_df['dog_stages'].replace('ZZ', 'None')"
   ]
  },
  {
   "cell_type": "markdown",
   "id": "3dda548e",
   "metadata": {},
   "source": [
    "#### Test"
   ]
  },
  {
   "cell_type": "code",
   "execution_count": 64,
   "id": "fd2954a0",
   "metadata": {},
   "outputs": [
    {
     "data": {
      "text/plain": [
       "Index(['favorite_count', 'p1_dog', 'rating_numerator', 'p2_dog', 'p2',\n",
       "       'truncated', 'p3_dog', 'retweet_count', 'img_num', 'retweeted',\n",
       "       'p1_conf', 'p1', 'p3_conf', 'name', 'text', 'rating_denominator',\n",
       "       'p2_conf', 'p3', 'source', 'jpg_url', 'tweet_id', 'timestamp',\n",
       "       'dog_stages'],\n",
       "      dtype='object')"
      ]
     },
     "execution_count": 64,
     "metadata": {},
     "output_type": "execute_result"
    }
   ],
   "source": [
    "sorted_tidy_merged_df.columns"
   ]
  },
  {
   "cell_type": "code",
   "execution_count": 66,
   "id": "f1ba3cc1",
   "metadata": {},
   "outputs": [
    {
     "name": "stdout",
     "output_type": "stream",
     "text": [
      "<class 'pandas.core.frame.DataFrame'>\n",
      "Int64Index: 2356 entries, 9423 to 7068\n",
      "Data columns (total 23 columns):\n",
      " #   Column              Non-Null Count  Dtype  \n",
      "---  ------              --------------  -----  \n",
      " 0   favorite_count      2356 non-null   float64\n",
      " 1   p1_dog              2356 non-null   bool   \n",
      " 2   rating_numerator    2356 non-null   int64  \n",
      " 3   p2_dog              2356 non-null   bool   \n",
      " 4   p2                  2356 non-null   object \n",
      " 5   truncated           2356 non-null   bool   \n",
      " 6   p3_dog              2356 non-null   bool   \n",
      " 7   retweet_count       2356 non-null   float64\n",
      " 8   img_num             2356 non-null   float64\n",
      " 9   retweeted           2356 non-null   bool   \n",
      " 10  p1_conf             2356 non-null   float64\n",
      " 11  p1                  2356 non-null   object \n",
      " 12  p3_conf             2356 non-null   float64\n",
      " 13  name                2356 non-null   object \n",
      " 14  text                2356 non-null   object \n",
      " 15  rating_denominator  2356 non-null   int64  \n",
      " 16  p2_conf             2356 non-null   float64\n",
      " 17  p3                  2356 non-null   object \n",
      " 18  source              2356 non-null   object \n",
      " 19  jpg_url             2356 non-null   object \n",
      " 20  tweet_id            2356 non-null   int64  \n",
      " 21  timestamp           2356 non-null   object \n",
      " 22  dog_stages          2356 non-null   object \n",
      "dtypes: bool(5), float64(6), int64(3), object(9)\n",
      "memory usage: 361.2+ KB\n"
     ]
    }
   ],
   "source": [
    "sorted_tidy_merged_df.info()"
   ]
  },
  {
   "cell_type": "markdown",
   "id": "ebe3c33b",
   "metadata": {},
   "source": [
    "### Quality Issues"
   ]
  },
  {
   "cell_type": "markdown",
   "id": "8bcc0af1",
   "metadata": {},
   "source": [
    "From the information above we can see that some columns have incorrect datatypes. They are\n",
    "\n",
    "- The `img_num` column should be of the `int` datatype\n",
    "- The `timestamp` column should be of the `datetime` datatype\n",
    "- The `retweet_count` column should be of the `int` datatype\n",
    "- The `tweet_id` should be of the `object` datatype\n",
    "- The `favorite_count` column should be of the `int` datatype"
   ]
  },
  {
   "cell_type": "markdown",
   "id": "535295cd",
   "metadata": {},
   "source": [
    "#### Incorrect Datatype Format Issues"
   ]
  },
  {
   "cell_type": "markdown",
   "id": "33bf1200",
   "metadata": {},
   "source": [
    "#### Define"
   ]
  },
  {
   "cell_type": "markdown",
   "id": "37e51650",
   "metadata": {},
   "source": [
    "Change the `timestamp` column using `pd.datetime()`"
   ]
  },
  {
   "cell_type": "markdown",
   "id": "de7cf500",
   "metadata": {},
   "source": [
    "Change the column formats using the `astype()` method"
   ]
  },
  {
   "cell_type": "markdown",
   "id": "f8deecfd",
   "metadata": {},
   "source": [
    "#### Code"
   ]
  },
  {
   "cell_type": "code",
   "execution_count": 67,
   "id": "0f25687b",
   "metadata": {},
   "outputs": [],
   "source": [
    "sorted_tidy_merged_df['timestamp'] = pd.to_datetime(sorted_tidy_merged_df['timestamp'])"
   ]
  },
  {
   "cell_type": "code",
   "execution_count": 72,
   "id": "df6d1e16",
   "metadata": {},
   "outputs": [],
   "source": [
    "# Creating a dictionary of columns as keys and the column formats as objects\n",
    "\n",
    "new_col_format = {\n",
    "    'img_num': 'int64',\n",
    "    'retweet_count': 'int64',\n",
    "    'tweet_id': 'object',\n",
    "    'favorite_count': 'int64' \n",
    "}"
   ]
  },
  {
   "cell_type": "code",
   "execution_count": 73,
   "id": "303710b3",
   "metadata": {},
   "outputs": [],
   "source": [
    "sorted_tidy_merged_df = sorted_tidy_merged_df.astype(new_col_format)"
   ]
  },
  {
   "cell_type": "markdown",
   "id": "5b55e3ee",
   "metadata": {},
   "source": [
    "#### Test"
   ]
  },
  {
   "cell_type": "code",
   "execution_count": 75,
   "id": "431befc8",
   "metadata": {},
   "outputs": [
    {
     "name": "stdout",
     "output_type": "stream",
     "text": [
      "<class 'pandas.core.frame.DataFrame'>\n",
      "Int64Index: 2356 entries, 9423 to 7068\n",
      "Data columns (total 23 columns):\n",
      " #   Column              Non-Null Count  Dtype              \n",
      "---  ------              --------------  -----              \n",
      " 0   favorite_count      2356 non-null   int64              \n",
      " 1   p1_dog              2356 non-null   bool               \n",
      " 2   rating_numerator    2356 non-null   int64              \n",
      " 3   p2_dog              2356 non-null   bool               \n",
      " 4   p2                  2356 non-null   object             \n",
      " 5   truncated           2356 non-null   bool               \n",
      " 6   p3_dog              2356 non-null   bool               \n",
      " 7   retweet_count       2356 non-null   int64              \n",
      " 8   img_num             2356 non-null   int64              \n",
      " 9   retweeted           2356 non-null   bool               \n",
      " 10  p1_conf             2356 non-null   float64            \n",
      " 11  p1                  2356 non-null   object             \n",
      " 12  p3_conf             2356 non-null   float64            \n",
      " 13  name                2356 non-null   object             \n",
      " 14  text                2356 non-null   object             \n",
      " 15  rating_denominator  2356 non-null   int64              \n",
      " 16  p2_conf             2356 non-null   float64            \n",
      " 17  p3                  2356 non-null   object             \n",
      " 18  source              2356 non-null   object             \n",
      " 19  jpg_url             2356 non-null   object             \n",
      " 20  tweet_id            2356 non-null   object             \n",
      " 21  timestamp           2356 non-null   datetime64[ns, UTC]\n",
      " 22  dog_stages          2356 non-null   object             \n",
      "dtypes: bool(5), datetime64[ns, UTC](1), float64(3), int64(5), object(9)\n",
      "memory usage: 361.2+ KB\n"
     ]
    }
   ],
   "source": [
    "# The columns should be of correct datatypes now\n",
    "\n",
    "sorted_tidy_merged_df.info()"
   ]
  },
  {
   "cell_type": "markdown",
   "id": "1b67cfbb",
   "metadata": {},
   "source": [
    "#### Inaccurate value of name in the name column \"a\""
   ]
  },
  {
   "cell_type": "markdown",
   "id": "159c1922",
   "metadata": {},
   "source": [
    "I think the name column was extracted using a regex pattern that assumes the name come after the phrase \"This is\". The problems comes from tweets which contain text like \"This is a \", hence we are going to replace \"a\" with \"None\""
   ]
  },
  {
   "cell_type": "markdown",
   "id": "f1194e76",
   "metadata": {},
   "source": [
    "#### Define"
   ]
  },
  {
   "cell_type": "markdown",
   "id": "a2afa57c",
   "metadata": {},
   "source": [
    "- Replace inaccurate names with \"None\" in the name column"
   ]
  },
  {
   "cell_type": "markdown",
   "id": "be132f30",
   "metadata": {},
   "source": [
    "#### Code"
   ]
  },
  {
   "cell_type": "code",
   "execution_count": 86,
   "id": "d5c7e855",
   "metadata": {},
   "outputs": [],
   "source": [
    "sorted_tidy_merged_df['name'] = sorted_tidy_merged_df['name'].replace(none_names, 'None')"
   ]
  },
  {
   "cell_type": "markdown",
   "id": "9158f9af",
   "metadata": {},
   "source": [
    "#### Test"
   ]
  },
  {
   "cell_type": "code",
   "execution_count": 88,
   "id": "ddabbd10",
   "metadata": {},
   "outputs": [],
   "source": [
    "# We shouldn't have inaccurate names in the name column of the dataframe anymore\n",
    "\n",
    "unique_names_clean = list(sorted_tidy_merged_df['name'].value_counts().keys())"
   ]
  },
  {
   "cell_type": "code",
   "execution_count": 89,
   "id": "ff1215ed",
   "metadata": {},
   "outputs": [
    {
     "data": {
      "text/plain": [
       "[]"
      ]
     },
     "execution_count": 89,
     "metadata": {},
     "output_type": "execute_result"
    }
   ],
   "source": [
    "# This code should return an empty list\n",
    "\n",
    "[name for name in unique_names_clean if name in none_names]"
   ]
  },
  {
   "cell_type": "markdown",
   "id": "a618e55e",
   "metadata": {},
   "source": [
    "#### Prediction columns p1, p1 and p3 values have underscores within them and their casing is inconsistent"
   ]
  },
  {
   "cell_type": "markdown",
   "id": "d03dfe6d",
   "metadata": {},
   "source": [
    "I am going to remove the underscores and change the casing to a proper name casing"
   ]
  },
  {
   "cell_type": "markdown",
   "id": "8e7beff6",
   "metadata": {},
   "source": [
    "#### Define"
   ]
  },
  {
   "cell_type": "markdown",
   "id": "5d4e5443",
   "metadata": {},
   "source": [
    "Remove the underscores and change the casing to title case"
   ]
  },
  {
   "cell_type": "markdown",
   "id": "3c018ce7",
   "metadata": {},
   "source": [
    "#### Code"
   ]
  },
  {
   "cell_type": "code",
   "execution_count": 98,
   "id": "1665c7af",
   "metadata": {},
   "outputs": [],
   "source": [
    "pred_cols = ['p1', 'p2', 'p3']"
   ]
  },
  {
   "cell_type": "code",
   "execution_count": 99,
   "id": "c558976c",
   "metadata": {},
   "outputs": [],
   "source": [
    "for col in pred_cols:\n",
    "    sorted_tidy_merged_df[col] = sorted_tidy_merged_df[col].str.replace('_', ' ').str.title()"
   ]
  },
  {
   "cell_type": "markdown",
   "id": "159a5bf9",
   "metadata": {},
   "source": [
    "#### Test"
   ]
  },
  {
   "cell_type": "code",
   "execution_count": 100,
   "id": "b7bbf76d",
   "metadata": {},
   "outputs": [
    {
     "data": {
      "text/html": [
       "<div>\n",
       "<style scoped>\n",
       "    .dataframe tbody tr th:only-of-type {\n",
       "        vertical-align: middle;\n",
       "    }\n",
       "\n",
       "    .dataframe tbody tr th {\n",
       "        vertical-align: top;\n",
       "    }\n",
       "\n",
       "    .dataframe thead th {\n",
       "        text-align: right;\n",
       "    }\n",
       "</style>\n",
       "<table border=\"1\" class=\"dataframe\">\n",
       "  <thead>\n",
       "    <tr style=\"text-align: right;\">\n",
       "      <th></th>\n",
       "      <th>p1</th>\n",
       "      <th>p2</th>\n",
       "      <th>p3</th>\n",
       "    </tr>\n",
       "  </thead>\n",
       "  <tbody>\n",
       "    <tr>\n",
       "      <th>7993</th>\n",
       "      <td>Labrador Retriever</td>\n",
       "      <td>Golden Retriever</td>\n",
       "      <td>Great Pyrenees</td>\n",
       "    </tr>\n",
       "    <tr>\n",
       "      <th>9377</th>\n",
       "      <td>English Setter</td>\n",
       "      <td>Brittany Spaniel</td>\n",
       "      <td>Ibizan Hound</td>\n",
       "    </tr>\n",
       "    <tr>\n",
       "      <th>9404</th>\n",
       "      <td>Italian Greyhound</td>\n",
       "      <td>Toy Terrier</td>\n",
       "      <td>Basenji</td>\n",
       "    </tr>\n",
       "    <tr>\n",
       "      <th>7836</th>\n",
       "      <td>Chow</td>\n",
       "      <td>Norwich Terrier</td>\n",
       "      <td>Pomeranian</td>\n",
       "    </tr>\n",
       "    <tr>\n",
       "      <th>172</th>\n",
       "      <td>Golden Retriever</td>\n",
       "      <td>Labrador Retriever</td>\n",
       "      <td>Bloodhound</td>\n",
       "    </tr>\n",
       "    <tr>\n",
       "      <th>8136</th>\n",
       "      <td>Golden Retriever</td>\n",
       "      <td>Kuvasz</td>\n",
       "      <td>Labrador Retriever</td>\n",
       "    </tr>\n",
       "    <tr>\n",
       "      <th>8504</th>\n",
       "      <td>Great Dane</td>\n",
       "      <td>Malinois</td>\n",
       "      <td>Doberman</td>\n",
       "    </tr>\n",
       "    <tr>\n",
       "      <th>8516</th>\n",
       "      <td>Borzoi</td>\n",
       "      <td>Walker Hound</td>\n",
       "      <td>Great Pyrenees</td>\n",
       "    </tr>\n",
       "    <tr>\n",
       "      <th>7905</th>\n",
       "      <td>Vizsla</td>\n",
       "      <td>Fountain</td>\n",
       "      <td>Chesapeake Bay Retriever</td>\n",
       "    </tr>\n",
       "    <tr>\n",
       "      <th>7714</th>\n",
       "      <td>Italian Greyhound</td>\n",
       "      <td>Bluetick</td>\n",
       "      <td>Standard Poodle</td>\n",
       "    </tr>\n",
       "    <tr>\n",
       "      <th>6482</th>\n",
       "      <td>Golden Retriever</td>\n",
       "      <td>Cocker Spaniel</td>\n",
       "      <td>Labrador Retriever</td>\n",
       "    </tr>\n",
       "    <tr>\n",
       "      <th>6692</th>\n",
       "      <td>Pug</td>\n",
       "      <td>Brabancon Griffon</td>\n",
       "      <td>French Bulldog</td>\n",
       "    </tr>\n",
       "    <tr>\n",
       "      <th>7956</th>\n",
       "      <td>Sussex Spaniel</td>\n",
       "      <td>Vizsla</td>\n",
       "      <td>Otterhound</td>\n",
       "    </tr>\n",
       "    <tr>\n",
       "      <th>7961</th>\n",
       "      <td>No Image</td>\n",
       "      <td>No Image</td>\n",
       "      <td>No Image</td>\n",
       "    </tr>\n",
       "    <tr>\n",
       "      <th>1079</th>\n",
       "      <td>Eskimo Dog</td>\n",
       "      <td>Siberian Husky</td>\n",
       "      <td>Malamute</td>\n",
       "    </tr>\n",
       "    <tr>\n",
       "      <th>7877</th>\n",
       "      <td>Labrador Retriever</td>\n",
       "      <td>Golden Retriever</td>\n",
       "      <td>Soccer Ball</td>\n",
       "    </tr>\n",
       "    <tr>\n",
       "      <th>339</th>\n",
       "      <td>Pembroke</td>\n",
       "      <td>Ice Bear</td>\n",
       "      <td>Pug</td>\n",
       "    </tr>\n",
       "    <tr>\n",
       "      <th>6592</th>\n",
       "      <td>Boxer</td>\n",
       "      <td>Space Heater</td>\n",
       "      <td>Beagle</td>\n",
       "    </tr>\n",
       "    <tr>\n",
       "      <th>8622</th>\n",
       "      <td>Ibizan Hound</td>\n",
       "      <td>Chihuahua</td>\n",
       "      <td>Italian Greyhound</td>\n",
       "    </tr>\n",
       "    <tr>\n",
       "      <th>8985</th>\n",
       "      <td>Cardigan</td>\n",
       "      <td>Pembroke</td>\n",
       "      <td>Chihuahua</td>\n",
       "    </tr>\n",
       "  </tbody>\n",
       "</table>\n",
       "</div>"
      ],
      "text/plain": [
       "                      p1                  p2                        p3\n",
       "7993  Labrador Retriever    Golden Retriever            Great Pyrenees\n",
       "9377      English Setter    Brittany Spaniel              Ibizan Hound\n",
       "9404   Italian Greyhound         Toy Terrier                   Basenji\n",
       "7836                Chow     Norwich Terrier                Pomeranian\n",
       "172     Golden Retriever  Labrador Retriever                Bloodhound\n",
       "8136    Golden Retriever              Kuvasz        Labrador Retriever\n",
       "8504          Great Dane            Malinois                  Doberman\n",
       "8516              Borzoi        Walker Hound            Great Pyrenees\n",
       "7905              Vizsla            Fountain  Chesapeake Bay Retriever\n",
       "7714   Italian Greyhound            Bluetick           Standard Poodle\n",
       "6482    Golden Retriever      Cocker Spaniel        Labrador Retriever\n",
       "6692                 Pug   Brabancon Griffon            French Bulldog\n",
       "7956      Sussex Spaniel              Vizsla                Otterhound\n",
       "7961            No Image            No Image                  No Image\n",
       "1079          Eskimo Dog      Siberian Husky                  Malamute\n",
       "7877  Labrador Retriever    Golden Retriever               Soccer Ball\n",
       "339             Pembroke            Ice Bear                       Pug\n",
       "6592               Boxer        Space Heater                    Beagle\n",
       "8622        Ibizan Hound           Chihuahua         Italian Greyhound\n",
       "8985            Cardigan            Pembroke                 Chihuahua"
      ]
     },
     "execution_count": 100,
     "metadata": {},
     "output_type": "execute_result"
    }
   ],
   "source": [
    "# There shouldn't be any underscores within the name. Also, the names should be in title case\n",
    "\n",
    "sorted_tidy_merged_df[pred_cols].sample(20, random_state=23)"
   ]
  },
  {
   "cell_type": "code",
   "execution_count": 101,
   "id": "93b5499b",
   "metadata": {},
   "outputs": [
    {
     "data": {
      "text/html": [
       "<div>\n",
       "<style scoped>\n",
       "    .dataframe tbody tr th:only-of-type {\n",
       "        vertical-align: middle;\n",
       "    }\n",
       "\n",
       "    .dataframe tbody tr th {\n",
       "        vertical-align: top;\n",
       "    }\n",
       "\n",
       "    .dataframe thead th {\n",
       "        text-align: right;\n",
       "    }\n",
       "</style>\n",
       "<table border=\"1\" class=\"dataframe\">\n",
       "  <thead>\n",
       "    <tr style=\"text-align: right;\">\n",
       "      <th></th>\n",
       "      <th>favorite_count</th>\n",
       "      <th>p1_dog</th>\n",
       "      <th>rating_numerator</th>\n",
       "      <th>p2_dog</th>\n",
       "      <th>p2</th>\n",
       "      <th>truncated</th>\n",
       "      <th>p3_dog</th>\n",
       "      <th>retweet_count</th>\n",
       "      <th>img_num</th>\n",
       "      <th>retweeted</th>\n",
       "      <th>...</th>\n",
       "      <th>name</th>\n",
       "      <th>text</th>\n",
       "      <th>rating_denominator</th>\n",
       "      <th>p2_conf</th>\n",
       "      <th>p3</th>\n",
       "      <th>source</th>\n",
       "      <th>jpg_url</th>\n",
       "      <th>tweet_id</th>\n",
       "      <th>timestamp</th>\n",
       "      <th>dog_stages</th>\n",
       "    </tr>\n",
       "  </thead>\n",
       "  <tbody>\n",
       "    <tr>\n",
       "      <th>9423</th>\n",
       "      <td>2535</td>\n",
       "      <td>True</td>\n",
       "      <td>8</td>\n",
       "      <td>True</td>\n",
       "      <td>Collie</td>\n",
       "      <td>False</td>\n",
       "      <td>True</td>\n",
       "      <td>532</td>\n",
       "      <td>1</td>\n",
       "      <td>False</td>\n",
       "      <td>...</td>\n",
       "      <td>None</td>\n",
       "      <td>Here we have a Japanese Irish Setter. Lost eye...</td>\n",
       "      <td>10</td>\n",
       "      <td>0.156665</td>\n",
       "      <td>Shetland Sheepdog</td>\n",
       "      <td>&lt;a href=\"http://twitter.com/download/iphone\" r...</td>\n",
       "      <td>https://pbs.twimg.com/media/CT4udn0WwAA0aMy.jpg</td>\n",
       "      <td>666020888022790149</td>\n",
       "      <td>2015-11-15 22:32:08+00:00</td>\n",
       "      <td>None</td>\n",
       "    </tr>\n",
       "    <tr>\n",
       "      <th>9422</th>\n",
       "      <td>132</td>\n",
       "      <td>True</td>\n",
       "      <td>7</td>\n",
       "      <td>True</td>\n",
       "      <td>Miniature Pinscher</td>\n",
       "      <td>False</td>\n",
       "      <td>True</td>\n",
       "      <td>48</td>\n",
       "      <td>1</td>\n",
       "      <td>False</td>\n",
       "      <td>...</td>\n",
       "      <td>None</td>\n",
       "      <td>This is a western brown Mitsubishi terrier. Up...</td>\n",
       "      <td>10</td>\n",
       "      <td>0.074192</td>\n",
       "      <td>Rhodesian Ridgeback</td>\n",
       "      <td>&lt;a href=\"http://twitter.com/download/iphone\" r...</td>\n",
       "      <td>https://pbs.twimg.com/media/CT42GRgUYAA5iDo.jpg</td>\n",
       "      <td>666029285002620928</td>\n",
       "      <td>2015-11-15 23:05:30+00:00</td>\n",
       "      <td>None</td>\n",
       "    </tr>\n",
       "    <tr>\n",
       "      <th>9421</th>\n",
       "      <td>128</td>\n",
       "      <td>True</td>\n",
       "      <td>9</td>\n",
       "      <td>True</td>\n",
       "      <td>Malinois</td>\n",
       "      <td>False</td>\n",
       "      <td>True</td>\n",
       "      <td>47</td>\n",
       "      <td>1</td>\n",
       "      <td>False</td>\n",
       "      <td>...</td>\n",
       "      <td>None</td>\n",
       "      <td>Here is a very happy pup. Big fan of well-main...</td>\n",
       "      <td>10</td>\n",
       "      <td>0.138584</td>\n",
       "      <td>Bloodhound</td>\n",
       "      <td>&lt;a href=\"http://twitter.com/download/iphone\" r...</td>\n",
       "      <td>https://pbs.twimg.com/media/CT4521TWwAEvMyu.jpg</td>\n",
       "      <td>666033412701032449</td>\n",
       "      <td>2015-11-15 23:21:54+00:00</td>\n",
       "      <td>None</td>\n",
       "    </tr>\n",
       "    <tr>\n",
       "      <th>9420</th>\n",
       "      <td>311</td>\n",
       "      <td>True</td>\n",
       "      <td>6</td>\n",
       "      <td>True</td>\n",
       "      <td>Redbone</td>\n",
       "      <td>False</td>\n",
       "      <td>True</td>\n",
       "      <td>147</td>\n",
       "      <td>1</td>\n",
       "      <td>False</td>\n",
       "      <td>...</td>\n",
       "      <td>None</td>\n",
       "      <td>This is a purebred Piers Morgan. Loves to Netf...</td>\n",
       "      <td>10</td>\n",
       "      <td>0.360687</td>\n",
       "      <td>Miniature Pinscher</td>\n",
       "      <td>&lt;a href=\"http://twitter.com/download/iphone\" r...</td>\n",
       "      <td>https://pbs.twimg.com/media/CT5Dr8HUEAA-lEu.jpg</td>\n",
       "      <td>666044226329800704</td>\n",
       "      <td>2015-11-16 00:04:52+00:00</td>\n",
       "      <td>None</td>\n",
       "    </tr>\n",
       "    <tr>\n",
       "      <th>9419</th>\n",
       "      <td>111</td>\n",
       "      <td>True</td>\n",
       "      <td>5</td>\n",
       "      <td>True</td>\n",
       "      <td>Rottweiler</td>\n",
       "      <td>False</td>\n",
       "      <td>True</td>\n",
       "      <td>41</td>\n",
       "      <td>1</td>\n",
       "      <td>False</td>\n",
       "      <td>...</td>\n",
       "      <td>None</td>\n",
       "      <td>Here we have a 1949 1st generation vulpix. Enj...</td>\n",
       "      <td>10</td>\n",
       "      <td>0.243682</td>\n",
       "      <td>Doberman</td>\n",
       "      <td>&lt;a href=\"http://twitter.com/download/iphone\" r...</td>\n",
       "      <td>https://pbs.twimg.com/media/CT5IQmsXIAAKY4A.jpg</td>\n",
       "      <td>666049248165822465</td>\n",
       "      <td>2015-11-16 00:24:50+00:00</td>\n",
       "      <td>None</td>\n",
       "    </tr>\n",
       "  </tbody>\n",
       "</table>\n",
       "<p>5 rows × 23 columns</p>\n",
       "</div>"
      ],
      "text/plain": [
       "      favorite_count  p1_dog  rating_numerator  p2_dog                  p2  \\\n",
       "9423            2535    True                 8    True              Collie   \n",
       "9422             132    True                 7    True  Miniature Pinscher   \n",
       "9421             128    True                 9    True            Malinois   \n",
       "9420             311    True                 6    True             Redbone   \n",
       "9419             111    True                 5    True          Rottweiler   \n",
       "\n",
       "      truncated  p3_dog  retweet_count  img_num  retweeted  ...  name  \\\n",
       "9423      False    True            532        1      False  ...  None   \n",
       "9422      False    True             48        1      False  ...  None   \n",
       "9421      False    True             47        1      False  ...  None   \n",
       "9420      False    True            147        1      False  ...  None   \n",
       "9419      False    True             41        1      False  ...  None   \n",
       "\n",
       "                                                   text  rating_denominator  \\\n",
       "9423  Here we have a Japanese Irish Setter. Lost eye...                  10   \n",
       "9422  This is a western brown Mitsubishi terrier. Up...                  10   \n",
       "9421  Here is a very happy pup. Big fan of well-main...                  10   \n",
       "9420  This is a purebred Piers Morgan. Loves to Netf...                  10   \n",
       "9419  Here we have a 1949 1st generation vulpix. Enj...                  10   \n",
       "\n",
       "       p2_conf                   p3  \\\n",
       "9423  0.156665    Shetland Sheepdog   \n",
       "9422  0.074192  Rhodesian Ridgeback   \n",
       "9421  0.138584           Bloodhound   \n",
       "9420  0.360687   Miniature Pinscher   \n",
       "9419  0.243682             Doberman   \n",
       "\n",
       "                                                 source  \\\n",
       "9423  <a href=\"http://twitter.com/download/iphone\" r...   \n",
       "9422  <a href=\"http://twitter.com/download/iphone\" r...   \n",
       "9421  <a href=\"http://twitter.com/download/iphone\" r...   \n",
       "9420  <a href=\"http://twitter.com/download/iphone\" r...   \n",
       "9419  <a href=\"http://twitter.com/download/iphone\" r...   \n",
       "\n",
       "                                              jpg_url            tweet_id  \\\n",
       "9423  https://pbs.twimg.com/media/CT4udn0WwAA0aMy.jpg  666020888022790149   \n",
       "9422  https://pbs.twimg.com/media/CT42GRgUYAA5iDo.jpg  666029285002620928   \n",
       "9421  https://pbs.twimg.com/media/CT4521TWwAEvMyu.jpg  666033412701032449   \n",
       "9420  https://pbs.twimg.com/media/CT5Dr8HUEAA-lEu.jpg  666044226329800704   \n",
       "9419  https://pbs.twimg.com/media/CT5IQmsXIAAKY4A.jpg  666049248165822465   \n",
       "\n",
       "                     timestamp dog_stages  \n",
       "9423 2015-11-15 22:32:08+00:00       None  \n",
       "9422 2015-11-15 23:05:30+00:00       None  \n",
       "9421 2015-11-15 23:21:54+00:00       None  \n",
       "9420 2015-11-16 00:04:52+00:00       None  \n",
       "9419 2015-11-16 00:24:50+00:00       None  \n",
       "\n",
       "[5 rows x 23 columns]"
      ]
     },
     "execution_count": 101,
     "metadata": {},
     "output_type": "execute_result"
    }
   ],
   "source": [
    "sorted_tidy_merged_df.head()"
   ]
  },
  {
   "cell_type": "markdown",
   "id": "55892a7e",
   "metadata": {},
   "source": [
    "From the dataframe, the index of the dataframe seems to be unorderly"
   ]
  },
  {
   "cell_type": "code",
   "execution_count": 108,
   "id": "b667d003",
   "metadata": {},
   "outputs": [],
   "source": [
    "# reseting the index\n",
    "\n",
    "sorted_tidy_merged_df.reset_index(drop=True, inplace=True)"
   ]
  },
  {
   "cell_type": "code",
   "execution_count": 102,
   "id": "c4f4f819",
   "metadata": {},
   "outputs": [
    {
     "data": {
      "text/plain": [
       "None       1976\n",
       "pupper      257\n",
       "doggo        83\n",
       "puppo        30\n",
       "floofer      10\n",
       "Name: dog_stages, dtype: int64"
      ]
     },
     "execution_count": 102,
     "metadata": {},
     "output_type": "execute_result"
    }
   ],
   "source": [
    "sorted_tidy_merged_df['dog_stages'].value_counts()"
   ]
  },
  {
   "cell_type": "markdown",
   "id": "97bf5d65",
   "metadata": {},
   "source": [
    "Looking at the information above, the dog stages were probably incorrectly extracted from the text."
   ]
  },
  {
   "cell_type": "markdown",
   "id": "7d1dd323",
   "metadata": {},
   "source": [
    "I'll extract the dog stage data using the tweet text"
   ]
  },
  {
   "cell_type": "markdown",
   "id": "0a552b6f",
   "metadata": {},
   "source": [
    "### Quality Issue"
   ]
  },
  {
   "cell_type": "markdown",
   "id": "58296ae3",
   "metadata": {},
   "source": [
    "7. dog stage information probably not properly extracted"
   ]
  },
  {
   "cell_type": "markdown",
   "id": "cae15494",
   "metadata": {},
   "source": [
    "#### dog stage information probably not properly extracted"
   ]
  },
  {
   "cell_type": "markdown",
   "id": "6cfb1a17",
   "metadata": {},
   "source": [
    "#### Define"
   ]
  },
  {
   "cell_type": "markdown",
   "id": "b6bfba8a",
   "metadata": {},
   "source": [
    "- Extract dog stage information using a function"
   ]
  },
  {
   "cell_type": "markdown",
   "id": "b2fe93ba",
   "metadata": {},
   "source": [
    "#### Code"
   ]
  },
  {
   "cell_type": "code",
   "execution_count": 133,
   "id": "00fe4935",
   "metadata": {},
   "outputs": [],
   "source": [
    "# Extracting dog stage information using a function\n",
    "\n",
    "def extract_dog_stage(x: str):\n",
    "    dog_stages = ['pupper', 'doggo', 'puppo', 'floof', 'blep', 'snoot']\n",
    "    for stage in dog_stages:\n",
    "        if stage in x:\n",
    "            return stage \n",
    "    return 'None'"
   ]
  },
  {
   "cell_type": "code",
   "execution_count": 134,
   "id": "5f97dc72",
   "metadata": {},
   "outputs": [],
   "source": [
    "sorted_tidy_merged_df['dog_stages'] = sorted_tidy_merged_df['text'].apply(extract_dog_stage)"
   ]
  },
  {
   "cell_type": "markdown",
   "id": "e0e5071c",
   "metadata": {},
   "source": [
    "#### Test"
   ]
  },
  {
   "cell_type": "code",
   "execution_count": 135,
   "id": "ff6a5cdb",
   "metadata": {},
   "outputs": [
    {
     "data": {
      "text/plain": [
       "None      1937\n",
       "pupper     272\n",
       "doggo       88\n",
       "puppo       35\n",
       "floof       23\n",
       "blep         1\n",
       "Name: dog_stages, dtype: int64"
      ]
     },
     "execution_count": 135,
     "metadata": {},
     "output_type": "execute_result"
    }
   ],
   "source": [
    "# More values should be obtained\n",
    "\n",
    "sorted_tidy_merged_df['dog_stages'].value_counts()"
   ]
  },
  {
   "cell_type": "markdown",
   "id": "850dbfcc",
   "metadata": {},
   "source": [
    "As confirmed above, there were more values of dog stages in the text"
   ]
  },
  {
   "cell_type": "code",
   "execution_count": 190,
   "id": "fc9c3309",
   "metadata": {},
   "outputs": [
    {
     "data": {
      "text/html": [
       "<div>\n",
       "<style scoped>\n",
       "    .dataframe tbody tr th:only-of-type {\n",
       "        vertical-align: middle;\n",
       "    }\n",
       "\n",
       "    .dataframe tbody tr th {\n",
       "        vertical-align: top;\n",
       "    }\n",
       "\n",
       "    .dataframe thead th {\n",
       "        text-align: right;\n",
       "    }\n",
       "</style>\n",
       "<table border=\"1\" class=\"dataframe\">\n",
       "  <thead>\n",
       "    <tr style=\"text-align: right;\">\n",
       "      <th></th>\n",
       "      <th>favorite_count</th>\n",
       "      <th>p1_dog</th>\n",
       "      <th>rating_numerator</th>\n",
       "      <th>p2_dog</th>\n",
       "      <th>p2</th>\n",
       "      <th>truncated</th>\n",
       "      <th>p3_dog</th>\n",
       "      <th>retweet_count</th>\n",
       "      <th>img_num</th>\n",
       "      <th>retweeted</th>\n",
       "      <th>...</th>\n",
       "      <th>name</th>\n",
       "      <th>text</th>\n",
       "      <th>rating_denominator</th>\n",
       "      <th>p2_conf</th>\n",
       "      <th>p3</th>\n",
       "      <th>source</th>\n",
       "      <th>jpg_url</th>\n",
       "      <th>tweet_id</th>\n",
       "      <th>timestamp</th>\n",
       "      <th>dog_stages</th>\n",
       "    </tr>\n",
       "  </thead>\n",
       "  <tbody>\n",
       "    <tr>\n",
       "      <th>0</th>\n",
       "      <td>2535</td>\n",
       "      <td>True</td>\n",
       "      <td>8</td>\n",
       "      <td>True</td>\n",
       "      <td>Collie</td>\n",
       "      <td>False</td>\n",
       "      <td>True</td>\n",
       "      <td>532</td>\n",
       "      <td>1</td>\n",
       "      <td>False</td>\n",
       "      <td>...</td>\n",
       "      <td>None</td>\n",
       "      <td>Here we have a Japanese Irish Setter. Lost eye...</td>\n",
       "      <td>10</td>\n",
       "      <td>0.156665</td>\n",
       "      <td>Shetland Sheepdog</td>\n",
       "      <td>&lt;a href=\"http://twitter.com/download/iphone\" r...</td>\n",
       "      <td>https://pbs.twimg.com/media/CT4udn0WwAA0aMy.jpg</td>\n",
       "      <td>666020888022790149</td>\n",
       "      <td>2015-11-15 22:32:08+00:00</td>\n",
       "      <td>None</td>\n",
       "    </tr>\n",
       "    <tr>\n",
       "      <th>1</th>\n",
       "      <td>132</td>\n",
       "      <td>True</td>\n",
       "      <td>7</td>\n",
       "      <td>True</td>\n",
       "      <td>Miniature Pinscher</td>\n",
       "      <td>False</td>\n",
       "      <td>True</td>\n",
       "      <td>48</td>\n",
       "      <td>1</td>\n",
       "      <td>False</td>\n",
       "      <td>...</td>\n",
       "      <td>None</td>\n",
       "      <td>This is a western brown Mitsubishi terrier. Up...</td>\n",
       "      <td>10</td>\n",
       "      <td>0.074192</td>\n",
       "      <td>Rhodesian Ridgeback</td>\n",
       "      <td>&lt;a href=\"http://twitter.com/download/iphone\" r...</td>\n",
       "      <td>https://pbs.twimg.com/media/CT42GRgUYAA5iDo.jpg</td>\n",
       "      <td>666029285002620928</td>\n",
       "      <td>2015-11-15 23:05:30+00:00</td>\n",
       "      <td>None</td>\n",
       "    </tr>\n",
       "    <tr>\n",
       "      <th>2</th>\n",
       "      <td>128</td>\n",
       "      <td>True</td>\n",
       "      <td>9</td>\n",
       "      <td>True</td>\n",
       "      <td>Malinois</td>\n",
       "      <td>False</td>\n",
       "      <td>True</td>\n",
       "      <td>47</td>\n",
       "      <td>1</td>\n",
       "      <td>False</td>\n",
       "      <td>...</td>\n",
       "      <td>None</td>\n",
       "      <td>Here is a very happy pup. Big fan of well-main...</td>\n",
       "      <td>10</td>\n",
       "      <td>0.138584</td>\n",
       "      <td>Bloodhound</td>\n",
       "      <td>&lt;a href=\"http://twitter.com/download/iphone\" r...</td>\n",
       "      <td>https://pbs.twimg.com/media/CT4521TWwAEvMyu.jpg</td>\n",
       "      <td>666033412701032449</td>\n",
       "      <td>2015-11-15 23:21:54+00:00</td>\n",
       "      <td>None</td>\n",
       "    </tr>\n",
       "  </tbody>\n",
       "</table>\n",
       "<p>3 rows × 23 columns</p>\n",
       "</div>"
      ],
      "text/plain": [
       "   favorite_count  p1_dog  rating_numerator  p2_dog                  p2  \\\n",
       "0            2535    True                 8    True              Collie   \n",
       "1             132    True                 7    True  Miniature Pinscher   \n",
       "2             128    True                 9    True            Malinois   \n",
       "\n",
       "   truncated  p3_dog  retweet_count  img_num  retweeted  ...  name  \\\n",
       "0      False    True            532        1      False  ...  None   \n",
       "1      False    True             48        1      False  ...  None   \n",
       "2      False    True             47        1      False  ...  None   \n",
       "\n",
       "                                                text  rating_denominator  \\\n",
       "0  Here we have a Japanese Irish Setter. Lost eye...                  10   \n",
       "1  This is a western brown Mitsubishi terrier. Up...                  10   \n",
       "2  Here is a very happy pup. Big fan of well-main...                  10   \n",
       "\n",
       "    p2_conf                   p3  \\\n",
       "0  0.156665    Shetland Sheepdog   \n",
       "1  0.074192  Rhodesian Ridgeback   \n",
       "2  0.138584           Bloodhound   \n",
       "\n",
       "                                              source  \\\n",
       "0  <a href=\"http://twitter.com/download/iphone\" r...   \n",
       "1  <a href=\"http://twitter.com/download/iphone\" r...   \n",
       "2  <a href=\"http://twitter.com/download/iphone\" r...   \n",
       "\n",
       "                                           jpg_url            tweet_id  \\\n",
       "0  https://pbs.twimg.com/media/CT4udn0WwAA0aMy.jpg  666020888022790149   \n",
       "1  https://pbs.twimg.com/media/CT42GRgUYAA5iDo.jpg  666029285002620928   \n",
       "2  https://pbs.twimg.com/media/CT4521TWwAEvMyu.jpg  666033412701032449   \n",
       "\n",
       "                  timestamp dog_stages  \n",
       "0 2015-11-15 22:32:08+00:00       None  \n",
       "1 2015-11-15 23:05:30+00:00       None  \n",
       "2 2015-11-15 23:21:54+00:00       None  \n",
       "\n",
       "[3 rows x 23 columns]"
      ]
     },
     "execution_count": 190,
     "metadata": {},
     "output_type": "execute_result"
    }
   ],
   "source": [
    "sorted_tidy_merged_df.head(3)"
   ]
  },
  {
   "cell_type": "code",
   "execution_count": 191,
   "id": "f60d0f65",
   "metadata": {},
   "outputs": [
    {
     "data": {
      "text/plain": [
       "<a href=\"http://twitter.com/download/iphone\" rel=\"nofollow\">Twitter for iPhone</a>     2221\n",
       "<a href=\"http://vine.co\" rel=\"nofollow\">Vine - Make a Scene</a>                          91\n",
       "<a href=\"http://twitter.com\" rel=\"nofollow\">Twitter Web Client</a>                       33\n",
       "<a href=\"https://about.twitter.com/products/tweetdeck\" rel=\"nofollow\">TweetDeck</a>      11\n",
       "Name: source, dtype: int64"
      ]
     },
     "execution_count": 191,
     "metadata": {},
     "output_type": "execute_result"
    }
   ],
   "source": [
    "sorted_tidy_merged_df['source'].value_counts()"
   ]
  },
  {
   "cell_type": "markdown",
   "id": "2a928802",
   "metadata": {},
   "source": [
    "This last programmatic assesment of the dataset helps me to see that the `source` column is incorrectly formatted."
   ]
  },
  {
   "cell_type": "markdown",
   "id": "3e0a9ae5",
   "metadata": {},
   "source": [
    "### Quality Issue"
   ]
  },
  {
   "cell_type": "markdown",
   "id": "324db607",
   "metadata": {},
   "source": [
    "8. Incorrect formatting of the `source` column of the dataframe"
   ]
  },
  {
   "cell_type": "markdown",
   "id": "05ea29ef",
   "metadata": {},
   "source": [
    "#### Incorrect formatting of the `source` column of the dataframe"
   ]
  },
  {
   "cell_type": "markdown",
   "id": "00fee1c2",
   "metadata": {},
   "source": [
    "#### Define"
   ]
  },
  {
   "cell_type": "markdown",
   "id": "9b5fd1bd",
   "metadata": {},
   "source": [
    "Extract the source from the links in the `source` column"
   ]
  },
  {
   "cell_type": "markdown",
   "id": "3de03449",
   "metadata": {},
   "source": [
    "#### Code"
   ]
  },
  {
   "cell_type": "code",
   "execution_count": 192,
   "id": "da876ed3",
   "metadata": {},
   "outputs": [],
   "source": [
    "def extract_source(x):\n",
    "    return x.strip('</a>').split('>')[-1]"
   ]
  },
  {
   "cell_type": "code",
   "execution_count": 194,
   "id": "1f487bfd",
   "metadata": {},
   "outputs": [],
   "source": [
    "sorted_tidy_merged_df['source'] = sorted_tidy_merged_df['source'].apply(extract_source)"
   ]
  },
  {
   "cell_type": "markdown",
   "id": "3b07e4ed",
   "metadata": {},
   "source": [
    "#### Test"
   ]
  },
  {
   "cell_type": "code",
   "execution_count": 195,
   "id": "65fae91e",
   "metadata": {},
   "outputs": [
    {
     "data": {
      "text/plain": [
       "Twitter for iPhone     2221\n",
       "Vine - Make a Scene      91\n",
       "Twitter Web Client       33\n",
       "TweetDeck                11\n",
       "Name: source, dtype: int64"
      ]
     },
     "execution_count": 195,
     "metadata": {},
     "output_type": "execute_result"
    }
   ],
   "source": [
    "# The code below whould give us the sources count instead of the links count\n",
    "\n",
    "sorted_tidy_merged_df['source'].value_counts()"
   ]
  },
  {
   "cell_type": "markdown",
   "id": "bf26603d",
   "metadata": {},
   "source": [
    "All quality and tidiness issues mentioned have been fixed and the dataset have been cleaned"
   ]
  },
  {
   "cell_type": "code",
   "execution_count": 196,
   "id": "006dd08c",
   "metadata": {},
   "outputs": [],
   "source": [
    "# Saving the cleaned dataset to a csv file\n",
    "\n",
    "sorted_tidy_merged_df.to_csv('data_files/twitter_archive_master.csv', index=False)"
   ]
  },
  {
   "cell_type": "markdown",
   "id": "9c18e723",
   "metadata": {},
   "source": [
    "## Analyzing and Visualizing Data"
   ]
  },
  {
   "cell_type": "code",
   "execution_count": 197,
   "id": "3d6e10b8",
   "metadata": {},
   "outputs": [],
   "source": [
    "df_clean = sorted_tidy_merged_df.copy()"
   ]
  },
  {
   "cell_type": "code",
   "execution_count": 198,
   "id": "eef7e0f3",
   "metadata": {},
   "outputs": [
    {
     "data": {
      "text/html": [
       "<div>\n",
       "<style scoped>\n",
       "    .dataframe tbody tr th:only-of-type {\n",
       "        vertical-align: middle;\n",
       "    }\n",
       "\n",
       "    .dataframe tbody tr th {\n",
       "        vertical-align: top;\n",
       "    }\n",
       "\n",
       "    .dataframe thead th {\n",
       "        text-align: right;\n",
       "    }\n",
       "</style>\n",
       "<table border=\"1\" class=\"dataframe\">\n",
       "  <thead>\n",
       "    <tr style=\"text-align: right;\">\n",
       "      <th></th>\n",
       "      <th>favorite_count</th>\n",
       "      <th>p1_dog</th>\n",
       "      <th>rating_numerator</th>\n",
       "      <th>p2_dog</th>\n",
       "      <th>p2</th>\n",
       "      <th>truncated</th>\n",
       "      <th>p3_dog</th>\n",
       "      <th>retweet_count</th>\n",
       "      <th>img_num</th>\n",
       "      <th>retweeted</th>\n",
       "      <th>...</th>\n",
       "      <th>name</th>\n",
       "      <th>text</th>\n",
       "      <th>rating_denominator</th>\n",
       "      <th>p2_conf</th>\n",
       "      <th>p3</th>\n",
       "      <th>source</th>\n",
       "      <th>jpg_url</th>\n",
       "      <th>tweet_id</th>\n",
       "      <th>timestamp</th>\n",
       "      <th>dog_stages</th>\n",
       "    </tr>\n",
       "  </thead>\n",
       "  <tbody>\n",
       "    <tr>\n",
       "      <th>0</th>\n",
       "      <td>2535</td>\n",
       "      <td>True</td>\n",
       "      <td>8</td>\n",
       "      <td>True</td>\n",
       "      <td>Collie</td>\n",
       "      <td>False</td>\n",
       "      <td>True</td>\n",
       "      <td>532</td>\n",
       "      <td>1</td>\n",
       "      <td>False</td>\n",
       "      <td>...</td>\n",
       "      <td>None</td>\n",
       "      <td>Here we have a Japanese Irish Setter. Lost eye...</td>\n",
       "      <td>10</td>\n",
       "      <td>0.156665</td>\n",
       "      <td>Shetland Sheepdog</td>\n",
       "      <td>Twitter for iPhone</td>\n",
       "      <td>https://pbs.twimg.com/media/CT4udn0WwAA0aMy.jpg</td>\n",
       "      <td>666020888022790149</td>\n",
       "      <td>2015-11-15 22:32:08+00:00</td>\n",
       "      <td>None</td>\n",
       "    </tr>\n",
       "    <tr>\n",
       "      <th>1</th>\n",
       "      <td>132</td>\n",
       "      <td>True</td>\n",
       "      <td>7</td>\n",
       "      <td>True</td>\n",
       "      <td>Miniature Pinscher</td>\n",
       "      <td>False</td>\n",
       "      <td>True</td>\n",
       "      <td>48</td>\n",
       "      <td>1</td>\n",
       "      <td>False</td>\n",
       "      <td>...</td>\n",
       "      <td>None</td>\n",
       "      <td>This is a western brown Mitsubishi terrier. Up...</td>\n",
       "      <td>10</td>\n",
       "      <td>0.074192</td>\n",
       "      <td>Rhodesian Ridgeback</td>\n",
       "      <td>Twitter for iPhone</td>\n",
       "      <td>https://pbs.twimg.com/media/CT42GRgUYAA5iDo.jpg</td>\n",
       "      <td>666029285002620928</td>\n",
       "      <td>2015-11-15 23:05:30+00:00</td>\n",
       "      <td>None</td>\n",
       "    </tr>\n",
       "    <tr>\n",
       "      <th>2</th>\n",
       "      <td>128</td>\n",
       "      <td>True</td>\n",
       "      <td>9</td>\n",
       "      <td>True</td>\n",
       "      <td>Malinois</td>\n",
       "      <td>False</td>\n",
       "      <td>True</td>\n",
       "      <td>47</td>\n",
       "      <td>1</td>\n",
       "      <td>False</td>\n",
       "      <td>...</td>\n",
       "      <td>None</td>\n",
       "      <td>Here is a very happy pup. Big fan of well-main...</td>\n",
       "      <td>10</td>\n",
       "      <td>0.138584</td>\n",
       "      <td>Bloodhound</td>\n",
       "      <td>Twitter for iPhone</td>\n",
       "      <td>https://pbs.twimg.com/media/CT4521TWwAEvMyu.jpg</td>\n",
       "      <td>666033412701032449</td>\n",
       "      <td>2015-11-15 23:21:54+00:00</td>\n",
       "      <td>None</td>\n",
       "    </tr>\n",
       "    <tr>\n",
       "      <th>3</th>\n",
       "      <td>311</td>\n",
       "      <td>True</td>\n",
       "      <td>6</td>\n",
       "      <td>True</td>\n",
       "      <td>Redbone</td>\n",
       "      <td>False</td>\n",
       "      <td>True</td>\n",
       "      <td>147</td>\n",
       "      <td>1</td>\n",
       "      <td>False</td>\n",
       "      <td>...</td>\n",
       "      <td>None</td>\n",
       "      <td>This is a purebred Piers Morgan. Loves to Netf...</td>\n",
       "      <td>10</td>\n",
       "      <td>0.360687</td>\n",
       "      <td>Miniature Pinscher</td>\n",
       "      <td>Twitter for iPhone</td>\n",
       "      <td>https://pbs.twimg.com/media/CT5Dr8HUEAA-lEu.jpg</td>\n",
       "      <td>666044226329800704</td>\n",
       "      <td>2015-11-16 00:04:52+00:00</td>\n",
       "      <td>None</td>\n",
       "    </tr>\n",
       "    <tr>\n",
       "      <th>4</th>\n",
       "      <td>111</td>\n",
       "      <td>True</td>\n",
       "      <td>5</td>\n",
       "      <td>True</td>\n",
       "      <td>Rottweiler</td>\n",
       "      <td>False</td>\n",
       "      <td>True</td>\n",
       "      <td>41</td>\n",
       "      <td>1</td>\n",
       "      <td>False</td>\n",
       "      <td>...</td>\n",
       "      <td>None</td>\n",
       "      <td>Here we have a 1949 1st generation vulpix. Enj...</td>\n",
       "      <td>10</td>\n",
       "      <td>0.243682</td>\n",
       "      <td>Doberman</td>\n",
       "      <td>Twitter for iPhone</td>\n",
       "      <td>https://pbs.twimg.com/media/CT5IQmsXIAAKY4A.jpg</td>\n",
       "      <td>666049248165822465</td>\n",
       "      <td>2015-11-16 00:24:50+00:00</td>\n",
       "      <td>None</td>\n",
       "    </tr>\n",
       "    <tr>\n",
       "      <th>...</th>\n",
       "      <td>...</td>\n",
       "      <td>...</td>\n",
       "      <td>...</td>\n",
       "      <td>...</td>\n",
       "      <td>...</td>\n",
       "      <td>...</td>\n",
       "      <td>...</td>\n",
       "      <td>...</td>\n",
       "      <td>...</td>\n",
       "      <td>...</td>\n",
       "      <td>...</td>\n",
       "      <td>...</td>\n",
       "      <td>...</td>\n",
       "      <td>...</td>\n",
       "      <td>...</td>\n",
       "      <td>...</td>\n",
       "      <td>...</td>\n",
       "      <td>...</td>\n",
       "      <td>...</td>\n",
       "      <td>...</td>\n",
       "      <td>...</td>\n",
       "    </tr>\n",
       "    <tr>\n",
       "      <th>2351</th>\n",
       "      <td>41048</td>\n",
       "      <td>True</td>\n",
       "      <td>12</td>\n",
       "      <td>True</td>\n",
       "      <td>English Springer</td>\n",
       "      <td>False</td>\n",
       "      <td>True</td>\n",
       "      <td>9774</td>\n",
       "      <td>2</td>\n",
       "      <td>False</td>\n",
       "      <td>...</td>\n",
       "      <td>Franklin</td>\n",
       "      <td>This is Franklin. He would like you to stop ca...</td>\n",
       "      <td>10</td>\n",
       "      <td>0.225770</td>\n",
       "      <td>German Short-Haired Pointer</td>\n",
       "      <td>Twitter for iPhone</td>\n",
       "      <td>https://pbs.twimg.com/media/DF6hr6BUMAAzZgT.jpg</td>\n",
       "      <td>891327558926688256</td>\n",
       "      <td>2017-07-29 16:00:24+00:00</td>\n",
       "      <td>None</td>\n",
       "    </tr>\n",
       "    <tr>\n",
       "      <th>2352</th>\n",
       "      <td>42908</td>\n",
       "      <td>False</td>\n",
       "      <td>13</td>\n",
       "      <td>True</td>\n",
       "      <td>Labrador Retriever</td>\n",
       "      <td>False</td>\n",
       "      <td>False</td>\n",
       "      <td>8964</td>\n",
       "      <td>1</td>\n",
       "      <td>False</td>\n",
       "      <td>...</td>\n",
       "      <td>Darla</td>\n",
       "      <td>This is Darla. She commenced a snooze mid meal...</td>\n",
       "      <td>10</td>\n",
       "      <td>0.168086</td>\n",
       "      <td>Spatula</td>\n",
       "      <td>Twitter for iPhone</td>\n",
       "      <td>https://pbs.twimg.com/media/DF_q7IAWsAEuuN8.jpg</td>\n",
       "      <td>891689557279858688</td>\n",
       "      <td>2017-07-30 15:58:51+00:00</td>\n",
       "      <td>None</td>\n",
       "    </tr>\n",
       "    <tr>\n",
       "      <th>2353</th>\n",
       "      <td>25461</td>\n",
       "      <td>True</td>\n",
       "      <td>12</td>\n",
       "      <td>True</td>\n",
       "      <td>Malamute</td>\n",
       "      <td>False</td>\n",
       "      <td>True</td>\n",
       "      <td>4328</td>\n",
       "      <td>1</td>\n",
       "      <td>False</td>\n",
       "      <td>...</td>\n",
       "      <td>Archie</td>\n",
       "      <td>This is Archie. He is a rare Norwegian Pouncin...</td>\n",
       "      <td>10</td>\n",
       "      <td>0.078253</td>\n",
       "      <td>Kelpie</td>\n",
       "      <td>Twitter for iPhone</td>\n",
       "      <td>https://pbs.twimg.com/media/DGBdLU1WsAANxJ9.jpg</td>\n",
       "      <td>891815181378084864</td>\n",
       "      <td>2017-07-31 00:18:03+00:00</td>\n",
       "      <td>None</td>\n",
       "    </tr>\n",
       "    <tr>\n",
       "      <th>2354</th>\n",
       "      <td>33819</td>\n",
       "      <td>True</td>\n",
       "      <td>13</td>\n",
       "      <td>True</td>\n",
       "      <td>Pekinese</td>\n",
       "      <td>False</td>\n",
       "      <td>True</td>\n",
       "      <td>6514</td>\n",
       "      <td>1</td>\n",
       "      <td>False</td>\n",
       "      <td>...</td>\n",
       "      <td>Tilly</td>\n",
       "      <td>This is Tilly. She's just checking pup on you....</td>\n",
       "      <td>10</td>\n",
       "      <td>0.090647</td>\n",
       "      <td>Papillon</td>\n",
       "      <td>Twitter for iPhone</td>\n",
       "      <td>https://pbs.twimg.com/media/DGGmoV4XsAAUL6n.jpg</td>\n",
       "      <td>892177421306343426</td>\n",
       "      <td>2017-08-01 00:17:27+00:00</td>\n",
       "      <td>None</td>\n",
       "    </tr>\n",
       "    <tr>\n",
       "      <th>2355</th>\n",
       "      <td>39467</td>\n",
       "      <td>False</td>\n",
       "      <td>13</td>\n",
       "      <td>False</td>\n",
       "      <td>Bagel</td>\n",
       "      <td>False</td>\n",
       "      <td>False</td>\n",
       "      <td>8853</td>\n",
       "      <td>1</td>\n",
       "      <td>False</td>\n",
       "      <td>...</td>\n",
       "      <td>Phineas</td>\n",
       "      <td>This is Phineas. He's a mystical boy. Only eve...</td>\n",
       "      <td>10</td>\n",
       "      <td>0.085851</td>\n",
       "      <td>Banana</td>\n",
       "      <td>Twitter for iPhone</td>\n",
       "      <td>https://pbs.twimg.com/media/DGKD1-bXoAAIAUK.jpg</td>\n",
       "      <td>892420643555336193</td>\n",
       "      <td>2017-08-01 16:23:56+00:00</td>\n",
       "      <td>None</td>\n",
       "    </tr>\n",
       "  </tbody>\n",
       "</table>\n",
       "<p>2356 rows × 23 columns</p>\n",
       "</div>"
      ],
      "text/plain": [
       "      favorite_count  p1_dog  rating_numerator  p2_dog                  p2  \\\n",
       "0               2535    True                 8    True              Collie   \n",
       "1                132    True                 7    True  Miniature Pinscher   \n",
       "2                128    True                 9    True            Malinois   \n",
       "3                311    True                 6    True             Redbone   \n",
       "4                111    True                 5    True          Rottweiler   \n",
       "...              ...     ...               ...     ...                 ...   \n",
       "2351           41048    True                12    True    English Springer   \n",
       "2352           42908   False                13    True  Labrador Retriever   \n",
       "2353           25461    True                12    True            Malamute   \n",
       "2354           33819    True                13    True            Pekinese   \n",
       "2355           39467   False                13   False               Bagel   \n",
       "\n",
       "      truncated  p3_dog  retweet_count  img_num  retweeted  ...      name  \\\n",
       "0         False    True            532        1      False  ...      None   \n",
       "1         False    True             48        1      False  ...      None   \n",
       "2         False    True             47        1      False  ...      None   \n",
       "3         False    True            147        1      False  ...      None   \n",
       "4         False    True             41        1      False  ...      None   \n",
       "...         ...     ...            ...      ...        ...  ...       ...   \n",
       "2351      False    True           9774        2      False  ...  Franklin   \n",
       "2352      False   False           8964        1      False  ...     Darla   \n",
       "2353      False    True           4328        1      False  ...    Archie   \n",
       "2354      False    True           6514        1      False  ...     Tilly   \n",
       "2355      False   False           8853        1      False  ...   Phineas   \n",
       "\n",
       "                                                   text  rating_denominator  \\\n",
       "0     Here we have a Japanese Irish Setter. Lost eye...                  10   \n",
       "1     This is a western brown Mitsubishi terrier. Up...                  10   \n",
       "2     Here is a very happy pup. Big fan of well-main...                  10   \n",
       "3     This is a purebred Piers Morgan. Loves to Netf...                  10   \n",
       "4     Here we have a 1949 1st generation vulpix. Enj...                  10   \n",
       "...                                                 ...                 ...   \n",
       "2351  This is Franklin. He would like you to stop ca...                  10   \n",
       "2352  This is Darla. She commenced a snooze mid meal...                  10   \n",
       "2353  This is Archie. He is a rare Norwegian Pouncin...                  10   \n",
       "2354  This is Tilly. She's just checking pup on you....                  10   \n",
       "2355  This is Phineas. He's a mystical boy. Only eve...                  10   \n",
       "\n",
       "       p2_conf                           p3              source  \\\n",
       "0     0.156665            Shetland Sheepdog  Twitter for iPhone   \n",
       "1     0.074192          Rhodesian Ridgeback  Twitter for iPhone   \n",
       "2     0.138584                   Bloodhound  Twitter for iPhone   \n",
       "3     0.360687           Miniature Pinscher  Twitter for iPhone   \n",
       "4     0.243682                     Doberman  Twitter for iPhone   \n",
       "...        ...                          ...                 ...   \n",
       "2351  0.225770  German Short-Haired Pointer  Twitter for iPhone   \n",
       "2352  0.168086                      Spatula  Twitter for iPhone   \n",
       "2353  0.078253                       Kelpie  Twitter for iPhone   \n",
       "2354  0.090647                     Papillon  Twitter for iPhone   \n",
       "2355  0.085851                       Banana  Twitter for iPhone   \n",
       "\n",
       "                                              jpg_url            tweet_id  \\\n",
       "0     https://pbs.twimg.com/media/CT4udn0WwAA0aMy.jpg  666020888022790149   \n",
       "1     https://pbs.twimg.com/media/CT42GRgUYAA5iDo.jpg  666029285002620928   \n",
       "2     https://pbs.twimg.com/media/CT4521TWwAEvMyu.jpg  666033412701032449   \n",
       "3     https://pbs.twimg.com/media/CT5Dr8HUEAA-lEu.jpg  666044226329800704   \n",
       "4     https://pbs.twimg.com/media/CT5IQmsXIAAKY4A.jpg  666049248165822465   \n",
       "...                                               ...                 ...   \n",
       "2351  https://pbs.twimg.com/media/DF6hr6BUMAAzZgT.jpg  891327558926688256   \n",
       "2352  https://pbs.twimg.com/media/DF_q7IAWsAEuuN8.jpg  891689557279858688   \n",
       "2353  https://pbs.twimg.com/media/DGBdLU1WsAANxJ9.jpg  891815181378084864   \n",
       "2354  https://pbs.twimg.com/media/DGGmoV4XsAAUL6n.jpg  892177421306343426   \n",
       "2355  https://pbs.twimg.com/media/DGKD1-bXoAAIAUK.jpg  892420643555336193   \n",
       "\n",
       "                     timestamp dog_stages  \n",
       "0    2015-11-15 22:32:08+00:00       None  \n",
       "1    2015-11-15 23:05:30+00:00       None  \n",
       "2    2015-11-15 23:21:54+00:00       None  \n",
       "3    2015-11-16 00:04:52+00:00       None  \n",
       "4    2015-11-16 00:24:50+00:00       None  \n",
       "...                        ...        ...  \n",
       "2351 2017-07-29 16:00:24+00:00       None  \n",
       "2352 2017-07-30 15:58:51+00:00       None  \n",
       "2353 2017-07-31 00:18:03+00:00       None  \n",
       "2354 2017-08-01 00:17:27+00:00       None  \n",
       "2355 2017-08-01 16:23:56+00:00       None  \n",
       "\n",
       "[2356 rows x 23 columns]"
      ]
     },
     "execution_count": 198,
     "metadata": {},
     "output_type": "execute_result"
    }
   ],
   "source": [
    "df_clean"
   ]
  },
  {
   "cell_type": "code",
   "execution_count": 231,
   "id": "0b16062c",
   "metadata": {},
   "outputs": [],
   "source": [
    "sns.set_style('darkgrid')"
   ]
  },
  {
   "cell_type": "code",
   "execution_count": 247,
   "id": "b51a460a",
   "metadata": {},
   "outputs": [
    {
     "data": {
      "image/png": "[encoded data removed]",
      "text/plain": [
       "<Figure size 1440x576 with 1 Axes>"
      ]
     },
     "metadata": {},
     "output_type": "display_data"
    }
   ],
   "source": [
    "# Plotting a histogram of favorite_count column\n",
    "_, ax = plt.subplots(figsize=(20,8))\n",
    "sns.histplot(data=df_clean, x='favorite_count', ax=ax, kde=True, color='green')\n",
    "plt.xticks(fontsize=18, fontfamily='Times New Roman')\n",
    "plt.yticks(fontsize=18, fontfamily='Times New Roman')\n",
    "plt.xlabel('favorite count', fontdict={'fontsize':18})\n",
    "plt.ylabel('count', fontdict={'fontsize':18})\n",
    "plt.title('Favorite Count Distribution', fontdict={'fontsize': 24, 'fontfamily': 'Times New Roman'})\n",
    "plt.show()"
   ]
  },
  {
   "cell_type": "markdown",
   "id": "92371d9d",
   "metadata": {},
   "source": [
    "From the plot above, the favorite count distribution is right skewed, from the graph we can also see that the tweets which were not liked by most people were many"
   ]
  },
  {
   "cell_type": "markdown",
   "id": "12613508",
   "metadata": {},
   "source": [
    "### Which dog stage is most common?"
   ]
  },
  {
   "cell_type": "code",
   "execution_count": 248,
   "id": "697f7d5a",
   "metadata": {},
   "outputs": [
    {
     "data": {
      "image/png": "[encoded data removed]",
      "text/plain": [
       "<Figure size 1440x576 with 1 Axes>"
      ]
     },
     "metadata": {},
     "output_type": "display_data"
    }
   ],
   "source": [
    "_, ax = plt.subplots(figsize=(20,8))\n",
    "sns.countplot(data=df_clean, x='dog_stages', ax=ax)\n",
    "plt.xticks(fontsize=18)\n",
    "plt.yticks(fontsize=18, fontfamily='Times New Roman')\n",
    "plt.xlabel('dog_stages', fontdict={'fontsize':18})\n",
    "plt.ylabel('count', fontdict={'fontsize':18})\n",
    "plt.title('Dog Stage Count', fontdict={'fontsize': 24, 'fontfamily': 'Times New Roman'})\n",
    "plt.show()"
   ]
  },
  {
   "cell_type": "markdown",
   "id": "a386976f",
   "metadata": {},
   "source": [
    "From the plot above, we can see that most tweets did not specify the dog stage, then out of tweets that specified the dog stage, the pupper stage is the most common dog stage"
   ]
  },
  {
   "cell_type": "markdown",
   "id": "148e4c43",
   "metadata": {},
   "source": [
    "### Which breed of dog is most common?"
   ]
  },
  {
   "cell_type": "markdown",
   "id": "c787fbe4",
   "metadata": {},
   "source": [
    "The most likely prediction of the dog image is in the p1 column. Hence I'll use the p1 column"
   ]
  },
  {
   "cell_type": "code",
   "execution_count": 234,
   "id": "757b3cda",
   "metadata": {},
   "outputs": [],
   "source": [
    "pred_counts = df_clean['p1'].value_counts()"
   ]
  },
  {
   "cell_type": "code",
   "execution_count": 249,
   "id": "ca6e4b46",
   "metadata": {},
   "outputs": [
    {
     "data": {
      "image/png": "[encoded data removed]",
      "text/plain": [
       "<Figure size 1440x576 with 1 Axes>"
      ]
     },
     "metadata": {},
     "output_type": "display_data"
    }
   ],
   "source": [
    "pred_counts[:10][1:].plot(kind='bar', figsize=(20,8))\n",
    "plt.xticks(rotation=60, fontsize=16)\n",
    "plt.yticks(fontsize=18, fontfamily='Times New Roman')\n",
    "plt.xlabel('Dog Breed', fontdict={'fontsize': 18})\n",
    "plt.ylabel('Count', fontdict={'fontsize': 18})\n",
    "plt.title('Breed Popularity', fontdict={'fontsize': 24, 'fontfamily': 'Times New Roman'})\n",
    "plt.show()"
   ]
  },
  {
   "cell_type": "markdown",
   "id": "15ca7f80",
   "metadata": {},
   "source": [
    "From the plot above, the Golden Retriever is the most common breed"
   ]
  },
  {
   "cell_type": "code",
   "execution_count": 236,
   "id": "3cf66494",
   "metadata": {},
   "outputs": [
    {
     "data": {
      "text/plain": [
       "True     1532\n",
       "False     824\n",
       "Name: p1_dog, dtype: int64"
      ]
     },
     "execution_count": 236,
     "metadata": {},
     "output_type": "execute_result"
    }
   ],
   "source": [
    "df_clean['p1_dog'].value_counts()"
   ]
  },
  {
   "cell_type": "markdown",
   "id": "40507804",
   "metadata": {},
   "source": [
    "From the information above, we can see that not all the images were classified as dogs."
   ]
  },
  {
   "cell_type": "code",
   "execution_count": 250,
   "id": "bded39c6",
   "metadata": {},
   "outputs": [
    {
     "data": {
      "image/png": "[encoded data removed]",
      "text/plain": [
       "<Figure size 1440x576 with 1 Axes>"
      ]
     },
     "metadata": {},
     "output_type": "display_data"
    }
   ],
   "source": [
    "_, ax = plt.subplots(figsize=(20,8))\n",
    "sns.countplot(data=df_clean, x='p1_dog', ax=ax)\n",
    "plt.xticks(fontsize=18)\n",
    "plt.yticks(fontsize=18, fontfamily='Times New Roman')\n",
    "plt.xlabel('predicted_as_dog', fontdict={'fontsize':18})\n",
    "plt.ylabel('count', fontdict={'fontsize':18})\n",
    "plt.title('Dog Predictions Count', fontdict={'fontsize': 24, 'fontfamily': 'Times New Roman'})\n",
    "plt.show()"
   ]
  },
  {
   "cell_type": "code",
   "execution_count": 240,
   "id": "3fd9e670",
   "metadata": {},
   "outputs": [
    {
     "data": {
      "text/plain": [
       "12      558\n",
       "11      464\n",
       "10      461\n",
       "13      351\n",
       "9       158\n",
       "8       102\n",
       "7        55\n",
       "14       54\n",
       "5        37\n",
       "6        32\n",
       "3        19\n",
       "4        17\n",
       "1         9\n",
       "2         9\n",
       "15        2\n",
       "75        2\n",
       "0         2\n",
       "420       2\n",
       "204       1\n",
       "84        1\n",
       "24        1\n",
       "182       1\n",
       "666       1\n",
       "27        1\n",
       "165       1\n",
       "1776      1\n",
       "960       1\n",
       "80        1\n",
       "50        1\n",
       "99        1\n",
       "45        1\n",
       "60        1\n",
       "44        1\n",
       "143       1\n",
       "121       1\n",
       "20        1\n",
       "26        1\n",
       "144       1\n",
       "88        1\n",
       "17        1\n",
       "Name: rating_numerator, dtype: int64"
      ]
     },
     "execution_count": 240,
     "metadata": {},
     "output_type": "execute_result"
    }
   ],
   "source": [
    "df_clean['rating_numerator'].value_counts()"
   ]
  },
  {
   "cell_type": "markdown",
   "id": "429dbbd9",
   "metadata": {},
   "source": [
    "From the above series, the most common ratings are usually between between 3 and 14"
   ]
  },
  {
   "cell_type": "code",
   "execution_count": 257,
   "id": "7093cd07",
   "metadata": {},
   "outputs": [],
   "source": [
    "# Making a column for usual and unusual ratings \n",
    "\n",
    "def classify_rating(r):\n",
    "    return 'Usual' if r in range(3, 15) else 'Unusual'"
   ]
  },
  {
   "cell_type": "code",
   "execution_count": 258,
   "id": "ebc9560e",
   "metadata": {},
   "outputs": [],
   "source": [
    "df_clean['rating_numerator_classified'] = df_clean['rating_numerator'].apply(classify_rating)\n",
    "df_clean['rating_denominator_classified'] = df_clean['rating_numerator'].apply(classify_rating)"
   ]
  },
  {
   "cell_type": "code",
   "execution_count": 259,
   "id": "007eaf4c",
   "metadata": {},
   "outputs": [
    {
     "data": {
      "image/png": "[encoded data removed]",
      "text/plain": [
       "<Figure size 1440x1080 with 2 Axes>"
      ]
     },
     "metadata": {},
     "output_type": "display_data"
    }
   ],
   "source": [
    "_, ax = plt.subplots(figsize=(20,15), nrows=2)\n",
    "sns.countplot(data=df_clean, x='rating_numerator_classified', ax=ax[0])\n",
    "sns.countplot(data=df_clean, x='rating_denominator_classified', ax=ax[1])\n",
    "\n",
    "rating_class = ['Numerator', 'Denominator']\n",
    "\n",
    "ax[0].set_title('Ratings Count', fontdict={'fontsize': 24, 'fontfamily': 'Times New Roman'})\n",
    "for i, x in enumerate(ax):\n",
    "    x.set_xticks([0, 1], labels=['Usual', 'Unusual'], fontsize=18)\n",
    "    x.set_yticks([*range(0,2001,500)], labels=[*range(0,2001,500)], fontsize=18, fontfamily='Times New Roman')\n",
    "    x.set_xlabel(f'{rating_class[i]} Rating Classifcation', fontdict={'fontsize':18})\n",
    "    x.set_ylabel('count', fontdict={'fontsize':18})\n",
    "plt.show()"
   ]
  },
  {
   "cell_type": "markdown",
   "id": "eb8d7a94",
   "metadata": {},
   "source": [
    "In both plots, the unusual rating types are far less common to the usual rating types"
   ]
  },
  {
   "cell_type": "code",
   "execution_count": 282,
   "id": "6b231a74",
   "metadata": {},
   "outputs": [
    {
     "data": {
      "image/png": "[encoded data removed]",
      "text/plain": [
       "<Figure size 1440x576 with 1 Axes>"
      ]
     },
     "metadata": {},
     "output_type": "display_data"
    }
   ],
   "source": [
    "_, ax = plt.subplots(figsize=(20,8))\n",
    "sns.countplot(data=df_clean, x='source', ax=ax)\n",
    "plt.xticks(fontsize=18)\n",
    "plt.yticks(fontsize=18, fontfamily='Times New Roman')\n",
    "plt.xlabel('Tweet Source', fontdict={'fontsize':18})\n",
    "plt.ylabel('count', fontdict={'fontsize':18})\n",
    "plt.title('Tweet Source Count', fontdict={'fontsize': 24, 'fontfamily': 'Times New Roman'})\n",
    "plt.show()"
   ]
  },
  {
   "cell_type": "markdown",
   "id": "1ef0f3d7",
   "metadata": {},
   "source": [
    "From the plot above, most of the dog owners use iPhone. "
   ]
  },
  {
   "cell_type": "markdown",
   "id": "5f5d40b2",
   "metadata": {},
   "source": [
    "The difference between the users count is clear below"
   ]
  },
  {
   "cell_type": "code",
   "execution_count": 262,
   "id": "f7915023",
   "metadata": {},
   "outputs": [
    {
     "data": {
      "text/plain": [
       "Twitter for iPhone     0.942699\n",
       "Vine - Make a Scene    0.038625\n",
       "Twitter Web Client     0.014007\n",
       "TweetDeck              0.004669\n",
       "Name: source, dtype: float64"
      ]
     },
     "execution_count": 262,
     "metadata": {},
     "output_type": "execute_result"
    }
   ],
   "source": [
    "df_clean['source'].value_counts() / len(df_clean)"
   ]
  },
  {
   "cell_type": "markdown",
   "id": "7593b843",
   "metadata": {},
   "source": [
    "About an amazing 94% of tweeters use iPhone."
   ]
  },
  {
   "cell_type": "code",
   "execution_count": 283,
   "id": "84479d79",
   "metadata": {},
   "outputs": [
    {
     "data": {
      "image/png": "[encoded data removed]",
      "text/plain": [
       "<Figure size 1440x576 with 1 Axes>"
      ]
     },
     "metadata": {},
     "output_type": "display_data"
    }
   ],
   "source": [
    "_, ax = plt.subplots(figsize=(20,8))\n",
    "sns.barplot(x=df_clean['name'].value_counts()[1:11].keys(), y=df_clean['name'].value_counts()[1:11].values, ax=ax)\n",
    "plt.xticks(fontsize=18)\n",
    "plt.yticks(fontsize=18, fontfamily='Times New Roman')\n",
    "plt.xlabel('Names', fontdict={'fontsize':18})\n",
    "plt.ylabel('count', fontdict={'fontsize':18})\n",
    "plt.title('Most Common Names', fontdict={'fontsize': 24, 'fontfamily': 'Times New Roman'})\n",
    "plt.show()"
   ]
  },
  {
   "cell_type": "markdown",
   "id": "a6dbb46d",
   "metadata": {},
   "source": [
    "From the plot above, most dog owners name their dog Charlie."
   ]
  },
  {
   "cell_type": "code",
   "execution_count": null,
   "id": "75b40e92",
   "metadata": {},
   "outputs": [],
   "source": []
  }
 ],
 "metadata": {
  "kernelspec": {
   "display_name": "Python 3 (ipykernel)",
   "language": "python",
   "name": "python3"
  },
  "language_info": {
   "codemirror_mode": {
    "name": "ipython",
    "version": 3
   },
   "file_extension": ".py",
   "mimetype": "text/x-python",
   "name": "python",
   "nbconvert_exporter": "python",
   "pygments_lexer": "ipython3",
   "version": "3.9.13"
  }
 },
 "nbformat": 4,
 "nbformat_minor": 5
}
