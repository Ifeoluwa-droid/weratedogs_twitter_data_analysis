{
 "cells": [
  {
   "cell_type": "markdown",
   "id": "5d16deb7",
   "metadata": {},
   "source": [
    "### Data Gathering"
   ]
  },
  {
   "cell_type": "markdown",
   "id": "6f8237a5",
   "metadata": {},
   "source": [
    "I gathered the data from three different sources\n",
    "1. I downloaded the file `twitter-archive-enhanced.csv` manually from the Udacity platform\n",
    "2. I downloaded the file `image-predictions.tsv` programmatically from the link 'https://d17h27t6h515a5.cloudfront.net/topher/2017/August/599fd2ad_image-predictions/image-predictions.tsv' provided by the Udacity platform\n",
    "3. I couldn't get access to the twitter api, so I downloaded the `tweet-json.txt` provided by the Udacity platform programmatically from the link 'https://video.udacity-data.com/topher/2018/November/5be5fb7d_tweet-json/tweet-json.txt'\n",
    "\n",
    "    \n",
    "    "
   ]
  },
  {
   "cell_type": "markdown",
   "id": "0cb39f01",
   "metadata": {},
   "source": [
    "- After gathering the data, I read the data into the jupyter notebook, using the pandas `pd.read_csv()` function for the first two files.\n",
    "- For the third file (json file), I read the json data contained in each line of the text file and extracted the needed inormation of `tweet_id`, `retweet_count`, `favorite_count`, `tweet_text`, `truncated` and `retweeted`\n",
    "- I appended the information as a dictionary to a list called `df_list`\n",
    "- I converted the list `df_list` into a dataframe `tweet_df`"
   ]
  },
  {
   "cell_type": "markdown",
   "id": "7ad2033d",
   "metadata": {},
   "source": [
    "### Assessing"
   ]
  },
  {
   "cell_type": "markdown",
   "id": "4f2fa6c0",
   "metadata": {},
   "source": [
    "- The `df` dataframe has some tweets which are replies and retweets\n",
    "- On accessing the `name` column of the `df` dataframe with the `value_counts()` and `keys()` method, I discovered that there were some inaccurate names in the data\n",
    "- These inaccurate names could be easily detected becuase they were all in lowercase format.\n",
    "- Thus, I created a list called `none_names` which contained all the inaccurate names using the `islower()` method\n",
    "- I discovered that some columns of the `df` dataframe were of the incorrect datatype format so I changed them to the correct datatype format.\n",
    "- These were the `timestamp`, `img_num`, `retweet_count`, `tweet_id`, `favorite_count` columns\n",
    "- I discovered that some columns had missing values which were almost as many as the size of the dataset.\n",
    "- On assessing the `name` column of the df dataframe, There were inaccurate names like 'a', 'the', 'an' etc. in the `name` column of the `df` dataframe\n",
    "- On assessing the The prediction columns of the `image_pred_df` dataframe, the predicted names had underscores within them.\n",
    "- The values in the prediction columns of the `image_pred_df` were inconsistent with letter casing\n",
    "\n",
    "\n",
    "- On assessing the `df` dataframe, the dog stage of the dog was spread across 4 different columns.\n",
    "- The data spread across 3 different tables.\n"
   ]
  },
  {
   "cell_type": "markdown",
   "id": "6aaadbe0",
   "metadata": {},
   "source": [
    "### Cleaning"
   ]
  },
  {
   "cell_type": "markdown",
   "id": "4db8783d",
   "metadata": {},
   "source": [
    "- I made a copy of the original dataframes, and solved the missing data issues by dropping all the columns with missing data from `df` dataframe.\n",
    "- I dropped the columns which indicated replies and retweets\n",
    "- I dropped all remaining columns with missing data.\n",
    "- I merged the three dataframes into one dataframe."
   ]
  },
  {
   "cell_type": "markdown",
   "id": "8987b79f",
   "metadata": {},
   "source": [
    "After merging the three datasets I discovered that there were missing values in the merged dataframe.\n",
    "\n",
    "For those cases, i replaced the null values like so\n",
    "- I replaced missing values in string columns with `No Image`\n",
    "- I replaced missing values in numerical columns with `0`\n",
    "- I replaced missing values in boolean columns with `False`"
   ]
  },
  {
   "cell_type": "markdown",
   "id": "2eca9261",
   "metadata": {},
   "source": [
    "After that I discovered another tidiness issue, the `text` column of `df` was duplicated as `tweet_text`"
   ]
  },
  {
   "cell_type": "markdown",
   "id": "b6d0737a",
   "metadata": {},
   "source": [
    "I dropped the `tweet_text` column"
   ]
  },
  {
   "cell_type": "markdown",
   "id": "385e6146",
   "metadata": {},
   "source": [
    "I combined the columns `doggo`, `floofer`, `pupper` and `puppo` into one column named `dog_stages` using `pd.melt()`"
   ]
  },
  {
   "cell_type": "markdown",
   "id": "6b6e76fa",
   "metadata": {},
   "source": [
    "- Then I made sure to get the dog_stage information.\n",
    "- After that, I made all the incorrectly formatted columns to be in the correct format using the `astype()` method\n",
    "- Then, I replaced the inaccurate names with 'None', assuming there was actually no name specified in the tweet.\n",
    "- I removed the underscore present within the predicted values in the prediction columns of the `image_pred_df` dataset.\n",
    "- I also changed the casing to title casing."
   ]
  },
  {
   "cell_type": "markdown",
   "id": "6973c1d4",
   "metadata": {},
   "source": [
    "- Another quality issue was detected looking at the massive number of `None` values in the `dog_stage` column of the dataset\n",
    "- This issue was solved by extracting the dog_stages information from the tweet's text using the function `extract_dog_stage()`"
   ]
  },
  {
   "cell_type": "markdown",
   "id": "01951b9d",
   "metadata": {},
   "source": [
    "- The last and eight quality issue discovered was regarding the source, the links were provided, the links are of little importance. What I need is the source. \n",
    "- I extracted the source using the `extract_source()` function"
   ]
  },
  {
   "cell_type": "markdown",
   "id": "7c495cfa",
   "metadata": {},
   "source": [
    "- I saved the dataset into a csv file named `twitter_archive_master.csv`"
   ]
  },
  {
   "cell_type": "code",
   "execution_count": null,
   "id": "d8edda1c",
   "metadata": {},
   "outputs": [],
   "source": []
  }
 ],
 "metadata": {
  "kernelspec": {
   "display_name": "Python 3 (ipykernel)",
   "language": "python",
   "name": "python3"
  },
  "language_info": {
   "codemirror_mode": {
    "name": "ipython",
    "version": 3
   },
   "file_extension": ".py",
   "mimetype": "text/x-python",
   "name": "python",
   "nbconvert_exporter": "python",
   "pygments_lexer": "ipython3",
   "version": "3.9.13"
  }
 },
 "nbformat": 4,
 "nbformat_minor": 5
}
