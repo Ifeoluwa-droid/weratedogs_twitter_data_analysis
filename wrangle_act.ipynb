{
 "cells": [
  {
   "cell_type": "markdown",
   "id": "b8dfe9fa",
   "metadata": {},
   "source": [
    "# Project: Wrangling and Analyze Data"
   ]
  },
  {
   "cell_type": "markdown",
   "id": "0bdbe634",
   "metadata": {},
   "source": [
    "## Data Gathering"
   ]
  },
  {
   "cell_type": "markdown",
   "id": "39c149f2",
   "metadata": {},
   "source": [
    "In the cell below, gather all three pieces of data for this project and load them in the notebook. Note: the methods required to gather each data are different.\n",
    "\n",
    "Directly download the WeRateDogs Twitter archive data (twitter_archive_enhanced.csv)"
   ]
  },
  {
   "cell_type": "code",
   "execution_count": 1,
   "id": "460f563d",
   "metadata": {},
   "outputs": [],
   "source": [
    "# importing the required libraries\n",
    "\n",
    "import numpy as np\n",
    "import pandas as pd\n",
    "import matplotlib.pyplot as plt\n",
    "import seaborn as sns\n",
    "import requests\n",
    "import os # for path\n",
    "import json # for json data"
   ]
  },
  {
   "cell_type": "code",
   "execution_count": 2,
   "id": "333adb29",
   "metadata": {},
   "outputs": [],
   "source": [
    "# reading the downloaded data into the df dataframe\n",
    "\n",
    "df = pd.read_csv('data_files/twitter-archive-enhanced.csv')"
   ]
  },
  {
   "cell_type": "code",
   "execution_count": 3,
   "id": "08c4ae4d",
   "metadata": {},
   "outputs": [
    {
     "data": {
      "text/html": [
       "<div>\n",
       "<style scoped>\n",
       "    .dataframe tbody tr th:only-of-type {\n",
       "        vertical-align: middle;\n",
       "    }\n",
       "\n",
       "    .dataframe tbody tr th {\n",
       "        vertical-align: top;\n",
       "    }\n",
       "\n",
       "    .dataframe thead th {\n",
       "        text-align: right;\n",
       "    }\n",
       "</style>\n",
       "<table border=\"1\" class=\"dataframe\">\n",
       "  <thead>\n",
       "    <tr style=\"text-align: right;\">\n",
       "      <th></th>\n",
       "      <th>tweet_id</th>\n",
       "      <th>in_reply_to_status_id</th>\n",
       "      <th>in_reply_to_user_id</th>\n",
       "      <th>timestamp</th>\n",
       "      <th>source</th>\n",
       "      <th>text</th>\n",
       "      <th>retweeted_status_id</th>\n",
       "      <th>retweeted_status_user_id</th>\n",
       "      <th>retweeted_status_timestamp</th>\n",
       "      <th>expanded_urls</th>\n",
       "      <th>rating_numerator</th>\n",
       "      <th>rating_denominator</th>\n",
       "      <th>name</th>\n",
       "      <th>doggo</th>\n",
       "      <th>floofer</th>\n",
       "      <th>pupper</th>\n",
       "      <th>puppo</th>\n",
       "    </tr>\n",
       "  </thead>\n",
       "  <tbody>\n",
       "    <tr>\n",
       "      <th>0</th>\n",
       "      <td>892420643555336193</td>\n",
       "      <td>NaN</td>\n",
       "      <td>NaN</td>\n",
       "      <td>2017-08-01 16:23:56 +0000</td>\n",
       "      <td>&lt;a href=\"http://twitter.com/download/iphone\" r...</td>\n",
       "      <td>This is Phineas. He's a mystical boy. Only eve...</td>\n",
       "      <td>NaN</td>\n",
       "      <td>NaN</td>\n",
       "      <td>NaN</td>\n",
       "      <td>https://twitter.com/dog_rates/status/892420643...</td>\n",
       "      <td>13</td>\n",
       "      <td>10</td>\n",
       "      <td>Phineas</td>\n",
       "      <td>None</td>\n",
       "      <td>None</td>\n",
       "      <td>None</td>\n",
       "      <td>None</td>\n",
       "    </tr>\n",
       "    <tr>\n",
       "      <th>1</th>\n",
       "      <td>892177421306343426</td>\n",
       "      <td>NaN</td>\n",
       "      <td>NaN</td>\n",
       "      <td>2017-08-01 00:17:27 +0000</td>\n",
       "      <td>&lt;a href=\"http://twitter.com/download/iphone\" r...</td>\n",
       "      <td>This is Tilly. She's just checking pup on you....</td>\n",
       "      <td>NaN</td>\n",
       "      <td>NaN</td>\n",
       "      <td>NaN</td>\n",
       "      <td>https://twitter.com/dog_rates/status/892177421...</td>\n",
       "      <td>13</td>\n",
       "      <td>10</td>\n",
       "      <td>Tilly</td>\n",
       "      <td>None</td>\n",
       "      <td>None</td>\n",
       "      <td>None</td>\n",
       "      <td>None</td>\n",
       "    </tr>\n",
       "    <tr>\n",
       "      <th>2</th>\n",
       "      <td>891815181378084864</td>\n",
       "      <td>NaN</td>\n",
       "      <td>NaN</td>\n",
       "      <td>2017-07-31 00:18:03 +0000</td>\n",
       "      <td>&lt;a href=\"http://twitter.com/download/iphone\" r...</td>\n",
       "      <td>This is Archie. He is a rare Norwegian Pouncin...</td>\n",
       "      <td>NaN</td>\n",
       "      <td>NaN</td>\n",
       "      <td>NaN</td>\n",
       "      <td>https://twitter.com/dog_rates/status/891815181...</td>\n",
       "      <td>12</td>\n",
       "      <td>10</td>\n",
       "      <td>Archie</td>\n",
       "      <td>None</td>\n",
       "      <td>None</td>\n",
       "      <td>None</td>\n",
       "      <td>None</td>\n",
       "    </tr>\n",
       "    <tr>\n",
       "      <th>3</th>\n",
       "      <td>891689557279858688</td>\n",
       "      <td>NaN</td>\n",
       "      <td>NaN</td>\n",
       "      <td>2017-07-30 15:58:51 +0000</td>\n",
       "      <td>&lt;a href=\"http://twitter.com/download/iphone\" r...</td>\n",
       "      <td>This is Darla. She commenced a snooze mid meal...</td>\n",
       "      <td>NaN</td>\n",
       "      <td>NaN</td>\n",
       "      <td>NaN</td>\n",
       "      <td>https://twitter.com/dog_rates/status/891689557...</td>\n",
       "      <td>13</td>\n",
       "      <td>10</td>\n",
       "      <td>Darla</td>\n",
       "      <td>None</td>\n",
       "      <td>None</td>\n",
       "      <td>None</td>\n",
       "      <td>None</td>\n",
       "    </tr>\n",
       "    <tr>\n",
       "      <th>4</th>\n",
       "      <td>891327558926688256</td>\n",
       "      <td>NaN</td>\n",
       "      <td>NaN</td>\n",
       "      <td>2017-07-29 16:00:24 +0000</td>\n",
       "      <td>&lt;a href=\"http://twitter.com/download/iphone\" r...</td>\n",
       "      <td>This is Franklin. He would like you to stop ca...</td>\n",
       "      <td>NaN</td>\n",
       "      <td>NaN</td>\n",
       "      <td>NaN</td>\n",
       "      <td>https://twitter.com/dog_rates/status/891327558...</td>\n",
       "      <td>12</td>\n",
       "      <td>10</td>\n",
       "      <td>Franklin</td>\n",
       "      <td>None</td>\n",
       "      <td>None</td>\n",
       "      <td>None</td>\n",
       "      <td>None</td>\n",
       "    </tr>\n",
       "  </tbody>\n",
       "</table>\n",
       "</div>"
      ],
      "text/plain": [
       "             tweet_id  in_reply_to_status_id  in_reply_to_user_id  \\\n",
       "0  892420643555336193                    NaN                  NaN   \n",
       "1  892177421306343426                    NaN                  NaN   \n",
       "2  891815181378084864                    NaN                  NaN   \n",
       "3  891689557279858688                    NaN                  NaN   \n",
       "4  891327558926688256                    NaN                  NaN   \n",
       "\n",
       "                   timestamp  \\\n",
       "0  2017-08-01 16:23:56 +0000   \n",
       "1  2017-08-01 00:17:27 +0000   \n",
       "2  2017-07-31 00:18:03 +0000   \n",
       "3  2017-07-30 15:58:51 +0000   \n",
       "4  2017-07-29 16:00:24 +0000   \n",
       "\n",
       "                                              source  \\\n",
       "0  <a href=\"http://twitter.com/download/iphone\" r...   \n",
       "1  <a href=\"http://twitter.com/download/iphone\" r...   \n",
       "2  <a href=\"http://twitter.com/download/iphone\" r...   \n",
       "3  <a href=\"http://twitter.com/download/iphone\" r...   \n",
       "4  <a href=\"http://twitter.com/download/iphone\" r...   \n",
       "\n",
       "                                                text  retweeted_status_id  \\\n",
       "0  This is Phineas. He's a mystical boy. Only eve...                  NaN   \n",
       "1  This is Tilly. She's just checking pup on you....                  NaN   \n",
       "2  This is Archie. He is a rare Norwegian Pouncin...                  NaN   \n",
       "3  This is Darla. She commenced a snooze mid meal...                  NaN   \n",
       "4  This is Franklin. He would like you to stop ca...                  NaN   \n",
       "\n",
       "   retweeted_status_user_id retweeted_status_timestamp  \\\n",
       "0                       NaN                        NaN   \n",
       "1                       NaN                        NaN   \n",
       "2                       NaN                        NaN   \n",
       "3                       NaN                        NaN   \n",
       "4                       NaN                        NaN   \n",
       "\n",
       "                                       expanded_urls  rating_numerator  \\\n",
       "0  https://twitter.com/dog_rates/status/892420643...                13   \n",
       "1  https://twitter.com/dog_rates/status/892177421...                13   \n",
       "2  https://twitter.com/dog_rates/status/891815181...                12   \n",
       "3  https://twitter.com/dog_rates/status/891689557...                13   \n",
       "4  https://twitter.com/dog_rates/status/891327558...                12   \n",
       "\n",
       "   rating_denominator      name doggo floofer pupper puppo  \n",
       "0                  10   Phineas  None    None   None  None  \n",
       "1                  10     Tilly  None    None   None  None  \n",
       "2                  10    Archie  None    None   None  None  \n",
       "3                  10     Darla  None    None   None  None  \n",
       "4                  10  Franklin  None    None   None  None  "
      ]
     },
     "execution_count": 3,
     "metadata": {},
     "output_type": "execute_result"
    }
   ],
   "source": [
    "df.head()"
   ]
  },
  {
   "cell_type": "code",
   "execution_count": 4,
   "id": "a4c556a5",
   "metadata": {},
   "outputs": [
    {
     "data": {
      "text/plain": [
       "(2356, 17)"
      ]
     },
     "execution_count": 4,
     "metadata": {},
     "output_type": "execute_result"
    }
   ],
   "source": [
    "df.shape"
   ]
  },
  {
   "cell_type": "markdown",
   "id": "cbf59c29",
   "metadata": {},
   "source": [
    "Use the Requests library to download the tweet image prediction (image_predictions.tsv)"
   ]
  },
  {
   "cell_type": "code",
   "execution_count": 6,
   "id": "f74bf701",
   "metadata": {},
   "outputs": [],
   "source": [
    "# getting the file from the internet\n",
    "\n",
    "file_end_url = 'https://d17h27t6h515a5.cloudfront.net/topher/2017/August/599fd2ad_image-predictions/image-predictions.tsv'\n",
    "file_response = requests.get(file_end_url)"
   ]
  },
  {
   "cell_type": "code",
   "execution_count": 7,
   "id": "4a8abf36",
   "metadata": {},
   "outputs": [],
   "source": [
    "data_folder_name = 'data_files'\n",
    "\n",
    "with open(os.path.join(data_folder_name, file_end_url.split('/')[-1]), 'wb') as image_text_file:\n",
    "    image_text_file.write(file_response.content)"
   ]
  },
  {
   "cell_type": "code",
   "execution_count": 8,
   "id": "8f877b8a",
   "metadata": {},
   "outputs": [],
   "source": [
    "image_pred_df = pd.read_csv('data_files/image-predictions.tsv', sep='\\t')"
   ]
  },
  {
   "cell_type": "code",
   "execution_count": 9,
   "id": "786ad046",
   "metadata": {},
   "outputs": [
    {
     "data": {
      "text/html": [
       "<div>\n",
       "<style scoped>\n",
       "    .dataframe tbody tr th:only-of-type {\n",
       "        vertical-align: middle;\n",
       "    }\n",
       "\n",
       "    .dataframe tbody tr th {\n",
       "        vertical-align: top;\n",
       "    }\n",
       "\n",
       "    .dataframe thead th {\n",
       "        text-align: right;\n",
       "    }\n",
       "</style>\n",
       "<table border=\"1\" class=\"dataframe\">\n",
       "  <thead>\n",
       "    <tr style=\"text-align: right;\">\n",
       "      <th></th>\n",
       "      <th>tweet_id</th>\n",
       "      <th>jpg_url</th>\n",
       "      <th>img_num</th>\n",
       "      <th>p1</th>\n",
       "      <th>p1_conf</th>\n",
       "      <th>p1_dog</th>\n",
       "      <th>p2</th>\n",
       "      <th>p2_conf</th>\n",
       "      <th>p2_dog</th>\n",
       "      <th>p3</th>\n",
       "      <th>p3_conf</th>\n",
       "      <th>p3_dog</th>\n",
       "    </tr>\n",
       "  </thead>\n",
       "  <tbody>\n",
       "    <tr>\n",
       "      <th>0</th>\n",
       "      <td>666020888022790149</td>\n",
       "      <td>https://pbs.twimg.com/media/CT4udn0WwAA0aMy.jpg</td>\n",
       "      <td>1</td>\n",
       "      <td>Welsh_springer_spaniel</td>\n",
       "      <td>0.465074</td>\n",
       "      <td>True</td>\n",
       "      <td>collie</td>\n",
       "      <td>0.156665</td>\n",
       "      <td>True</td>\n",
       "      <td>Shetland_sheepdog</td>\n",
       "      <td>0.061428</td>\n",
       "      <td>True</td>\n",
       "    </tr>\n",
       "    <tr>\n",
       "      <th>1</th>\n",
       "      <td>666029285002620928</td>\n",
       "      <td>https://pbs.twimg.com/media/CT42GRgUYAA5iDo.jpg</td>\n",
       "      <td>1</td>\n",
       "      <td>redbone</td>\n",
       "      <td>0.506826</td>\n",
       "      <td>True</td>\n",
       "      <td>miniature_pinscher</td>\n",
       "      <td>0.074192</td>\n",
       "      <td>True</td>\n",
       "      <td>Rhodesian_ridgeback</td>\n",
       "      <td>0.072010</td>\n",
       "      <td>True</td>\n",
       "    </tr>\n",
       "    <tr>\n",
       "      <th>2</th>\n",
       "      <td>666033412701032449</td>\n",
       "      <td>https://pbs.twimg.com/media/CT4521TWwAEvMyu.jpg</td>\n",
       "      <td>1</td>\n",
       "      <td>German_shepherd</td>\n",
       "      <td>0.596461</td>\n",
       "      <td>True</td>\n",
       "      <td>malinois</td>\n",
       "      <td>0.138584</td>\n",
       "      <td>True</td>\n",
       "      <td>bloodhound</td>\n",
       "      <td>0.116197</td>\n",
       "      <td>True</td>\n",
       "    </tr>\n",
       "    <tr>\n",
       "      <th>3</th>\n",
       "      <td>666044226329800704</td>\n",
       "      <td>https://pbs.twimg.com/media/CT5Dr8HUEAA-lEu.jpg</td>\n",
       "      <td>1</td>\n",
       "      <td>Rhodesian_ridgeback</td>\n",
       "      <td>0.408143</td>\n",
       "      <td>True</td>\n",
       "      <td>redbone</td>\n",
       "      <td>0.360687</td>\n",
       "      <td>True</td>\n",
       "      <td>miniature_pinscher</td>\n",
       "      <td>0.222752</td>\n",
       "      <td>True</td>\n",
       "    </tr>\n",
       "    <tr>\n",
       "      <th>4</th>\n",
       "      <td>666049248165822465</td>\n",
       "      <td>https://pbs.twimg.com/media/CT5IQmsXIAAKY4A.jpg</td>\n",
       "      <td>1</td>\n",
       "      <td>miniature_pinscher</td>\n",
       "      <td>0.560311</td>\n",
       "      <td>True</td>\n",
       "      <td>Rottweiler</td>\n",
       "      <td>0.243682</td>\n",
       "      <td>True</td>\n",
       "      <td>Doberman</td>\n",
       "      <td>0.154629</td>\n",
       "      <td>True</td>\n",
       "    </tr>\n",
       "    <tr>\n",
       "      <th>...</th>\n",
       "      <td>...</td>\n",
       "      <td>...</td>\n",
       "      <td>...</td>\n",
       "      <td>...</td>\n",
       "      <td>...</td>\n",
       "      <td>...</td>\n",
       "      <td>...</td>\n",
       "      <td>...</td>\n",
       "      <td>...</td>\n",
       "      <td>...</td>\n",
       "      <td>...</td>\n",
       "      <td>...</td>\n",
       "    </tr>\n",
       "    <tr>\n",
       "      <th>2070</th>\n",
       "      <td>891327558926688256</td>\n",
       "      <td>https://pbs.twimg.com/media/DF6hr6BUMAAzZgT.jpg</td>\n",
       "      <td>2</td>\n",
       "      <td>basset</td>\n",
       "      <td>0.555712</td>\n",
       "      <td>True</td>\n",
       "      <td>English_springer</td>\n",
       "      <td>0.225770</td>\n",
       "      <td>True</td>\n",
       "      <td>German_short-haired_pointer</td>\n",
       "      <td>0.175219</td>\n",
       "      <td>True</td>\n",
       "    </tr>\n",
       "    <tr>\n",
       "      <th>2071</th>\n",
       "      <td>891689557279858688</td>\n",
       "      <td>https://pbs.twimg.com/media/DF_q7IAWsAEuuN8.jpg</td>\n",
       "      <td>1</td>\n",
       "      <td>paper_towel</td>\n",
       "      <td>0.170278</td>\n",
       "      <td>False</td>\n",
       "      <td>Labrador_retriever</td>\n",
       "      <td>0.168086</td>\n",
       "      <td>True</td>\n",
       "      <td>spatula</td>\n",
       "      <td>0.040836</td>\n",
       "      <td>False</td>\n",
       "    </tr>\n",
       "    <tr>\n",
       "      <th>2072</th>\n",
       "      <td>891815181378084864</td>\n",
       "      <td>https://pbs.twimg.com/media/DGBdLU1WsAANxJ9.jpg</td>\n",
       "      <td>1</td>\n",
       "      <td>Chihuahua</td>\n",
       "      <td>0.716012</td>\n",
       "      <td>True</td>\n",
       "      <td>malamute</td>\n",
       "      <td>0.078253</td>\n",
       "      <td>True</td>\n",
       "      <td>kelpie</td>\n",
       "      <td>0.031379</td>\n",
       "      <td>True</td>\n",
       "    </tr>\n",
       "    <tr>\n",
       "      <th>2073</th>\n",
       "      <td>892177421306343426</td>\n",
       "      <td>https://pbs.twimg.com/media/DGGmoV4XsAAUL6n.jpg</td>\n",
       "      <td>1</td>\n",
       "      <td>Chihuahua</td>\n",
       "      <td>0.323581</td>\n",
       "      <td>True</td>\n",
       "      <td>Pekinese</td>\n",
       "      <td>0.090647</td>\n",
       "      <td>True</td>\n",
       "      <td>papillon</td>\n",
       "      <td>0.068957</td>\n",
       "      <td>True</td>\n",
       "    </tr>\n",
       "    <tr>\n",
       "      <th>2074</th>\n",
       "      <td>892420643555336193</td>\n",
       "      <td>https://pbs.twimg.com/media/DGKD1-bXoAAIAUK.jpg</td>\n",
       "      <td>1</td>\n",
       "      <td>orange</td>\n",
       "      <td>0.097049</td>\n",
       "      <td>False</td>\n",
       "      <td>bagel</td>\n",
       "      <td>0.085851</td>\n",
       "      <td>False</td>\n",
       "      <td>banana</td>\n",
       "      <td>0.076110</td>\n",
       "      <td>False</td>\n",
       "    </tr>\n",
       "  </tbody>\n",
       "</table>\n",
       "<p>2075 rows × 12 columns</p>\n",
       "</div>"
      ],
      "text/plain": [
       "                tweet_id                                          jpg_url  \\\n",
       "0     666020888022790149  https://pbs.twimg.com/media/CT4udn0WwAA0aMy.jpg   \n",
       "1     666029285002620928  https://pbs.twimg.com/media/CT42GRgUYAA5iDo.jpg   \n",
       "2     666033412701032449  https://pbs.twimg.com/media/CT4521TWwAEvMyu.jpg   \n",
       "3     666044226329800704  https://pbs.twimg.com/media/CT5Dr8HUEAA-lEu.jpg   \n",
       "4     666049248165822465  https://pbs.twimg.com/media/CT5IQmsXIAAKY4A.jpg   \n",
       "...                  ...                                              ...   \n",
       "2070  891327558926688256  https://pbs.twimg.com/media/DF6hr6BUMAAzZgT.jpg   \n",
       "2071  891689557279858688  https://pbs.twimg.com/media/DF_q7IAWsAEuuN8.jpg   \n",
       "2072  891815181378084864  https://pbs.twimg.com/media/DGBdLU1WsAANxJ9.jpg   \n",
       "2073  892177421306343426  https://pbs.twimg.com/media/DGGmoV4XsAAUL6n.jpg   \n",
       "2074  892420643555336193  https://pbs.twimg.com/media/DGKD1-bXoAAIAUK.jpg   \n",
       "\n",
       "      img_num                      p1   p1_conf  p1_dog                  p2  \\\n",
       "0           1  Welsh_springer_spaniel  0.465074    True              collie   \n",
       "1           1                 redbone  0.506826    True  miniature_pinscher   \n",
       "2           1         German_shepherd  0.596461    True            malinois   \n",
       "3           1     Rhodesian_ridgeback  0.408143    True             redbone   \n",
       "4           1      miniature_pinscher  0.560311    True          Rottweiler   \n",
       "...       ...                     ...       ...     ...                 ...   \n",
       "2070        2                  basset  0.555712    True    English_springer   \n",
       "2071        1             paper_towel  0.170278   False  Labrador_retriever   \n",
       "2072        1               Chihuahua  0.716012    True            malamute   \n",
       "2073        1               Chihuahua  0.323581    True            Pekinese   \n",
       "2074        1                  orange  0.097049   False               bagel   \n",
       "\n",
       "       p2_conf  p2_dog                           p3   p3_conf  p3_dog  \n",
       "0     0.156665    True            Shetland_sheepdog  0.061428    True  \n",
       "1     0.074192    True          Rhodesian_ridgeback  0.072010    True  \n",
       "2     0.138584    True                   bloodhound  0.116197    True  \n",
       "3     0.360687    True           miniature_pinscher  0.222752    True  \n",
       "4     0.243682    True                     Doberman  0.154629    True  \n",
       "...        ...     ...                          ...       ...     ...  \n",
       "2070  0.225770    True  German_short-haired_pointer  0.175219    True  \n",
       "2071  0.168086    True                      spatula  0.040836   False  \n",
       "2072  0.078253    True                       kelpie  0.031379    True  \n",
       "2073  0.090647    True                     papillon  0.068957    True  \n",
       "2074  0.085851   False                       banana  0.076110   False  \n",
       "\n",
       "[2075 rows x 12 columns]"
      ]
     },
     "execution_count": 9,
     "metadata": {},
     "output_type": "execute_result"
    }
   ],
   "source": [
    "image_pred_df"
   ]
  },
  {
   "cell_type": "markdown",
   "id": "a3abf006",
   "metadata": {},
   "source": [
    "Use the Tweepy library to query additional data via the Twitter API (tweet_json.txt)"
   ]
  },
  {
   "cell_type": "code",
   "execution_count": 10,
   "id": "9e56c9a9",
   "metadata": {},
   "outputs": [],
   "source": [
    "# import tweepy\n",
    "# from tweepy import OAuthHandler\n",
    "# import json\n",
    "# from timeit import default_timer as timer\n",
    "\n",
    "# # Query Twitter API for each tweet in the Twitter archive and save JSON in a text file\n",
    "# # These are hidden to comply with Twitter's API terms and conditions\n",
    "# consumer_key = 'HIDDEN'\n",
    "# consumer_secret = 'HIDDEN'\n",
    "# access_token = 'HIDDEN'\n",
    "# access_secret = 'HIDDEN'\n",
    "\n",
    "# auth = OAuthHandler(consumer_key, consumer_secret)\n",
    "# auth.set_access_token(access_token, access_secret)\n",
    "\n",
    "# api = tweepy.API(auth, wait_on_rate_limit=True)\n",
    "\n",
    "# # NOTE TO STUDENT WITH MOBILE VERIFICATION ISSUES:\n",
    "# # df_1 is a DataFrame with the twitter_archive_enhanced.csv file. You may have to\n",
    "# # change line 17 to match the name of your DataFrame with twitter_archive_enhanced.csv\n",
    "# # NOTE TO REVIEWER: this student had mobile verification issues so the following\n",
    "# # Twitter API code was sent to this student from a Udacity instructor\n",
    "# # Tweet IDs for which to gather additional data via Twitter's API\n",
    "# tweet_ids = df_1.tweet_id.values\n",
    "# len(tweet_ids)\n",
    "\n",
    "# # Query Twitter's API for JSON data for each tweet ID in the Twitter archive\n",
    "# count = 0\n",
    "# fails_dict = {}\n",
    "# start = timer()\n",
    "# # Save each tweet's returned JSON as a new line in a .txt file\n",
    "# with open(os.path.join(data_folder_name, 'tweet_json.txt', 'w')) as outfile:\n",
    "#     # This loop will likely take 20-30 minutes to run because of Twitter's rate limit\n",
    "#     for tweet_id in tweet_ids:\n",
    "#         count += 1\n",
    "#         print(str(count) + \": \" + str(tweet_id))\n",
    "#         try:\n",
    "#             tweet = api.get_status(tweet_id, tweet_mode='extended')\n",
    "#             print(\"Success\")\n",
    "#             json.dump(tweet._json, outfile)\n",
    "#             outfile.write('\\n')\n",
    "#         except tweepy.TweepError as e:\n",
    "#             print(\"Fail\")\n",
    "#             fails_dict[tweet_id] = e\n",
    "#             pass\n",
    "# end = timer()\n",
    "# print(end - start)\n",
    "# print(fails_dict)"
   ]
  },
  {
   "cell_type": "code",
   "execution_count": 13,
   "id": "5123c701",
   "metadata": {},
   "outputs": [],
   "source": [
    "# I haven't been given access to the twitter api yet\n",
    "\n",
    "json_file_end_url = 'https://video.udacity-data.com/topher/2018/November/5be5fb7d_tweet-json/tweet-json.txt'\n",
    "json_file_response = requests.get(json_file_end_url)"
   ]
  },
  {
   "cell_type": "code",
   "execution_count": 14,
   "id": "340c19ee",
   "metadata": {},
   "outputs": [],
   "source": [
    "data_folder_name = 'data_files'\n",
    "\n",
    "with open(os.path.join(data_folder_name, json_file_end_url.split('/')[-1]), 'wb') as json_file:\n",
    "    json_file.write(json_file_response.content) "
   ]
  },
  {
   "cell_type": "code",
   "execution_count": 15,
   "id": "d41a6042",
   "metadata": {},
   "outputs": [],
   "source": [
    "# initializing a dataframe list of values needed\n",
    "df_list= []"
   ]
  },
  {
   "cell_type": "code",
   "execution_count": 16,
   "id": "be5b52ab",
   "metadata": {},
   "outputs": [],
   "source": [
    "# Reading json data from a text file\n",
    "\n",
    "with open('data_files/tweet-json.txt', 'r') as json_file:\n",
    "    json_data_list = json_file.readlines()\n",
    "    tweets_count = len(json_data_list)\n",
    "    for json_string in json_data_list:\n",
    "        json_data = json.loads(json_string)\n",
    "        df_list.append({\n",
    "            'tweet_id': json_data['id'],\n",
    "            'retweet_count': json_data['retweet_count'],\n",
    "            'favorite_count': json_data['favorite_count'],\n",
    "            'tweet_text': json_data['full_text'],\n",
    "            'truncated': json_data['truncated'],\n",
    "            'retweeted': json_data['retweeted']\n",
    "        })"
   ]
  },
  {
   "cell_type": "code",
   "execution_count": 17,
   "id": "e505adf3",
   "metadata": {},
   "outputs": [
    {
     "data": {
      "text/plain": [
       "2354"
      ]
     },
     "execution_count": 17,
     "metadata": {},
     "output_type": "execute_result"
    }
   ],
   "source": [
    "tweets_count"
   ]
  },
  {
   "cell_type": "code",
   "execution_count": 18,
   "id": "2024d928",
   "metadata": {},
   "outputs": [
    {
     "data": {
      "text/plain": [
       "2354"
      ]
     },
     "execution_count": 18,
     "metadata": {},
     "output_type": "execute_result"
    }
   ],
   "source": [
    "len(df_list)"
   ]
  },
  {
   "cell_type": "code",
   "execution_count": 19,
   "id": "3fea6400",
   "metadata": {},
   "outputs": [],
   "source": [
    "tweet_df = pd.DataFrame(df_list)"
   ]
  },
  {
   "cell_type": "code",
   "execution_count": 20,
   "id": "b0a05ac9",
   "metadata": {},
   "outputs": [
    {
     "data": {
      "text/html": [
       "<div>\n",
       "<style scoped>\n",
       "    .dataframe tbody tr th:only-of-type {\n",
       "        vertical-align: middle;\n",
       "    }\n",
       "\n",
       "    .dataframe tbody tr th {\n",
       "        vertical-align: top;\n",
       "    }\n",
       "\n",
       "    .dataframe thead th {\n",
       "        text-align: right;\n",
       "    }\n",
       "</style>\n",
       "<table border=\"1\" class=\"dataframe\">\n",
       "  <thead>\n",
       "    <tr style=\"text-align: right;\">\n",
       "      <th></th>\n",
       "      <th>tweet_id</th>\n",
       "      <th>retweet_count</th>\n",
       "      <th>favorite_count</th>\n",
       "      <th>tweet_text</th>\n",
       "      <th>truncated</th>\n",
       "      <th>retweeted</th>\n",
       "    </tr>\n",
       "  </thead>\n",
       "  <tbody>\n",
       "    <tr>\n",
       "      <th>0</th>\n",
       "      <td>892420643555336193</td>\n",
       "      <td>8853</td>\n",
       "      <td>39467</td>\n",
       "      <td>This is Phineas. He's a mystical boy. Only eve...</td>\n",
       "      <td>False</td>\n",
       "      <td>False</td>\n",
       "    </tr>\n",
       "    <tr>\n",
       "      <th>1</th>\n",
       "      <td>892177421306343426</td>\n",
       "      <td>6514</td>\n",
       "      <td>33819</td>\n",
       "      <td>This is Tilly. She's just checking pup on you....</td>\n",
       "      <td>False</td>\n",
       "      <td>False</td>\n",
       "    </tr>\n",
       "    <tr>\n",
       "      <th>2</th>\n",
       "      <td>891815181378084864</td>\n",
       "      <td>4328</td>\n",
       "      <td>25461</td>\n",
       "      <td>This is Archie. He is a rare Norwegian Pouncin...</td>\n",
       "      <td>False</td>\n",
       "      <td>False</td>\n",
       "    </tr>\n",
       "    <tr>\n",
       "      <th>3</th>\n",
       "      <td>891689557279858688</td>\n",
       "      <td>8964</td>\n",
       "      <td>42908</td>\n",
       "      <td>This is Darla. She commenced a snooze mid meal...</td>\n",
       "      <td>False</td>\n",
       "      <td>False</td>\n",
       "    </tr>\n",
       "    <tr>\n",
       "      <th>4</th>\n",
       "      <td>891327558926688256</td>\n",
       "      <td>9774</td>\n",
       "      <td>41048</td>\n",
       "      <td>This is Franklin. He would like you to stop ca...</td>\n",
       "      <td>False</td>\n",
       "      <td>False</td>\n",
       "    </tr>\n",
       "  </tbody>\n",
       "</table>\n",
       "</div>"
      ],
      "text/plain": [
       "             tweet_id  retweet_count  favorite_count  \\\n",
       "0  892420643555336193           8853           39467   \n",
       "1  892177421306343426           6514           33819   \n",
       "2  891815181378084864           4328           25461   \n",
       "3  891689557279858688           8964           42908   \n",
       "4  891327558926688256           9774           41048   \n",
       "\n",
       "                                          tweet_text  truncated  retweeted  \n",
       "0  This is Phineas. He's a mystical boy. Only eve...      False      False  \n",
       "1  This is Tilly. She's just checking pup on you....      False      False  \n",
       "2  This is Archie. He is a rare Norwegian Pouncin...      False      False  \n",
       "3  This is Darla. She commenced a snooze mid meal...      False      False  \n",
       "4  This is Franklin. He would like you to stop ca...      False      False  "
      ]
     },
     "execution_count": 20,
     "metadata": {},
     "output_type": "execute_result"
    }
   ],
   "source": [
    "tweet_df.head()"
   ]
  },
  {
   "cell_type": "code",
   "execution_count": 21,
   "id": "18aadea7",
   "metadata": {},
   "outputs": [
    {
     "data": {
      "text/html": [
       "<div>\n",
       "<style scoped>\n",
       "    .dataframe tbody tr th:only-of-type {\n",
       "        vertical-align: middle;\n",
       "    }\n",
       "\n",
       "    .dataframe tbody tr th {\n",
       "        vertical-align: top;\n",
       "    }\n",
       "\n",
       "    .dataframe thead th {\n",
       "        text-align: right;\n",
       "    }\n",
       "</style>\n",
       "<table border=\"1\" class=\"dataframe\">\n",
       "  <thead>\n",
       "    <tr style=\"text-align: right;\">\n",
       "      <th></th>\n",
       "      <th>tweet_id</th>\n",
       "      <th>retweet_count</th>\n",
       "      <th>favorite_count</th>\n",
       "      <th>tweet_text</th>\n",
       "      <th>truncated</th>\n",
       "      <th>retweeted</th>\n",
       "    </tr>\n",
       "  </thead>\n",
       "  <tbody>\n",
       "    <tr>\n",
       "      <th>1598</th>\n",
       "      <td>686007916130873345</td>\n",
       "      <td>472</td>\n",
       "      <td>2704</td>\n",
       "      <td>This pupper has a magical eye. 11/10 I can't s...</td>\n",
       "      <td>False</td>\n",
       "      <td>False</td>\n",
       "    </tr>\n",
       "    <tr>\n",
       "      <th>2088</th>\n",
       "      <td>670786190031921152</td>\n",
       "      <td>218</td>\n",
       "      <td>640</td>\n",
       "      <td>This is Creg. You offered him a ride to work b...</td>\n",
       "      <td>False</td>\n",
       "      <td>False</td>\n",
       "    </tr>\n",
       "    <tr>\n",
       "      <th>170</th>\n",
       "      <td>858860390427611136</td>\n",
       "      <td>8805</td>\n",
       "      <td>0</td>\n",
       "      <td>RT @dog_rates: Meet Winston. He knows he's a l...</td>\n",
       "      <td>False</td>\n",
       "      <td>False</td>\n",
       "    </tr>\n",
       "    <tr>\n",
       "      <th>1555</th>\n",
       "      <td>688804835492233216</td>\n",
       "      <td>227</td>\n",
       "      <td>1043</td>\n",
       "      <td>When you stumble but recover quickly cause you...</td>\n",
       "      <td>False</td>\n",
       "      <td>False</td>\n",
       "    </tr>\n",
       "    <tr>\n",
       "      <th>81</th>\n",
       "      <td>876838120628539392</td>\n",
       "      <td>3506</td>\n",
       "      <td>21125</td>\n",
       "      <td>This is Ginger. She's having a ruff Monday. To...</td>\n",
       "      <td>False</td>\n",
       "      <td>False</td>\n",
       "    </tr>\n",
       "    <tr>\n",
       "      <th>2322</th>\n",
       "      <td>666421158376562688</td>\n",
       "      <td>118</td>\n",
       "      <td>327</td>\n",
       "      <td>*internally screaming* 12/10 https://t.co/YMcr...</td>\n",
       "      <td>False</td>\n",
       "      <td>False</td>\n",
       "    </tr>\n",
       "    <tr>\n",
       "      <th>626</th>\n",
       "      <td>794983741416415232</td>\n",
       "      <td>3942</td>\n",
       "      <td>0</td>\n",
       "      <td>RT @dog_rates: This is Rizzy. She smiles a lot...</td>\n",
       "      <td>False</td>\n",
       "      <td>False</td>\n",
       "    </tr>\n",
       "    <tr>\n",
       "      <th>265</th>\n",
       "      <td>841833993020538882</td>\n",
       "      <td>17504</td>\n",
       "      <td>0</td>\n",
       "      <td>RT @dog_rates: This is Ken. His cheeks are mag...</td>\n",
       "      <td>False</td>\n",
       "      <td>False</td>\n",
       "    </tr>\n",
       "    <tr>\n",
       "      <th>2050</th>\n",
       "      <td>671486386088865792</td>\n",
       "      <td>226</td>\n",
       "      <td>621</td>\n",
       "      <td>This is Malcolm. He just saw a spider. 10/10 h...</td>\n",
       "      <td>False</td>\n",
       "      <td>False</td>\n",
       "    </tr>\n",
       "    <tr>\n",
       "      <th>650</th>\n",
       "      <td>792773781206999040</td>\n",
       "      <td>1963</td>\n",
       "      <td>8209</td>\n",
       "      <td>This is Monster. Not an actual monster tho. He...</td>\n",
       "      <td>False</td>\n",
       "      <td>False</td>\n",
       "    </tr>\n",
       "    <tr>\n",
       "      <th>1208</th>\n",
       "      <td>715680795826982913</td>\n",
       "      <td>1813</td>\n",
       "      <td>4719</td>\n",
       "      <td>This is Zeus. He's downright fabulous. 12/10 h...</td>\n",
       "      <td>False</td>\n",
       "      <td>False</td>\n",
       "    </tr>\n",
       "    <tr>\n",
       "      <th>693</th>\n",
       "      <td>786729988674449408</td>\n",
       "      <td>2827</td>\n",
       "      <td>0</td>\n",
       "      <td>RT @dog_rates: This is Oakley. He has no idea ...</td>\n",
       "      <td>False</td>\n",
       "      <td>False</td>\n",
       "    </tr>\n",
       "    <tr>\n",
       "      <th>1045</th>\n",
       "      <td>743510151680958465</td>\n",
       "      <td>4185</td>\n",
       "      <td>8671</td>\n",
       "      <td>This is Beya. She doesn't want to swim, so she...</td>\n",
       "      <td>False</td>\n",
       "      <td>False</td>\n",
       "    </tr>\n",
       "    <tr>\n",
       "      <th>35</th>\n",
       "      <td>885311592912609280</td>\n",
       "      <td>19297</td>\n",
       "      <td>0</td>\n",
       "      <td>RT @dog_rates: This is Lilly. She just paralle...</td>\n",
       "      <td>False</td>\n",
       "      <td>False</td>\n",
       "    </tr>\n",
       "    <tr>\n",
       "      <th>1734</th>\n",
       "      <td>679722016581222400</td>\n",
       "      <td>539</td>\n",
       "      <td>1817</td>\n",
       "      <td>This is Mike. He is a Jordanian Frito Pilates....</td>\n",
       "      <td>False</td>\n",
       "      <td>False</td>\n",
       "    </tr>\n",
       "    <tr>\n",
       "      <th>282</th>\n",
       "      <td>838952994649550848</td>\n",
       "      <td>4505</td>\n",
       "      <td>21289</td>\n",
       "      <td>SHE MISPLACED HER HOOMAN 13/10 MISTAKES HAPPEN...</td>\n",
       "      <td>False</td>\n",
       "      <td>False</td>\n",
       "    </tr>\n",
       "    <tr>\n",
       "      <th>2245</th>\n",
       "      <td>667873844930215936</td>\n",
       "      <td>440</td>\n",
       "      <td>667</td>\n",
       "      <td>Neat dog. Lots of spikes. Always in push-up po...</td>\n",
       "      <td>False</td>\n",
       "      <td>False</td>\n",
       "    </tr>\n",
       "    <tr>\n",
       "      <th>726</th>\n",
       "      <td>782305867769217024</td>\n",
       "      <td>6470</td>\n",
       "      <td>18630</td>\n",
       "      <td>This is Sampson. He just graduated. Ready to b...</td>\n",
       "      <td>False</td>\n",
       "      <td>False</td>\n",
       "    </tr>\n",
       "    <tr>\n",
       "      <th>840</th>\n",
       "      <td>766793450729734144</td>\n",
       "      <td>1565</td>\n",
       "      <td>5650</td>\n",
       "      <td>This is Rufus. He just missed out on the 100m ...</td>\n",
       "      <td>False</td>\n",
       "      <td>False</td>\n",
       "    </tr>\n",
       "    <tr>\n",
       "      <th>2105</th>\n",
       "      <td>670465786746662913</td>\n",
       "      <td>608</td>\n",
       "      <td>1048</td>\n",
       "      <td>Silly dog here. Wearing bunny ears. Nice long ...</td>\n",
       "      <td>False</td>\n",
       "      <td>False</td>\n",
       "    </tr>\n",
       "  </tbody>\n",
       "</table>\n",
       "</div>"
      ],
      "text/plain": [
       "                tweet_id  retweet_count  favorite_count  \\\n",
       "1598  686007916130873345            472            2704   \n",
       "2088  670786190031921152            218             640   \n",
       "170   858860390427611136           8805               0   \n",
       "1555  688804835492233216            227            1043   \n",
       "81    876838120628539392           3506           21125   \n",
       "2322  666421158376562688            118             327   \n",
       "626   794983741416415232           3942               0   \n",
       "265   841833993020538882          17504               0   \n",
       "2050  671486386088865792            226             621   \n",
       "650   792773781206999040           1963            8209   \n",
       "1208  715680795826982913           1813            4719   \n",
       "693   786729988674449408           2827               0   \n",
       "1045  743510151680958465           4185            8671   \n",
       "35    885311592912609280          19297               0   \n",
       "1734  679722016581222400            539            1817   \n",
       "282   838952994649550848           4505           21289   \n",
       "2245  667873844930215936            440             667   \n",
       "726   782305867769217024           6470           18630   \n",
       "840   766793450729734144           1565            5650   \n",
       "2105  670465786746662913            608            1048   \n",
       "\n",
       "                                             tweet_text  truncated  retweeted  \n",
       "1598  This pupper has a magical eye. 11/10 I can't s...      False      False  \n",
       "2088  This is Creg. You offered him a ride to work b...      False      False  \n",
       "170   RT @dog_rates: Meet Winston. He knows he's a l...      False      False  \n",
       "1555  When you stumble but recover quickly cause you...      False      False  \n",
       "81    This is Ginger. She's having a ruff Monday. To...      False      False  \n",
       "2322  *internally screaming* 12/10 https://t.co/YMcr...      False      False  \n",
       "626   RT @dog_rates: This is Rizzy. She smiles a lot...      False      False  \n",
       "265   RT @dog_rates: This is Ken. His cheeks are mag...      False      False  \n",
       "2050  This is Malcolm. He just saw a spider. 10/10 h...      False      False  \n",
       "650   This is Monster. Not an actual monster tho. He...      False      False  \n",
       "1208  This is Zeus. He's downright fabulous. 12/10 h...      False      False  \n",
       "693   RT @dog_rates: This is Oakley. He has no idea ...      False      False  \n",
       "1045  This is Beya. She doesn't want to swim, so she...      False      False  \n",
       "35    RT @dog_rates: This is Lilly. She just paralle...      False      False  \n",
       "1734  This is Mike. He is a Jordanian Frito Pilates....      False      False  \n",
       "282   SHE MISPLACED HER HOOMAN 13/10 MISTAKES HAPPEN...      False      False  \n",
       "2245  Neat dog. Lots of spikes. Always in push-up po...      False      False  \n",
       "726   This is Sampson. He just graduated. Ready to b...      False      False  \n",
       "840   This is Rufus. He just missed out on the 100m ...      False      False  \n",
       "2105  Silly dog here. Wearing bunny ears. Nice long ...      False      False  "
      ]
     },
     "execution_count": 21,
     "metadata": {},
     "output_type": "execute_result"
    }
   ],
   "source": [
    "tweet_df.sample(20)"
   ]
  },
  {
   "cell_type": "markdown",
   "id": "6fe17cfa",
   "metadata": {},
   "source": [
    "## Assessing Data"
   ]
  },
  {
   "cell_type": "markdown",
   "id": "19f644ec",
   "metadata": {},
   "source": [
    "In this section, detect and document at least eight (8) quality issues and two (2) tidiness issue. You must use both visual assessment programmatic assessement to assess the data."
   ]
  },
  {
   "cell_type": "markdown",
   "id": "196e4157",
   "metadata": {},
   "source": [
    "Note: pay attention to the following key points when you access the data."
   ]
  },
  {
   "cell_type": "markdown",
   "id": "887a9525",
   "metadata": {},
   "source": [
    "- You only want original ratings (no retweets) that have images. Though there are 5000+ tweets in the dataset, not all are dog ratings and some are retweets.\n",
    "- Assessing and cleaning the entire dataset completely would require a lot of time, and is not necessary to practice and demonstrate your skills in data wrangling. Therefore, the requirements of this project are only to assess and clean at least 8 quality issues and at least 2 tidiness issues in this dataset.\n",
    "- The fact that the rating numerators are greater than the denominators does not need to be cleaned. This unique rating system is a big part of the popularity of WeRateDogs.\n",
    "- You do not need to gather the tweets beyond August 1st, 2017. You can, but note that you won't be able to gather the image predictions for these tweets since you don't have access to the algorithm used."
   ]
  },
  {
   "cell_type": "code",
   "execution_count": 22,
   "id": "476cd49f",
   "metadata": {},
   "outputs": [
    {
     "data": {
      "text/plain": [
       "12      558\n",
       "11      464\n",
       "10      461\n",
       "13      351\n",
       "9       158\n",
       "8       102\n",
       "7        55\n",
       "14       54\n",
       "5        37\n",
       "6        32\n",
       "3        19\n",
       "4        17\n",
       "2         9\n",
       "1         9\n",
       "75        2\n",
       "15        2\n",
       "420       2\n",
       "0         2\n",
       "80        1\n",
       "144       1\n",
       "17        1\n",
       "26        1\n",
       "20        1\n",
       "121       1\n",
       "143       1\n",
       "44        1\n",
       "60        1\n",
       "45        1\n",
       "50        1\n",
       "99        1\n",
       "204       1\n",
       "1776      1\n",
       "165       1\n",
       "666       1\n",
       "27        1\n",
       "182       1\n",
       "24        1\n",
       "960       1\n",
       "84        1\n",
       "88        1\n",
       "Name: rating_numerator, dtype: int64"
      ]
     },
     "execution_count": 22,
     "metadata": {},
     "output_type": "execute_result"
    }
   ],
   "source": [
    "df['rating_numerator'].value_counts()"
   ]
  },
  {
   "cell_type": "code",
   "execution_count": 23,
   "id": "9e369f3f",
   "metadata": {},
   "outputs": [
    {
     "data": {
      "text/plain": [
       "10     2333\n",
       "11        3\n",
       "50        3\n",
       "20        2\n",
       "80        2\n",
       "70        1\n",
       "7         1\n",
       "15        1\n",
       "150       1\n",
       "170       1\n",
       "0         1\n",
       "90        1\n",
       "40        1\n",
       "130       1\n",
       "110       1\n",
       "16        1\n",
       "120       1\n",
       "2         1\n",
       "Name: rating_denominator, dtype: int64"
      ]
     },
     "execution_count": 23,
     "metadata": {},
     "output_type": "execute_result"
    }
   ],
   "source": [
    "df['rating_denominator'].value_counts()"
   ]
  },
  {
   "cell_type": "markdown",
   "id": "048db0aa",
   "metadata": {},
   "source": [
    "- Some numerator values are greater than 15 and some denominator values are greater than 10"
   ]
  },
  {
   "cell_type": "code",
   "execution_count": 24,
   "id": "0906e9ec",
   "metadata": {},
   "outputs": [
    {
     "name": "stdout",
     "output_type": "stream",
     "text": [
      "<class 'pandas.core.frame.DataFrame'>\n",
      "RangeIndex: 2356 entries, 0 to 2355\n",
      "Data columns (total 17 columns):\n",
      " #   Column                      Non-Null Count  Dtype  \n",
      "---  ------                      --------------  -----  \n",
      " 0   tweet_id                    2356 non-null   int64  \n",
      " 1   in_reply_to_status_id       78 non-null     float64\n",
      " 2   in_reply_to_user_id         78 non-null     float64\n",
      " 3   timestamp                   2356 non-null   object \n",
      " 4   source                      2356 non-null   object \n",
      " 5   text                        2356 non-null   object \n",
      " 6   retweeted_status_id         181 non-null    float64\n",
      " 7   retweeted_status_user_id    181 non-null    float64\n",
      " 8   retweeted_status_timestamp  181 non-null    object \n",
      " 9   expanded_urls               2297 non-null   object \n",
      " 10  rating_numerator            2356 non-null   int64  \n",
      " 11  rating_denominator          2356 non-null   int64  \n",
      " 12  name                        2356 non-null   object \n",
      " 13  doggo                       2356 non-null   object \n",
      " 14  floofer                     2356 non-null   object \n",
      " 15  pupper                      2356 non-null   object \n",
      " 16  puppo                       2356 non-null   object \n",
      "dtypes: float64(4), int64(3), object(10)\n",
      "memory usage: 313.0+ KB\n"
     ]
    }
   ],
   "source": [
    "df.info()"
   ]
  },
  {
   "cell_type": "markdown",
   "id": "07d1d36d",
   "metadata": {},
   "source": [
    "Looking at the info above the `df` dataframe has some replies and retweets, we need to remove them from the dataset"
   ]
  },
  {
   "cell_type": "code",
   "execution_count": 25,
   "id": "2f2c8449",
   "metadata": {},
   "outputs": [
    {
     "data": {
      "text/html": [
       "<div>\n",
       "<style scoped>\n",
       "    .dataframe tbody tr th:only-of-type {\n",
       "        vertical-align: middle;\n",
       "    }\n",
       "\n",
       "    .dataframe tbody tr th {\n",
       "        vertical-align: top;\n",
       "    }\n",
       "\n",
       "    .dataframe thead th {\n",
       "        text-align: right;\n",
       "    }\n",
       "</style>\n",
       "<table border=\"1\" class=\"dataframe\">\n",
       "  <thead>\n",
       "    <tr style=\"text-align: right;\">\n",
       "      <th></th>\n",
       "      <th>tweet_id</th>\n",
       "      <th>in_reply_to_status_id</th>\n",
       "      <th>in_reply_to_user_id</th>\n",
       "      <th>timestamp</th>\n",
       "      <th>source</th>\n",
       "      <th>text</th>\n",
       "      <th>retweeted_status_id</th>\n",
       "      <th>retweeted_status_user_id</th>\n",
       "      <th>retweeted_status_timestamp</th>\n",
       "      <th>expanded_urls</th>\n",
       "      <th>rating_numerator</th>\n",
       "      <th>rating_denominator</th>\n",
       "      <th>name</th>\n",
       "      <th>doggo</th>\n",
       "      <th>floofer</th>\n",
       "      <th>pupper</th>\n",
       "      <th>puppo</th>\n",
       "    </tr>\n",
       "  </thead>\n",
       "  <tbody>\n",
       "    <tr>\n",
       "      <th>0</th>\n",
       "      <td>892420643555336193</td>\n",
       "      <td>NaN</td>\n",
       "      <td>NaN</td>\n",
       "      <td>2017-08-01 16:23:56 +0000</td>\n",
       "      <td>&lt;a href=\"http://twitter.com/download/iphone\" r...</td>\n",
       "      <td>This is Phineas. He's a mystical boy. Only eve...</td>\n",
       "      <td>NaN</td>\n",
       "      <td>NaN</td>\n",
       "      <td>NaN</td>\n",
       "      <td>https://twitter.com/dog_rates/status/892420643...</td>\n",
       "      <td>13</td>\n",
       "      <td>10</td>\n",
       "      <td>Phineas</td>\n",
       "      <td>None</td>\n",
       "      <td>None</td>\n",
       "      <td>None</td>\n",
       "      <td>None</td>\n",
       "    </tr>\n",
       "    <tr>\n",
       "      <th>1</th>\n",
       "      <td>892177421306343426</td>\n",
       "      <td>NaN</td>\n",
       "      <td>NaN</td>\n",
       "      <td>2017-08-01 00:17:27 +0000</td>\n",
       "      <td>&lt;a href=\"http://twitter.com/download/iphone\" r...</td>\n",
       "      <td>This is Tilly. She's just checking pup on you....</td>\n",
       "      <td>NaN</td>\n",
       "      <td>NaN</td>\n",
       "      <td>NaN</td>\n",
       "      <td>https://twitter.com/dog_rates/status/892177421...</td>\n",
       "      <td>13</td>\n",
       "      <td>10</td>\n",
       "      <td>Tilly</td>\n",
       "      <td>None</td>\n",
       "      <td>None</td>\n",
       "      <td>None</td>\n",
       "      <td>None</td>\n",
       "    </tr>\n",
       "    <tr>\n",
       "      <th>2</th>\n",
       "      <td>891815181378084864</td>\n",
       "      <td>NaN</td>\n",
       "      <td>NaN</td>\n",
       "      <td>2017-07-31 00:18:03 +0000</td>\n",
       "      <td>&lt;a href=\"http://twitter.com/download/iphone\" r...</td>\n",
       "      <td>This is Archie. He is a rare Norwegian Pouncin...</td>\n",
       "      <td>NaN</td>\n",
       "      <td>NaN</td>\n",
       "      <td>NaN</td>\n",
       "      <td>https://twitter.com/dog_rates/status/891815181...</td>\n",
       "      <td>12</td>\n",
       "      <td>10</td>\n",
       "      <td>Archie</td>\n",
       "      <td>None</td>\n",
       "      <td>None</td>\n",
       "      <td>None</td>\n",
       "      <td>None</td>\n",
       "    </tr>\n",
       "    <tr>\n",
       "      <th>3</th>\n",
       "      <td>891689557279858688</td>\n",
       "      <td>NaN</td>\n",
       "      <td>NaN</td>\n",
       "      <td>2017-07-30 15:58:51 +0000</td>\n",
       "      <td>&lt;a href=\"http://twitter.com/download/iphone\" r...</td>\n",
       "      <td>This is Darla. She commenced a snooze mid meal...</td>\n",
       "      <td>NaN</td>\n",
       "      <td>NaN</td>\n",
       "      <td>NaN</td>\n",
       "      <td>https://twitter.com/dog_rates/status/891689557...</td>\n",
       "      <td>13</td>\n",
       "      <td>10</td>\n",
       "      <td>Darla</td>\n",
       "      <td>None</td>\n",
       "      <td>None</td>\n",
       "      <td>None</td>\n",
       "      <td>None</td>\n",
       "    </tr>\n",
       "    <tr>\n",
       "      <th>4</th>\n",
       "      <td>891327558926688256</td>\n",
       "      <td>NaN</td>\n",
       "      <td>NaN</td>\n",
       "      <td>2017-07-29 16:00:24 +0000</td>\n",
       "      <td>&lt;a href=\"http://twitter.com/download/iphone\" r...</td>\n",
       "      <td>This is Franklin. He would like you to stop ca...</td>\n",
       "      <td>NaN</td>\n",
       "      <td>NaN</td>\n",
       "      <td>NaN</td>\n",
       "      <td>https://twitter.com/dog_rates/status/891327558...</td>\n",
       "      <td>12</td>\n",
       "      <td>10</td>\n",
       "      <td>Franklin</td>\n",
       "      <td>None</td>\n",
       "      <td>None</td>\n",
       "      <td>None</td>\n",
       "      <td>None</td>\n",
       "    </tr>\n",
       "  </tbody>\n",
       "</table>\n",
       "</div>"
      ],
      "text/plain": [
       "             tweet_id  in_reply_to_status_id  in_reply_to_user_id  \\\n",
       "0  892420643555336193                    NaN                  NaN   \n",
       "1  892177421306343426                    NaN                  NaN   \n",
       "2  891815181378084864                    NaN                  NaN   \n",
       "3  891689557279858688                    NaN                  NaN   \n",
       "4  891327558926688256                    NaN                  NaN   \n",
       "\n",
       "                   timestamp  \\\n",
       "0  2017-08-01 16:23:56 +0000   \n",
       "1  2017-08-01 00:17:27 +0000   \n",
       "2  2017-07-31 00:18:03 +0000   \n",
       "3  2017-07-30 15:58:51 +0000   \n",
       "4  2017-07-29 16:00:24 +0000   \n",
       "\n",
       "                                              source  \\\n",
       "0  <a href=\"http://twitter.com/download/iphone\" r...   \n",
       "1  <a href=\"http://twitter.com/download/iphone\" r...   \n",
       "2  <a href=\"http://twitter.com/download/iphone\" r...   \n",
       "3  <a href=\"http://twitter.com/download/iphone\" r...   \n",
       "4  <a href=\"http://twitter.com/download/iphone\" r...   \n",
       "\n",
       "                                                text  retweeted_status_id  \\\n",
       "0  This is Phineas. He's a mystical boy. Only eve...                  NaN   \n",
       "1  This is Tilly. She's just checking pup on you....                  NaN   \n",
       "2  This is Archie. He is a rare Norwegian Pouncin...                  NaN   \n",
       "3  This is Darla. She commenced a snooze mid meal...                  NaN   \n",
       "4  This is Franklin. He would like you to stop ca...                  NaN   \n",
       "\n",
       "   retweeted_status_user_id retweeted_status_timestamp  \\\n",
       "0                       NaN                        NaN   \n",
       "1                       NaN                        NaN   \n",
       "2                       NaN                        NaN   \n",
       "3                       NaN                        NaN   \n",
       "4                       NaN                        NaN   \n",
       "\n",
       "                                       expanded_urls  rating_numerator  \\\n",
       "0  https://twitter.com/dog_rates/status/892420643...                13   \n",
       "1  https://twitter.com/dog_rates/status/892177421...                13   \n",
       "2  https://twitter.com/dog_rates/status/891815181...                12   \n",
       "3  https://twitter.com/dog_rates/status/891689557...                13   \n",
       "4  https://twitter.com/dog_rates/status/891327558...                12   \n",
       "\n",
       "   rating_denominator      name doggo floofer pupper puppo  \n",
       "0                  10   Phineas  None    None   None  None  \n",
       "1                  10     Tilly  None    None   None  None  \n",
       "2                  10    Archie  None    None   None  None  \n",
       "3                  10     Darla  None    None   None  None  \n",
       "4                  10  Franklin  None    None   None  None  "
      ]
     },
     "execution_count": 25,
     "metadata": {},
     "output_type": "execute_result"
    }
   ],
   "source": [
    "df.head()"
   ]
  },
  {
   "cell_type": "code",
   "execution_count": 26,
   "id": "fe417016",
   "metadata": {},
   "outputs": [
    {
     "data": {
      "text/plain": [
       "tweet_id                         0\n",
       "in_reply_to_status_id         2278\n",
       "in_reply_to_user_id           2278\n",
       "timestamp                        0\n",
       "source                           0\n",
       "text                             0\n",
       "retweeted_status_id           2175\n",
       "retweeted_status_user_id      2175\n",
       "retweeted_status_timestamp    2175\n",
       "expanded_urls                   59\n",
       "rating_numerator                 0\n",
       "rating_denominator               0\n",
       "name                             0\n",
       "doggo                            0\n",
       "floofer                          0\n",
       "pupper                           0\n",
       "puppo                            0\n",
       "dtype: int64"
      ]
     },
     "execution_count": 26,
     "metadata": {},
     "output_type": "execute_result"
    }
   ],
   "source": [
    "df.isnull().sum()"
   ]
  },
  {
   "cell_type": "code",
   "execution_count": 27,
   "id": "3cb06161",
   "metadata": {},
   "outputs": [
    {
     "data": {
      "text/plain": [
       "None          745\n",
       "a              55\n",
       "Charlie        12\n",
       "Cooper         11\n",
       "Lucy           11\n",
       "             ... \n",
       "Dex             1\n",
       "Ace             1\n",
       "Tayzie          1\n",
       "Grizzie         1\n",
       "Christoper      1\n",
       "Name: name, Length: 957, dtype: int64"
      ]
     },
     "execution_count": 27,
     "metadata": {},
     "output_type": "execute_result"
    }
   ],
   "source": [
    "df['name'].value_counts()"
   ]
  },
  {
   "cell_type": "code",
   "execution_count": 28,
   "id": "055408e9",
   "metadata": {},
   "outputs": [
    {
     "name": "stdout",
     "output_type": "stream",
     "text": [
      "['None', 'a', 'Charlie', 'Cooper', 'Lucy', 'Oliver', 'Tucker', 'Penny', 'Lola', 'Winston', 'Bo', 'Sadie', 'the', 'Daisy', 'Buddy', 'Toby', 'an', 'Bailey', 'Leo', 'Oscar', 'Stanley', 'Rusty', 'Bella', 'Dave', 'Jack', 'Koda', 'Scout', 'Jax', 'Milo', 'Louis', 'Phil', 'Sammy', 'Gus', 'Chester', 'Alfie', 'Sunny', 'Bentley', 'very', 'Oakley', 'Finn', 'George', 'Larry', 'Clarence', 'Loki', 'Walter', 'Reggie', 'Hank', 'Scooter', 'Duke', 'quite', 'Reginald', 'Maggie', 'Luna', 'Maddie', 'Dexter', 'Jerry', 'Carl', 'Ruby', 'Riley', 'Clark', 'Chip', 'Brody', 'just', 'Sophie', 'Sampson', 'Boomer', 'Winnie', 'Gary', 'Archie', 'Jeffrey', 'Gerald', 'one', 'Cassie', 'Maximus', 'Moose', 'Bear', 'Bruce', 'Beau', 'Derek', 'Shadow', 'Rory', 'Waffles', 'Earl', 'Nala', 'Louie', 'Colby', 'Otis', 'Doug', 'Rosie', 'Wyatt', 'Lily', 'Coco', 'Kyle', 'Olive', 'Peaches', 'Vincent', 'Reese', 'Jimothy', 'Frankie', 'Ted', 'Arnie', 'Klevin', 'Max', 'Zoey', 'Ellie', 'Zeke', 'Wilson', 'Calvin', 'Sebastian', 'Wallace', 'Lorenzo', 'Malcolm', 'Mia', 'Samson', 'Paisley', 'Steven', 'Gizmo', 'Benji', 'Philbert', 'Django', 'Sansa', 'Tyr', 'Moe', 'Misty', 'Herm', 'Cali', 'Kenneth', 'Chelsea', 'Happy', 'Ollie', 'Leela', 'Sam', 'Hunter', 'Seamus', 'Tyrone', 'Atlas', 'Rocky', 'Oshie', 'Olivia', 'Davey', 'Timison', 'Paull', 'Titan', 'Levi', 'Layla', 'Stubert', 'Rizzy', 'Baloo', 'Betty', 'Herschel', 'Butter', 'Mister', 'Lenny', 'Doc', 'Juno', 'Anakin', 'Bernie', 'Marley', 'Phineas', 'Nollie', 'Meyer', 'Blitz', 'Raymond', 'Crystal', 'Phred', 'Terry', 'Axel', 'Charles', 'Herald', 'getting', 'Theodore', 'Maxaroni', 'Kilo', 'Brad', 'actually', 'Sugar', 'Percy', 'Opal', 'Shaggy', 'Wally', 'Oliviér', 'mad', 'Kreggory', 'Remington', 'Bisquick', 'Chuckles', 'Thumas', 'Curtis', 'Calbert', 'Chet', 'Bubbles', 'Coops', 'Ozzy', 'Smokey', 'Flávio', 'CeCe', 'Pippa', 'Panda', 'Bob', 'Sarge', 'Abby', 'Keurig', 'Baxter', 'Atticus', 'Dakota', 'Gromit', 'Roosevelt', 'Fizz', 'Penelope', 'Finley', 'Solomon', 'Hurley', 'Bell', 'Dash', 'Linda', 'Chipson', 'Harper', 'Kenny', 'Sandy', 'Lincoln', 'Frank', 'Jackson', 'Kirby', 'Lou', 'Jeph', 'Piper', 'Hammond', 'Fred', 'Carly', 'Keith', 'Rubio', 'Watson', 'Chompsky', 'Rufus', 'Jiminy', 'Griffin', 'Rocco', 'Albert', 'Patrick', 'Kreg', 'Eve', 'Luca', 'Lennon', 'Cupcake', 'Emmy', 'Ken', 'Pipsy', 'Nelly', 'Odie', 'Ava', 'Ash', 'Terrance', 'not', 'Romeo', 'Stephan', 'Jesse', 'Elliot', 'Logan', 'Moreton', 'Klein', 'Kyro', 'Fiona', 'Yogi', 'Indie', 'Benedict', 'Lilly', 'Churlie', 'Hobbes', 'Trooper', 'Belle', 'Quinn', 'Neptune', 'Albus', 'Alice', 'Aspen', 'Jamesy', 'Bungalo', 'Harold', 'Astrid', 'Gidget', 'Cody', 'Dawn', 'Sierra', 'Cash', 'Pickles', 'Kevin', 'Eli', 'Gabe', 'Balto', 'Pablo', 'Franklin', 'Jimison', 'Hercules', 'Canela', 'Mattie', 'Dotsy', 'Marvin', 'Lizzie', 'Kallie', 'Ember', 'Frönq', 'Blakely', 'Jockson', 'Ambrose', 'Jomathan', 'Marq', 'Kramer', 'Maks', 'Derby', 'Pubert', 'Spark', 'Ferg', 'Ricky', 'Carll', 'Ron', 'Torque', 'Lucky', 'Terrenth', 'Trip', 'Gordon', 'Jareld', 'Bode', 'DayZ', 'Jo', 'Hamrick', 'Gòrdón', 'Barry', 'Horace', 'Timofy', 'Kulet', 'Perry', 'Bobby', 'Winifred', 'Obi', 'Kevon', 'Tino', 'Sweets', 'Bruiser', 'Lupe', 'Tiger', 'Lugan', 'Kathmandu', 'Banditt', 'Banjo', 'Katie', 'Oreo', 'Mona', 'Adele', 'Fynn', 'Zara', 'Crimson', 'Birf', 'Josep', 'Zeek', 'Lorelei', 'Gerbald', 'Marty', 'Brooks', 'Petrick', 'Hubertson', 'Hanz', 'Kara', 'Skittles', 'Chesterson', 'Biden', 'Naphaniel', 'Ole', 'Pherb', 'Blipson', 'Genevieve', 'Reptar', 'Trevith', 'Joshwa', 'Millie', 'Kial', 'Berb', 'Bradlay', 'Colin', 'Brian', 'Yoda', 'Coopson', 'Carter', 'Dook', 'Grady', 'Jessiga', 'Eazy', 'Murphy', 'Kaia', 'Fillup', 'Miley', 'Daniel', 'Philippe', 'Charl', 'Reagan', 'Yukon', 'Crouton', 'Hall', 'Fwed', 'Cuddles', 'Claude', 'Filup', 'Kobe', 'Durg', 'Vinscent', 'Hazel', 'Lolo', 'Eriq', 'Erik', 'Rudy', 'Rambo', 'Cleopatricia', 'Oddie', 'Socks', 'Maxwell', 'Ralphson', 'Keet', 'Geoff', 'Covach', 'Lucia', 'Cedrick', 'Stu', 'Bilbo', 'Fiji', 'Rilo', 'Freddery', 'Bodie', 'Dunkin', 'Tedrick', 'Tupawc', 'Clybe', 'Amber', 'Edgar', 'Teddy', 'Kingsley', 'Brockly', 'Richie', 'Brandy', 'Molly', 'Bobb', 'Patch', 'Lulu', 'Finnegus', 'Henry', 'Bobbay', 'Mitch', 'Creg', 'Antony', 'Trigger', 'Kaiya', 'Acro', 'Mason', 'Arnold', 'Andy', 'Aiden', 'Sage', 'Obie', 'Amy', 'Jett', 'Dot', 'Shnuggles', 'life', 'Chesney', 'Traviss', 'Jonah', 'Damon', 'Herb', 'Willy', 'Mollie', 'Edd', 'Laela', 'Bloo', 'Pluto', 'Ester', 'Danny', 'Tedders', 'Jeffrie', 'Superpup', 'Rufio', 'Gin', 'Jeb', 'Rodman', 'Kendall', 'Holly', 'Jeffri', 'Norman', 'Scott', 'Dylan', 'Taz', 'Darby', 'Jackie', 'light', 'Jazz', 'Franq', 'Pippin', 'Rolf', 'Batdog', 'Snickers', 'Ridley', 'Cal', 'Bradley', 'Bubba', 'Mojo', 'Caryl', 'Leonidas', 'Steve', 'space', 'Mac', 'Fletcher', 'Anthony', 'Kenzie', 'Sparky', 'Tanner', 'Pumpkin', 'Julius', 'Schnozz', 'Gustaf', 'Pip', 'Scruffers', 'Cheryl', 'Alejandro', 'JD', 'Ed', 'Mark', 'Zuzu', 'Buddah', 'Darrel', 'Kirk', 'Cheesy', 'Moofasa', 'Jaspers', 'Hector', 'Goliath', 'Clarq', 'Kawhi', 'Ralf', 'by', 'Peanut', 'Sully', 'Emmie', 'Tessa', 'Willie', 'Dug', 'Rinna', 'Mike', 'William', 'Samsom', 'Harrison', 'Griswold', 'Ozzie', 'Amélie', 'Taco', 'Joey', 'Ruffles', 'Lambeau', 'Todo', 'Tess', 'Ulysses', 'Toffee', 'Apollo', 'Tuco', 'Jaycob', 'Glacier', 'Chuck', 'Jeremy', 'Champ', 'Chaz', 'Saydee', 'Dwight', 'Billl', 'Humphrey', 'Tommy', 'Juckson', 'Liam', 'Randall', 'Chuq', 'Tyrus', 'Karl', 'Godzilla', 'Fabio', 'Vinnie', 'Sandra', 'Bert', 'Striker', 'Donny', 'Butters', 'Pepper', 'Nigel', 'Tassy', 'Ben', 'Evy', 'Ralph', 'officially', 'Rascal', 'Ronduh', 'Kollin', 'Skye', 'Shawwn', 'Kloey', 'Andru', 'Tug', 'Tango', 'Julio', 'Grizz', 'Jerome', 'Crumpet', 'Jessifer', 'Raphael', 'Izzy', 'Asher', 'Huxley', 'Clarkus', 'Autumn', 'Sundance', 'Flash', 'Howie', 'Jazzy', 'Anna', 'Wafer', 'Tom', 'Florence', 'Dido', 'Duchess', 'Eugene', 'Strudel', 'Tebow', 'Chloe', 'Timber', 'Binky', 'Dudley', 'Comet', 'Harlso', 'Crawford', 'Smiley', 'Sailer', 'Emanuel', 'Kuyu', 'Dutch', 'Pete', 'Mutt', 'Doobert', 'Beebop', 'Alexander', 'Brutus', 'Sweet', 'Kona', 'Boots', 'Ralphie', 'Cupid', 'Pawnd', 'Pilot', 'Ike', 'Mo', 'Akumi', 'Alf', 'Chubbs', 'Dobby', 'Sobe', 'Longfellow', 'Iroh', 'Pancake', 'Snicku', 'Mack', 'Nimbus', 'Laika', 'Maude', 'Sky', 'Newt', 'Nida', 'Robin', 'Monster', 'BeBe', 'Remus', 'Mabel', 'Mosby', 'Chef', 'Mauve', 'Bones', 'Ronnie', 'Eleanor', 'Baron', 'Bauer', 'Swagger', 'Brandi', 'Mary', 'Halo', 'Augie', 'Craig', 'Pavlov', 'Ito', 'incredibly', 'Major', 'Shooter', 'Diogi', 'Sonny', 'Severus', 'Miguel', 'Eevee', 'Brownie', 'Napolean', 'Goose', 'Nugget', 'Jed', 'Monkey', 'Harry', 'Kody', 'Lassie', 'Rover', 'Rumble', 'Ginger', 'Clifford', 'Dewey', 'Shikha', 'Lili', 'Meatball', 'Zooey', 'Jersey', 'Burt', 'Venti', 'Dante', 'Orion', 'Roscoe', 'Darla', 'Bruno', 'Stuart', 'Jim', 'Ralphus', 'such', 'Maya', 'Mingus', 'Jimbo', 'Aja', 'Maisey', 'Noah', 'Grizzwald', 'Alfy', 'Koko', 'Rey', 'Duddles', 'Snoopy', 'Jordy', 'Milky', 'Thor', 'Mookie', 'Jarvis', 'Mimosa', 'Brady', 'Margo', 'Tycho', 'Monty', 'Sojourner', 'Arlo', 'Meera', 'Callie', 'Tobi', 'Sunshine', 'Lipton', 'Gabby', 'Bronte', 'Poppy', 'Rhino', 'Willow', 'Vixen', 'Barney', 'Tuck', 'Furzey', 'Cermet', 'Marlee', 'Arya', 'Einstein', 'Rumpole', 'Benny', 'Jarod', 'Wiggles', 'General', 'Sailor', 'Iggy', 'Snoop', 'Noosh', 'Odin', 'Georgie', 'Rontu', 'Cannon', 'Ralphy', 'Stella', 'Jiminus', 'Lillie', 'Coleman', 'Enchilada', 'all', 'Rueben', 'Cilantro', 'Karll', 'Sprout', 'Bloop', 'Ashleigh', 'Puff', 'Luther', 'Ivar', 'Jangle', 'Schnitzel', 'Berkeley', 'Ralphé', 'Charleson', 'Clyde', 'Flurpson', 'Pupcasso', 'Kayla', 'Kellogg', 'Aqua', 'Chase', 'Rorie', 'Simba', 'Bayley', 'Storkson', 'Remy', 'Chadrick', 'Buckley', 'Stefan', 'Livvie', 'Hermione', 'Ralpher', 'Aldrick', 'this', 'unacceptable', 'Rooney', 'Ziva', 'Harnold', 'Sid', 'Carper', 'Vince', 'Sora', 'Beemo', 'Gunner', 'infuriating', 'Lacy', 'Tater', 'Olaf', 'Cecil', 'Karma', 'Bowie', 'Billy', 'Walker', 'Rodney', 'Malikai', 'Bobble', 'River', 'Jebberson', 'Farfle', 'Staniel', 'Kane', 'Opie', 'Lance', 'Alexanderson', 'Suki', 'Barclay', 'Skittle', 'Ebby', 'Link', 'Jennifur', 'Bluebert', 'Stephanus', 'old', 'Zeus', 'Bertson', 'Nico', 'Michelangelope', 'Siba', 'Travis', 'Kanu', 'Edmund', 'Beya', 'Tonks', 'Rupert', 'Grey', 'Willem', 'Dixie', 'Al', 'Carbon', 'DonDon', 'Chevy', 'Tito', 'Brudge', 'Heinrich', 'Shadoe', 'Angel', 'Brat', 'Tove', 'my', 'Aubie', 'Kota', 'Glenn', 'Shakespeare', 'Sprinkles', 'Stark', 'Godi', 'Dale', 'Rizzo', 'Pinot', 'Dallas', 'Hero', 'Stormy', 'Mairi', 'Loomis', 'Deacon', 'Blue', 'Timmy', 'Combo', 'Jay', 'Mya', 'Strider', 'Wesley', 'Huck', 'O', 'Shelby', 'Sephie', 'Bonaparte', 'Tilly', 'Spanky', 'Jameson', 'Blu', 'Dietrich', 'Divine', 'Tripp', 'his', 'Cora', 'Bookstore', 'Wishes', 'Linus', 'Shiloh', 'Gustav', 'Arlen', 'Lenox', 'Harvey', 'Blanket', 'Geno', 'Lilah', 'Stewie', 'Zoe', 'Gilbert', 'Rose', 'Theo', 'Fido', 'Emma', 'Spencer', 'Lilli', 'Boston', 'Brandonald', 'Corey', 'Leonard', 'Beckham', 'Devón', 'Gert', 'Dex', 'Ace', 'Tayzie', 'Grizzie', 'Christoper']\n"
     ]
    }
   ],
   "source": [
    "unique_names = list(df['name'].value_counts().keys())\n",
    "print(unique_names)"
   ]
  },
  {
   "cell_type": "code",
   "execution_count": 29,
   "id": "eae176e6",
   "metadata": {},
   "outputs": [
    {
     "name": "stdout",
     "output_type": "stream",
     "text": [
      "['a', 'the', 'an', 'very', 'quite', 'just', 'one', 'getting', 'actually', 'mad', 'not', 'life', 'light', 'space', 'by', 'officially', 'incredibly', 'such', 'all', 'this', 'unacceptable', 'infuriating', 'old', 'my', 'his']\n"
     ]
    }
   ],
   "source": [
    "none_names = [name for name in unique_names if name.islower()]\n",
    "print(none_names)"
   ]
  },
  {
   "cell_type": "code",
   "execution_count": 30,
   "id": "f0c036a6",
   "metadata": {},
   "outputs": [
    {
     "name": "stdout",
     "output_type": "stream",
     "text": [
      "<class 'pandas.core.frame.DataFrame'>\n",
      "RangeIndex: 2075 entries, 0 to 2074\n",
      "Data columns (total 12 columns):\n",
      " #   Column    Non-Null Count  Dtype  \n",
      "---  ------    --------------  -----  \n",
      " 0   tweet_id  2075 non-null   int64  \n",
      " 1   jpg_url   2075 non-null   object \n",
      " 2   img_num   2075 non-null   int64  \n",
      " 3   p1        2075 non-null   object \n",
      " 4   p1_conf   2075 non-null   float64\n",
      " 5   p1_dog    2075 non-null   bool   \n",
      " 6   p2        2075 non-null   object \n",
      " 7   p2_conf   2075 non-null   float64\n",
      " 8   p2_dog    2075 non-null   bool   \n",
      " 9   p3        2075 non-null   object \n",
      " 10  p3_conf   2075 non-null   float64\n",
      " 11  p3_dog    2075 non-null   bool   \n",
      "dtypes: bool(3), float64(3), int64(2), object(4)\n",
      "memory usage: 152.1+ KB\n"
     ]
    }
   ],
   "source": [
    "image_pred_df.info()"
   ]
  },
  {
   "cell_type": "code",
   "execution_count": 31,
   "id": "752e7142",
   "metadata": {},
   "outputs": [
    {
     "data": {
      "text/html": [
       "<div>\n",
       "<style scoped>\n",
       "    .dataframe tbody tr th:only-of-type {\n",
       "        vertical-align: middle;\n",
       "    }\n",
       "\n",
       "    .dataframe tbody tr th {\n",
       "        vertical-align: top;\n",
       "    }\n",
       "\n",
       "    .dataframe thead th {\n",
       "        text-align: right;\n",
       "    }\n",
       "</style>\n",
       "<table border=\"1\" class=\"dataframe\">\n",
       "  <thead>\n",
       "    <tr style=\"text-align: right;\">\n",
       "      <th></th>\n",
       "      <th>tweet_id</th>\n",
       "      <th>jpg_url</th>\n",
       "      <th>img_num</th>\n",
       "      <th>p1</th>\n",
       "      <th>p1_conf</th>\n",
       "      <th>p1_dog</th>\n",
       "      <th>p2</th>\n",
       "      <th>p2_conf</th>\n",
       "      <th>p2_dog</th>\n",
       "      <th>p3</th>\n",
       "      <th>p3_conf</th>\n",
       "      <th>p3_dog</th>\n",
       "    </tr>\n",
       "  </thead>\n",
       "  <tbody>\n",
       "    <tr>\n",
       "      <th>0</th>\n",
       "      <td>666020888022790149</td>\n",
       "      <td>https://pbs.twimg.com/media/CT4udn0WwAA0aMy.jpg</td>\n",
       "      <td>1</td>\n",
       "      <td>Welsh_springer_spaniel</td>\n",
       "      <td>0.465074</td>\n",
       "      <td>True</td>\n",
       "      <td>collie</td>\n",
       "      <td>0.156665</td>\n",
       "      <td>True</td>\n",
       "      <td>Shetland_sheepdog</td>\n",
       "      <td>0.061428</td>\n",
       "      <td>True</td>\n",
       "    </tr>\n",
       "    <tr>\n",
       "      <th>1</th>\n",
       "      <td>666029285002620928</td>\n",
       "      <td>https://pbs.twimg.com/media/CT42GRgUYAA5iDo.jpg</td>\n",
       "      <td>1</td>\n",
       "      <td>redbone</td>\n",
       "      <td>0.506826</td>\n",
       "      <td>True</td>\n",
       "      <td>miniature_pinscher</td>\n",
       "      <td>0.074192</td>\n",
       "      <td>True</td>\n",
       "      <td>Rhodesian_ridgeback</td>\n",
       "      <td>0.072010</td>\n",
       "      <td>True</td>\n",
       "    </tr>\n",
       "    <tr>\n",
       "      <th>2</th>\n",
       "      <td>666033412701032449</td>\n",
       "      <td>https://pbs.twimg.com/media/CT4521TWwAEvMyu.jpg</td>\n",
       "      <td>1</td>\n",
       "      <td>German_shepherd</td>\n",
       "      <td>0.596461</td>\n",
       "      <td>True</td>\n",
       "      <td>malinois</td>\n",
       "      <td>0.138584</td>\n",
       "      <td>True</td>\n",
       "      <td>bloodhound</td>\n",
       "      <td>0.116197</td>\n",
       "      <td>True</td>\n",
       "    </tr>\n",
       "    <tr>\n",
       "      <th>3</th>\n",
       "      <td>666044226329800704</td>\n",
       "      <td>https://pbs.twimg.com/media/CT5Dr8HUEAA-lEu.jpg</td>\n",
       "      <td>1</td>\n",
       "      <td>Rhodesian_ridgeback</td>\n",
       "      <td>0.408143</td>\n",
       "      <td>True</td>\n",
       "      <td>redbone</td>\n",
       "      <td>0.360687</td>\n",
       "      <td>True</td>\n",
       "      <td>miniature_pinscher</td>\n",
       "      <td>0.222752</td>\n",
       "      <td>True</td>\n",
       "    </tr>\n",
       "    <tr>\n",
       "      <th>4</th>\n",
       "      <td>666049248165822465</td>\n",
       "      <td>https://pbs.twimg.com/media/CT5IQmsXIAAKY4A.jpg</td>\n",
       "      <td>1</td>\n",
       "      <td>miniature_pinscher</td>\n",
       "      <td>0.560311</td>\n",
       "      <td>True</td>\n",
       "      <td>Rottweiler</td>\n",
       "      <td>0.243682</td>\n",
       "      <td>True</td>\n",
       "      <td>Doberman</td>\n",
       "      <td>0.154629</td>\n",
       "      <td>True</td>\n",
       "    </tr>\n",
       "  </tbody>\n",
       "</table>\n",
       "</div>"
      ],
      "text/plain": [
       "             tweet_id                                          jpg_url  \\\n",
       "0  666020888022790149  https://pbs.twimg.com/media/CT4udn0WwAA0aMy.jpg   \n",
       "1  666029285002620928  https://pbs.twimg.com/media/CT42GRgUYAA5iDo.jpg   \n",
       "2  666033412701032449  https://pbs.twimg.com/media/CT4521TWwAEvMyu.jpg   \n",
       "3  666044226329800704  https://pbs.twimg.com/media/CT5Dr8HUEAA-lEu.jpg   \n",
       "4  666049248165822465  https://pbs.twimg.com/media/CT5IQmsXIAAKY4A.jpg   \n",
       "\n",
       "   img_num                      p1   p1_conf  p1_dog                  p2  \\\n",
       "0        1  Welsh_springer_spaniel  0.465074    True              collie   \n",
       "1        1                 redbone  0.506826    True  miniature_pinscher   \n",
       "2        1         German_shepherd  0.596461    True            malinois   \n",
       "3        1     Rhodesian_ridgeback  0.408143    True             redbone   \n",
       "4        1      miniature_pinscher  0.560311    True          Rottweiler   \n",
       "\n",
       "    p2_conf  p2_dog                   p3   p3_conf  p3_dog  \n",
       "0  0.156665    True    Shetland_sheepdog  0.061428    True  \n",
       "1  0.074192    True  Rhodesian_ridgeback  0.072010    True  \n",
       "2  0.138584    True           bloodhound  0.116197    True  \n",
       "3  0.360687    True   miniature_pinscher  0.222752    True  \n",
       "4  0.243682    True             Doberman  0.154629    True  "
      ]
     },
     "execution_count": 31,
     "metadata": {},
     "output_type": "execute_result"
    }
   ],
   "source": [
    "image_pred_df.head()"
   ]
  },
  {
   "cell_type": "code",
   "execution_count": 32,
   "id": "1c97c09e",
   "metadata": {},
   "outputs": [
    {
     "data": {
      "text/plain": [
       "golden_retriever      150\n",
       "Labrador_retriever    100\n",
       "Pembroke               89\n",
       "Chihuahua              83\n",
       "pug                    57\n",
       "                     ... \n",
       "pillow                  1\n",
       "carousel                1\n",
       "bald_eagle              1\n",
       "lorikeet                1\n",
       "orange                  1\n",
       "Name: p1, Length: 378, dtype: int64"
      ]
     },
     "execution_count": 32,
     "metadata": {},
     "output_type": "execute_result"
    }
   ],
   "source": [
    "image_pred_df['p1'].value_counts()"
   ]
  },
  {
   "cell_type": "code",
   "execution_count": 33,
   "id": "f5e1855f",
   "metadata": {},
   "outputs": [
    {
     "data": {
      "text/plain": [
       "Labrador_retriever    104\n",
       "golden_retriever       92\n",
       "Cardigan               73\n",
       "Chihuahua              44\n",
       "Pomeranian             42\n",
       "                     ... \n",
       "medicine_chest          1\n",
       "quail                   1\n",
       "horse_cart              1\n",
       "waffle_iron             1\n",
       "bagel                   1\n",
       "Name: p2, Length: 405, dtype: int64"
      ]
     },
     "execution_count": 33,
     "metadata": {},
     "output_type": "execute_result"
    }
   ],
   "source": [
    "image_pred_df['p2'].value_counts()"
   ]
  },
  {
   "cell_type": "code",
   "execution_count": 34,
   "id": "e56fada1",
   "metadata": {},
   "outputs": [
    {
     "data": {
      "text/plain": [
       "Labrador_retriever    79\n",
       "Chihuahua             58\n",
       "golden_retriever      48\n",
       "Eskimo_dog            38\n",
       "kelpie                35\n",
       "                      ..\n",
       "ox                     1\n",
       "assault_rifle          1\n",
       "axolotl                1\n",
       "pot                    1\n",
       "banana                 1\n",
       "Name: p3, Length: 408, dtype: int64"
      ]
     },
     "execution_count": 34,
     "metadata": {},
     "output_type": "execute_result"
    }
   ],
   "source": [
    "image_pred_df['p3'].value_counts()"
   ]
  },
  {
   "cell_type": "code",
   "execution_count": 35,
   "id": "6cbd5986",
   "metadata": {},
   "outputs": [
    {
     "name": "stdout",
     "output_type": "stream",
     "text": [
      "<class 'pandas.core.frame.DataFrame'>\n",
      "RangeIndex: 2354 entries, 0 to 2353\n",
      "Data columns (total 6 columns):\n",
      " #   Column          Non-Null Count  Dtype \n",
      "---  ------          --------------  ----- \n",
      " 0   tweet_id        2354 non-null   int64 \n",
      " 1   retweet_count   2354 non-null   int64 \n",
      " 2   favorite_count  2354 non-null   int64 \n",
      " 3   tweet_text      2354 non-null   object\n",
      " 4   truncated       2354 non-null   bool  \n",
      " 5   retweeted       2354 non-null   bool  \n",
      "dtypes: bool(2), int64(3), object(1)\n",
      "memory usage: 78.3+ KB\n"
     ]
    }
   ],
   "source": [
    "tweet_df.info()"
   ]
  },
  {
   "cell_type": "code",
   "execution_count": 36,
   "id": "3531fc88",
   "metadata": {},
   "outputs": [
    {
     "data": {
      "text/plain": [
       "0"
      ]
     },
     "execution_count": 36,
     "metadata": {},
     "output_type": "execute_result"
    }
   ],
   "source": [
    "df.duplicated().sum()"
   ]
  },
  {
   "cell_type": "code",
   "execution_count": 37,
   "id": "12519a82",
   "metadata": {},
   "outputs": [
    {
     "data": {
      "text/plain": [
       "0"
      ]
     },
     "execution_count": 37,
     "metadata": {},
     "output_type": "execute_result"
    }
   ],
   "source": [
    "image_pred_df.duplicated().sum()"
   ]
  },
  {
   "cell_type": "markdown",
   "id": "1d46693d",
   "metadata": {},
   "source": [
    "## Quality issues"
   ]
  },
  {
   "cell_type": "markdown",
   "id": "26bd16de",
   "metadata": {},
   "source": [
    "1. The `df` dataframe has some retweets "
   ]
  },
  {
   "cell_type": "markdown",
   "id": "20b7694b",
   "metadata": {},
   "source": [
    "2. The `df` dataframe has some reply tweets"
   ]
  },
  {
   "cell_type": "markdown",
   "id": "7eb1c8d9",
   "metadata": {},
   "source": [
    "3. Missing values in the following columns<br>\n",
    "a. `in_reply_to_status_id`<br>\n",
    "b. `in_reply_to_user_id`<br>\n",
    "c. `retweeted_status_id`<br>\n",
    "d. `retweeted_status_user_id`<br>\n",
    "e. `retweeted_status_timestamp`<br>\n",
    "f. `expanded_urls`<br>"
   ]
  },
  {
   "cell_type": "markdown",
   "id": "531dfdc5",
   "metadata": {},
   "source": [
    "4. The `timestamp` column has an incorrect datatype format of `object`. It must be converted to `datetime` format "
   ]
  },
  {
   "cell_type": "markdown",
   "id": "1d0240e0",
   "metadata": {},
   "source": [
    "5. Some inaccurate names exist in the `name` column like 'a', 'the', 'an' etc. This names exist in the `none_names` list"
   ]
  },
  {
   "cell_type": "markdown",
   "id": "bfea5289",
   "metadata": {},
   "source": [
    "6. The prediction columns in `image_pred_df` underscores within them."
   ]
  },
  {
   "cell_type": "markdown",
   "id": "76bb9365",
   "metadata": {},
   "source": [
    "7. The values in the prediction columns of `image_pred_df` are inconsistent with letter casing"
   ]
  },
  {
   "cell_type": "markdown",
   "id": "025f228b",
   "metadata": {},
   "source": [
    "## Tidiness issues"
   ]
  },
  {
   "cell_type": "markdown",
   "id": "57e87bd4",
   "metadata": {},
   "source": [
    "1. The dog stage of the dog is spread across 4 different columns in the df table\n",
    "2. The data is split across three different tables which are not of the same length"
   ]
  },
  {
   "cell_type": "markdown",
   "id": "19f0d9aa",
   "metadata": {},
   "source": [
    "## Cleaning Data"
   ]
  },
  {
   "cell_type": "code",
   "execution_count": 38,
   "id": "46541dca",
   "metadata": {},
   "outputs": [],
   "source": [
    "# Making copies of original pieces of data\n",
    "\n",
    "df_copy = df.copy()\n",
    "image_pred_df_copy = image_pred_df.copy()\n",
    "tweet_df_copy = tweet_df.copy()"
   ]
  },
  {
   "cell_type": "markdown",
   "id": "92f860b1",
   "metadata": {},
   "source": [
    "### Quality Issue 1 The dataframe has some retweets"
   ]
  },
  {
   "cell_type": "markdown",
   "id": "bae37c9e",
   "metadata": {},
   "source": [
    "#### Define"
   ]
  },
  {
   "cell_type": "markdown",
   "id": "b6a27b81",
   "metadata": {},
   "source": [
    "Drop those rows which indicate retweets"
   ]
  },
  {
   "cell_type": "markdown",
   "id": "428bb7ff",
   "metadata": {},
   "source": [
    "#### Code"
   ]
  },
  {
   "cell_type": "code",
   "execution_count": 39,
   "id": "faf696f3",
   "metadata": {},
   "outputs": [],
   "source": [
    "# getting the indexes\n",
    "retweet_indexes = df_copy[df_copy['retweeted_status_id'].notna()].index\n",
    "\n",
    "df_copy.drop(retweet_indexes, inplace=True)"
   ]
  },
  {
   "cell_type": "markdown",
   "id": "5416072f",
   "metadata": {},
   "source": [
    "#### Test"
   ]
  },
  {
   "cell_type": "code",
   "execution_count": 40,
   "id": "51996b38",
   "metadata": {},
   "outputs": [
    {
     "name": "stdout",
     "output_type": "stream",
     "text": [
      "<class 'pandas.core.frame.DataFrame'>\n",
      "Int64Index: 2175 entries, 0 to 2355\n",
      "Data columns (total 17 columns):\n",
      " #   Column                      Non-Null Count  Dtype  \n",
      "---  ------                      --------------  -----  \n",
      " 0   tweet_id                    2175 non-null   int64  \n",
      " 1   in_reply_to_status_id       78 non-null     float64\n",
      " 2   in_reply_to_user_id         78 non-null     float64\n",
      " 3   timestamp                   2175 non-null   object \n",
      " 4   source                      2175 non-null   object \n",
      " 5   text                        2175 non-null   object \n",
      " 6   retweeted_status_id         0 non-null      float64\n",
      " 7   retweeted_status_user_id    0 non-null      float64\n",
      " 8   retweeted_status_timestamp  0 non-null      object \n",
      " 9   expanded_urls               2117 non-null   object \n",
      " 10  rating_numerator            2175 non-null   int64  \n",
      " 11  rating_denominator          2175 non-null   int64  \n",
      " 12  name                        2175 non-null   object \n",
      " 13  doggo                       2175 non-null   object \n",
      " 14  floofer                     2175 non-null   object \n",
      " 15  pupper                      2175 non-null   object \n",
      " 16  puppo                       2175 non-null   object \n",
      "dtypes: float64(4), int64(3), object(10)\n",
      "memory usage: 305.9+ KB\n"
     ]
    }
   ],
   "source": [
    "df_copy.info()"
   ]
  },
  {
   "cell_type": "markdown",
   "id": "23551a2c",
   "metadata": {},
   "source": [
    "As expected there are no non-null values anymore in the `retweeted_status_id`, `retweeted_status_user_id` and `retweeted_status_timestamp` columns"
   ]
  },
  {
   "cell_type": "markdown",
   "id": "4cd348bb",
   "metadata": {},
   "source": [
    "### Quality Issue 2 The dataframe has some replies"
   ]
  },
  {
   "cell_type": "markdown",
   "id": "66e00635",
   "metadata": {},
   "source": [
    "#### Define"
   ]
  },
  {
   "cell_type": "markdown",
   "id": "01d3ba65",
   "metadata": {},
   "source": [
    "Drop those rows which indicate replies"
   ]
  },
  {
   "cell_type": "markdown",
   "id": "c410de15",
   "metadata": {},
   "source": [
    "#### Code"
   ]
  },
  {
   "cell_type": "code",
   "execution_count": 41,
   "id": "7080737f",
   "metadata": {},
   "outputs": [],
   "source": [
    "# getting the indexes\n",
    "reply_indexes = df_copy[df_copy['in_reply_to_status_id'].notna()].index\n",
    "\n",
    "df_copy.drop(reply_indexes, inplace=True)"
   ]
  },
  {
   "cell_type": "markdown",
   "id": "66748951",
   "metadata": {},
   "source": [
    "#### Test"
   ]
  },
  {
   "cell_type": "code",
   "execution_count": 42,
   "id": "87fc9208",
   "metadata": {},
   "outputs": [
    {
     "name": "stdout",
     "output_type": "stream",
     "text": [
      "<class 'pandas.core.frame.DataFrame'>\n",
      "Int64Index: 2097 entries, 0 to 2355\n",
      "Data columns (total 17 columns):\n",
      " #   Column                      Non-Null Count  Dtype  \n",
      "---  ------                      --------------  -----  \n",
      " 0   tweet_id                    2097 non-null   int64  \n",
      " 1   in_reply_to_status_id       0 non-null      float64\n",
      " 2   in_reply_to_user_id         0 non-null      float64\n",
      " 3   timestamp                   2097 non-null   object \n",
      " 4   source                      2097 non-null   object \n",
      " 5   text                        2097 non-null   object \n",
      " 6   retweeted_status_id         0 non-null      float64\n",
      " 7   retweeted_status_user_id    0 non-null      float64\n",
      " 8   retweeted_status_timestamp  0 non-null      object \n",
      " 9   expanded_urls               2094 non-null   object \n",
      " 10  rating_numerator            2097 non-null   int64  \n",
      " 11  rating_denominator          2097 non-null   int64  \n",
      " 12  name                        2097 non-null   object \n",
      " 13  doggo                       2097 non-null   object \n",
      " 14  floofer                     2097 non-null   object \n",
      " 15  pupper                      2097 non-null   object \n",
      " 16  puppo                       2097 non-null   object \n",
      "dtypes: float64(4), int64(3), object(10)\n",
      "memory usage: 294.9+ KB\n"
     ]
    }
   ],
   "source": [
    "df_copy.info()"
   ]
  },
  {
   "cell_type": "markdown",
   "id": "bed788b3",
   "metadata": {},
   "source": [
    "As expected there are no non-null values anymore in the `in_reply_to_status_id`, and `in_reply_to_user_id` columns"
   ]
  },
  {
   "cell_type": "code",
   "execution_count": 43,
   "id": "0a86ee8a",
   "metadata": {},
   "outputs": [
    {
     "data": {
      "text/plain": [
       "tweet_id                         0\n",
       "in_reply_to_status_id         2097\n",
       "in_reply_to_user_id           2097\n",
       "timestamp                        0\n",
       "source                           0\n",
       "text                             0\n",
       "retweeted_status_id           2097\n",
       "retweeted_status_user_id      2097\n",
       "retweeted_status_timestamp    2097\n",
       "expanded_urls                    3\n",
       "rating_numerator                 0\n",
       "rating_denominator               0\n",
       "name                             0\n",
       "doggo                            0\n",
       "floofer                          0\n",
       "pupper                           0\n",
       "puppo                            0\n",
       "dtype: int64"
      ]
     },
     "execution_count": 43,
     "metadata": {},
     "output_type": "execute_result"
    }
   ],
   "source": [
    "# Now checking for missing values \n",
    "\n",
    "df_copy.isnull().sum()"
   ]
  },
  {
   "cell_type": "markdown",
   "id": "300d9a15",
   "metadata": {},
   "source": [
    "### Quality Issue 3 Missing Data Issues"
   ]
  },
  {
   "cell_type": "markdown",
   "id": "0c61fcbe",
   "metadata": {},
   "source": [
    "#### Define"
   ]
  },
  {
   "cell_type": "markdown",
   "id": "65ca780d",
   "metadata": {},
   "source": [
    "- Drop all columns with missing values in the df dataframe since they won't be used in analysis"
   ]
  },
  {
   "cell_type": "markdown",
   "id": "b0db136b",
   "metadata": {},
   "source": [
    "#### Code"
   ]
  },
  {
   "cell_type": "code",
   "execution_count": 44,
   "id": "1c8bb073",
   "metadata": {},
   "outputs": [],
   "source": [
    "drop_columns = ['in_reply_to_status_id', 'in_reply_to_user_id', 'retweeted_status_id', 'retweeted_status_user_id', 'retweeted_status_timestamp', 'expanded_urls']"
   ]
  },
  {
   "cell_type": "code",
   "execution_count": 45,
   "id": "bf704429",
   "metadata": {},
   "outputs": [],
   "source": [
    "df_copy.drop(drop_columns, axis=1, inplace=True)"
   ]
  },
  {
   "cell_type": "markdown",
   "id": "19f426fc",
   "metadata": {},
   "source": [
    "#### Test"
   ]
  },
  {
   "cell_type": "code",
   "execution_count": 46,
   "id": "9a1a275b",
   "metadata": {},
   "outputs": [
    {
     "data": {
      "text/plain": [
       "0"
      ]
     },
     "execution_count": 46,
     "metadata": {},
     "output_type": "execute_result"
    }
   ],
   "source": [
    "# There shouldn't be any null value in the df dataframe\n",
    "\n",
    "df_copy.isnull().sum().sum()"
   ]
  },
  {
   "cell_type": "markdown",
   "id": "b2696101",
   "metadata": {},
   "source": [
    "### Tidiness Issue 1 The data is split across three different tables which are not of the same length"
   ]
  },
  {
   "cell_type": "markdown",
   "id": "34c50cb3",
   "metadata": {},
   "source": [
    "#### Define"
   ]
  },
  {
   "cell_type": "markdown",
   "id": "3ad0e202",
   "metadata": {},
   "source": [
    "- Merge the three datasets into one"
   ]
  },
  {
   "cell_type": "markdown",
   "id": "f28db22b",
   "metadata": {},
   "source": [
    "#### Code"
   ]
  },
  {
   "cell_type": "code",
   "execution_count": 47,
   "id": "5239c6f7",
   "metadata": {},
   "outputs": [
    {
     "data": {
      "text/plain": [
       "2097"
      ]
     },
     "execution_count": 47,
     "metadata": {},
     "output_type": "execute_result"
    }
   ],
   "source": [
    "len(df_copy)"
   ]
  },
  {
   "cell_type": "code",
   "execution_count": 48,
   "id": "c18aac36",
   "metadata": {},
   "outputs": [],
   "source": [
    "# Merging the three data frames into one\n",
    "\n",
    "merged_df = df_copy.merge(image_pred_df, how='left', on='tweet_id').merge(tweet_df, how='left', on='tweet_id')"
   ]
  },
  {
   "cell_type": "markdown",
   "id": "386e7968",
   "metadata": {},
   "source": [
    "#### Test"
   ]
  },
  {
   "cell_type": "code",
   "execution_count": 49,
   "id": "8167fec8",
   "metadata": {},
   "outputs": [
    {
     "data": {
      "text/plain": [
       "[]"
      ]
     },
     "execution_count": 49,
     "metadata": {},
     "output_type": "execute_result"
    }
   ],
   "source": [
    "# the code below should return an empty list\n",
    "\n",
    "[col for col in merged_df if col not in list(df_copy.columns) + list(image_pred_df.columns) + list(tweet_df.columns)]"
   ]
  },
  {
   "cell_type": "code",
   "execution_count": 50,
   "id": "1dcdfd85",
   "metadata": {},
   "outputs": [
    {
     "data": {
      "text/plain": [
       "tweet_id                0\n",
       "timestamp               0\n",
       "source                  0\n",
       "text                    0\n",
       "rating_numerator        0\n",
       "rating_denominator      0\n",
       "name                    0\n",
       "doggo                   0\n",
       "floofer                 0\n",
       "pupper                  0\n",
       "puppo                   0\n",
       "jpg_url               126\n",
       "img_num               126\n",
       "p1                    126\n",
       "p1_conf               126\n",
       "p1_dog                126\n",
       "p2                    126\n",
       "p2_conf               126\n",
       "p2_dog                126\n",
       "p3                    126\n",
       "p3_conf               126\n",
       "p3_dog                126\n",
       "retweet_count           0\n",
       "favorite_count          0\n",
       "tweet_text              0\n",
       "truncated               0\n",
       "retweeted               0\n",
       "dtype: int64"
      ]
     },
     "execution_count": 50,
     "metadata": {},
     "output_type": "execute_result"
    }
   ],
   "source": [
    "merged_df.isnull().sum()"
   ]
  },
  {
   "cell_type": "code",
   "execution_count": 51,
   "id": "688ea50a",
   "metadata": {},
   "outputs": [
    {
     "data": {
      "text/plain": [
       "(Index(['tweet_id', 'in_reply_to_status_id', 'in_reply_to_user_id', 'timestamp',\n",
       "        'source', 'text', 'retweeted_status_id', 'retweeted_status_user_id',\n",
       "        'retweeted_status_timestamp', 'expanded_urls', 'rating_numerator',\n",
       "        'rating_denominator', 'name', 'doggo', 'floofer', 'pupper', 'puppo'],\n",
       "       dtype='object'),\n",
       " Index(['tweet_id', 'jpg_url', 'img_num', 'p1', 'p1_conf', 'p1_dog', 'p2',\n",
       "        'p2_conf', 'p2_dog', 'p3', 'p3_conf', 'p3_dog'],\n",
       "       dtype='object'),\n",
       " Index(['tweet_id', 'retweet_count', 'favorite_count', 'tweet_text',\n",
       "        'truncated', 'retweeted'],\n",
       "       dtype='object'))"
      ]
     },
     "execution_count": 51,
     "metadata": {},
     "output_type": "execute_result"
    }
   ],
   "source": [
    "df.columns, image_pred_df.columns, tweet_df.columns"
   ]
  },
  {
   "cell_type": "code",
   "execution_count": 52,
   "id": "a91458d6",
   "metadata": {},
   "outputs": [
    {
     "data": {
      "text/plain": [
       "(2075, 12)"
      ]
     },
     "execution_count": 52,
     "metadata": {},
     "output_type": "execute_result"
    }
   ],
   "source": [
    "image_pred_df.shape"
   ]
  },
  {
   "cell_type": "markdown",
   "id": "40e0b3d6",
   "metadata": {},
   "source": [
    "We'll notice from the result above that there are still some missing values (**quality issues**) for some columns. "
   ]
  },
  {
   "cell_type": "markdown",
   "id": "a6a76866",
   "metadata": {},
   "source": [
    "### Quality Issues"
   ]
  },
  {
   "cell_type": "markdown",
   "id": "8a658dc2",
   "metadata": {},
   "source": [
    "8. Missing data in some columns after merging the original three dataframes"
   ]
  },
  {
   "cell_type": "markdown",
   "id": "5231e8a5",
   "metadata": {},
   "source": [
    "These null values due to two reasons\n",
    "\n",
    "- Not all tweet_id values present in the tweet_id column of the df dataframe are found in the tweet_id columns of the other two dataframes\n",
    "- Some tweets probably didn't contain images hence the null jpg_url entries"
   ]
  },
  {
   "cell_type": "markdown",
   "id": "83f97f13",
   "metadata": {},
   "source": [
    "Hence for those instances which are just detected I shall replace the null values in the `string` columns  with `No Image`\n",
    "and the null values in the `numerical` columns with `0` to avoid errors with the datatype and the `boolean` columns with `False`"
   ]
  },
  {
   "cell_type": "markdown",
   "id": "17aea4cb",
   "metadata": {},
   "source": [
    "We'll also notice that the `text` column is duplicated as `tweet_text` (**tidiness issue**), hence we'll remove the `tweet_text` column  "
   ]
  },
  {
   "cell_type": "markdown",
   "id": "42eebc64",
   "metadata": {},
   "source": [
    "### Quality Issue 8 Missing data in some columns after merging the original three dataframes"
   ]
  },
  {
   "cell_type": "markdown",
   "id": "d9f3269f",
   "metadata": {},
   "source": [
    "#### Define"
   ]
  },
  {
   "cell_type": "markdown",
   "id": "4639ec3d",
   "metadata": {},
   "source": [
    "- Replace missing values in `string` columns with `No Image`\n",
    "- Replace missing values in `numerical` columns with `0`\n",
    "- Replace missing values in `boolean` columns with False"
   ]
  },
  {
   "cell_type": "markdown",
   "id": "6cb9335b",
   "metadata": {},
   "source": [
    "#### Code"
   ]
  },
  {
   "cell_type": "code",
   "execution_count": 53,
   "id": "fa13a358",
   "metadata": {},
   "outputs": [],
   "source": [
    "str_columns = ['jpg_url', 'p1', 'p2', 'p3']\n",
    "num_columns = ['img_num', 'p1_conf', 'p2_conf', 'p3_conf', 'retweet_count', 'favorite_count']\n",
    "bool_columns = ['p1_dog', 'p2_dog', 'p3_dog', 'truncated', 'retweeted']"
   ]
  },
  {
   "cell_type": "code",
   "execution_count": 54,
   "id": "30a998cb",
   "metadata": {},
   "outputs": [],
   "source": [
    "merged_df[str_columns] = merged_df[str_columns].fillna('No Image')\n",
    "merged_df[num_columns] = merged_df[num_columns].fillna(0)\n",
    "merged_df[bool_columns] = merged_df[bool_columns].fillna(False)"
   ]
  },
  {
   "cell_type": "markdown",
   "id": "dba24840",
   "metadata": {},
   "source": [
    "#### Test"
   ]
  },
  {
   "cell_type": "code",
   "execution_count": 55,
   "id": "aa0fc4d9",
   "metadata": {},
   "outputs": [
    {
     "data": {
      "text/plain": [
       "tweet_id              0\n",
       "timestamp             0\n",
       "source                0\n",
       "text                  0\n",
       "rating_numerator      0\n",
       "rating_denominator    0\n",
       "name                  0\n",
       "doggo                 0\n",
       "floofer               0\n",
       "pupper                0\n",
       "puppo                 0\n",
       "jpg_url               0\n",
       "img_num               0\n",
       "p1                    0\n",
       "p1_conf               0\n",
       "p1_dog                0\n",
       "p2                    0\n",
       "p2_conf               0\n",
       "p2_dog                0\n",
       "p3                    0\n",
       "p3_conf               0\n",
       "p3_dog                0\n",
       "retweet_count         0\n",
       "favorite_count        0\n",
       "tweet_text            0\n",
       "truncated             0\n",
       "retweeted             0\n",
       "dtype: int64"
      ]
     },
     "execution_count": 55,
     "metadata": {},
     "output_type": "execute_result"
    }
   ],
   "source": [
    "# There shouldn't be any missing value in the dataframe except for the tweet_text column\n",
    "\n",
    "merged_df.isnull().sum()"
   ]
  },
  {
   "cell_type": "markdown",
   "id": "9b00cc8d",
   "metadata": {},
   "source": [
    "### Tidiness Issues"
   ]
  },
  {
   "cell_type": "markdown",
   "id": "8ba82b3e",
   "metadata": {},
   "source": [
    "3. The text column is duplicated as `tweet_text`"
   ]
  },
  {
   "cell_type": "markdown",
   "id": "cbf687b1",
   "metadata": {},
   "source": [
    "### Tidiness Issue 3 The text column is duplicated as `tweet_text`"
   ]
  },
  {
   "cell_type": "markdown",
   "id": "e769ce7f",
   "metadata": {},
   "source": [
    "#### Define"
   ]
  },
  {
   "cell_type": "markdown",
   "id": "f33ca451",
   "metadata": {},
   "source": [
    "Drop the `tweet_text` column"
   ]
  },
  {
   "cell_type": "markdown",
   "id": "a85bdec6",
   "metadata": {},
   "source": [
    "#### Code"
   ]
  },
  {
   "cell_type": "code",
   "execution_count": 56,
   "id": "4f6f62e7",
   "metadata": {},
   "outputs": [],
   "source": [
    "merged_df.drop('tweet_text', axis=1, inplace=True)"
   ]
  },
  {
   "cell_type": "markdown",
   "id": "4237310f",
   "metadata": {},
   "source": [
    "#### Test"
   ]
  },
  {
   "cell_type": "code",
   "execution_count": 57,
   "id": "5faa351a",
   "metadata": {},
   "outputs": [
    {
     "data": {
      "text/plain": [
       "False"
      ]
     },
     "execution_count": 57,
     "metadata": {},
     "output_type": "execute_result"
    }
   ],
   "source": [
    "# tweet_text shouldn't be in merged_df columns anymore\n",
    "\n",
    "'tweet_text' in merged_df.columns"
   ]
  },
  {
   "cell_type": "markdown",
   "id": "6fa0f868",
   "metadata": {},
   "source": [
    "### Tidiness Issue 1 Dog stages are spread across different columns"
   ]
  },
  {
   "cell_type": "markdown",
   "id": "c010b2b0",
   "metadata": {},
   "source": [
    "#### Define "
   ]
  },
  {
   "cell_type": "markdown",
   "id": "c67eaa1e",
   "metadata": {},
   "source": [
    "- Combine the columns `doggo`, `floofer`, `pupper` and `puppo` into one column named `dog stages` using the `pd.melt()` function"
   ]
  },
  {
   "cell_type": "markdown",
   "id": "66d38861",
   "metadata": {},
   "source": [
    "#### Code"
   ]
  },
  {
   "cell_type": "code",
   "execution_count": 58,
   "id": "9c3c26c7",
   "metadata": {},
   "outputs": [],
   "source": [
    "dog_stages = ['doggo', 'floofer', 'pupper', 'puppo']"
   ]
  },
  {
   "cell_type": "code",
   "execution_count": 59,
   "id": "aa73b411",
   "metadata": {},
   "outputs": [],
   "source": [
    "id_vars = list(set(merged_df.columns).difference(dog_stages))"
   ]
  },
  {
   "cell_type": "code",
   "execution_count": 60,
   "id": "0919c6f6",
   "metadata": {},
   "outputs": [],
   "source": [
    "tidy_merged_df = pd.melt(merged_df, id_vars=id_vars, var_name='dog_stages', value_name='value')"
   ]
  },
  {
   "cell_type": "code",
   "execution_count": 61,
   "id": "0817688d",
   "metadata": {},
   "outputs": [
    {
     "data": {
      "text/html": [
       "<div>\n",
       "<style scoped>\n",
       "    .dataframe tbody tr th:only-of-type {\n",
       "        vertical-align: middle;\n",
       "    }\n",
       "\n",
       "    .dataframe tbody tr th {\n",
       "        vertical-align: top;\n",
       "    }\n",
       "\n",
       "    .dataframe thead th {\n",
       "        text-align: right;\n",
       "    }\n",
       "</style>\n",
       "<table border=\"1\" class=\"dataframe\">\n",
       "  <thead>\n",
       "    <tr style=\"text-align: right;\">\n",
       "      <th></th>\n",
       "      <th>p3</th>\n",
       "      <th>p1_conf</th>\n",
       "      <th>p2</th>\n",
       "      <th>p3_conf</th>\n",
       "      <th>timestamp</th>\n",
       "      <th>retweet_count</th>\n",
       "      <th>truncated</th>\n",
       "      <th>img_num</th>\n",
       "      <th>text</th>\n",
       "      <th>name</th>\n",
       "      <th>...</th>\n",
       "      <th>rating_numerator</th>\n",
       "      <th>jpg_url</th>\n",
       "      <th>p1_dog</th>\n",
       "      <th>retweeted</th>\n",
       "      <th>source</th>\n",
       "      <th>rating_denominator</th>\n",
       "      <th>p2_conf</th>\n",
       "      <th>p3_dog</th>\n",
       "      <th>dog_stages</th>\n",
       "      <th>value</th>\n",
       "    </tr>\n",
       "  </thead>\n",
       "  <tbody>\n",
       "    <tr>\n",
       "      <th>0</th>\n",
       "      <td>banana</td>\n",
       "      <td>0.097049</td>\n",
       "      <td>bagel</td>\n",
       "      <td>0.076110</td>\n",
       "      <td>2017-08-01 16:23:56 +0000</td>\n",
       "      <td>8853</td>\n",
       "      <td>False</td>\n",
       "      <td>1.0</td>\n",
       "      <td>This is Phineas. He's a mystical boy. Only eve...</td>\n",
       "      <td>Phineas</td>\n",
       "      <td>...</td>\n",
       "      <td>13</td>\n",
       "      <td>https://pbs.twimg.com/media/DGKD1-bXoAAIAUK.jpg</td>\n",
       "      <td>False</td>\n",
       "      <td>False</td>\n",
       "      <td>&lt;a href=\"http://twitter.com/download/iphone\" r...</td>\n",
       "      <td>10</td>\n",
       "      <td>0.085851</td>\n",
       "      <td>False</td>\n",
       "      <td>doggo</td>\n",
       "      <td>None</td>\n",
       "    </tr>\n",
       "    <tr>\n",
       "      <th>1</th>\n",
       "      <td>papillon</td>\n",
       "      <td>0.323581</td>\n",
       "      <td>Pekinese</td>\n",
       "      <td>0.068957</td>\n",
       "      <td>2017-08-01 00:17:27 +0000</td>\n",
       "      <td>6514</td>\n",
       "      <td>False</td>\n",
       "      <td>1.0</td>\n",
       "      <td>This is Tilly. She's just checking pup on you....</td>\n",
       "      <td>Tilly</td>\n",
       "      <td>...</td>\n",
       "      <td>13</td>\n",
       "      <td>https://pbs.twimg.com/media/DGGmoV4XsAAUL6n.jpg</td>\n",
       "      <td>True</td>\n",
       "      <td>False</td>\n",
       "      <td>&lt;a href=\"http://twitter.com/download/iphone\" r...</td>\n",
       "      <td>10</td>\n",
       "      <td>0.090647</td>\n",
       "      <td>True</td>\n",
       "      <td>doggo</td>\n",
       "      <td>None</td>\n",
       "    </tr>\n",
       "    <tr>\n",
       "      <th>2</th>\n",
       "      <td>kelpie</td>\n",
       "      <td>0.716012</td>\n",
       "      <td>malamute</td>\n",
       "      <td>0.031379</td>\n",
       "      <td>2017-07-31 00:18:03 +0000</td>\n",
       "      <td>4328</td>\n",
       "      <td>False</td>\n",
       "      <td>1.0</td>\n",
       "      <td>This is Archie. He is a rare Norwegian Pouncin...</td>\n",
       "      <td>Archie</td>\n",
       "      <td>...</td>\n",
       "      <td>12</td>\n",
       "      <td>https://pbs.twimg.com/media/DGBdLU1WsAANxJ9.jpg</td>\n",
       "      <td>True</td>\n",
       "      <td>False</td>\n",
       "      <td>&lt;a href=\"http://twitter.com/download/iphone\" r...</td>\n",
       "      <td>10</td>\n",
       "      <td>0.078253</td>\n",
       "      <td>True</td>\n",
       "      <td>doggo</td>\n",
       "      <td>None</td>\n",
       "    </tr>\n",
       "    <tr>\n",
       "      <th>3</th>\n",
       "      <td>spatula</td>\n",
       "      <td>0.170278</td>\n",
       "      <td>Labrador_retriever</td>\n",
       "      <td>0.040836</td>\n",
       "      <td>2017-07-30 15:58:51 +0000</td>\n",
       "      <td>8964</td>\n",
       "      <td>False</td>\n",
       "      <td>1.0</td>\n",
       "      <td>This is Darla. She commenced a snooze mid meal...</td>\n",
       "      <td>Darla</td>\n",
       "      <td>...</td>\n",
       "      <td>13</td>\n",
       "      <td>https://pbs.twimg.com/media/DF_q7IAWsAEuuN8.jpg</td>\n",
       "      <td>False</td>\n",
       "      <td>False</td>\n",
       "      <td>&lt;a href=\"http://twitter.com/download/iphone\" r...</td>\n",
       "      <td>10</td>\n",
       "      <td>0.168086</td>\n",
       "      <td>False</td>\n",
       "      <td>doggo</td>\n",
       "      <td>None</td>\n",
       "    </tr>\n",
       "    <tr>\n",
       "      <th>4</th>\n",
       "      <td>German_short-haired_pointer</td>\n",
       "      <td>0.555712</td>\n",
       "      <td>English_springer</td>\n",
       "      <td>0.175219</td>\n",
       "      <td>2017-07-29 16:00:24 +0000</td>\n",
       "      <td>9774</td>\n",
       "      <td>False</td>\n",
       "      <td>2.0</td>\n",
       "      <td>This is Franklin. He would like you to stop ca...</td>\n",
       "      <td>Franklin</td>\n",
       "      <td>...</td>\n",
       "      <td>12</td>\n",
       "      <td>https://pbs.twimg.com/media/DF6hr6BUMAAzZgT.jpg</td>\n",
       "      <td>True</td>\n",
       "      <td>False</td>\n",
       "      <td>&lt;a href=\"http://twitter.com/download/iphone\" r...</td>\n",
       "      <td>10</td>\n",
       "      <td>0.225770</td>\n",
       "      <td>True</td>\n",
       "      <td>doggo</td>\n",
       "      <td>None</td>\n",
       "    </tr>\n",
       "  </tbody>\n",
       "</table>\n",
       "<p>5 rows × 24 columns</p>\n",
       "</div>"
      ],
      "text/plain": [
       "                            p3   p1_conf                  p2   p3_conf  \\\n",
       "0                       banana  0.097049               bagel  0.076110   \n",
       "1                     papillon  0.323581            Pekinese  0.068957   \n",
       "2                       kelpie  0.716012            malamute  0.031379   \n",
       "3                      spatula  0.170278  Labrador_retriever  0.040836   \n",
       "4  German_short-haired_pointer  0.555712    English_springer  0.175219   \n",
       "\n",
       "                   timestamp  retweet_count  truncated  img_num  \\\n",
       "0  2017-08-01 16:23:56 +0000           8853      False      1.0   \n",
       "1  2017-08-01 00:17:27 +0000           6514      False      1.0   \n",
       "2  2017-07-31 00:18:03 +0000           4328      False      1.0   \n",
       "3  2017-07-30 15:58:51 +0000           8964      False      1.0   \n",
       "4  2017-07-29 16:00:24 +0000           9774      False      2.0   \n",
       "\n",
       "                                                text      name  ...  \\\n",
       "0  This is Phineas. He's a mystical boy. Only eve...   Phineas  ...   \n",
       "1  This is Tilly. She's just checking pup on you....     Tilly  ...   \n",
       "2  This is Archie. He is a rare Norwegian Pouncin...    Archie  ...   \n",
       "3  This is Darla. She commenced a snooze mid meal...     Darla  ...   \n",
       "4  This is Franklin. He would like you to stop ca...  Franklin  ...   \n",
       "\n",
       "  rating_numerator                                          jpg_url  p1_dog  \\\n",
       "0               13  https://pbs.twimg.com/media/DGKD1-bXoAAIAUK.jpg   False   \n",
       "1               13  https://pbs.twimg.com/media/DGGmoV4XsAAUL6n.jpg    True   \n",
       "2               12  https://pbs.twimg.com/media/DGBdLU1WsAANxJ9.jpg    True   \n",
       "3               13  https://pbs.twimg.com/media/DF_q7IAWsAEuuN8.jpg   False   \n",
       "4               12  https://pbs.twimg.com/media/DF6hr6BUMAAzZgT.jpg    True   \n",
       "\n",
       "   retweeted                                             source  \\\n",
       "0      False  <a href=\"http://twitter.com/download/iphone\" r...   \n",
       "1      False  <a href=\"http://twitter.com/download/iphone\" r...   \n",
       "2      False  <a href=\"http://twitter.com/download/iphone\" r...   \n",
       "3      False  <a href=\"http://twitter.com/download/iphone\" r...   \n",
       "4      False  <a href=\"http://twitter.com/download/iphone\" r...   \n",
       "\n",
       "  rating_denominator   p2_conf  p3_dog dog_stages  value  \n",
       "0                 10  0.085851   False      doggo   None  \n",
       "1                 10  0.090647    True      doggo   None  \n",
       "2                 10  0.078253    True      doggo   None  \n",
       "3                 10  0.168086   False      doggo   None  \n",
       "4                 10  0.225770    True      doggo   None  \n",
       "\n",
       "[5 rows x 24 columns]"
      ]
     },
     "execution_count": 61,
     "metadata": {},
     "output_type": "execute_result"
    }
   ],
   "source": [
    "tidy_merged_df.head()"
   ]
  },
  {
   "cell_type": "code",
   "execution_count": 62,
   "id": "958c3f2b",
   "metadata": {},
   "outputs": [],
   "source": [
    "tidy_merged_df['value'] = tidy_merged_df['value'].replace('None', 'ZZ')"
   ]
  },
  {
   "cell_type": "code",
   "execution_count": 63,
   "id": "15efdd63",
   "metadata": {},
   "outputs": [
    {
     "data": {
      "text/html": [
       "<div>\n",
       "<style scoped>\n",
       "    .dataframe tbody tr th:only-of-type {\n",
       "        vertical-align: middle;\n",
       "    }\n",
       "\n",
       "    .dataframe tbody tr th {\n",
       "        vertical-align: top;\n",
       "    }\n",
       "\n",
       "    .dataframe thead th {\n",
       "        text-align: right;\n",
       "    }\n",
       "</style>\n",
       "<table border=\"1\" class=\"dataframe\">\n",
       "  <thead>\n",
       "    <tr style=\"text-align: right;\">\n",
       "      <th></th>\n",
       "      <th>p3</th>\n",
       "      <th>p1_conf</th>\n",
       "      <th>p2</th>\n",
       "      <th>p3_conf</th>\n",
       "      <th>timestamp</th>\n",
       "      <th>retweet_count</th>\n",
       "      <th>truncated</th>\n",
       "      <th>img_num</th>\n",
       "      <th>text</th>\n",
       "      <th>name</th>\n",
       "      <th>...</th>\n",
       "      <th>rating_numerator</th>\n",
       "      <th>jpg_url</th>\n",
       "      <th>p1_dog</th>\n",
       "      <th>retweeted</th>\n",
       "      <th>source</th>\n",
       "      <th>rating_denominator</th>\n",
       "      <th>p2_conf</th>\n",
       "      <th>p3_dog</th>\n",
       "      <th>dog_stages</th>\n",
       "      <th>value</th>\n",
       "    </tr>\n",
       "  </thead>\n",
       "  <tbody>\n",
       "    <tr>\n",
       "      <th>9</th>\n",
       "      <td>Chihuahua</td>\n",
       "      <td>0.511319</td>\n",
       "      <td>Cardigan</td>\n",
       "      <td>0.029248</td>\n",
       "      <td>2017-07-26 15:59:51 +0000</td>\n",
       "      <td>7711</td>\n",
       "      <td>False</td>\n",
       "      <td>1.0</td>\n",
       "      <td>This is Cassie. She is a college pup. Studying...</td>\n",
       "      <td>Cassie</td>\n",
       "      <td>...</td>\n",
       "      <td>14</td>\n",
       "      <td>https://pbs.twimg.com/media/DFrEyVuW0AAO3t9.jpg</td>\n",
       "      <td>True</td>\n",
       "      <td>False</td>\n",
       "      <td>&lt;a href=\"http://twitter.com/download/iphone\" r...</td>\n",
       "      <td>10</td>\n",
       "      <td>0.451038</td>\n",
       "      <td>True</td>\n",
       "      <td>doggo</td>\n",
       "      <td>doggo</td>\n",
       "    </tr>\n",
       "    <tr>\n",
       "      <th>39</th>\n",
       "      <td>Norwegian_elkhound</td>\n",
       "      <td>0.707046</td>\n",
       "      <td>malinois</td>\n",
       "      <td>0.049148</td>\n",
       "      <td>2017-07-09 21:29:42 +0000</td>\n",
       "      <td>3128</td>\n",
       "      <td>False</td>\n",
       "      <td>1.0</td>\n",
       "      <td>Meet Yogi. He doesn't have any important dog m...</td>\n",
       "      <td>Yogi</td>\n",
       "      <td>...</td>\n",
       "      <td>12</td>\n",
       "      <td>https://pbs.twimg.com/media/DEUtQbzW0AUTv_o.jpg</td>\n",
       "      <td>True</td>\n",
       "      <td>False</td>\n",
       "      <td>&lt;a href=\"http://twitter.com/download/iphone\" r...</td>\n",
       "      <td>10</td>\n",
       "      <td>0.199396</td>\n",
       "      <td>True</td>\n",
       "      <td>doggo</td>\n",
       "      <td>doggo</td>\n",
       "    </tr>\n",
       "    <tr>\n",
       "      <th>86</th>\n",
       "      <td>German_short-haired_pointer</td>\n",
       "      <td>0.476913</td>\n",
       "      <td>Chesapeake_Bay_retriever</td>\n",
       "      <td>0.092861</td>\n",
       "      <td>2017-06-09 00:02:31 +0000</td>\n",
       "      <td>5669</td>\n",
       "      <td>False</td>\n",
       "      <td>2.0</td>\n",
       "      <td>Here's a very large dog. He has a date later. ...</td>\n",
       "      <td>None</td>\n",
       "      <td>...</td>\n",
       "      <td>12</td>\n",
       "      <td>https://pbs.twimg.com/media/DB1m871XUAAw5vZ.jpg</td>\n",
       "      <td>True</td>\n",
       "      <td>False</td>\n",
       "      <td>&lt;a href=\"http://twitter.com/download/iphone\" r...</td>\n",
       "      <td>10</td>\n",
       "      <td>0.174145</td>\n",
       "      <td>True</td>\n",
       "      <td>doggo</td>\n",
       "      <td>doggo</td>\n",
       "    </tr>\n",
       "    <tr>\n",
       "      <th>94</th>\n",
       "      <td>swab</td>\n",
       "      <td>0.974781</td>\n",
       "      <td>briard</td>\n",
       "      <td>0.003228</td>\n",
       "      <td>2017-06-04 23:56:03 +0000</td>\n",
       "      <td>3628</td>\n",
       "      <td>False</td>\n",
       "      <td>2.0</td>\n",
       "      <td>This is Napolean. He's a Raggedy East Nicaragu...</td>\n",
       "      <td>Napolean</td>\n",
       "      <td>...</td>\n",
       "      <td>12</td>\n",
       "      <td>https://pbs.twimg.com/media/DBg_HT9WAAEeIMM.jpg</td>\n",
       "      <td>True</td>\n",
       "      <td>False</td>\n",
       "      <td>&lt;a href=\"http://twitter.com/download/iphone\" r...</td>\n",
       "      <td>10</td>\n",
       "      <td>0.020041</td>\n",
       "      <td>False</td>\n",
       "      <td>doggo</td>\n",
       "      <td>doggo</td>\n",
       "    </tr>\n",
       "    <tr>\n",
       "      <th>95</th>\n",
       "      <td>No Image</td>\n",
       "      <td>0.000000</td>\n",
       "      <td>No Image</td>\n",
       "      <td>0.000000</td>\n",
       "      <td>2017-06-03 20:33:19 +0000</td>\n",
       "      <td>5764</td>\n",
       "      <td>False</td>\n",
       "      <td>0.0</td>\n",
       "      <td>Never doubt a doggo 14/10 https://t.co/AbBLh2FZCH</td>\n",
       "      <td>None</td>\n",
       "      <td>...</td>\n",
       "      <td>14</td>\n",
       "      <td>No Image</td>\n",
       "      <td>False</td>\n",
       "      <td>False</td>\n",
       "      <td>&lt;a href=\"http://twitter.com/download/iphone\" r...</td>\n",
       "      <td>10</td>\n",
       "      <td>0.000000</td>\n",
       "      <td>False</td>\n",
       "      <td>doggo</td>\n",
       "      <td>doggo</td>\n",
       "    </tr>\n",
       "    <tr>\n",
       "      <th>...</th>\n",
       "      <td>...</td>\n",
       "      <td>...</td>\n",
       "      <td>...</td>\n",
       "      <td>...</td>\n",
       "      <td>...</td>\n",
       "      <td>...</td>\n",
       "      <td>...</td>\n",
       "      <td>...</td>\n",
       "      <td>...</td>\n",
       "      <td>...</td>\n",
       "      <td>...</td>\n",
       "      <td>...</td>\n",
       "      <td>...</td>\n",
       "      <td>...</td>\n",
       "      <td>...</td>\n",
       "      <td>...</td>\n",
       "      <td>...</td>\n",
       "      <td>...</td>\n",
       "      <td>...</td>\n",
       "      <td>...</td>\n",
       "      <td>...</td>\n",
       "    </tr>\n",
       "    <tr>\n",
       "      <th>7031</th>\n",
       "      <td>Eskimo_dog</td>\n",
       "      <td>0.999984</td>\n",
       "      <td>Labrador_retriever</td>\n",
       "      <td>0.000001</td>\n",
       "      <td>2016-07-11 15:07:30 +0000</td>\n",
       "      <td>3917</td>\n",
       "      <td>False</td>\n",
       "      <td>3.0</td>\n",
       "      <td>Hopefully this puppo on a swing will help get ...</td>\n",
       "      <td>None</td>\n",
       "      <td>...</td>\n",
       "      <td>11</td>\n",
       "      <td>https://pbs.twimg.com/media/CnF8qVDWYAAh0g1.jpg</td>\n",
       "      <td>False</td>\n",
       "      <td>False</td>\n",
       "      <td>&lt;a href=\"http://twitter.com/download/iphone\" r...</td>\n",
       "      <td>10</td>\n",
       "      <td>0.000010</td>\n",
       "      <td>True</td>\n",
       "      <td>puppo</td>\n",
       "      <td>puppo</td>\n",
       "    </tr>\n",
       "    <tr>\n",
       "      <th>7044</th>\n",
       "      <td>golden_retriever</td>\n",
       "      <td>0.929390</td>\n",
       "      <td>Chesapeake_Bay_retriever</td>\n",
       "      <td>0.007610</td>\n",
       "      <td>2016-07-07 19:16:47 +0000</td>\n",
       "      <td>1480</td>\n",
       "      <td>False</td>\n",
       "      <td>1.0</td>\n",
       "      <td>This is Cooper. He's just so damn happy. 10/10...</td>\n",
       "      <td>Cooper</td>\n",
       "      <td>...</td>\n",
       "      <td>10</td>\n",
       "      <td>https://pbs.twimg.com/media/CmyPXNOW8AEtaJ-.jpg</td>\n",
       "      <td>True</td>\n",
       "      <td>False</td>\n",
       "      <td>&lt;a href=\"http://twitter.com/download/iphone\" r...</td>\n",
       "      <td>10</td>\n",
       "      <td>0.038254</td>\n",
       "      <td>True</td>\n",
       "      <td>puppo</td>\n",
       "      <td>puppo</td>\n",
       "    </tr>\n",
       "    <tr>\n",
       "      <th>7112</th>\n",
       "      <td>Tibetan_terrier</td>\n",
       "      <td>0.427481</td>\n",
       "      <td>Shih-Tzu</td>\n",
       "      <td>0.134269</td>\n",
       "      <td>2016-06-20 20:49:19 +0000</td>\n",
       "      <td>716</td>\n",
       "      <td>False</td>\n",
       "      <td>1.0</td>\n",
       "      <td>This is Abby. She got her face stuck in a glas...</td>\n",
       "      <td>Abby</td>\n",
       "      <td>...</td>\n",
       "      <td>9</td>\n",
       "      <td>https://pbs.twimg.com/media/ClbBg4WWEAMjwJu.jpg</td>\n",
       "      <td>True</td>\n",
       "      <td>False</td>\n",
       "      <td>&lt;a href=\"http://twitter.com/download/iphone\" r...</td>\n",
       "      <td>10</td>\n",
       "      <td>0.146336</td>\n",
       "      <td>True</td>\n",
       "      <td>puppo</td>\n",
       "      <td>puppo</td>\n",
       "    </tr>\n",
       "    <tr>\n",
       "      <th>7124</th>\n",
       "      <td>Eskimo_dog</td>\n",
       "      <td>0.442612</td>\n",
       "      <td>Siberian_husky</td>\n",
       "      <td>0.177822</td>\n",
       "      <td>2016-06-16 01:25:36 +0000</td>\n",
       "      <td>1366</td>\n",
       "      <td>False</td>\n",
       "      <td>1.0</td>\n",
       "      <td>This is Kilo. He cannot reach the snackum. Nif...</td>\n",
       "      <td>Kilo</td>\n",
       "      <td>...</td>\n",
       "      <td>10</td>\n",
       "      <td>https://pbs.twimg.com/media/ClCQzFUUYAA5vAu.jpg</td>\n",
       "      <td>True</td>\n",
       "      <td>False</td>\n",
       "      <td>&lt;a href=\"http://twitter.com/download/iphone\" r...</td>\n",
       "      <td>10</td>\n",
       "      <td>0.368137</td>\n",
       "      <td>True</td>\n",
       "      <td>puppo</td>\n",
       "      <td>puppo</td>\n",
       "    </tr>\n",
       "    <tr>\n",
       "      <th>7158</th>\n",
       "      <td>Pembroke</td>\n",
       "      <td>0.808737</td>\n",
       "      <td>gibbon</td>\n",
       "      <td>0.026498</td>\n",
       "      <td>2016-06-03 01:07:16 +0000</td>\n",
       "      <td>1759</td>\n",
       "      <td>False</td>\n",
       "      <td>1.0</td>\n",
       "      <td>This is Bayley. She fell asleep trying to esca...</td>\n",
       "      <td>Bayley</td>\n",
       "      <td>...</td>\n",
       "      <td>11</td>\n",
       "      <td>https://pbs.twimg.com/media/Cj_P7rSUgAAYQbz.jpg</td>\n",
       "      <td>True</td>\n",
       "      <td>False</td>\n",
       "      <td>&lt;a href=\"http://twitter.com/download/iphone\" r...</td>\n",
       "      <td>10</td>\n",
       "      <td>0.028942</td>\n",
       "      <td>True</td>\n",
       "      <td>puppo</td>\n",
       "      <td>puppo</td>\n",
       "    </tr>\n",
       "  </tbody>\n",
       "</table>\n",
       "<p>347 rows × 24 columns</p>\n",
       "</div>"
      ],
      "text/plain": [
       "                               p3   p1_conf                        p2  \\\n",
       "9                       Chihuahua  0.511319                  Cardigan   \n",
       "39             Norwegian_elkhound  0.707046                  malinois   \n",
       "86    German_short-haired_pointer  0.476913  Chesapeake_Bay_retriever   \n",
       "94                           swab  0.974781                    briard   \n",
       "95                       No Image  0.000000                  No Image   \n",
       "...                           ...       ...                       ...   \n",
       "7031                   Eskimo_dog  0.999984        Labrador_retriever   \n",
       "7044             golden_retriever  0.929390  Chesapeake_Bay_retriever   \n",
       "7112              Tibetan_terrier  0.427481                  Shih-Tzu   \n",
       "7124                   Eskimo_dog  0.442612            Siberian_husky   \n",
       "7158                     Pembroke  0.808737                    gibbon   \n",
       "\n",
       "       p3_conf                  timestamp  retweet_count  truncated  img_num  \\\n",
       "9     0.029248  2017-07-26 15:59:51 +0000           7711      False      1.0   \n",
       "39    0.049148  2017-07-09 21:29:42 +0000           3128      False      1.0   \n",
       "86    0.092861  2017-06-09 00:02:31 +0000           5669      False      2.0   \n",
       "94    0.003228  2017-06-04 23:56:03 +0000           3628      False      2.0   \n",
       "95    0.000000  2017-06-03 20:33:19 +0000           5764      False      0.0   \n",
       "...        ...                        ...            ...        ...      ...   \n",
       "7031  0.000001  2016-07-11 15:07:30 +0000           3917      False      3.0   \n",
       "7044  0.007610  2016-07-07 19:16:47 +0000           1480      False      1.0   \n",
       "7112  0.134269  2016-06-20 20:49:19 +0000            716      False      1.0   \n",
       "7124  0.177822  2016-06-16 01:25:36 +0000           1366      False      1.0   \n",
       "7158  0.026498  2016-06-03 01:07:16 +0000           1759      False      1.0   \n",
       "\n",
       "                                                   text      name  ...  \\\n",
       "9     This is Cassie. She is a college pup. Studying...    Cassie  ...   \n",
       "39    Meet Yogi. He doesn't have any important dog m...      Yogi  ...   \n",
       "86    Here's a very large dog. He has a date later. ...      None  ...   \n",
       "94    This is Napolean. He's a Raggedy East Nicaragu...  Napolean  ...   \n",
       "95    Never doubt a doggo 14/10 https://t.co/AbBLh2FZCH      None  ...   \n",
       "...                                                 ...       ...  ...   \n",
       "7031  Hopefully this puppo on a swing will help get ...      None  ...   \n",
       "7044  This is Cooper. He's just so damn happy. 10/10...    Cooper  ...   \n",
       "7112  This is Abby. She got her face stuck in a glas...      Abby  ...   \n",
       "7124  This is Kilo. He cannot reach the snackum. Nif...      Kilo  ...   \n",
       "7158  This is Bayley. She fell asleep trying to esca...    Bayley  ...   \n",
       "\n",
       "     rating_numerator                                          jpg_url  \\\n",
       "9                  14  https://pbs.twimg.com/media/DFrEyVuW0AAO3t9.jpg   \n",
       "39                 12  https://pbs.twimg.com/media/DEUtQbzW0AUTv_o.jpg   \n",
       "86                 12  https://pbs.twimg.com/media/DB1m871XUAAw5vZ.jpg   \n",
       "94                 12  https://pbs.twimg.com/media/DBg_HT9WAAEeIMM.jpg   \n",
       "95                 14                                         No Image   \n",
       "...               ...                                              ...   \n",
       "7031               11  https://pbs.twimg.com/media/CnF8qVDWYAAh0g1.jpg   \n",
       "7044               10  https://pbs.twimg.com/media/CmyPXNOW8AEtaJ-.jpg   \n",
       "7112                9  https://pbs.twimg.com/media/ClbBg4WWEAMjwJu.jpg   \n",
       "7124               10  https://pbs.twimg.com/media/ClCQzFUUYAA5vAu.jpg   \n",
       "7158               11  https://pbs.twimg.com/media/Cj_P7rSUgAAYQbz.jpg   \n",
       "\n",
       "      p1_dog  retweeted                                             source  \\\n",
       "9       True      False  <a href=\"http://twitter.com/download/iphone\" r...   \n",
       "39      True      False  <a href=\"http://twitter.com/download/iphone\" r...   \n",
       "86      True      False  <a href=\"http://twitter.com/download/iphone\" r...   \n",
       "94      True      False  <a href=\"http://twitter.com/download/iphone\" r...   \n",
       "95     False      False  <a href=\"http://twitter.com/download/iphone\" r...   \n",
       "...      ...        ...                                                ...   \n",
       "7031   False      False  <a href=\"http://twitter.com/download/iphone\" r...   \n",
       "7044    True      False  <a href=\"http://twitter.com/download/iphone\" r...   \n",
       "7112    True      False  <a href=\"http://twitter.com/download/iphone\" r...   \n",
       "7124    True      False  <a href=\"http://twitter.com/download/iphone\" r...   \n",
       "7158    True      False  <a href=\"http://twitter.com/download/iphone\" r...   \n",
       "\n",
       "     rating_denominator   p2_conf  p3_dog dog_stages  value  \n",
       "9                    10  0.451038    True      doggo  doggo  \n",
       "39                   10  0.199396    True      doggo  doggo  \n",
       "86                   10  0.174145    True      doggo  doggo  \n",
       "94                   10  0.020041   False      doggo  doggo  \n",
       "95                   10  0.000000   False      doggo  doggo  \n",
       "...                 ...       ...     ...        ...    ...  \n",
       "7031                 10  0.000010    True      puppo  puppo  \n",
       "7044                 10  0.038254    True      puppo  puppo  \n",
       "7112                 10  0.146336    True      puppo  puppo  \n",
       "7124                 10  0.368137    True      puppo  puppo  \n",
       "7158                 10  0.028942    True      puppo  puppo  \n",
       "\n",
       "[347 rows x 24 columns]"
      ]
     },
     "execution_count": 63,
     "metadata": {},
     "output_type": "execute_result"
    }
   ],
   "source": [
    "tidy_merged_df[tidy_merged_df['value']!='ZZ']"
   ]
  },
  {
   "cell_type": "code",
   "execution_count": 64,
   "id": "b9060c20",
   "metadata": {},
   "outputs": [],
   "source": [
    "sorted_tidy_merged_df = tidy_merged_df.sort_values(by=['tweet_id', 'value'])"
   ]
  },
  {
   "cell_type": "code",
   "execution_count": 65,
   "id": "fccd238e",
   "metadata": {},
   "outputs": [],
   "source": [
    "sorted_tidy_merged_df.drop_duplicates(subset='tweet_id', keep='last', inplace=True)"
   ]
  },
  {
   "cell_type": "code",
   "execution_count": 66,
   "id": "7f4a8986",
   "metadata": {},
   "outputs": [
    {
     "data": {
      "text/html": [
       "<div>\n",
       "<style scoped>\n",
       "    .dataframe tbody tr th:only-of-type {\n",
       "        vertical-align: middle;\n",
       "    }\n",
       "\n",
       "    .dataframe tbody tr th {\n",
       "        vertical-align: top;\n",
       "    }\n",
       "\n",
       "    .dataframe thead th {\n",
       "        text-align: right;\n",
       "    }\n",
       "</style>\n",
       "<table border=\"1\" class=\"dataframe\">\n",
       "  <thead>\n",
       "    <tr style=\"text-align: right;\">\n",
       "      <th></th>\n",
       "      <th>p3</th>\n",
       "      <th>p1_conf</th>\n",
       "      <th>p2</th>\n",
       "      <th>p3_conf</th>\n",
       "      <th>timestamp</th>\n",
       "      <th>retweet_count</th>\n",
       "      <th>truncated</th>\n",
       "      <th>img_num</th>\n",
       "      <th>text</th>\n",
       "      <th>name</th>\n",
       "      <th>...</th>\n",
       "      <th>rating_numerator</th>\n",
       "      <th>jpg_url</th>\n",
       "      <th>p1_dog</th>\n",
       "      <th>retweeted</th>\n",
       "      <th>source</th>\n",
       "      <th>rating_denominator</th>\n",
       "      <th>p2_conf</th>\n",
       "      <th>p3_dog</th>\n",
       "      <th>dog_stages</th>\n",
       "      <th>value</th>\n",
       "    </tr>\n",
       "  </thead>\n",
       "  <tbody>\n",
       "    <tr>\n",
       "      <th>9</th>\n",
       "      <td>Chihuahua</td>\n",
       "      <td>0.511319</td>\n",
       "      <td>Cardigan</td>\n",
       "      <td>0.029248</td>\n",
       "      <td>2017-07-26 15:59:51 +0000</td>\n",
       "      <td>7711</td>\n",
       "      <td>False</td>\n",
       "      <td>1.0</td>\n",
       "      <td>This is Cassie. She is a college pup. Studying...</td>\n",
       "      <td>Cassie</td>\n",
       "      <td>...</td>\n",
       "      <td>14</td>\n",
       "      <td>https://pbs.twimg.com/media/DFrEyVuW0AAO3t9.jpg</td>\n",
       "      <td>True</td>\n",
       "      <td>False</td>\n",
       "      <td>&lt;a href=\"http://twitter.com/download/iphone\" r...</td>\n",
       "      <td>10</td>\n",
       "      <td>0.451038</td>\n",
       "      <td>True</td>\n",
       "      <td>doggo</td>\n",
       "      <td>doggo</td>\n",
       "    </tr>\n",
       "  </tbody>\n",
       "</table>\n",
       "<p>1 rows × 24 columns</p>\n",
       "</div>"
      ],
      "text/plain": [
       "          p3   p1_conf        p2   p3_conf                  timestamp  \\\n",
       "9  Chihuahua  0.511319  Cardigan  0.029248  2017-07-26 15:59:51 +0000   \n",
       "\n",
       "   retweet_count  truncated  img_num  \\\n",
       "9           7711      False      1.0   \n",
       "\n",
       "                                                text    name  ...  \\\n",
       "9  This is Cassie. She is a college pup. Studying...  Cassie  ...   \n",
       "\n",
       "  rating_numerator                                          jpg_url  p1_dog  \\\n",
       "9               14  https://pbs.twimg.com/media/DFrEyVuW0AAO3t9.jpg    True   \n",
       "\n",
       "   retweeted                                             source  \\\n",
       "9      False  <a href=\"http://twitter.com/download/iphone\" r...   \n",
       "\n",
       "  rating_denominator   p2_conf  p3_dog dog_stages  value  \n",
       "9                 10  0.451038    True      doggo  doggo  \n",
       "\n",
       "[1 rows x 24 columns]"
      ]
     },
     "execution_count": 66,
     "metadata": {},
     "output_type": "execute_result"
    }
   ],
   "source": [
    "# Testing we should only have one row per tweet_id now\n",
    "\n",
    "sorted_tidy_merged_df[sorted_tidy_merged_df['tweet_id']==890240255349198849]"
   ]
  },
  {
   "cell_type": "code",
   "execution_count": 67,
   "id": "9bad8794",
   "metadata": {},
   "outputs": [],
   "source": [
    "# There is no need for the 'dog_stages' column anyore\n",
    "\n",
    "sorted_tidy_merged_df.drop('dog_stages', axis=1, inplace=True)\n",
    "sorted_tidy_merged_df.rename(columns={'value':'dog_stages'}, inplace=True)\n",
    "sorted_tidy_merged_df['dog_stages'] = sorted_tidy_merged_df['dog_stages'].replace('ZZ', 'None')"
   ]
  },
  {
   "cell_type": "markdown",
   "id": "3dda548e",
   "metadata": {},
   "source": [
    "#### Test"
   ]
  },
  {
   "cell_type": "code",
   "execution_count": 68,
   "id": "fd2954a0",
   "metadata": {},
   "outputs": [
    {
     "data": {
      "text/plain": [
       "Index(['p3', 'p1_conf', 'p2', 'p3_conf', 'timestamp', 'retweet_count',\n",
       "       'truncated', 'img_num', 'text', 'name', 'p1', 'p2_dog',\n",
       "       'favorite_count', 'tweet_id', 'rating_numerator', 'jpg_url', 'p1_dog',\n",
       "       'retweeted', 'source', 'rating_denominator', 'p2_conf', 'p3_dog',\n",
       "       'dog_stages'],\n",
       "      dtype='object')"
      ]
     },
     "execution_count": 68,
     "metadata": {},
     "output_type": "execute_result"
    }
   ],
   "source": [
    "sorted_tidy_merged_df.columns"
   ]
  },
  {
   "cell_type": "code",
   "execution_count": 69,
   "id": "f1ba3cc1",
   "metadata": {},
   "outputs": [
    {
     "name": "stdout",
     "output_type": "stream",
     "text": [
      "<class 'pandas.core.frame.DataFrame'>\n",
      "Int64Index: 2097 entries, 8387 to 6291\n",
      "Data columns (total 23 columns):\n",
      " #   Column              Non-Null Count  Dtype  \n",
      "---  ------              --------------  -----  \n",
      " 0   p3                  2097 non-null   object \n",
      " 1   p1_conf             2097 non-null   float64\n",
      " 2   p2                  2097 non-null   object \n",
      " 3   p3_conf             2097 non-null   float64\n",
      " 4   timestamp           2097 non-null   object \n",
      " 5   retweet_count       2097 non-null   int64  \n",
      " 6   truncated           2097 non-null   bool   \n",
      " 7   img_num             2097 non-null   float64\n",
      " 8   text                2097 non-null   object \n",
      " 9   name                2097 non-null   object \n",
      " 10  p1                  2097 non-null   object \n",
      " 11  p2_dog              2097 non-null   bool   \n",
      " 12  favorite_count      2097 non-null   int64  \n",
      " 13  tweet_id            2097 non-null   int64  \n",
      " 14  rating_numerator    2097 non-null   int64  \n",
      " 15  jpg_url             2097 non-null   object \n",
      " 16  p1_dog              2097 non-null   bool   \n",
      " 17  retweeted           2097 non-null   bool   \n",
      " 18  source              2097 non-null   object \n",
      " 19  rating_denominator  2097 non-null   int64  \n",
      " 20  p2_conf             2097 non-null   float64\n",
      " 21  p3_dog              2097 non-null   bool   \n",
      " 22  dog_stages          2097 non-null   object \n",
      "dtypes: bool(5), float64(4), int64(5), object(9)\n",
      "memory usage: 321.5+ KB\n"
     ]
    }
   ],
   "source": [
    "sorted_tidy_merged_df.info()"
   ]
  },
  {
   "cell_type": "markdown",
   "id": "8bcc0af1",
   "metadata": {},
   "source": [
    "From the information above we can see that some columns have incorrect datatypes. They are\n",
    "\n",
    "- The `img_num` column should be of the `int` datatype\n",
    "- The `timestamp` column should be of the `datetime` datatype\n",
    "- The `retweet_count` column should be of the `int` datatype\n",
    "- The `tweet_id` should be of the `object` datatype\n",
    "- The `favorite_count` column should be of the `int` datatype"
   ]
  },
  {
   "cell_type": "markdown",
   "id": "f340a9e5",
   "metadata": {},
   "source": [
    "### Quality Issue 4 Incorrect Datatype Format Issues"
   ]
  },
  {
   "cell_type": "markdown",
   "id": "33bf1200",
   "metadata": {},
   "source": [
    "#### Define"
   ]
  },
  {
   "cell_type": "markdown",
   "id": "37e51650",
   "metadata": {},
   "source": [
    "Change the `timestamp` column using `pd.datetime()`"
   ]
  },
  {
   "cell_type": "markdown",
   "id": "de7cf500",
   "metadata": {},
   "source": [
    "Change the column formats using the `astype()` method"
   ]
  },
  {
   "cell_type": "markdown",
   "id": "f8deecfd",
   "metadata": {},
   "source": [
    "#### Code"
   ]
  },
  {
   "cell_type": "code",
   "execution_count": 70,
   "id": "0f25687b",
   "metadata": {},
   "outputs": [],
   "source": [
    "sorted_tidy_merged_df['timestamp'] = pd.to_datetime(sorted_tidy_merged_df['timestamp'])"
   ]
  },
  {
   "cell_type": "code",
   "execution_count": 71,
   "id": "df6d1e16",
   "metadata": {},
   "outputs": [],
   "source": [
    "# Creating a dictionary of columns as keys and the column formats as objects\n",
    "\n",
    "new_col_format = {\n",
    "    'img_num': 'int64',\n",
    "    'retweet_count': 'int64',\n",
    "    'tweet_id': 'object',\n",
    "    'favorite_count': 'int64' \n",
    "}"
   ]
  },
  {
   "cell_type": "code",
   "execution_count": 72,
   "id": "303710b3",
   "metadata": {},
   "outputs": [],
   "source": [
    "sorted_tidy_merged_df = sorted_tidy_merged_df.astype(new_col_format)"
   ]
  },
  {
   "cell_type": "markdown",
   "id": "5b55e3ee",
   "metadata": {},
   "source": [
    "#### Test"
   ]
  },
  {
   "cell_type": "code",
   "execution_count": 73,
   "id": "431befc8",
   "metadata": {},
   "outputs": [
    {
     "name": "stdout",
     "output_type": "stream",
     "text": [
      "<class 'pandas.core.frame.DataFrame'>\n",
      "Int64Index: 2097 entries, 8387 to 6291\n",
      "Data columns (total 23 columns):\n",
      " #   Column              Non-Null Count  Dtype              \n",
      "---  ------              --------------  -----              \n",
      " 0   p3                  2097 non-null   object             \n",
      " 1   p1_conf             2097 non-null   float64            \n",
      " 2   p2                  2097 non-null   object             \n",
      " 3   p3_conf             2097 non-null   float64            \n",
      " 4   timestamp           2097 non-null   datetime64[ns, UTC]\n",
      " 5   retweet_count       2097 non-null   int64              \n",
      " 6   truncated           2097 non-null   bool               \n",
      " 7   img_num             2097 non-null   int64              \n",
      " 8   text                2097 non-null   object             \n",
      " 9   name                2097 non-null   object             \n",
      " 10  p1                  2097 non-null   object             \n",
      " 11  p2_dog              2097 non-null   bool               \n",
      " 12  favorite_count      2097 non-null   int64              \n",
      " 13  tweet_id            2097 non-null   object             \n",
      " 14  rating_numerator    2097 non-null   int64              \n",
      " 15  jpg_url             2097 non-null   object             \n",
      " 16  p1_dog              2097 non-null   bool               \n",
      " 17  retweeted           2097 non-null   bool               \n",
      " 18  source              2097 non-null   object             \n",
      " 19  rating_denominator  2097 non-null   int64              \n",
      " 20  p2_conf             2097 non-null   float64            \n",
      " 21  p3_dog              2097 non-null   bool               \n",
      " 22  dog_stages          2097 non-null   object             \n",
      "dtypes: bool(5), datetime64[ns, UTC](1), float64(3), int64(5), object(9)\n",
      "memory usage: 321.5+ KB\n"
     ]
    }
   ],
   "source": [
    "# The columns should be of correct datatypes now\n",
    "\n",
    "sorted_tidy_merged_df.info()"
   ]
  },
  {
   "cell_type": "markdown",
   "id": "559d68d8",
   "metadata": {},
   "source": [
    "### Quality Issue 5 Some inaccurate names exist in the name column like 'a', 'the', 'an' etc."
   ]
  },
  {
   "cell_type": "markdown",
   "id": "159c1922",
   "metadata": {},
   "source": [
    "I think the name column was extracted using a regex pattern that assumes the name come after the phrase \"This is\". The problems comes from tweets which contain text like \"This is a \", hence we are going to replace \"a\" with \"None\""
   ]
  },
  {
   "cell_type": "markdown",
   "id": "f1194e76",
   "metadata": {},
   "source": [
    "#### Define"
   ]
  },
  {
   "cell_type": "markdown",
   "id": "a2afa57c",
   "metadata": {},
   "source": [
    "- Replace inaccurate names with \"None\" in the name column"
   ]
  },
  {
   "cell_type": "markdown",
   "id": "be132f30",
   "metadata": {},
   "source": [
    "#### Code"
   ]
  },
  {
   "cell_type": "code",
   "execution_count": 74,
   "id": "d5c7e855",
   "metadata": {},
   "outputs": [],
   "source": [
    "sorted_tidy_merged_df['name'] = sorted_tidy_merged_df['name'].replace(none_names, 'None')"
   ]
  },
  {
   "cell_type": "markdown",
   "id": "9158f9af",
   "metadata": {},
   "source": [
    "#### Test"
   ]
  },
  {
   "cell_type": "code",
   "execution_count": 75,
   "id": "ddabbd10",
   "metadata": {},
   "outputs": [],
   "source": [
    "# We shouldn't have inaccurate names in the name column of the dataframe anymore\n",
    "\n",
    "unique_names_clean = list(sorted_tidy_merged_df['name'].value_counts().keys())"
   ]
  },
  {
   "cell_type": "code",
   "execution_count": 76,
   "id": "ff1215ed",
   "metadata": {},
   "outputs": [
    {
     "data": {
      "text/plain": [
       "[]"
      ]
     },
     "execution_count": 76,
     "metadata": {},
     "output_type": "execute_result"
    }
   ],
   "source": [
    "# This code should return an empty list\n",
    "\n",
    "[name for name in unique_names_clean if name in none_names]"
   ]
  },
  {
   "cell_type": "markdown",
   "id": "c7e8ac46",
   "metadata": {},
   "source": [
    "### Quality Issue 6 Prediction columns p1, p1 and p3 values have underscores within them and their casing is inconsistent"
   ]
  },
  {
   "cell_type": "markdown",
   "id": "d03dfe6d",
   "metadata": {},
   "source": [
    "I am going to remove the underscores and change the casing to a proper name casing"
   ]
  },
  {
   "cell_type": "markdown",
   "id": "8e7beff6",
   "metadata": {},
   "source": [
    "#### Define"
   ]
  },
  {
   "cell_type": "markdown",
   "id": "5d4e5443",
   "metadata": {},
   "source": [
    "Remove the underscores and change the casing to title case"
   ]
  },
  {
   "cell_type": "markdown",
   "id": "3c018ce7",
   "metadata": {},
   "source": [
    "#### Code"
   ]
  },
  {
   "cell_type": "code",
   "execution_count": 77,
   "id": "1665c7af",
   "metadata": {},
   "outputs": [],
   "source": [
    "pred_cols = ['p1', 'p2', 'p3']"
   ]
  },
  {
   "cell_type": "code",
   "execution_count": 78,
   "id": "c558976c",
   "metadata": {},
   "outputs": [],
   "source": [
    "for col in pred_cols:\n",
    "    sorted_tidy_merged_df[col] = sorted_tidy_merged_df[col].str.replace('_', ' ').str.title()"
   ]
  },
  {
   "cell_type": "markdown",
   "id": "159a5bf9",
   "metadata": {},
   "source": [
    "#### Test"
   ]
  },
  {
   "cell_type": "code",
   "execution_count": 79,
   "id": "b7bbf76d",
   "metadata": {},
   "outputs": [
    {
     "data": {
      "text/html": [
       "<div>\n",
       "<style scoped>\n",
       "    .dataframe tbody tr th:only-of-type {\n",
       "        vertical-align: middle;\n",
       "    }\n",
       "\n",
       "    .dataframe tbody tr th {\n",
       "        vertical-align: top;\n",
       "    }\n",
       "\n",
       "    .dataframe thead th {\n",
       "        text-align: right;\n",
       "    }\n",
       "</style>\n",
       "<table border=\"1\" class=\"dataframe\">\n",
       "  <thead>\n",
       "    <tr style=\"text-align: right;\">\n",
       "      <th></th>\n",
       "      <th>p1</th>\n",
       "      <th>p2</th>\n",
       "      <th>p3</th>\n",
       "    </tr>\n",
       "  </thead>\n",
       "  <tbody>\n",
       "    <tr>\n",
       "      <th>7464</th>\n",
       "      <td>Border Terrier</td>\n",
       "      <td>Toy Poodle</td>\n",
       "      <td>Norwegian Elkhound</td>\n",
       "    </tr>\n",
       "    <tr>\n",
       "      <th>6999</th>\n",
       "      <td>Doormat</td>\n",
       "      <td>Wallet</td>\n",
       "      <td>Wool</td>\n",
       "    </tr>\n",
       "    <tr>\n",
       "      <th>8323</th>\n",
       "      <td>Giant Schnauzer</td>\n",
       "      <td>Lakeland Terrier</td>\n",
       "      <td>Irish Water Spaniel</td>\n",
       "    </tr>\n",
       "    <tr>\n",
       "      <th>5036</th>\n",
       "      <td>Siamese Cat</td>\n",
       "      <td>French Bulldog</td>\n",
       "      <td>Hog</td>\n",
       "    </tr>\n",
       "    <tr>\n",
       "      <th>7684</th>\n",
       "      <td>Weimaraner</td>\n",
       "      <td>English Setter</td>\n",
       "      <td>Brittany Spaniel</td>\n",
       "    </tr>\n",
       "    <tr>\n",
       "      <th>6414</th>\n",
       "      <td>Marmot</td>\n",
       "      <td>Meerkat</td>\n",
       "      <td>Weasel</td>\n",
       "    </tr>\n",
       "    <tr>\n",
       "      <th>6802</th>\n",
       "      <td>Chow</td>\n",
       "      <td>Cougar</td>\n",
       "      <td>Pomeranian</td>\n",
       "    </tr>\n",
       "    <tr>\n",
       "      <th>5028</th>\n",
       "      <td>Kuvasz</td>\n",
       "      <td>Soft-Coated Wheaten Terrier</td>\n",
       "      <td>Golden Retriever</td>\n",
       "    </tr>\n",
       "    <tr>\n",
       "      <th>6974</th>\n",
       "      <td>Old English Sheepdog</td>\n",
       "      <td>Lhasa</td>\n",
       "      <td>Briard</td>\n",
       "    </tr>\n",
       "    <tr>\n",
       "      <th>8080</th>\n",
       "      <td>Park Bench</td>\n",
       "      <td>Water Bottle</td>\n",
       "      <td>Beacon</td>\n",
       "    </tr>\n",
       "    <tr>\n",
       "      <th>8287</th>\n",
       "      <td>Flat-Coated Retriever</td>\n",
       "      <td>Chesapeake Bay Retriever</td>\n",
       "      <td>Curly-Coated Retriever</td>\n",
       "    </tr>\n",
       "    <tr>\n",
       "      <th>7196</th>\n",
       "      <td>Polecat</td>\n",
       "      <td>Mink</td>\n",
       "      <td>Newfoundland</td>\n",
       "    </tr>\n",
       "    <tr>\n",
       "      <th>6705</th>\n",
       "      <td>Airedale</td>\n",
       "      <td>Cocker Spaniel</td>\n",
       "      <td>Irish Terrier</td>\n",
       "    </tr>\n",
       "    <tr>\n",
       "      <th>8211</th>\n",
       "      <td>Minivan</td>\n",
       "      <td>Police Van</td>\n",
       "      <td>Minibus</td>\n",
       "    </tr>\n",
       "    <tr>\n",
       "      <th>7530</th>\n",
       "      <td>Australian Terrier</td>\n",
       "      <td>Yorkshire Terrier</td>\n",
       "      <td>Silky Terrier</td>\n",
       "    </tr>\n",
       "    <tr>\n",
       "      <th>6966</th>\n",
       "      <td>Standard Poodle</td>\n",
       "      <td>Samoyed</td>\n",
       "      <td>Miniature Poodle</td>\n",
       "    </tr>\n",
       "    <tr>\n",
       "      <th>6701</th>\n",
       "      <td>Pomeranian</td>\n",
       "      <td>Samoyed</td>\n",
       "      <td>Pembroke</td>\n",
       "    </tr>\n",
       "    <tr>\n",
       "      <th>8224</th>\n",
       "      <td>Basset</td>\n",
       "      <td>Welsh Springer Spaniel</td>\n",
       "      <td>Saint Bernard</td>\n",
       "    </tr>\n",
       "    <tr>\n",
       "      <th>5743</th>\n",
       "      <td>Seat Belt</td>\n",
       "      <td>Shih-Tzu</td>\n",
       "      <td>Pekinese</td>\n",
       "    </tr>\n",
       "    <tr>\n",
       "      <th>7398</th>\n",
       "      <td>No Image</td>\n",
       "      <td>No Image</td>\n",
       "      <td>No Image</td>\n",
       "    </tr>\n",
       "  </tbody>\n",
       "</table>\n",
       "</div>"
      ],
      "text/plain": [
       "                         p1                           p2  \\\n",
       "7464         Border Terrier                   Toy Poodle   \n",
       "6999                Doormat                       Wallet   \n",
       "8323        Giant Schnauzer             Lakeland Terrier   \n",
       "5036            Siamese Cat               French Bulldog   \n",
       "7684             Weimaraner               English Setter   \n",
       "6414                 Marmot                      Meerkat   \n",
       "6802                   Chow                       Cougar   \n",
       "5028                 Kuvasz  Soft-Coated Wheaten Terrier   \n",
       "6974   Old English Sheepdog                        Lhasa   \n",
       "8080             Park Bench                 Water Bottle   \n",
       "8287  Flat-Coated Retriever     Chesapeake Bay Retriever   \n",
       "7196                Polecat                         Mink   \n",
       "6705               Airedale               Cocker Spaniel   \n",
       "8211                Minivan                   Police Van   \n",
       "7530     Australian Terrier            Yorkshire Terrier   \n",
       "6966        Standard Poodle                      Samoyed   \n",
       "6701             Pomeranian                      Samoyed   \n",
       "8224                 Basset       Welsh Springer Spaniel   \n",
       "5743              Seat Belt                     Shih-Tzu   \n",
       "7398               No Image                     No Image   \n",
       "\n",
       "                          p3  \n",
       "7464      Norwegian Elkhound  \n",
       "6999                    Wool  \n",
       "8323     Irish Water Spaniel  \n",
       "5036                     Hog  \n",
       "7684        Brittany Spaniel  \n",
       "6414                  Weasel  \n",
       "6802              Pomeranian  \n",
       "5028        Golden Retriever  \n",
       "6974                  Briard  \n",
       "8080                  Beacon  \n",
       "8287  Curly-Coated Retriever  \n",
       "7196            Newfoundland  \n",
       "6705           Irish Terrier  \n",
       "8211                 Minibus  \n",
       "7530           Silky Terrier  \n",
       "6966        Miniature Poodle  \n",
       "6701                Pembroke  \n",
       "8224           Saint Bernard  \n",
       "5743                Pekinese  \n",
       "7398                No Image  "
      ]
     },
     "execution_count": 79,
     "metadata": {},
     "output_type": "execute_result"
    }
   ],
   "source": [
    "# There shouldn't be any underscores within the name. Also, the names should be in title case\n",
    "\n",
    "sorted_tidy_merged_df[pred_cols].sample(20, random_state=23)"
   ]
  },
  {
   "cell_type": "code",
   "execution_count": 80,
   "id": "93b5499b",
   "metadata": {},
   "outputs": [
    {
     "data": {
      "text/html": [
       "<div>\n",
       "<style scoped>\n",
       "    .dataframe tbody tr th:only-of-type {\n",
       "        vertical-align: middle;\n",
       "    }\n",
       "\n",
       "    .dataframe tbody tr th {\n",
       "        vertical-align: top;\n",
       "    }\n",
       "\n",
       "    .dataframe thead th {\n",
       "        text-align: right;\n",
       "    }\n",
       "</style>\n",
       "<table border=\"1\" class=\"dataframe\">\n",
       "  <thead>\n",
       "    <tr style=\"text-align: right;\">\n",
       "      <th></th>\n",
       "      <th>p3</th>\n",
       "      <th>p1_conf</th>\n",
       "      <th>p2</th>\n",
       "      <th>p3_conf</th>\n",
       "      <th>timestamp</th>\n",
       "      <th>retweet_count</th>\n",
       "      <th>truncated</th>\n",
       "      <th>img_num</th>\n",
       "      <th>text</th>\n",
       "      <th>name</th>\n",
       "      <th>...</th>\n",
       "      <th>tweet_id</th>\n",
       "      <th>rating_numerator</th>\n",
       "      <th>jpg_url</th>\n",
       "      <th>p1_dog</th>\n",
       "      <th>retweeted</th>\n",
       "      <th>source</th>\n",
       "      <th>rating_denominator</th>\n",
       "      <th>p2_conf</th>\n",
       "      <th>p3_dog</th>\n",
       "      <th>dog_stages</th>\n",
       "    </tr>\n",
       "  </thead>\n",
       "  <tbody>\n",
       "    <tr>\n",
       "      <th>8387</th>\n",
       "      <td>Shetland Sheepdog</td>\n",
       "      <td>0.465074</td>\n",
       "      <td>Collie</td>\n",
       "      <td>0.061428</td>\n",
       "      <td>2015-11-15 22:32:08+00:00</td>\n",
       "      <td>532</td>\n",
       "      <td>False</td>\n",
       "      <td>1</td>\n",
       "      <td>Here we have a Japanese Irish Setter. Lost eye...</td>\n",
       "      <td>None</td>\n",
       "      <td>...</td>\n",
       "      <td>666020888022790149</td>\n",
       "      <td>8</td>\n",
       "      <td>https://pbs.twimg.com/media/CT4udn0WwAA0aMy.jpg</td>\n",
       "      <td>True</td>\n",
       "      <td>False</td>\n",
       "      <td>&lt;a href=\"http://twitter.com/download/iphone\" r...</td>\n",
       "      <td>10</td>\n",
       "      <td>0.156665</td>\n",
       "      <td>True</td>\n",
       "      <td>None</td>\n",
       "    </tr>\n",
       "    <tr>\n",
       "      <th>8386</th>\n",
       "      <td>Rhodesian Ridgeback</td>\n",
       "      <td>0.506826</td>\n",
       "      <td>Miniature Pinscher</td>\n",
       "      <td>0.072010</td>\n",
       "      <td>2015-11-15 23:05:30+00:00</td>\n",
       "      <td>48</td>\n",
       "      <td>False</td>\n",
       "      <td>1</td>\n",
       "      <td>This is a western brown Mitsubishi terrier. Up...</td>\n",
       "      <td>None</td>\n",
       "      <td>...</td>\n",
       "      <td>666029285002620928</td>\n",
       "      <td>7</td>\n",
       "      <td>https://pbs.twimg.com/media/CT42GRgUYAA5iDo.jpg</td>\n",
       "      <td>True</td>\n",
       "      <td>False</td>\n",
       "      <td>&lt;a href=\"http://twitter.com/download/iphone\" r...</td>\n",
       "      <td>10</td>\n",
       "      <td>0.074192</td>\n",
       "      <td>True</td>\n",
       "      <td>None</td>\n",
       "    </tr>\n",
       "    <tr>\n",
       "      <th>8385</th>\n",
       "      <td>Bloodhound</td>\n",
       "      <td>0.596461</td>\n",
       "      <td>Malinois</td>\n",
       "      <td>0.116197</td>\n",
       "      <td>2015-11-15 23:21:54+00:00</td>\n",
       "      <td>47</td>\n",
       "      <td>False</td>\n",
       "      <td>1</td>\n",
       "      <td>Here is a very happy pup. Big fan of well-main...</td>\n",
       "      <td>None</td>\n",
       "      <td>...</td>\n",
       "      <td>666033412701032449</td>\n",
       "      <td>9</td>\n",
       "      <td>https://pbs.twimg.com/media/CT4521TWwAEvMyu.jpg</td>\n",
       "      <td>True</td>\n",
       "      <td>False</td>\n",
       "      <td>&lt;a href=\"http://twitter.com/download/iphone\" r...</td>\n",
       "      <td>10</td>\n",
       "      <td>0.138584</td>\n",
       "      <td>True</td>\n",
       "      <td>None</td>\n",
       "    </tr>\n",
       "    <tr>\n",
       "      <th>8384</th>\n",
       "      <td>Miniature Pinscher</td>\n",
       "      <td>0.408143</td>\n",
       "      <td>Redbone</td>\n",
       "      <td>0.222752</td>\n",
       "      <td>2015-11-16 00:04:52+00:00</td>\n",
       "      <td>147</td>\n",
       "      <td>False</td>\n",
       "      <td>1</td>\n",
       "      <td>This is a purebred Piers Morgan. Loves to Netf...</td>\n",
       "      <td>None</td>\n",
       "      <td>...</td>\n",
       "      <td>666044226329800704</td>\n",
       "      <td>6</td>\n",
       "      <td>https://pbs.twimg.com/media/CT5Dr8HUEAA-lEu.jpg</td>\n",
       "      <td>True</td>\n",
       "      <td>False</td>\n",
       "      <td>&lt;a href=\"http://twitter.com/download/iphone\" r...</td>\n",
       "      <td>10</td>\n",
       "      <td>0.360687</td>\n",
       "      <td>True</td>\n",
       "      <td>None</td>\n",
       "    </tr>\n",
       "    <tr>\n",
       "      <th>8383</th>\n",
       "      <td>Doberman</td>\n",
       "      <td>0.560311</td>\n",
       "      <td>Rottweiler</td>\n",
       "      <td>0.154629</td>\n",
       "      <td>2015-11-16 00:24:50+00:00</td>\n",
       "      <td>41</td>\n",
       "      <td>False</td>\n",
       "      <td>1</td>\n",
       "      <td>Here we have a 1949 1st generation vulpix. Enj...</td>\n",
       "      <td>None</td>\n",
       "      <td>...</td>\n",
       "      <td>666049248165822465</td>\n",
       "      <td>5</td>\n",
       "      <td>https://pbs.twimg.com/media/CT5IQmsXIAAKY4A.jpg</td>\n",
       "      <td>True</td>\n",
       "      <td>False</td>\n",
       "      <td>&lt;a href=\"http://twitter.com/download/iphone\" r...</td>\n",
       "      <td>10</td>\n",
       "      <td>0.243682</td>\n",
       "      <td>True</td>\n",
       "      <td>None</td>\n",
       "    </tr>\n",
       "  </tbody>\n",
       "</table>\n",
       "<p>5 rows × 23 columns</p>\n",
       "</div>"
      ],
      "text/plain": [
       "                       p3   p1_conf                  p2   p3_conf  \\\n",
       "8387    Shetland Sheepdog  0.465074              Collie  0.061428   \n",
       "8386  Rhodesian Ridgeback  0.506826  Miniature Pinscher  0.072010   \n",
       "8385           Bloodhound  0.596461            Malinois  0.116197   \n",
       "8384   Miniature Pinscher  0.408143             Redbone  0.222752   \n",
       "8383             Doberman  0.560311          Rottweiler  0.154629   \n",
       "\n",
       "                     timestamp  retweet_count  truncated  img_num  \\\n",
       "8387 2015-11-15 22:32:08+00:00            532      False        1   \n",
       "8386 2015-11-15 23:05:30+00:00             48      False        1   \n",
       "8385 2015-11-15 23:21:54+00:00             47      False        1   \n",
       "8384 2015-11-16 00:04:52+00:00            147      False        1   \n",
       "8383 2015-11-16 00:24:50+00:00             41      False        1   \n",
       "\n",
       "                                                   text  name  ...  \\\n",
       "8387  Here we have a Japanese Irish Setter. Lost eye...  None  ...   \n",
       "8386  This is a western brown Mitsubishi terrier. Up...  None  ...   \n",
       "8385  Here is a very happy pup. Big fan of well-main...  None  ...   \n",
       "8384  This is a purebred Piers Morgan. Loves to Netf...  None  ...   \n",
       "8383  Here we have a 1949 1st generation vulpix. Enj...  None  ...   \n",
       "\n",
       "                tweet_id  rating_numerator  \\\n",
       "8387  666020888022790149                 8   \n",
       "8386  666029285002620928                 7   \n",
       "8385  666033412701032449                 9   \n",
       "8384  666044226329800704                 6   \n",
       "8383  666049248165822465                 5   \n",
       "\n",
       "                                              jpg_url p1_dog  retweeted  \\\n",
       "8387  https://pbs.twimg.com/media/CT4udn0WwAA0aMy.jpg   True      False   \n",
       "8386  https://pbs.twimg.com/media/CT42GRgUYAA5iDo.jpg   True      False   \n",
       "8385  https://pbs.twimg.com/media/CT4521TWwAEvMyu.jpg   True      False   \n",
       "8384  https://pbs.twimg.com/media/CT5Dr8HUEAA-lEu.jpg   True      False   \n",
       "8383  https://pbs.twimg.com/media/CT5IQmsXIAAKY4A.jpg   True      False   \n",
       "\n",
       "                                                 source  rating_denominator  \\\n",
       "8387  <a href=\"http://twitter.com/download/iphone\" r...                  10   \n",
       "8386  <a href=\"http://twitter.com/download/iphone\" r...                  10   \n",
       "8385  <a href=\"http://twitter.com/download/iphone\" r...                  10   \n",
       "8384  <a href=\"http://twitter.com/download/iphone\" r...                  10   \n",
       "8383  <a href=\"http://twitter.com/download/iphone\" r...                  10   \n",
       "\n",
       "       p2_conf p3_dog  dog_stages  \n",
       "8387  0.156665   True        None  \n",
       "8386  0.074192   True        None  \n",
       "8385  0.138584   True        None  \n",
       "8384  0.360687   True        None  \n",
       "8383  0.243682   True        None  \n",
       "\n",
       "[5 rows x 23 columns]"
      ]
     },
     "execution_count": 80,
     "metadata": {},
     "output_type": "execute_result"
    }
   ],
   "source": [
    "sorted_tidy_merged_df.head()"
   ]
  },
  {
   "cell_type": "markdown",
   "id": "55892a7e",
   "metadata": {},
   "source": [
    "From the dataframe, the index of the dataframe seems to be unorderly"
   ]
  },
  {
   "cell_type": "code",
   "execution_count": 81,
   "id": "b667d003",
   "metadata": {},
   "outputs": [],
   "source": [
    "# reseting the index\n",
    "\n",
    "sorted_tidy_merged_df.reset_index(drop=True, inplace=True)"
   ]
  },
  {
   "cell_type": "code",
   "execution_count": 82,
   "id": "c4f4f819",
   "metadata": {},
   "outputs": [
    {
     "data": {
      "text/plain": [
       "None       1761\n",
       "pupper      230\n",
       "doggo        72\n",
       "puppo        24\n",
       "floofer      10\n",
       "Name: dog_stages, dtype: int64"
      ]
     },
     "execution_count": 82,
     "metadata": {},
     "output_type": "execute_result"
    }
   ],
   "source": [
    "sorted_tidy_merged_df['dog_stages'].value_counts()"
   ]
  },
  {
   "cell_type": "markdown",
   "id": "97bf5d65",
   "metadata": {},
   "source": [
    "Looking at the information above, the dog stages were probably incorrectly extracted from the text."
   ]
  },
  {
   "cell_type": "markdown",
   "id": "7d1dd323",
   "metadata": {},
   "source": [
    "I'll extract the dog stage data using the tweet text"
   ]
  },
  {
   "cell_type": "markdown",
   "id": "0a552b6f",
   "metadata": {},
   "source": [
    "### Quality Issue"
   ]
  },
  {
   "cell_type": "markdown",
   "id": "c810ecf6",
   "metadata": {},
   "source": [
    "9. The dog stage information is probably not properly extracted"
   ]
  },
  {
   "cell_type": "markdown",
   "id": "2323ca00",
   "metadata": {},
   "source": [
    "### Quality Issue 9 The dog stage information is probably not properly extracted"
   ]
  },
  {
   "cell_type": "markdown",
   "id": "6cfb1a17",
   "metadata": {},
   "source": [
    "#### Define"
   ]
  },
  {
   "cell_type": "markdown",
   "id": "b6bfba8a",
   "metadata": {},
   "source": [
    "- Extract dog stage information using a function"
   ]
  },
  {
   "cell_type": "markdown",
   "id": "b2fe93ba",
   "metadata": {},
   "source": [
    "#### Code"
   ]
  },
  {
   "cell_type": "code",
   "execution_count": 83,
   "id": "00fe4935",
   "metadata": {},
   "outputs": [],
   "source": [
    "# Extracting dog stage information using a function\n",
    "\n",
    "def extract_dog_stage(x: str):\n",
    "    dog_stages = ['pupper', 'doggo', 'puppo', 'floof', 'blep', 'snoot']\n",
    "    for stage in dog_stages:\n",
    "        if stage in x:\n",
    "            return stage \n",
    "    return 'None'"
   ]
  },
  {
   "cell_type": "code",
   "execution_count": 84,
   "id": "5f97dc72",
   "metadata": {},
   "outputs": [],
   "source": [
    "sorted_tidy_merged_df['dog_stages'] = sorted_tidy_merged_df['text'].apply(extract_dog_stage)"
   ]
  },
  {
   "cell_type": "markdown",
   "id": "e0e5071c",
   "metadata": {},
   "source": [
    "#### Test"
   ]
  },
  {
   "cell_type": "code",
   "execution_count": 85,
   "id": "ff6a5cdb",
   "metadata": {},
   "outputs": [
    {
     "data": {
      "text/plain": [
       "None      1724\n",
       "pupper     245\n",
       "doggo       77\n",
       "puppo       27\n",
       "floof       23\n",
       "blep         1\n",
       "Name: dog_stages, dtype: int64"
      ]
     },
     "execution_count": 85,
     "metadata": {},
     "output_type": "execute_result"
    }
   ],
   "source": [
    "# More values should be obtained\n",
    "\n",
    "sorted_tidy_merged_df['dog_stages'].value_counts()"
   ]
  },
  {
   "cell_type": "markdown",
   "id": "850dbfcc",
   "metadata": {},
   "source": [
    "As confirmed above, there were more values of dog stages in the text"
   ]
  },
  {
   "cell_type": "code",
   "execution_count": 86,
   "id": "fc9c3309",
   "metadata": {},
   "outputs": [
    {
     "data": {
      "text/html": [
       "<div>\n",
       "<style scoped>\n",
       "    .dataframe tbody tr th:only-of-type {\n",
       "        vertical-align: middle;\n",
       "    }\n",
       "\n",
       "    .dataframe tbody tr th {\n",
       "        vertical-align: top;\n",
       "    }\n",
       "\n",
       "    .dataframe thead th {\n",
       "        text-align: right;\n",
       "    }\n",
       "</style>\n",
       "<table border=\"1\" class=\"dataframe\">\n",
       "  <thead>\n",
       "    <tr style=\"text-align: right;\">\n",
       "      <th></th>\n",
       "      <th>p3</th>\n",
       "      <th>p1_conf</th>\n",
       "      <th>p2</th>\n",
       "      <th>p3_conf</th>\n",
       "      <th>timestamp</th>\n",
       "      <th>retweet_count</th>\n",
       "      <th>truncated</th>\n",
       "      <th>img_num</th>\n",
       "      <th>text</th>\n",
       "      <th>name</th>\n",
       "      <th>...</th>\n",
       "      <th>tweet_id</th>\n",
       "      <th>rating_numerator</th>\n",
       "      <th>jpg_url</th>\n",
       "      <th>p1_dog</th>\n",
       "      <th>retweeted</th>\n",
       "      <th>source</th>\n",
       "      <th>rating_denominator</th>\n",
       "      <th>p2_conf</th>\n",
       "      <th>p3_dog</th>\n",
       "      <th>dog_stages</th>\n",
       "    </tr>\n",
       "  </thead>\n",
       "  <tbody>\n",
       "    <tr>\n",
       "      <th>0</th>\n",
       "      <td>Shetland Sheepdog</td>\n",
       "      <td>0.465074</td>\n",
       "      <td>Collie</td>\n",
       "      <td>0.061428</td>\n",
       "      <td>2015-11-15 22:32:08+00:00</td>\n",
       "      <td>532</td>\n",
       "      <td>False</td>\n",
       "      <td>1</td>\n",
       "      <td>Here we have a Japanese Irish Setter. Lost eye...</td>\n",
       "      <td>None</td>\n",
       "      <td>...</td>\n",
       "      <td>666020888022790149</td>\n",
       "      <td>8</td>\n",
       "      <td>https://pbs.twimg.com/media/CT4udn0WwAA0aMy.jpg</td>\n",
       "      <td>True</td>\n",
       "      <td>False</td>\n",
       "      <td>&lt;a href=\"http://twitter.com/download/iphone\" r...</td>\n",
       "      <td>10</td>\n",
       "      <td>0.156665</td>\n",
       "      <td>True</td>\n",
       "      <td>None</td>\n",
       "    </tr>\n",
       "    <tr>\n",
       "      <th>1</th>\n",
       "      <td>Rhodesian Ridgeback</td>\n",
       "      <td>0.506826</td>\n",
       "      <td>Miniature Pinscher</td>\n",
       "      <td>0.072010</td>\n",
       "      <td>2015-11-15 23:05:30+00:00</td>\n",
       "      <td>48</td>\n",
       "      <td>False</td>\n",
       "      <td>1</td>\n",
       "      <td>This is a western brown Mitsubishi terrier. Up...</td>\n",
       "      <td>None</td>\n",
       "      <td>...</td>\n",
       "      <td>666029285002620928</td>\n",
       "      <td>7</td>\n",
       "      <td>https://pbs.twimg.com/media/CT42GRgUYAA5iDo.jpg</td>\n",
       "      <td>True</td>\n",
       "      <td>False</td>\n",
       "      <td>&lt;a href=\"http://twitter.com/download/iphone\" r...</td>\n",
       "      <td>10</td>\n",
       "      <td>0.074192</td>\n",
       "      <td>True</td>\n",
       "      <td>None</td>\n",
       "    </tr>\n",
       "    <tr>\n",
       "      <th>2</th>\n",
       "      <td>Bloodhound</td>\n",
       "      <td>0.596461</td>\n",
       "      <td>Malinois</td>\n",
       "      <td>0.116197</td>\n",
       "      <td>2015-11-15 23:21:54+00:00</td>\n",
       "      <td>47</td>\n",
       "      <td>False</td>\n",
       "      <td>1</td>\n",
       "      <td>Here is a very happy pup. Big fan of well-main...</td>\n",
       "      <td>None</td>\n",
       "      <td>...</td>\n",
       "      <td>666033412701032449</td>\n",
       "      <td>9</td>\n",
       "      <td>https://pbs.twimg.com/media/CT4521TWwAEvMyu.jpg</td>\n",
       "      <td>True</td>\n",
       "      <td>False</td>\n",
       "      <td>&lt;a href=\"http://twitter.com/download/iphone\" r...</td>\n",
       "      <td>10</td>\n",
       "      <td>0.138584</td>\n",
       "      <td>True</td>\n",
       "      <td>None</td>\n",
       "    </tr>\n",
       "  </tbody>\n",
       "</table>\n",
       "<p>3 rows × 23 columns</p>\n",
       "</div>"
      ],
      "text/plain": [
       "                    p3   p1_conf                  p2   p3_conf  \\\n",
       "0    Shetland Sheepdog  0.465074              Collie  0.061428   \n",
       "1  Rhodesian Ridgeback  0.506826  Miniature Pinscher  0.072010   \n",
       "2           Bloodhound  0.596461            Malinois  0.116197   \n",
       "\n",
       "                  timestamp  retweet_count  truncated  img_num  \\\n",
       "0 2015-11-15 22:32:08+00:00            532      False        1   \n",
       "1 2015-11-15 23:05:30+00:00             48      False        1   \n",
       "2 2015-11-15 23:21:54+00:00             47      False        1   \n",
       "\n",
       "                                                text  name  ...  \\\n",
       "0  Here we have a Japanese Irish Setter. Lost eye...  None  ...   \n",
       "1  This is a western brown Mitsubishi terrier. Up...  None  ...   \n",
       "2  Here is a very happy pup. Big fan of well-main...  None  ...   \n",
       "\n",
       "             tweet_id  rating_numerator  \\\n",
       "0  666020888022790149                 8   \n",
       "1  666029285002620928                 7   \n",
       "2  666033412701032449                 9   \n",
       "\n",
       "                                           jpg_url p1_dog  retweeted  \\\n",
       "0  https://pbs.twimg.com/media/CT4udn0WwAA0aMy.jpg   True      False   \n",
       "1  https://pbs.twimg.com/media/CT42GRgUYAA5iDo.jpg   True      False   \n",
       "2  https://pbs.twimg.com/media/CT4521TWwAEvMyu.jpg   True      False   \n",
       "\n",
       "                                              source  rating_denominator  \\\n",
       "0  <a href=\"http://twitter.com/download/iphone\" r...                  10   \n",
       "1  <a href=\"http://twitter.com/download/iphone\" r...                  10   \n",
       "2  <a href=\"http://twitter.com/download/iphone\" r...                  10   \n",
       "\n",
       "    p2_conf p3_dog  dog_stages  \n",
       "0  0.156665   True        None  \n",
       "1  0.074192   True        None  \n",
       "2  0.138584   True        None  \n",
       "\n",
       "[3 rows x 23 columns]"
      ]
     },
     "execution_count": 86,
     "metadata": {},
     "output_type": "execute_result"
    }
   ],
   "source": [
    "sorted_tidy_merged_df.head(3)"
   ]
  },
  {
   "cell_type": "code",
   "execution_count": 87,
   "id": "f60d0f65",
   "metadata": {},
   "outputs": [
    {
     "data": {
      "text/plain": [
       "<a href=\"http://twitter.com/download/iphone\" rel=\"nofollow\">Twitter for iPhone</a>     1964\n",
       "<a href=\"http://vine.co\" rel=\"nofollow\">Vine - Make a Scene</a>                          91\n",
       "<a href=\"http://twitter.com\" rel=\"nofollow\">Twitter Web Client</a>                       31\n",
       "<a href=\"https://about.twitter.com/products/tweetdeck\" rel=\"nofollow\">TweetDeck</a>      11\n",
       "Name: source, dtype: int64"
      ]
     },
     "execution_count": 87,
     "metadata": {},
     "output_type": "execute_result"
    }
   ],
   "source": [
    "sorted_tidy_merged_df['source'].value_counts()"
   ]
  },
  {
   "cell_type": "markdown",
   "id": "2a928802",
   "metadata": {},
   "source": [
    "This last programmatic assesment of the dataset helps me to see that the `source` column is incorrectly formatted."
   ]
  },
  {
   "cell_type": "markdown",
   "id": "3e0a9ae5",
   "metadata": {},
   "source": [
    "### Quality Issue"
   ]
  },
  {
   "cell_type": "markdown",
   "id": "2b70cdab",
   "metadata": {},
   "source": [
    "10. Incorrect formatting of the `source` column of the dataframe"
   ]
  },
  {
   "cell_type": "markdown",
   "id": "172915fb",
   "metadata": {},
   "source": [
    "### Quality Issue 10 Incorrect formatting of the `source` column of the dataframe"
   ]
  },
  {
   "cell_type": "markdown",
   "id": "00fee1c2",
   "metadata": {},
   "source": [
    "#### Define"
   ]
  },
  {
   "cell_type": "markdown",
   "id": "9b5fd1bd",
   "metadata": {},
   "source": [
    "Extract the source from the links in the `source` column"
   ]
  },
  {
   "cell_type": "markdown",
   "id": "3de03449",
   "metadata": {},
   "source": [
    "#### Code"
   ]
  },
  {
   "cell_type": "code",
   "execution_count": 88,
   "id": "da876ed3",
   "metadata": {},
   "outputs": [],
   "source": [
    "def extract_source(x):\n",
    "    return x.strip('</a>').split('>')[-1]"
   ]
  },
  {
   "cell_type": "code",
   "execution_count": 89,
   "id": "1f487bfd",
   "metadata": {},
   "outputs": [],
   "source": [
    "sorted_tidy_merged_df['source'] = sorted_tidy_merged_df['source'].apply(extract_source)"
   ]
  },
  {
   "cell_type": "markdown",
   "id": "3b07e4ed",
   "metadata": {},
   "source": [
    "#### Test"
   ]
  },
  {
   "cell_type": "code",
   "execution_count": 90,
   "id": "65fae91e",
   "metadata": {},
   "outputs": [
    {
     "data": {
      "text/plain": [
       "Twitter for iPhone     1964\n",
       "Vine - Make a Scene      91\n",
       "Twitter Web Client       31\n",
       "TweetDeck                11\n",
       "Name: source, dtype: int64"
      ]
     },
     "execution_count": 90,
     "metadata": {},
     "output_type": "execute_result"
    }
   ],
   "source": [
    "# The code below whould give us the sources count instead of the links count\n",
    "\n",
    "sorted_tidy_merged_df['source'].value_counts()"
   ]
  },
  {
   "cell_type": "markdown",
   "id": "bf26603d",
   "metadata": {},
   "source": [
    "All quality and tidiness issues mentioned have been fixed and the dataset have been cleaned"
   ]
  },
  {
   "cell_type": "code",
   "execution_count": 91,
   "id": "006dd08c",
   "metadata": {},
   "outputs": [],
   "source": [
    "# Saving the cleaned dataset to a csv file\n",
    "\n",
    "sorted_tidy_merged_df.to_csv('data_files/twitter_archive_master.csv', index=False)"
   ]
  },
  {
   "cell_type": "code",
   "execution_count": 92,
   "id": "e5c7fdd8",
   "metadata": {},
   "outputs": [
    {
     "data": {
      "text/plain": [
       "2097"
      ]
     },
     "execution_count": 92,
     "metadata": {},
     "output_type": "execute_result"
    }
   ],
   "source": [
    "len(sorted_tidy_merged_df)"
   ]
  },
  {
   "cell_type": "markdown",
   "id": "9c18e723",
   "metadata": {},
   "source": [
    "## Analyzing and Visualizing Data"
   ]
  },
  {
   "cell_type": "code",
   "execution_count": 93,
   "id": "3d6e10b8",
   "metadata": {},
   "outputs": [],
   "source": [
    "df_clean = sorted_tidy_merged_df.copy()"
   ]
  },
  {
   "cell_type": "code",
   "execution_count": 94,
   "id": "eef7e0f3",
   "metadata": {},
   "outputs": [
    {
     "data": {
      "text/html": [
       "<div>\n",
       "<style scoped>\n",
       "    .dataframe tbody tr th:only-of-type {\n",
       "        vertical-align: middle;\n",
       "    }\n",
       "\n",
       "    .dataframe tbody tr th {\n",
       "        vertical-align: top;\n",
       "    }\n",
       "\n",
       "    .dataframe thead th {\n",
       "        text-align: right;\n",
       "    }\n",
       "</style>\n",
       "<table border=\"1\" class=\"dataframe\">\n",
       "  <thead>\n",
       "    <tr style=\"text-align: right;\">\n",
       "      <th></th>\n",
       "      <th>p3</th>\n",
       "      <th>p1_conf</th>\n",
       "      <th>p2</th>\n",
       "      <th>p3_conf</th>\n",
       "      <th>timestamp</th>\n",
       "      <th>retweet_count</th>\n",
       "      <th>truncated</th>\n",
       "      <th>img_num</th>\n",
       "      <th>text</th>\n",
       "      <th>name</th>\n",
       "      <th>...</th>\n",
       "      <th>tweet_id</th>\n",
       "      <th>rating_numerator</th>\n",
       "      <th>jpg_url</th>\n",
       "      <th>p1_dog</th>\n",
       "      <th>retweeted</th>\n",
       "      <th>source</th>\n",
       "      <th>rating_denominator</th>\n",
       "      <th>p2_conf</th>\n",
       "      <th>p3_dog</th>\n",
       "      <th>dog_stages</th>\n",
       "    </tr>\n",
       "  </thead>\n",
       "  <tbody>\n",
       "    <tr>\n",
       "      <th>0</th>\n",
       "      <td>Shetland Sheepdog</td>\n",
       "      <td>0.465074</td>\n",
       "      <td>Collie</td>\n",
       "      <td>0.061428</td>\n",
       "      <td>2015-11-15 22:32:08+00:00</td>\n",
       "      <td>532</td>\n",
       "      <td>False</td>\n",
       "      <td>1</td>\n",
       "      <td>Here we have a Japanese Irish Setter. Lost eye...</td>\n",
       "      <td>None</td>\n",
       "      <td>...</td>\n",
       "      <td>666020888022790149</td>\n",
       "      <td>8</td>\n",
       "      <td>https://pbs.twimg.com/media/CT4udn0WwAA0aMy.jpg</td>\n",
       "      <td>True</td>\n",
       "      <td>False</td>\n",
       "      <td>Twitter for iPhone</td>\n",
       "      <td>10</td>\n",
       "      <td>0.156665</td>\n",
       "      <td>True</td>\n",
       "      <td>None</td>\n",
       "    </tr>\n",
       "    <tr>\n",
       "      <th>1</th>\n",
       "      <td>Rhodesian Ridgeback</td>\n",
       "      <td>0.506826</td>\n",
       "      <td>Miniature Pinscher</td>\n",
       "      <td>0.072010</td>\n",
       "      <td>2015-11-15 23:05:30+00:00</td>\n",
       "      <td>48</td>\n",
       "      <td>False</td>\n",
       "      <td>1</td>\n",
       "      <td>This is a western brown Mitsubishi terrier. Up...</td>\n",
       "      <td>None</td>\n",
       "      <td>...</td>\n",
       "      <td>666029285002620928</td>\n",
       "      <td>7</td>\n",
       "      <td>https://pbs.twimg.com/media/CT42GRgUYAA5iDo.jpg</td>\n",
       "      <td>True</td>\n",
       "      <td>False</td>\n",
       "      <td>Twitter for iPhone</td>\n",
       "      <td>10</td>\n",
       "      <td>0.074192</td>\n",
       "      <td>True</td>\n",
       "      <td>None</td>\n",
       "    </tr>\n",
       "    <tr>\n",
       "      <th>2</th>\n",
       "      <td>Bloodhound</td>\n",
       "      <td>0.596461</td>\n",
       "      <td>Malinois</td>\n",
       "      <td>0.116197</td>\n",
       "      <td>2015-11-15 23:21:54+00:00</td>\n",
       "      <td>47</td>\n",
       "      <td>False</td>\n",
       "      <td>1</td>\n",
       "      <td>Here is a very happy pup. Big fan of well-main...</td>\n",
       "      <td>None</td>\n",
       "      <td>...</td>\n",
       "      <td>666033412701032449</td>\n",
       "      <td>9</td>\n",
       "      <td>https://pbs.twimg.com/media/CT4521TWwAEvMyu.jpg</td>\n",
       "      <td>True</td>\n",
       "      <td>False</td>\n",
       "      <td>Twitter for iPhone</td>\n",
       "      <td>10</td>\n",
       "      <td>0.138584</td>\n",
       "      <td>True</td>\n",
       "      <td>None</td>\n",
       "    </tr>\n",
       "    <tr>\n",
       "      <th>3</th>\n",
       "      <td>Miniature Pinscher</td>\n",
       "      <td>0.408143</td>\n",
       "      <td>Redbone</td>\n",
       "      <td>0.222752</td>\n",
       "      <td>2015-11-16 00:04:52+00:00</td>\n",
       "      <td>147</td>\n",
       "      <td>False</td>\n",
       "      <td>1</td>\n",
       "      <td>This is a purebred Piers Morgan. Loves to Netf...</td>\n",
       "      <td>None</td>\n",
       "      <td>...</td>\n",
       "      <td>666044226329800704</td>\n",
       "      <td>6</td>\n",
       "      <td>https://pbs.twimg.com/media/CT5Dr8HUEAA-lEu.jpg</td>\n",
       "      <td>True</td>\n",
       "      <td>False</td>\n",
       "      <td>Twitter for iPhone</td>\n",
       "      <td>10</td>\n",
       "      <td>0.360687</td>\n",
       "      <td>True</td>\n",
       "      <td>None</td>\n",
       "    </tr>\n",
       "    <tr>\n",
       "      <th>4</th>\n",
       "      <td>Doberman</td>\n",
       "      <td>0.560311</td>\n",
       "      <td>Rottweiler</td>\n",
       "      <td>0.154629</td>\n",
       "      <td>2015-11-16 00:24:50+00:00</td>\n",
       "      <td>41</td>\n",
       "      <td>False</td>\n",
       "      <td>1</td>\n",
       "      <td>Here we have a 1949 1st generation vulpix. Enj...</td>\n",
       "      <td>None</td>\n",
       "      <td>...</td>\n",
       "      <td>666049248165822465</td>\n",
       "      <td>5</td>\n",
       "      <td>https://pbs.twimg.com/media/CT5IQmsXIAAKY4A.jpg</td>\n",
       "      <td>True</td>\n",
       "      <td>False</td>\n",
       "      <td>Twitter for iPhone</td>\n",
       "      <td>10</td>\n",
       "      <td>0.243682</td>\n",
       "      <td>True</td>\n",
       "      <td>None</td>\n",
       "    </tr>\n",
       "    <tr>\n",
       "      <th>...</th>\n",
       "      <td>...</td>\n",
       "      <td>...</td>\n",
       "      <td>...</td>\n",
       "      <td>...</td>\n",
       "      <td>...</td>\n",
       "      <td>...</td>\n",
       "      <td>...</td>\n",
       "      <td>...</td>\n",
       "      <td>...</td>\n",
       "      <td>...</td>\n",
       "      <td>...</td>\n",
       "      <td>...</td>\n",
       "      <td>...</td>\n",
       "      <td>...</td>\n",
       "      <td>...</td>\n",
       "      <td>...</td>\n",
       "      <td>...</td>\n",
       "      <td>...</td>\n",
       "      <td>...</td>\n",
       "      <td>...</td>\n",
       "      <td>...</td>\n",
       "    </tr>\n",
       "    <tr>\n",
       "      <th>2092</th>\n",
       "      <td>German Short-Haired Pointer</td>\n",
       "      <td>0.555712</td>\n",
       "      <td>English Springer</td>\n",
       "      <td>0.175219</td>\n",
       "      <td>2017-07-29 16:00:24+00:00</td>\n",
       "      <td>9774</td>\n",
       "      <td>False</td>\n",
       "      <td>2</td>\n",
       "      <td>This is Franklin. He would like you to stop ca...</td>\n",
       "      <td>Franklin</td>\n",
       "      <td>...</td>\n",
       "      <td>891327558926688256</td>\n",
       "      <td>12</td>\n",
       "      <td>https://pbs.twimg.com/media/DF6hr6BUMAAzZgT.jpg</td>\n",
       "      <td>True</td>\n",
       "      <td>False</td>\n",
       "      <td>Twitter for iPhone</td>\n",
       "      <td>10</td>\n",
       "      <td>0.225770</td>\n",
       "      <td>True</td>\n",
       "      <td>None</td>\n",
       "    </tr>\n",
       "    <tr>\n",
       "      <th>2093</th>\n",
       "      <td>Spatula</td>\n",
       "      <td>0.170278</td>\n",
       "      <td>Labrador Retriever</td>\n",
       "      <td>0.040836</td>\n",
       "      <td>2017-07-30 15:58:51+00:00</td>\n",
       "      <td>8964</td>\n",
       "      <td>False</td>\n",
       "      <td>1</td>\n",
       "      <td>This is Darla. She commenced a snooze mid meal...</td>\n",
       "      <td>Darla</td>\n",
       "      <td>...</td>\n",
       "      <td>891689557279858688</td>\n",
       "      <td>13</td>\n",
       "      <td>https://pbs.twimg.com/media/DF_q7IAWsAEuuN8.jpg</td>\n",
       "      <td>False</td>\n",
       "      <td>False</td>\n",
       "      <td>Twitter for iPhone</td>\n",
       "      <td>10</td>\n",
       "      <td>0.168086</td>\n",
       "      <td>False</td>\n",
       "      <td>None</td>\n",
       "    </tr>\n",
       "    <tr>\n",
       "      <th>2094</th>\n",
       "      <td>Kelpie</td>\n",
       "      <td>0.716012</td>\n",
       "      <td>Malamute</td>\n",
       "      <td>0.031379</td>\n",
       "      <td>2017-07-31 00:18:03+00:00</td>\n",
       "      <td>4328</td>\n",
       "      <td>False</td>\n",
       "      <td>1</td>\n",
       "      <td>This is Archie. He is a rare Norwegian Pouncin...</td>\n",
       "      <td>Archie</td>\n",
       "      <td>...</td>\n",
       "      <td>891815181378084864</td>\n",
       "      <td>12</td>\n",
       "      <td>https://pbs.twimg.com/media/DGBdLU1WsAANxJ9.jpg</td>\n",
       "      <td>True</td>\n",
       "      <td>False</td>\n",
       "      <td>Twitter for iPhone</td>\n",
       "      <td>10</td>\n",
       "      <td>0.078253</td>\n",
       "      <td>True</td>\n",
       "      <td>None</td>\n",
       "    </tr>\n",
       "    <tr>\n",
       "      <th>2095</th>\n",
       "      <td>Papillon</td>\n",
       "      <td>0.323581</td>\n",
       "      <td>Pekinese</td>\n",
       "      <td>0.068957</td>\n",
       "      <td>2017-08-01 00:17:27+00:00</td>\n",
       "      <td>6514</td>\n",
       "      <td>False</td>\n",
       "      <td>1</td>\n",
       "      <td>This is Tilly. She's just checking pup on you....</td>\n",
       "      <td>Tilly</td>\n",
       "      <td>...</td>\n",
       "      <td>892177421306343426</td>\n",
       "      <td>13</td>\n",
       "      <td>https://pbs.twimg.com/media/DGGmoV4XsAAUL6n.jpg</td>\n",
       "      <td>True</td>\n",
       "      <td>False</td>\n",
       "      <td>Twitter for iPhone</td>\n",
       "      <td>10</td>\n",
       "      <td>0.090647</td>\n",
       "      <td>True</td>\n",
       "      <td>None</td>\n",
       "    </tr>\n",
       "    <tr>\n",
       "      <th>2096</th>\n",
       "      <td>Banana</td>\n",
       "      <td>0.097049</td>\n",
       "      <td>Bagel</td>\n",
       "      <td>0.076110</td>\n",
       "      <td>2017-08-01 16:23:56+00:00</td>\n",
       "      <td>8853</td>\n",
       "      <td>False</td>\n",
       "      <td>1</td>\n",
       "      <td>This is Phineas. He's a mystical boy. Only eve...</td>\n",
       "      <td>Phineas</td>\n",
       "      <td>...</td>\n",
       "      <td>892420643555336193</td>\n",
       "      <td>13</td>\n",
       "      <td>https://pbs.twimg.com/media/DGKD1-bXoAAIAUK.jpg</td>\n",
       "      <td>False</td>\n",
       "      <td>False</td>\n",
       "      <td>Twitter for iPhone</td>\n",
       "      <td>10</td>\n",
       "      <td>0.085851</td>\n",
       "      <td>False</td>\n",
       "      <td>None</td>\n",
       "    </tr>\n",
       "  </tbody>\n",
       "</table>\n",
       "<p>2097 rows × 23 columns</p>\n",
       "</div>"
      ],
      "text/plain": [
       "                               p3   p1_conf                  p2   p3_conf  \\\n",
       "0               Shetland Sheepdog  0.465074              Collie  0.061428   \n",
       "1             Rhodesian Ridgeback  0.506826  Miniature Pinscher  0.072010   \n",
       "2                      Bloodhound  0.596461            Malinois  0.116197   \n",
       "3              Miniature Pinscher  0.408143             Redbone  0.222752   \n",
       "4                        Doberman  0.560311          Rottweiler  0.154629   \n",
       "...                           ...       ...                 ...       ...   \n",
       "2092  German Short-Haired Pointer  0.555712    English Springer  0.175219   \n",
       "2093                      Spatula  0.170278  Labrador Retriever  0.040836   \n",
       "2094                       Kelpie  0.716012            Malamute  0.031379   \n",
       "2095                     Papillon  0.323581            Pekinese  0.068957   \n",
       "2096                       Banana  0.097049               Bagel  0.076110   \n",
       "\n",
       "                     timestamp  retweet_count  truncated  img_num  \\\n",
       "0    2015-11-15 22:32:08+00:00            532      False        1   \n",
       "1    2015-11-15 23:05:30+00:00             48      False        1   \n",
       "2    2015-11-15 23:21:54+00:00             47      False        1   \n",
       "3    2015-11-16 00:04:52+00:00            147      False        1   \n",
       "4    2015-11-16 00:24:50+00:00             41      False        1   \n",
       "...                        ...            ...        ...      ...   \n",
       "2092 2017-07-29 16:00:24+00:00           9774      False        2   \n",
       "2093 2017-07-30 15:58:51+00:00           8964      False        1   \n",
       "2094 2017-07-31 00:18:03+00:00           4328      False        1   \n",
       "2095 2017-08-01 00:17:27+00:00           6514      False        1   \n",
       "2096 2017-08-01 16:23:56+00:00           8853      False        1   \n",
       "\n",
       "                                                   text      name  ...  \\\n",
       "0     Here we have a Japanese Irish Setter. Lost eye...      None  ...   \n",
       "1     This is a western brown Mitsubishi terrier. Up...      None  ...   \n",
       "2     Here is a very happy pup. Big fan of well-main...      None  ...   \n",
       "3     This is a purebred Piers Morgan. Loves to Netf...      None  ...   \n",
       "4     Here we have a 1949 1st generation vulpix. Enj...      None  ...   \n",
       "...                                                 ...       ...  ...   \n",
       "2092  This is Franklin. He would like you to stop ca...  Franklin  ...   \n",
       "2093  This is Darla. She commenced a snooze mid meal...     Darla  ...   \n",
       "2094  This is Archie. He is a rare Norwegian Pouncin...    Archie  ...   \n",
       "2095  This is Tilly. She's just checking pup on you....     Tilly  ...   \n",
       "2096  This is Phineas. He's a mystical boy. Only eve...   Phineas  ...   \n",
       "\n",
       "                tweet_id  rating_numerator  \\\n",
       "0     666020888022790149                 8   \n",
       "1     666029285002620928                 7   \n",
       "2     666033412701032449                 9   \n",
       "3     666044226329800704                 6   \n",
       "4     666049248165822465                 5   \n",
       "...                  ...               ...   \n",
       "2092  891327558926688256                12   \n",
       "2093  891689557279858688                13   \n",
       "2094  891815181378084864                12   \n",
       "2095  892177421306343426                13   \n",
       "2096  892420643555336193                13   \n",
       "\n",
       "                                              jpg_url p1_dog  retweeted  \\\n",
       "0     https://pbs.twimg.com/media/CT4udn0WwAA0aMy.jpg   True      False   \n",
       "1     https://pbs.twimg.com/media/CT42GRgUYAA5iDo.jpg   True      False   \n",
       "2     https://pbs.twimg.com/media/CT4521TWwAEvMyu.jpg   True      False   \n",
       "3     https://pbs.twimg.com/media/CT5Dr8HUEAA-lEu.jpg   True      False   \n",
       "4     https://pbs.twimg.com/media/CT5IQmsXIAAKY4A.jpg   True      False   \n",
       "...                                               ...    ...        ...   \n",
       "2092  https://pbs.twimg.com/media/DF6hr6BUMAAzZgT.jpg   True      False   \n",
       "2093  https://pbs.twimg.com/media/DF_q7IAWsAEuuN8.jpg  False      False   \n",
       "2094  https://pbs.twimg.com/media/DGBdLU1WsAANxJ9.jpg   True      False   \n",
       "2095  https://pbs.twimg.com/media/DGGmoV4XsAAUL6n.jpg   True      False   \n",
       "2096  https://pbs.twimg.com/media/DGKD1-bXoAAIAUK.jpg  False      False   \n",
       "\n",
       "                  source  rating_denominator   p2_conf p3_dog  dog_stages  \n",
       "0     Twitter for iPhone                  10  0.156665   True        None  \n",
       "1     Twitter for iPhone                  10  0.074192   True        None  \n",
       "2     Twitter for iPhone                  10  0.138584   True        None  \n",
       "3     Twitter for iPhone                  10  0.360687   True        None  \n",
       "4     Twitter for iPhone                  10  0.243682   True        None  \n",
       "...                  ...                 ...       ...    ...         ...  \n",
       "2092  Twitter for iPhone                  10  0.225770   True        None  \n",
       "2093  Twitter for iPhone                  10  0.168086  False        None  \n",
       "2094  Twitter for iPhone                  10  0.078253   True        None  \n",
       "2095  Twitter for iPhone                  10  0.090647   True        None  \n",
       "2096  Twitter for iPhone                  10  0.085851  False        None  \n",
       "\n",
       "[2097 rows x 23 columns]"
      ]
     },
     "execution_count": 94,
     "metadata": {},
     "output_type": "execute_result"
    }
   ],
   "source": [
    "df_clean"
   ]
  },
  {
   "cell_type": "code",
   "execution_count": 95,
   "id": "0b16062c",
   "metadata": {},
   "outputs": [],
   "source": [
    "sns.set_style('darkgrid')"
   ]
  },
  {
   "cell_type": "code",
   "execution_count": 96,
   "id": "b51a460a",
   "metadata": {},
   "outputs": [
    {
     "data": {
      "image/png": "[encoded data removed]",
      "text/plain": [
       "<Figure size 1440x576 with 1 Axes>"
      ]
     },
     "metadata": {
      "needs_background": "light"
     },
     "output_type": "display_data"
    }
   ],
   "source": [
    "# Plotting a histogram of favorite_count column\n",
    "_, ax = plt.subplots(figsize=(20,8))\n",
    "sns.histplot(data=df_clean, x='favorite_count', ax=ax, kde=True, color='green')\n",
    "plt.xticks(fontsize=18, fontfamily='Times New Roman')\n",
    "plt.yticks(fontsize=18, fontfamily='Times New Roman')\n",
    "plt.xlabel('favorite count', fontdict={'fontsize':18})\n",
    "plt.ylabel('count', fontdict={'fontsize':18})\n",
    "plt.title('Favorite Count Distribution', fontdict={'fontsize': 24, 'fontfamily': 'Times New Roman'})\n",
    "plt.show()"
   ]
  },
  {
   "cell_type": "markdown",
   "id": "92371d9d",
   "metadata": {},
   "source": [
    "From the plot above, the favorite count distribution is right skewed, from the graph we can also see that the tweets which were not liked by most people were many"
   ]
  },
  {
   "cell_type": "markdown",
   "id": "12613508",
   "metadata": {},
   "source": [
    "### Which dog stage is most common?"
   ]
  },
  {
   "cell_type": "code",
   "execution_count": 97,
   "id": "697f7d5a",
   "metadata": {},
   "outputs": [
    {
     "data": {
      "image/png": "[encoded data removed]",
      "text/plain": [
       "<Figure size 1440x576 with 1 Axes>"
      ]
     },
     "metadata": {
      "needs_background": "light"
     },
     "output_type": "display_data"
    }
   ],
   "source": [
    "_, ax = plt.subplots(figsize=(20,8))\n",
    "sns.countplot(data=df_clean, x='dog_stages', ax=ax)\n",
    "plt.xticks(fontsize=18)\n",
    "plt.yticks(fontsize=18, fontfamily='Times New Roman')\n",
    "plt.xlabel('dog_stages', fontdict={'fontsize':18})\n",
    "plt.ylabel('count', fontdict={'fontsize':18})\n",
    "plt.title('Dog Stage Count', fontdict={'fontsize': 24, 'fontfamily': 'Times New Roman'})\n",
    "plt.show()"
   ]
  },
  {
   "cell_type": "markdown",
   "id": "a386976f",
   "metadata": {},
   "source": [
    "From the plot above, we can see that most tweets did not specify the dog stage, then out of tweets that specified the dog stage, the pupper stage is the most common dog stage"
   ]
  },
  {
   "cell_type": "markdown",
   "id": "148e4c43",
   "metadata": {},
   "source": [
    "### Which breed of dog is most common?"
   ]
  },
  {
   "cell_type": "markdown",
   "id": "c787fbe4",
   "metadata": {},
   "source": [
    "The most likely prediction of the dog image is in the p1 column. Hence I'll use the p1 column"
   ]
  },
  {
   "cell_type": "code",
   "execution_count": 98,
   "id": "757b3cda",
   "metadata": {},
   "outputs": [],
   "source": [
    "pred_counts = df_clean['p1'].value_counts()"
   ]
  },
  {
   "cell_type": "code",
   "execution_count": 109,
   "id": "d23120c6",
   "metadata": {},
   "outputs": [
    {
     "data": {
      "text/plain": [
       "126"
      ]
     },
     "execution_count": 109,
     "metadata": {},
     "output_type": "execute_result"
    }
   ],
   "source": [
    "# Removing the 'No Image' \n",
    "\n",
    "pred_counts.pop('No Image')"
   ]
  },
  {
   "cell_type": "code",
   "execution_count": 110,
   "id": "00694447",
   "metadata": {},
   "outputs": [
    {
     "data": {
      "text/plain": [
       "Golden Retriever      137\n",
       "Labrador Retriever     94\n",
       "Pembroke               88\n",
       "Chihuahua              78\n",
       "Pug                    54\n",
       "                     ... \n",
       "Mailbox                 1\n",
       "Entlebucher             1\n",
       "Earthstar               1\n",
       "Pillow                  1\n",
       "Orange                  1\n",
       "Name: p1, Length: 373, dtype: int64"
      ]
     },
     "execution_count": 110,
     "metadata": {},
     "output_type": "execute_result"
    }
   ],
   "source": [
    "pred_counts"
   ]
  },
  {
   "cell_type": "code",
   "execution_count": 111,
   "id": "ca6e4b46",
   "metadata": {},
   "outputs": [
    {
     "data": {
      "image/png": "[encoded data removed]",
      "text/plain": [
       "<Figure size 1440x576 with 1 Axes>"
      ]
     },
     "metadata": {
      "needs_background": "light"
     },
     "output_type": "display_data"
    }
   ],
   "source": [
    "pred_counts[:10].plot(kind='bar', figsize=(20,8))\n",
    "plt.xticks(rotation=60, fontsize=16)\n",
    "plt.yticks(fontsize=18, fontfamily='Times New Roman')\n",
    "plt.xlabel('Dog Breed', fontdict={'fontsize': 18})\n",
    "plt.ylabel('Count', fontdict={'fontsize': 18})\n",
    "plt.title('Breed Popularity', fontdict={'fontsize': 24, 'fontfamily': 'Times New Roman'})\n",
    "plt.show()"
   ]
  },
  {
   "cell_type": "markdown",
   "id": "15ca7f80",
   "metadata": {},
   "source": [
    "From the plot above, the Golden Retriever is the most common breed"
   ]
  },
  {
   "cell_type": "code",
   "execution_count": 112,
   "id": "3cf66494",
   "metadata": {},
   "outputs": [
    {
     "data": {
      "text/plain": [
       "True     1463\n",
       "False     634\n",
       "Name: p1_dog, dtype: int64"
      ]
     },
     "execution_count": 112,
     "metadata": {},
     "output_type": "execute_result"
    }
   ],
   "source": [
    "df_clean['p1_dog'].value_counts()"
   ]
  },
  {
   "cell_type": "markdown",
   "id": "40507804",
   "metadata": {},
   "source": [
    "From the information above, we can see that not all the images were classified as dogs."
   ]
  },
  {
   "cell_type": "code",
   "execution_count": 113,
   "id": "bded39c6",
   "metadata": {},
   "outputs": [
    {
     "data": {
      "image/png": "[encoded data removed]",
      "text/plain": [
       "<Figure size 1440x576 with 1 Axes>"
      ]
     },
     "metadata": {
      "needs_background": "light"
     },
     "output_type": "display_data"
    }
   ],
   "source": [
    "_, ax = plt.subplots(figsize=(20,8))\n",
    "sns.countplot(data=df_clean, x='p1_dog', ax=ax)\n",
    "plt.xticks(fontsize=18)\n",
    "plt.yticks(fontsize=18, fontfamily='Times New Roman')\n",
    "plt.xlabel('predicted_as_dog', fontdict={'fontsize':18})\n",
    "plt.ylabel('count', fontdict={'fontsize':18})\n",
    "plt.title('Dog Predictions Count', fontdict={'fontsize': 24, 'fontfamily': 'Times New Roman'})\n",
    "plt.show()"
   ]
  },
  {
   "cell_type": "code",
   "execution_count": 114,
   "id": "3fd9e670",
   "metadata": {},
   "outputs": [
    {
     "data": {
      "text/plain": [
       "12      486\n",
       "10      436\n",
       "11      413\n",
       "13      287\n",
       "9       153\n",
       "8        98\n",
       "7        52\n",
       "14       38\n",
       "5        34\n",
       "6        32\n",
       "3        19\n",
       "4        16\n",
       "2         9\n",
       "1         5\n",
       "99        1\n",
       "84        1\n",
       "24        1\n",
       "75        1\n",
       "27        1\n",
       "165       1\n",
       "1776      1\n",
       "204       1\n",
       "50        1\n",
       "26        1\n",
       "80        1\n",
       "45        1\n",
       "60        1\n",
       "44        1\n",
       "121       1\n",
       "144       1\n",
       "88        1\n",
       "420       1\n",
       "0         1\n",
       "Name: rating_numerator, dtype: int64"
      ]
     },
     "execution_count": 114,
     "metadata": {},
     "output_type": "execute_result"
    }
   ],
   "source": [
    "df_clean['rating_numerator'].value_counts()"
   ]
  },
  {
   "cell_type": "markdown",
   "id": "f5d2d82c",
   "metadata": {},
   "source": [
    "From the above series, the most common ratings are usually between 3 and 14"
   ]
  },
  {
   "cell_type": "code",
   "execution_count": 115,
   "id": "7093cd07",
   "metadata": {},
   "outputs": [],
   "source": [
    "# Making a column for usual and unusual ratings \n",
    "\n",
    "def classify_rating(r):\n",
    "    return 'Usual' if r in range(3, 15) else 'Unusual'"
   ]
  },
  {
   "cell_type": "code",
   "execution_count": 116,
   "id": "ebc9560e",
   "metadata": {},
   "outputs": [],
   "source": [
    "df_clean['rating_numerator_classified'] = df_clean['rating_numerator'].apply(classify_rating)\n",
    "df_clean['rating_denominator_classified'] = df_clean['rating_numerator'].apply(classify_rating)"
   ]
  },
  {
   "cell_type": "code",
   "execution_count": 117,
   "id": "007eaf4c",
   "metadata": {},
   "outputs": [
    {
     "data": {
      "image/png": "[encoded data removed]",
      "text/plain": [
       "<Figure size 1440x1080 with 2 Axes>"
      ]
     },
     "metadata": {
      "needs_background": "light"
     },
     "output_type": "display_data"
    }
   ],
   "source": [
    "_, ax = plt.subplots(figsize=(20,15), nrows=2)\n",
    "sns.countplot(data=df_clean, x='rating_numerator_classified', ax=ax[0])\n",
    "sns.countplot(data=df_clean, x='rating_denominator_classified', ax=ax[1])\n",
    "\n",
    "rating_class = ['Numerator', 'Denominator']\n",
    "\n",
    "ax[0].set_title('Ratings Count', fontdict={'fontsize': 24, 'fontfamily': 'Times New Roman'})\n",
    "for i, x in enumerate(ax):\n",
    "    x.set_xticks([0, 1], labels=['Usual', 'Unusual'], fontsize=18)\n",
    "    x.set_yticks([*range(0,2001,500)], labels=[*range(0,2001,500)], fontsize=18, fontfamily='Times New Roman')\n",
    "    x.set_xlabel(f'{rating_class[i]} Rating Classifcation', fontdict={'fontsize':18})\n",
    "    x.set_ylabel('count', fontdict={'fontsize':18})\n",
    "plt.show()"
   ]
  },
  {
   "cell_type": "markdown",
   "id": "eb8d7a94",
   "metadata": {},
   "source": [
    "In both plots, the unusual rating types are far less common to the usual rating types"
   ]
  },
  {
   "cell_type": "code",
   "execution_count": 118,
   "id": "6b231a74",
   "metadata": {},
   "outputs": [
    {
     "data": {
      "image/png": "[encoded data removed]",
      "text/plain": [
       "<Figure size 1440x576 with 1 Axes>"
      ]
     },
     "metadata": {
      "needs_background": "light"
     },
     "output_type": "display_data"
    }
   ],
   "source": [
    "_, ax = plt.subplots(figsize=(20,8))\n",
    "sns.countplot(data=df_clean, x='source', ax=ax)\n",
    "plt.xticks(fontsize=18)\n",
    "plt.yticks(fontsize=18, fontfamily='Times New Roman')\n",
    "plt.xlabel('Tweet Source', fontdict={'fontsize':18})\n",
    "plt.ylabel('count', fontdict={'fontsize':18})\n",
    "plt.title('Tweet Source Count', fontdict={'fontsize': 24, 'fontfamily': 'Times New Roman'})\n",
    "plt.show()"
   ]
  },
  {
   "cell_type": "markdown",
   "id": "1ef0f3d7",
   "metadata": {},
   "source": [
    "From the plot above, most of the dog owners use iPhone. "
   ]
  },
  {
   "cell_type": "markdown",
   "id": "5f5d40b2",
   "metadata": {},
   "source": [
    "The difference between the users count is clear below"
   ]
  },
  {
   "cell_type": "code",
   "execution_count": 119,
   "id": "f7915023",
   "metadata": {},
   "outputs": [
    {
     "data": {
      "text/plain": [
       "Twitter for iPhone     0.936576\n",
       "Vine - Make a Scene    0.043395\n",
       "Twitter Web Client     0.014783\n",
       "TweetDeck              0.005246\n",
       "Name: source, dtype: float64"
      ]
     },
     "execution_count": 119,
     "metadata": {},
     "output_type": "execute_result"
    }
   ],
   "source": [
    "df_clean['source'].value_counts() / len(df_clean)"
   ]
  },
  {
   "cell_type": "markdown",
   "id": "7593b843",
   "metadata": {},
   "source": [
    "About an amazing 94% of tweeters use iPhone."
   ]
  },
  {
   "cell_type": "code",
   "execution_count": 123,
   "id": "84479d79",
   "metadata": {},
   "outputs": [
    {
     "data": {
      "image/png": "[encoded data removed]",
      "text/plain": [
       "<Figure size 1440x576 with 1 Axes>"
      ]
     },
     "metadata": {
      "needs_background": "light"
     },
     "output_type": "display_data"
    }
   ],
   "source": [
    "_, ax = plt.subplots(figsize=(20,8))\n",
    "sns.barplot(x=df_clean['name'].value_counts()[1:11].keys(), y=df_clean['name'].value_counts()[1:11].values, ax=ax)\n",
    "plt.xticks(fontsize=18)\n",
    "plt.yticks(fontsize=18, fontfamily='Times New Roman')\n",
    "plt.xlabel('Names', fontdict={'fontsize':18})\n",
    "plt.ylabel('count', fontdict={'fontsize':18})\n",
    "plt.title('Most Common Names', fontdict={'fontsize': 24, 'fontfamily': 'Times New Roman'})\n",
    "plt.show()"
   ]
  },
  {
   "cell_type": "markdown",
   "id": "f49bd410",
   "metadata": {},
   "source": [
    "From the plot above, most dog owners name their dog 'Charlie'."
   ]
  },
  {
   "cell_type": "code",
   "execution_count": null,
   "id": "75b40e92",
   "metadata": {},
   "outputs": [],
   "source": []
  }
 ],
 "metadata": {
  "kernelspec": {
   "display_name": "Python 3 (ipykernel)",
   "language": "python",
   "name": "python3"
  },
  "language_info": {
   "codemirror_mode": {
    "name": "ipython",
    "version": 3
   },
   "file_extension": ".py",
   "mimetype": "text/x-python",
   "name": "python",
   "nbconvert_exporter": "python",
   "pygments_lexer": "ipython3",
   "version": "3.9.13"
  }
 },
 "nbformat": 4,
 "nbformat_minor": 5
}
